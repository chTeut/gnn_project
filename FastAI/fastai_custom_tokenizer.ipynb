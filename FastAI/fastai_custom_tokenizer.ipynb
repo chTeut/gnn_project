{
 "cells": [
  {
   "cell_type": "code",
   "execution_count": 1,
   "metadata": {},
   "outputs": [],
   "source": [
    "from fastai.text.all import *\n",
    "import pandas as pd"
   ]
  },
  {
   "cell_type": "code",
   "execution_count": 2,
   "metadata": {},
   "outputs": [
    {
     "data": {
      "text/plain": [
       "'cuda:0'"
      ]
     },
     "execution_count": 2,
     "metadata": {},
     "output_type": "execute_result"
    }
   ],
   "source": [
    "if torch.cuda.is_available():\n",
    "  device = \"cuda:0\"\n",
    "else:\n",
    "  device = \"cpu\"\n",
    "device"
   ]
  },
  {
   "cell_type": "code",
   "execution_count": 3,
   "metadata": {},
   "outputs": [],
   "source": [
    "path = untar_data(URLs.IMDB)"
   ]
  },
  {
   "cell_type": "markdown",
   "metadata": {},
   "source": [
    "https://docs.fast.ai/text.core.html"
   ]
  },
  {
   "cell_type": "code",
   "execution_count": 7,
   "metadata": {},
   "outputs": [],
   "source": [
    "files = get_text_files(path, folders = ['train', 'test', 'unsup'])"
   ]
  },
  {
   "cell_type": "code",
   "execution_count": 9,
   "metadata": {},
   "outputs": [
    {
     "data": {
      "text/plain": [
       "\"It's about jealousy, it's about racism, it's about manipulation, but the un\""
      ]
     },
     "execution_count": 9,
     "metadata": {},
     "output_type": "execute_result"
    }
   ],
   "source": [
    "txt = files[0].open().read()\n",
    "txt[:75]"
   ]
  },
  {
   "cell_type": "code",
   "execution_count": 61,
   "metadata": {},
   "outputs": [
    {
     "data": {
      "text/plain": [
       "(#200) ['It\\'s about jealousy, it\\'s about racism, it\\'s about manipulation, but the underlying message is love. Geoffrey Sax tried to pull off Shakespeare\\'s Othello, by bringing it to modern day context. However, the actors were not convincing enough to pull this off. There were extra bodies to help put everything in to perspective, however, John Othello, played by Eamonn Walker, over reacted a lot in this film, causing for the down fall of Keeley Hawes, Dessie Brabant, eventually ending in Dessie\\'s death. <br /><br />Ben Jago, played by Christopher Eccleston, was seen as the main character in the film. He didn\\'t give enough evidence for Dessie to be cheating on Othello, with Michael Cass, played by Richard Coyle. Instead he just played a friend to all and gave one reason as to why she \"was\" cheating. In the play, it took a lot more convincing from Iago to make Othello even suspect anything. This change made the movie more about rage for the wrong reasons, than what the book was based off of. However, the movie did have a few good points. It turned the army scenes into more a racist group toward blacks, where Othello is the main chief of the police squad. These scenes are made believable by the raging crowds, and burning fires. You are able to sense the amount of racism in the movie, more so than you can in the book. This book plays up the modern day scenes by making it much easier to understand, than the Shakespearian times it was written in. In the play Iago (Jago) gets tortured at the end, but in the film he gets his satisfaction, and gets Othello\\'s position. He never gets what he deserves and is never caught for telling the lie to Othello until it is too late. I saw this as a downfall in the movie, because I feel that the villain is granted his treasure of the promotion out of lying, and in the book, he is found out by Rodrigo. Overall, the movie could have done a better job based on the play than what it did. I feel that the director of the movie left out some of the most important parts of the play that were mentioned or there to make the play flow, or make it more of a tragedy. I would say that you should read the book first, in order to understand all of the events that happened in the movie, otherwise you may find yourself lost, and confused.','on this quagmire of mediocrity? You are SO much better than this.<br /><br />Simply put, Frostbite is worthless. Bad acting (and I use that term loosely), minimalist \"plot,\" sophomoric humor, and lackluster snowboarding. There\\'s not even a sufficient display of feminine pulchritude to spark the prurient interest of socially inept, but red-blooded, males.<br /><br />Top Gun had spectacular flight sequences to goggle at. Days of Thunder had heart-pounding racing action. Even Point Break had skydiving scenes to its credit. Frostbite has none of these. It\\'s not worth your time, my time, Traci Lords\\' time, Carmen Nicole\\'s time, nor the time of anyone involved with this destruction of celluloid that would have been perfectly usable on something worthwhile had it not been wasted on this fodder for the recycling center.<br /><br />The world will be a better place when we forget that Frostbite ever existed.','I watched this movie about six years ago and I recently did so again. If I remember correctly I did not like it at all the first time and I appreciated it slightly more this second time.<br /><br />This movie is obviously on a big budget. The effects are mostly top notch (except for one or two \"impacts\") and the cast is impressive. However, there are some elements that destroy the overall impression of the show.<br /><br />Firstly, whoever decided that Peter Stormare should act as a crazy Russian astronaut should be fired. Being a Swede and a fan of Peter, I\\'m pretty sure he can play a Russian character well. But his performance in this case is plain stupid, both with respect the lines uttered and the acting. So... something must be wrong with the script. I\\'d like to see Peter as a professional Russian astronaut instead.<br /><br />Secondly, the action scenes that take place on the surface are so intense that it is nearly unbearable to watch. It is a total chaos that lasts over thirty minutes with too few moments to catch one\\'s breath. In addition to this, the events that unfold are simply not credible. I\\'d like to see a much more sensible and stripped down version of this part of the movie.<br /><br />Finally, the scenes that involve flying space shuttles are too action-biased. The shuttles are maneuvering like if they were a couple of MIGs, at zero safety distance, while bouncing off car-sized ice blocks like ping-pong balls. The director should watch Apollo 13 to learn the limitations of spacecraft like these.<br /><br />I like the music score because it is dramatic to a degree making it very touching. The overall performance of the actors is great. Apart from the things mentioned above the story is interesting and quite easy to follow.<br /><br />With some minor changes this would have been a 8/10 movie. I\\'m sorry it isn\\'t!',\"This was one of the worst movies that I have ever watched. The story was about a woman prisoner sent into space to try and save mankind but what it actually turned out to be was that the prisoner was actually put on board a space ship with a nymphomaniac lesbian commander. All the story was about was having sex over and over again. There was no need for all of this footage - only to create a soft porn film. Of course we had to see the heroin of the movie having sex for about 2 minutes. I don't know what all this had to do with the actual plot of the movie -except I assume to get men to watch it. I gave it 1 out of 10 only because there was no other rating lower. Don't waste your money or time- it has nothing to do with science fiction but rather a movie for young adolescent boys to watch to see t&a. The creature was shown only more than half way through the movie and looked like the alien in the movie with Signorney Weaver. Poor excuse for entertainment.\",'In this horrible attempt at a Blair Witch mockumentary, a bunch of people go to Africa to investigate a creature called the Half-Caste. It\\'s pretty obvious that there was no script to speak of, and that everything was improvised. That can work if you have good actors, which this film didn\\'t. <br /><br />This movie tries to gain points for originality by exploring a more obscure myth and an exotic culture. As a result, there are a lot of scenes out in the bush where characters do \"quirky African stuff\" like eating elephant dung. There is also some pretty good footage of lions eating (from a National Geographic perspective) but there\\'s not a single scare in the whole movie. <br /><br />If you\\'ve seen Cannibal Holocaust or the Blair Witch Project, this movie will hold no surprises for you, and you can probably watch better lion footage on the Discovery Channel.<br /><br />Definitely a Half- Aste effort. <br /><br />A note to the filmmakers: guys, do us all a favor and next time save the \"How I spent my African Vacation\" home movie for your family and close friends. Nobody else wants to see it.','The spoof genre, which has lacked creativity and humor for some time already, gets spat upon yet again by hacks with no talent. No point, no fun, no originality; just a few cheap bucks for the film makers. <br /><br />It takes more than just referencing some recent movies and giving characters double-meaning names to be satire; to make people laugh. Any clod can pick up a cam-corder, and have some bad-acting buddies in cheap costumes imitate somebody. Since the genre being targeted this time is inspirational sports movies, there are a few lame references thrown out to movies of that type: the jokes are so weak the characters actually have to emphasize the references in various ways, to get you to laugh hysterically. It doesn\\'t work.<br /><br />That\\'s not comedy. However, the same old worn out sophomoric \"jokes\" ripped off from a middle school washroom (done even more blandly than usual) are all here. If that\\'s not enough, there\\'s a running \"gag\" of a bus running somebody over. So funny, right? Also, one pathetically poor scene does more product placement than Michael Bay; again with the same unfunny results. A musical bit flops miserably. Pity Carl Weathers, once Apollo Creed in the Rocky series, now stuck with roles in swill like this.<br /><br />Lousy beyond words. Watching a snail run the marathon would be less tedious than watching this film is. Probably a lot funnier, too.','I was a hippie age 22 in 1965, have seen the play 5 times, have 2 versions of the music, and have read the script many times. Maybe taken as an separate thing, the movie is OK, but as an adoption of the play, it\\'s terrible.<br /><br />First the good. The songs are sung well, and the production values are pretty good. The homosexual implications in Black Boys, White Boys is cute. The Claude/Berger switch was interesting. Hair is a fluid production, and constant changes in it are inherent provided the basic spirit of it is retained.<br /><br />But the basic spirit was very much distorted. It seemed like all the producer wanted was to sing certain songs, and fit the story-line to them regardless of what that did to the original intent of the play.<br /><br />Claude, Sheila, and Hud were presented as a selfish brats who could care less about anyone outside their tribe. Claude destroyed Sheila\\'s parents party (it\\'s hard to believe that she smiled while her parents were being hurt), and repeatedly stole cars. Sheila stole the soldier\\'s clothes and car. Then she left him in the middle of the desert where he would certainly sunburn badly, probably be busted in rank, and could likely die on that lonely Nevada road. Good fun. And Hud found it fine to break his son\\'s heart while yelling at his ex. This is not what hippies were like, not what the play described, and is directly opposite to a love generation.<br /><br />I\\'ve never seen a hippie beg for money. The point was to be self-sufficient outside the capitalist system, not beg from it.<br /><br />After Berger is thrown in jail for ruining Sheila\\'s party and Claude offers to bail some out, Berger insists on being bailed instead, with no better plan for bailing the rest that hitting on Sheila\\'s parents, and then hitting on his own mommy.<br /><br />\"Be In\" has always been a very spiritual point, but here it is wasted on silly brides floating around. Even if this is part of his trip, it ruins a beautiful song. I know they\\'re contrasting \"Floating In Space\" with the Army. But again, it totally ruins a beautiful song.<br /><br />While Sheila and Claude are skinny dipping, Berger steals their clothes, laughing \"it was fun man\" even after he could see both were very annoyed. Then a little later, Berger does one thing that no hippie ever does. He hits Claude. Terrible.<br /><br />Then they have the perfect opportunity to sing \"Starshine\" at night in some beautiful SF spot with the stars twinkling down, maybe working into an inventive duet. Instead, the whole tribe sings it in the blazing sun speeding down the road in a convertible (stolen of course).<br /><br />I was vastly disappointed with the movie in 1979, and I like it even less now. I think it would have been possible to do a reasonably close adoption of the show, but this ain\\'t it.','Only a very small child could overlook the absurdities in this bomb; the first difficulty faced by the submarine \"Seaview\" is what appear to be chunks of--rock? falling down through the water and crashing into its hull. But it\\'s not rock, they\\'re under the North Pole--it is ICE! Everybody, except possibly hitherto mentioned small children (and even some of them) know that ICE FLOATS.<br /><br />Then, disaster strikes--that darn VAN ALLEN RADIATION BELT around the Earth catches fire! No one knows how this happened, we are told, which is understandable, because it is utterly impossible for radiation to \"catch fire\", and even if it could, there is NO AIR IN SPACE for it to burn.<br /><br />There is literally no good reason to overlook science concepts basic to 2nd grade school textbooks when making a film; however, Irwin Allen manages to do it again and again; perhaps we are meant to focus on the \"people\" instead, which is pretty easy, as they are CARDBOARD.<br /><br />The cast tries very hard not to look embarrassed in this ridiculous sub-kiddie romp, much like later episodes of his \"Lost in Space\" TV series, the concept of which was swiped outright from writer Ib Melchior and then rushed into production.<br /><br />The sub looks pretty good, though, which is why this one gets a \"2\".',\"What an awful movie. Full of cliches, perplexing scenes, very bad acting, and an atrotious script. It is hard to believe the same guys that wrote The People vs. Larry Flint and Man on the Moon wrote this garbage. Man, this makes my list of Top 10 Worst Movies of All-Time. Didn't this guy, this director, if you can call him that, realize that the first Problem Child was bad enough? Let alone make a sequel for it!!?? Amazing that piece of trash films like this can be shown to children let alone be released! 1 out of 10 *'s\",\"Naach would have won an Razzie for the Worst Film in 2004 (may be overall too) if it were global. When it comes acting badly (aka showing attitude/yawning/over (not) acting) Halle Berry is no match for Antra Malli. While the catwoman had storeline, supposedly hot actress in microscopic costume, and some action sequences, Naach had nothing at all.<br /><br />One of those movies which makes me wonder why IMDb does allow one to rate a movie as 0/10. Yet again, I think that movie does not even deserve a 0. It has to be something negative or minus infinity.<br /><br />OK what about the plot outline? It is a funda-giving, arrogant, full of attitude choreographer meet an useless, skill-less, loafer who aspires to be an actor tale. The story is so short that if just another sentence, IMDb might ban me for writing a spoiler. About the story-telling? Its like a bunch (sorry 2 people for the most part) of people moving in super slow motion. Don't try this movie if you have bought new DVD-player. You would end up believing that either DVD is in bad shape or DVD-player is struck. Not its fault at all.<br /><br />At the end of it all, you end up giving some credits to the director. At least he realized that both Antra Malli and Abhishek Bachan (at least at that time) can't speak dialogues convincingly, so there are not too many dialogues in this movie. So, you can at least sleep your way through the movie, with some annoying noises from those Antra-malli song sequences.<br /><br />Do watch this movie if you are new to Bollywood Cinema. Once you have tolerated this movie, you would be able to see any Bollywood movie and enjoy it.<br /><br />There can't be worse 3 hour torture than this!\"...]"
      ]
     },
     "execution_count": 61,
     "metadata": {},
     "output_type": "execute_result"
    }
   ],
   "source": [
    "txts = L(o.open().read() for o in files[:200])\n",
    "txts"
   ]
  },
  {
   "cell_type": "markdown",
   "metadata": {},
   "source": [
    "## Subword Tokenization"
   ]
  },
  {
   "cell_type": "code",
   "execution_count": 116,
   "metadata": {},
   "outputs": [],
   "source": [
    "def subword(sz):\n",
    "    sp = SubwordTokenizer(vocab_sz=sz)\n",
    "    sp.setup(txts)\n",
    "    return ' '.join(first(sp([txt]))[:])"
   ]
  },
  {
   "cell_type": "code",
   "execution_count": 16,
   "metadata": {},
   "outputs": [
    {
     "data": {
      "text/html": [
       "\n",
       "<style>\n",
       "    /* Turns off some styling */\n",
       "    progress {\n",
       "        /* gets rid of default border in Firefox and Opera. */\n",
       "        border: none;\n",
       "        /* Needs to be in here for Safari polyfill so background images work as expected. */\n",
       "        background-size: auto;\n",
       "    }\n",
       "    progress:not([value]), progress:not([value])::-webkit-progress-bar {\n",
       "        background: repeating-linear-gradient(45deg, #7e7e7e, #7e7e7e 10px, #5c5c5c 10px, #5c5c5c 20px);\n",
       "    }\n",
       "    .progress-bar-interrupted, .progress-bar-interrupted::-webkit-progress-bar {\n",
       "        background: #F44336;\n",
       "    }\n",
       "</style>\n"
      ],
      "text/plain": [
       "<IPython.core.display.HTML object>"
      ]
     },
     "metadata": {},
     "output_type": "display_data"
    },
    {
     "data": {
      "text/html": [],
      "text/plain": [
       "<IPython.core.display.HTML object>"
      ]
     },
     "metadata": {},
     "output_type": "display_data"
    },
    {
     "data": {
      "text/plain": [
       "\"▁It ' s ▁about ▁jea lousy , ▁it ' s ▁about ▁racism , ▁it ' s ▁about ▁ manipulati on , ▁but ▁the ▁under ly ing ▁message ▁is ▁love . ▁Ge off re y ▁S ax ▁tri ed ▁to ▁pull\""
      ]
     },
     "execution_count": 16,
     "metadata": {},
     "output_type": "execute_result"
    }
   ],
   "source": [
    "subword(10000)"
   ]
  },
  {
   "cell_type": "code",
   "execution_count": 117,
   "metadata": {},
   "outputs": [
    {
     "data": {
      "text/html": [
       "\n",
       "<style>\n",
       "    /* Turns off some styling */\n",
       "    progress {\n",
       "        /* gets rid of default border in Firefox and Opera. */\n",
       "        border: none;\n",
       "        /* Needs to be in here for Safari polyfill so background images work as expected. */\n",
       "        background-size: auto;\n",
       "    }\n",
       "    progress:not([value]), progress:not([value])::-webkit-progress-bar {\n",
       "        background: repeating-linear-gradient(45deg, #7e7e7e, #7e7e7e 10px, #5c5c5c 10px, #5c5c5c 20px);\n",
       "    }\n",
       "    .progress-bar-interrupted, .progress-bar-interrupted::-webkit-progress-bar {\n",
       "        background: #F44336;\n",
       "    }\n",
       "</style>\n"
      ],
      "text/plain": [
       "<IPython.core.display.HTML object>"
      ]
     },
     "metadata": {},
     "output_type": "display_data"
    },
    {
     "data": {
      "text/html": [],
      "text/plain": [
       "<IPython.core.display.HTML object>"
      ]
     },
     "metadata": {},
     "output_type": "display_data"
    },
    {
     "data": {
      "text/plain": [
       "'▁It \\' s ▁about ▁ j e al ous y , ▁it \\' s ▁about ▁ra c is m , ▁it \\' s ▁about ▁man i p ul ation , ▁but ▁the ▁under ly ing ▁mess age ▁is ▁love . ▁G e off re y ▁S a x ▁tri ed ▁to ▁p u ll ▁off ▁S h ake s p ear e \\' s ▁Othello , ▁by ▁ br ing ing ▁it ▁to ▁modern ▁day ▁con t e x t . ▁How ever , ▁the ▁actors ▁were ▁not ▁con v in c ing ▁enough ▁to ▁p u ll ▁this ▁off . ▁There ▁were ▁ex t ra ▁bo d ies ▁to ▁help ▁put ▁everything ▁in ▁to ▁p ers p ective , ▁how ever , ▁John ▁Othello , ▁play ed ▁by ▁E a m on n ▁W al k er , ▁over ▁re act ed ▁a ▁lot ▁in ▁this ▁film , ▁c a us ing ▁for ▁the ▁down ▁fall ▁of ▁K e e le y ▁H a w es , ▁De s s ie ▁B ra b ant , ▁eventually ▁end ing ▁in ▁De s s ie \\' s ▁de a th . ▁ < br ▁/> < br ▁/> B en ▁Ja g o , ▁play ed ▁by ▁Christ op h er ▁E c c le st on , ▁was ▁seen ▁as ▁the ▁main ▁character ▁in ▁the ▁film . ▁He ▁did n \\' t ▁give ▁enough ▁ e v id en ce ▁for ▁De s s ie ▁to ▁be ▁ch e ating ▁on ▁Othello , ▁with ▁M ich a el ▁C as s , ▁play ed ▁by ▁R ich ard ▁C o y le . ▁Instead ▁he ▁just ▁play ed ▁a ▁friend ▁to ▁all ▁and ▁ga ve ▁one ▁reason ▁as ▁to ▁why ▁she ▁\" w as \" ▁ch e ating . ▁In ▁the ▁play , ▁it ▁to ok ▁a ▁lot ▁more ▁con v in c ing ▁fro m ▁I ago ▁to ▁make ▁Othello ▁even ▁ s us p e c t ▁anything . ▁Thi s ▁ch an ge ▁made ▁the ▁movie ▁more ▁about ▁ra ge ▁for ▁the ▁wrong ▁reason s , ▁than ▁what ▁the ▁book ▁was ▁base d ▁off ▁of . ▁How ever , ▁the ▁movie ▁did ▁have ▁a ▁f ew ▁good ▁point s . ▁It ▁turn ed ▁the ▁ ar m y ▁scenes ▁in to ▁more ▁a ▁ra c ist ▁group ▁to ward ▁b la ck s , ▁where ▁Othello ▁is ▁the ▁main ▁ch ie f ▁of ▁the ▁poli ce ▁ s qu ad . ▁The s e ▁scenes ▁are ▁made ▁believable ▁by ▁the ▁ra g ing ▁cr ow d s , ▁and ▁b ur n ing ▁f ir es . ▁You ▁are ▁ able ▁to ▁ s ense ▁the ▁amount ▁of ▁ra c is m ▁in ▁the ▁movie , ▁more ▁so ▁than ▁you ▁can ▁in ▁the ▁book . ▁Thi s ▁book ▁play s ▁up ▁the ▁modern ▁day ▁scenes ▁by ▁mak ing ▁it ▁much ▁easi er ▁to ▁understand , ▁than ▁the ▁S h ake s p ear ian ▁time s ▁it ▁was ▁written ▁in . ▁In ▁the ▁play ▁I ago ▁( J ago ) ▁get s ▁to r t ur ed ▁at ▁the ▁end , ▁but ▁in ▁the ▁film ▁he ▁get s ▁his ▁ s at is f act ion , ▁and ▁get s ▁Othello \\' s ▁ po s it ion . ▁He ▁n ever ▁get s ▁what ▁he ▁deserve s ▁and ▁is ▁n ever ▁caught ▁for ▁tell ing ▁the ▁li e ▁to ▁Othello ▁unti l ▁it ▁is ▁too ▁late . ▁I ▁saw ▁this ▁as ▁a ▁down f all ▁in ▁the ▁movie , ▁because ▁I ▁feel ▁that ▁the ▁villain ▁is ▁gra n t ed ▁his ▁tr e as ure ▁of ▁the ▁pro m o t ion ▁out ▁of ▁ ly ing , ▁and ▁in ▁the ▁book , ▁he ▁is ▁f ound ▁out ▁by ▁R o d ri g o . ▁O v er all , ▁the ▁movie ▁could ▁have ▁done ▁a ▁better ▁job ▁base d ▁on ▁the ▁play ▁than ▁what ▁it ▁did . ▁I ▁feel ▁that ▁the ▁director ▁of ▁the ▁movie ▁left ▁out ▁some ▁of ▁the ▁most ▁important ▁part s ▁of ▁the ▁play ▁that ▁were ▁mention ed ▁or ▁there ▁to ▁make ▁the ▁play ▁f l ow , ▁or ▁make ▁it ▁more ▁of ▁a ▁tr age d y . ▁I ▁would ▁say ▁that ▁you ▁should ▁read ▁the ▁book ▁first , ▁in ▁or d er ▁to ▁understand ▁all ▁of ▁the ▁even t s ▁that ▁happen ed ▁in ▁the ▁movie , ▁other w ise ▁you ▁may ▁find ▁yourself ▁ lo st , ▁and ▁con f us ed .'"
      ]
     },
     "execution_count": 117,
     "metadata": {},
     "output_type": "execute_result"
    }
   ],
   "source": [
    "subword(1000)"
   ]
  },
  {
   "cell_type": "markdown",
   "metadata": {},
   "source": [
    "## Numericalization"
   ]
  },
  {
   "cell_type": "code",
   "execution_count": 17,
   "metadata": {},
   "outputs": [
    {
     "name": "stderr",
     "output_type": "stream",
     "text": [
      "/home/chris/University/GNN/project/transformer_env/lib/python3.9/site-packages/torch/cuda/__init__.py:628: UserWarning: Can't initialize NVML\n",
      "  warnings.warn(\"Can't initialize NVML\")\n"
     ]
    }
   ],
   "source": [
    "spacy = WordTokenizer()\n",
    "tkn = Tokenizer(spacy)"
   ]
  },
  {
   "cell_type": "code",
   "execution_count": 36,
   "metadata": {},
   "outputs": [
    {
     "data": {
      "text/plain": [
       "(#530) ['xxbos','xxmaj','it',\"'s\",'about','jealousy',',','it',\"'s\",'about'...]"
      ]
     },
     "execution_count": 36,
     "metadata": {},
     "output_type": "execute_result"
    }
   ],
   "source": [
    "toks200 = txts[:200].map(tkn)\n",
    "toks200[0]"
   ]
  },
  {
   "cell_type": "code",
   "execution_count": 23,
   "metadata": {},
   "outputs": [
    {
     "data": {
      "text/plain": [
       "\"(#1920) ['xxunk','xxpad','xxbos','xxeos','xxfld','xxrep','xxwrep','xxup','xxmaj','the','.',',','and','a','to','of','is','i','it','in'...]\""
      ]
     },
     "execution_count": 23,
     "metadata": {},
     "output_type": "execute_result"
    }
   ],
   "source": [
    "num = Numericalize()\n",
    "num.setup(toks200)\n",
    "coll_repr(num.vocab,20)"
   ]
  },
  {
   "cell_type": "code",
   "execution_count": 25,
   "metadata": {},
   "outputs": [],
   "source": [
    "toks = tkn(txt)"
   ]
  },
  {
   "cell_type": "code",
   "execution_count": 26,
   "metadata": {},
   "outputs": [
    {
     "data": {
      "text/plain": [
       "TensorText([   2,    8,   18,   25,   66,    0,   11,   18,   25,   66, 1416,\n",
       "              11,   18,   25,   66,    0,   11,   31,    9,    0])"
      ]
     },
     "execution_count": 26,
     "metadata": {},
     "output_type": "execute_result"
    }
   ],
   "source": [
    "nums = num(toks)[:20]\n",
    "nums"
   ]
  },
  {
   "cell_type": "code",
   "execution_count": 29,
   "metadata": {},
   "outputs": [
    {
     "data": {
      "text/plain": [
       "\"xxbos xxmaj it 's about xxunk , it 's about racism , it 's about xxunk , but the xxunk\""
      ]
     },
     "execution_count": 29,
     "metadata": {},
     "output_type": "execute_result"
    }
   ],
   "source": [
    "' '.join(num.vocab[o] for o in nums)"
   ]
  },
  {
   "cell_type": "code",
   "execution_count": 33,
   "metadata": {},
   "outputs": [
    {
     "data": {
      "text/plain": [
       "(#20) ['xxbos','xxmaj','it',\"'s\",'about','jealousy',',','it',\"'s\",'about'...]"
      ]
     },
     "execution_count": 33,
     "metadata": {},
     "output_type": "execute_result"
    }
   ],
   "source": [
    "toks[:20]"
   ]
  },
  {
   "cell_type": "markdown",
   "metadata": {},
   "source": [
    "## Batches"
   ]
  },
  {
   "cell_type": "code",
   "execution_count": 35,
   "metadata": {},
   "outputs": [
    {
     "data": {
      "text/plain": [
       "(torch.Size([64, 72]), torch.Size([64, 72]))"
      ]
     },
     "execution_count": 35,
     "metadata": {},
     "output_type": "execute_result"
    }
   ],
   "source": [
    "nums200 = toks200.map(num)\n",
    "\n",
    "dl = LMDataLoader(nums200)\n",
    "\n",
    "x,y = first(dl)\n",
    "x.shape, y.shape"
   ]
  },
  {
   "cell_type": "code",
   "execution_count": 40,
   "metadata": {},
   "outputs": [
    {
     "data": {
      "text/plain": [
       "\"xxbos xxmaj it 's about xxunk , it 's about racism , it 's about xxunk , but the xxunk\""
      ]
     },
     "execution_count": 40,
     "metadata": {},
     "output_type": "execute_result"
    }
   ],
   "source": [
    "' '.join(num.vocab[o] for o in x[0][:20])"
   ]
  },
  {
   "cell_type": "code",
   "execution_count": 41,
   "metadata": {},
   "outputs": [
    {
     "data": {
      "text/plain": [
       "\"xxmaj it 's about xxunk , it 's about racism , it 's about xxunk , but the xxunk message\""
      ]
     },
     "execution_count": 41,
     "metadata": {},
     "output_type": "execute_result"
    }
   ],
   "source": [
    "' '.join(num.vocab[o] for o in y[0][:20])"
   ]
  },
  {
   "cell_type": "markdown",
   "metadata": {},
   "source": [
    "## FastAI Transforms"
   ]
  },
  {
   "cell_type": "code",
   "execution_count": 43,
   "metadata": {},
   "outputs": [],
   "source": [
    "files = get_text_files(path, folders = ['train','test'])\n",
    "txts = L(o.open().read() for o in files[:2000])"
   ]
  },
  {
   "cell_type": "code",
   "execution_count": 44,
   "metadata": {},
   "outputs": [
    {
     "data": {
      "text/plain": [
       "(#530) ['xxbos','xxmaj','it',\"'s\",'about','jealousy',',','it',\"'s\",'about'...]"
      ]
     },
     "execution_count": 44,
     "metadata": {},
     "output_type": "execute_result"
    }
   ],
   "source": [
    "tok = Tokenizer.from_folder(path)\n",
    "tok.setup(txts)\n",
    "toks = txts.map(tok)\n",
    "toks[0]"
   ]
  },
  {
   "cell_type": "code",
   "execution_count": 45,
   "metadata": {},
   "outputs": [
    {
     "data": {
      "text/plain": [
       "TensorText([   2,    8,   18,   23,   62, 6709,   11,   18,   23,   62])"
      ]
     },
     "execution_count": 45,
     "metadata": {},
     "output_type": "execute_result"
    }
   ],
   "source": [
    "num = Numericalize()\n",
    "num.setup(toks)\n",
    "nums = toks.map(num)\n",
    "nums[0][:10]"
   ]
  },
  {
   "cell_type": "code",
   "execution_count": 46,
   "metadata": {},
   "outputs": [
    {
     "data": {
      "text/plain": [
       "(#10) ['xxbos','xxmaj','it',\"'s\",'about','jealousy',',','it',\"'s\",'about']"
      ]
     },
     "execution_count": 46,
     "metadata": {},
     "output_type": "execute_result"
    }
   ],
   "source": [
    "nums_dec = num.decode(nums[0][:10])\n",
    "nums_dec"
   ]
  },
  {
   "cell_type": "code",
   "execution_count": 47,
   "metadata": {},
   "outputs": [
    {
     "data": {
      "text/plain": [
       "\"xxbos xxmaj it 's about jealousy , it 's about\""
      ]
     },
     "execution_count": 47,
     "metadata": {},
     "output_type": "execute_result"
    }
   ],
   "source": [
    "tok.decode(nums_dec)"
   ]
  },
  {
   "cell_type": "code",
   "execution_count": 48,
   "metadata": {},
   "outputs": [
    {
     "data": {
      "text/plain": [
       "((#530) ['xxbos','xxmaj','it',\"'s\",'about','jealousy',',','it',\"'s\",'about'...],\n",
       " (#2) ['xxbos','t'])"
      ]
     },
     "execution_count": 48,
     "metadata": {},
     "output_type": "execute_result"
    }
   ],
   "source": [
    "tok((txts[0], txt[1]))"
   ]
  },
  {
   "cell_type": "code",
   "execution_count": 50,
   "metadata": {},
   "outputs": [
    {
     "data": {
      "text/plain": [
       "(3, 2.0)"
      ]
     },
     "execution_count": 50,
     "metadata": {},
     "output_type": "execute_result"
    }
   ],
   "source": [
    "def f(x:int): return x+1\n",
    "tfm = Transform(f)\n",
    "tfm(2),tfm(2.0)"
   ]
  },
  {
   "cell_type": "code",
   "execution_count": 51,
   "metadata": {},
   "outputs": [
    {
     "data": {
      "text/plain": [
       "(3, 2.0)"
      ]
     },
     "execution_count": 51,
     "metadata": {},
     "output_type": "execute_result"
    }
   ],
   "source": [
    "@Transform\n",
    "def f(x:int): return x+1\n",
    "f(2),f(2.0)"
   ]
  },
  {
   "cell_type": "code",
   "execution_count": 55,
   "metadata": {},
   "outputs": [],
   "source": [
    "class NormalizeMean(Transform):\n",
    "    def setups(self, items): self.mean = sum(items)/len(items)\n",
    "    def encodes(self, x): return x-self.mean\n",
    "    def decodes(self, x): return x+self.mean"
   ]
  },
  {
   "cell_type": "code",
   "execution_count": 57,
   "metadata": {},
   "outputs": [
    {
     "data": {
      "text/plain": [
       "(3.0, -1.0, 2.0)"
      ]
     },
     "execution_count": 57,
     "metadata": {},
     "output_type": "execute_result"
    }
   ],
   "source": [
    "tfm = NormalizeMean()\n",
    "tfm.setup([1,2,3,4,5])\n",
    "start = 2\n",
    "y = tfm(start)\n",
    "z = tfm.decode(y)\n",
    "tfm.mean,y,z"
   ]
  },
  {
   "cell_type": "code",
   "execution_count": 60,
   "metadata": {},
   "outputs": [
    {
     "name": "stdout",
     "output_type": "stream",
     "text": [
      "Transform(self, enc=None, dec=None, split_idx=None, order=None)\n",
      "Delegates (`__call__`,`decode`,`setup`) to (<code>encodes</code>,<code>decodes</code>,<code>setups</code>) if `split_idx` matches\n",
      "\n",
      "To get a prettier result with hyperlinks to source code and documentation, install nbdev: pip install nbdev\n"
     ]
    }
   ],
   "source": [
    "doc(Transform)"
   ]
  },
  {
   "cell_type": "code",
   "execution_count": 63,
   "metadata": {},
   "outputs": [
    {
     "data": {
      "text/plain": [
       "TensorText([   2,    8,   18,   23,   62, 6709,   11,   18,   23,   62, 4564,\n",
       "              11,   18,   23,   62, 7975,   11,   31,    9, 5107])"
      ]
     },
     "execution_count": 63,
     "metadata": {},
     "output_type": "execute_result"
    }
   ],
   "source": [
    "tfms = Pipeline([tok, num])\n",
    "t = tfms(txts[0])\n",
    "t[:20]"
   ]
  },
  {
   "cell_type": "code",
   "execution_count": 64,
   "metadata": {},
   "outputs": [
    {
     "data": {
      "text/plain": [
       "\"xxbos xxmaj it 's about jealousy , it 's about racism , it 's about manipulation , but the underlyin\""
      ]
     },
     "execution_count": 64,
     "metadata": {},
     "output_type": "execute_result"
    }
   ],
   "source": [
    "tfms.decode(t)[:100]"
   ]
  },
  {
   "cell_type": "code",
   "execution_count": 65,
   "metadata": {},
   "outputs": [],
   "source": [
    "tls = TfmdLists(files, [Tokenizer.from_folder(path), Numericalize])"
   ]
  },
  {
   "cell_type": "code",
   "execution_count": 66,
   "metadata": {},
   "outputs": [
    {
     "data": {
      "text/plain": [
       "TensorText([   2,    8,   17,   23,   60, 5851,   11,   17,   23,   60, 3192,\n",
       "              11,   17,   23,   60, 7436,   11,   31,    9, 4473])"
      ]
     },
     "execution_count": 66,
     "metadata": {},
     "output_type": "execute_result"
    }
   ],
   "source": [
    "t = tls[0]\n",
    "t[:20]"
   ]
  },
  {
   "cell_type": "code",
   "execution_count": 68,
   "metadata": {},
   "outputs": [
    {
     "data": {
      "text/plain": [
       "\"xxbos xxmaj it 's about jealousy , it 's about racism , it 's about manipulation , but the underlyin\""
      ]
     },
     "execution_count": 68,
     "metadata": {},
     "output_type": "execute_result"
    }
   ],
   "source": [
    "tls.decode(t)[:100]"
   ]
  },
  {
   "cell_type": "code",
   "execution_count": 69,
   "metadata": {},
   "outputs": [
    {
     "name": "stdout",
     "output_type": "stream",
     "text": [
      "xxbos xxmaj it 's about jealousy , it 's about racism , it 's about manipulation , but the underlying message is love . xxmaj geoffrey xxmaj sax tried to pull off xxmaj shakespeare 's xxmaj othello , by bringing it to modern day context . xxmaj however , the actors were not convincing enough to pull this off . xxmaj there were extra bodies to help put everything in to perspective , however , xxmaj john xxmaj othello , played by xxmaj eamonn xxmaj walker , over reacted a lot in this film , causing for the down fall of xxmaj keeley xxmaj hawes , xxmaj xxunk xxmaj xxunk , eventually ending in xxmaj xxunk 's death . \n",
      "\n",
      " xxmaj ben xxmaj jago , played by xxmaj christopher xxmaj eccleston , was seen as the main character in the film . xxmaj he did n't give enough evidence for xxmaj xxunk to be cheating on xxmaj othello , with xxmaj michael xxmaj cass , played by xxmaj richard xxmaj coyle . xxmaj instead he just played a friend to all and gave one reason as to why she \" was \" cheating . xxmaj in the play , it took a lot more convincing from xxmaj iago to make xxmaj othello even suspect anything . xxmaj this change made the movie more about rage for the wrong reasons , than what the book was based off of . xxmaj however , the movie did have a few good points . xxmaj it turned the army scenes into more a racist group toward blacks , where xxmaj othello is the main chief of the police squad . xxmaj these scenes are made believable by the raging crowds , and burning fires . xxmaj you are able to sense the amount of racism in the movie , more so than you can in the book . xxmaj this book plays up the modern day scenes by making it much easier to understand , than the xxmaj shakespearian times it was written in . xxmaj in the play xxmaj iago ( jago ) gets tortured at the end , but in the film he gets his satisfaction , and gets xxmaj othello 's position . xxmaj he never gets what he deserves and is never caught for telling the lie to xxmaj othello until it is too late . i saw this as a downfall in the movie , because i feel that the villain is granted his treasure of the promotion out of lying , and in the book , he is found out by xxmaj rodrigo . xxmaj overall , the movie could have done a better job based on the play than what it did . i feel that the director of the movie left out some of the most important parts of the play that were mentioned or there to make the play flow , or make it more of a tragedy . i would say that you should read the book first , in order to understand all of the events that happened in the movie , otherwise you may find yourself lost , and confused .\n"
     ]
    }
   ],
   "source": [
    "tls.show(t)"
   ]
  },
  {
   "cell_type": "code",
   "execution_count": 70,
   "metadata": {},
   "outputs": [],
   "source": [
    "cut = int(len(files)*0.8)\n",
    "splits = [list(range(cut)), list(range(cut,len(files)))]\n",
    "tls = TfmdLists(files, [Tokenizer.from_folder(path), Numericalize], splits=splits)"
   ]
  },
  {
   "cell_type": "code",
   "execution_count": 71,
   "metadata": {},
   "outputs": [
    {
     "data": {
      "text/plain": [
       "TensorText([  2,   8,  65,  80,  19, 722,  21,   9, 917, 807,  42,  36, 493,\n",
       "            326,  10,   8,  20,  16,  13, 103])"
      ]
     },
     "execution_count": 71,
     "metadata": {},
     "output_type": "execute_result"
    }
   ],
   "source": [
    "tls.valid[0][:20]"
   ]
  },
  {
   "cell_type": "code",
   "execution_count": 104,
   "metadata": {},
   "outputs": [],
   "source": [
    "tfms = [[Tokenizer.from_folder(path), Numericalize]]\n",
    "files = get_text_files(path, folders = ['train', 'test'])\n",
    "splits = GrandparentSplitter(valid_name='test')(files)\n",
    "dsets = Datasets(files, tfms, splits=splits)\n",
    "dls = dsets.dataloaders(dl_type=LMDataLoader, before_batch=pad_input)"
   ]
  },
  {
   "cell_type": "code",
   "execution_count": 105,
   "metadata": {},
   "outputs": [
    {
     "data": {
      "text/html": [
       "<table border=\"1\" class=\"dataframe\">\n",
       "  <thead>\n",
       "    <tr style=\"text-align: right;\">\n",
       "      <th></th>\n",
       "      <th>text</th>\n",
       "      <th>text_</th>\n",
       "    </tr>\n",
       "  </thead>\n",
       "  <tbody>\n",
       "    <tr>\n",
       "      <th>0</th>\n",
       "      <td>xxbos xxmaj from the q &amp; a before and after , this is what i could gather : xxmaj some xxmaj irish guy wants to make a movie . xxmaj nothing in particular , just any movie . xxmaj so , one night at a party , he hears some ex - roadie tell him a classic bit of rock n ' roll lore ; the one about how xxmaj gram xxmaj</td>\n",
       "      <td>xxmaj from the q &amp; a before and after , this is what i could gather : xxmaj some xxmaj irish guy wants to make a movie . xxmaj nothing in particular , just any movie . xxmaj so , one night at a party , he hears some ex - roadie tell him a classic bit of rock n ' roll lore ; the one about how xxmaj gram xxmaj parsons</td>\n",
       "    </tr>\n",
       "    <tr>\n",
       "      <th>1</th>\n",
       "      <td>style . xxmaj but this movie , however , was probably the worst movie i have seen in 2008 . i can honestly believe that this movie is unknown , and i think it should stay like this , for movies like these are making the thriller genre a joke . \\n\\n i advise anyone that is a fan of thriller movies , or even simply movies to stay far away from</td>\n",
       "      <td>. xxmaj but this movie , however , was probably the worst movie i have seen in 2008 . i can honestly believe that this movie is unknown , and i think it should stay like this , for movies like these are making the thriller genre a joke . \\n\\n i advise anyone that is a fan of thriller movies , or even simply movies to stay far away from this</td>\n",
       "    </tr>\n",
       "  </tbody>\n",
       "</table>"
      ],
      "text/plain": [
       "<IPython.core.display.HTML object>"
      ]
     },
     "metadata": {},
     "output_type": "display_data"
    }
   ],
   "source": [
    "dls.show_batch(max_n=2)"
   ]
  },
  {
   "cell_type": "code",
   "execution_count": 111,
   "metadata": {},
   "outputs": [
    {
     "data": {
      "text/plain": [
       "'xxbos xxmaj gives my have mouth him acts whore this as is . xxmaj i is and though of t'"
      ]
     },
     "execution_count": 111,
     "metadata": {},
     "output_type": "execute_result"
    }
   ],
   "source": [
    "# Get a batch of data from the DataLoaders\n",
    "x, y = dls.one_batch()\n",
    "\n",
    "' '.join(num.vocab[o] for o in x[0][:20])\n"
   ]
  },
  {
   "cell_type": "code",
   "execution_count": 4,
   "metadata": {},
   "outputs": [
    {
     "data": {
      "text/plain": [
       "(#20000) ['I´ve seen the original Candyman once and it was quite an effective horror movie that seems to be regarded as a modern horror classic. I have not seen the first sequel and I have no intention whatsoever to even think about renting it. Maybe they´ll show it on TV and I can catch it if I don´t have anything better to do.<br /><br />Candyman 3... The third part in a horror series can´t be that good (the only exception being Scream 3), it just can´t. To be honest, the only reason why I bothered to watch this movie was that I was sure they would show the leading lady naked at some point. At least in teen horror flicks you get to see naked ladies. Well, we do get some breasts, but they don´t belong to the main lady. I kept waiting and waiting till the very end and what did I get? NOTHING! Instead of some skin the people who most likely accidentally ended up seeing the movie got a stupid brainless movie with mediocre-at-best performances and hilarious one-liners. If it´s blood that you want then check this one because there´ll be lots of it.<br /><br />I´m sure everyone who was involved in this production is proud of this piece of crap. It must look so good on one´s résumé. How come people accept roles in movies like this? Why???? Why do people write garbage like this???? I wish I knew...',\"Hammer took a different direction with this piece of Gothic cinema and broke some rules. Vampires walking about in daylight? For all its good points the biggest let down is the lack of references to the original Sheridan Le Fanu on which this supposed to be based. Hammer took a different direction with this piece of Gothic cinema and broke some rules. Vampires walking about in daylight? For all its good points the biggest let down is the lack of references to the original Sheridan Le Fanu on which this supposed to be based. Its predecessor 'Vampire Lovers' contained more references but I was hoping for a full and proper transcription of the book into celluloid. Tudor Gates appears undecided which direction to take the script. Yutte Stensgaard was cast at the time as she was famous on UK TV as Bob Monkhouse's co star in a game show. There she was required to look pretty and not say much as she showed objects to the audience. Think of the 'The Price is Right' hostesses. She went on to make a couple of film s which were more credible dramas. I first knew of her via a short story on the web which had a couple of photos attached to it. You can see why everyone thinks she gorgeous. A painting that was around at the same time was by the story's writer: an actor called Stephen Armourae who has reappeared in connection with ESP research and I know he's done more of other horror actresses including one about Barbara Stelle called 'Catherine' and another AJF. There was a rumour about an interview between him and Yutte if anyone knows more? I like this Hammer film as there is something quirky about it. Raven trying to be Lee. The change of casting to Ralph Bates is refreshing and more convincing. I can't see Cushing playing that lusting role. Bates is more suited. Also the eroticism could have been more, I agree with Armourae's review on this point; he has been trying to get film made loosely based on these Hammer themes but with greater erotic content whilst remaining tasteful. Watch this film as for all its flaws its still classic of its time.\",'When I first heard the idea behind this \"urban operetta\" or whatever it\\'s supposed to be, I accepted it. I figured R. Kelly was going to try to basically create a sort of R&B \"Tommy\". But no such luck. Instead, we get a production so ridiculous it would have Ed Wood rolling on the floor laughing.<br /><br />The beat never changes, and it\\'s a pretty lousy beat to start with. It\\'s full of awful forced rhymes that make you long for the Seussian. The story begins coherently, but falls into complete nonsense before then end. Laughably bad, but then again, it does make you laugh.<br /><br />The only thing redeeming about this steaming pile is to use it as a drinking game. Every time someone pulls out a gun...','I watched this show hoping that it would be fun, edgy, and smart. If you consider poor acting, shrillness, and a \"been there, done that\" feel any of those things. Well, good for you! I have seen better chemistry and friendship is a Vagisil commerical. Brooke looks like she wants uncomfortable with everyone but the cat. Kim looks like she trying to go her best Cynthia Nixon impression and is failing miserable. Lindsay Price seems like she screaming, \" Why couldn\\'t I be on Cashmere Mafia?\" The worst part is the humor! There is none! If I wanted to see a bunch of hags complain about there existence, I would turn on Lifetime. This show is so melodramatic! The viewers aren\\'t stupid, we understand it\\'s not easy to have it all. But, do you have to be so upset all the time. I would love to see these harpies have to work in a field picking berries for three dollars an hour. Then they would have something to cry about! Save yourself the time. Either rent some Sex and the City or watch Cashmere Mafia!','I think I have to stop watching English movies. Apart from the James Bond-movies and a small number of comedies, they are usually pure crap. This movie is definitely one of those. The first ten minutes starts out OK, and the movie has potential at this time. Sadly, it doesn\\'t continue in this style at all. The story is about two swindlers who tries to earn a lot of money by tricking people in different ways. None of the ways they do this are funny at all. It\\'s supposed to be a comedy, but personally I didn\\'t laugh one single time during the movie. In addition, the story really sucks, especially because they threw a bit of romance on top of it. Alos, the ending is very bad, and it was just what I had expected because movies like this leave you with no surprises. If you want to see a movie about swindlers, watch \"Dirty Rotten Scoundrels\" instead.','I\\'ve seen corny and cutesy movies before, but I usually have no problem avoiding them. This only caught my eye because I recognized the Sprouse boys and I saw it had Tom Arnald in it and thought it would be funny. After watching it I wished I never picked it up. It was more stupid that \"The Stupids\" I usually enjoy Arnold\\'s comedy, but he was hardly funny and barely in the movie. If I had just wanted to see a sports movie just for the kids I would have rented The Sandlot. Now that\\'s a quality movie. James Earl Jones(a great actor) is in that movie, but it holds itself up as a great movie regardless. Anybody who heard Jones was in the film and then went to see it was most likely not bored and wondering where he was until the ending. Arnold disappeared soon after \"Just For Kicks\" begins and only turns up again in the last scene. Some Tom Arnold, Cute little kids, very, very attractive ladies. this movie gets a 2 for being stupid, but clean. If it was stupid and dirty I wouldn\\'t even give it that',\"Wow, I am out of sync on this German film. While the overall score is very respectable and the reviews are mostly glowing, I didn't like the film at all. Now I've seen about a dozen Fassbinder films and I often have really enjoyed them, but watching this one was a chore.<br /><br />First, the film's style seems less innovative or interesting than just dull and, dare I say it, cheap. The black & white film looked more like a way to save money than anything else and the film played like a long series of vignettes all strung together with awkward dissolves. This made it all seem very episodic--like the audience is getting snippets instead of seeing a story.<br /><br />Second, the story wasn't particularly interesting. The film played like a Bergman film WITHOUT the complexities. And, sadly, the film was slow and the characters uninvolving.<br /><br />Overall, I found watching this film a chore. There are many wonderful German films out there, but I assume the average person would also find this film dry and unapproachable, as you need a lot of patience to stick with this film.\",'When I saw the film with my lover he said, \"Who knew he could preach!\" when Duval performed his final sermon. It is an awe-inspiring performance. <br /><br />I am a pastor\\'s kid and my father was good, Duval shows greatness. <br /><br />In the film Duval\\'s character is deeply flawed but also deeply faithful. <br /><br />What makes this film great is a clear view of evil to redemption to punishment to resolution. <br /><br />In 97 there were only two truly moral flms. Very different films. Boogie Nights for family values and loyalty, and The Apostle about redemption. <br /><br />What and incredible year with two profound films in the same year.',\"The gore in this film was good. Thats about all the good I can say about this film. I see others saying the acting was good when I read other reviews on this film and I only have to say one thing about that.. What are you people taking? This was the worst acting I have ever seen and I have seen some really bad acting, and the story??? ooh very bad. There where to many hole in the script writing. And everybody is raving about a surprise ending. um mm people......Most film today are going into that direction of weird twisty endings. It's being overdone. All's I have to say about this film that 13 seconds is 13 seconds to long to watch it.\",\"Rework a Dashiell Hammett short story for the screen, get Samuel L. Jackson to play Bogart and Milla Jojovich to play Bacall, and you've got one heck of an entertaining little movie. I seriously liked all the performances, but I was especially taken by Milla Jojovich. You know she's bad but she's also irresistible. She pulls that off, too, and not many actresses could. They don't make many movies like this anymore and that's a shame. Delightful!\"...]"
      ]
     },
     "execution_count": 4,
     "metadata": {},
     "output_type": "execute_result"
    }
   ],
   "source": [
    "files = get_text_files(path, folders = ['train', 'test', 'unsup'])\n",
    "txts = L(o.open().read() for o in files[:20000])\n",
    "txts"
   ]
  },
  {
   "cell_type": "code",
   "execution_count": 5,
   "metadata": {},
   "outputs": [],
   "source": [
    "tok = Tokenizer.from_folder(path)\n",
    "tok.setup(txts)\n",
    "toks = txts.map(tok)\n",
    "\n",
    "num = Numericalize()\n",
    "num.setup(toks)\n",
    "nums = toks.map(num)"
   ]
  },
  {
   "cell_type": "code",
   "execution_count": 237,
   "metadata": {},
   "outputs": [
    {
     "data": {
      "text/plain": [
       "1000"
      ]
     },
     "execution_count": 237,
     "metadata": {},
     "output_type": "execute_result"
    }
   ],
   "source": [
    "len(nums)"
   ]
  },
  {
   "cell_type": "code",
   "execution_count": 6,
   "metadata": {},
   "outputs": [],
   "source": [
    "tfms = [[tok, num]]\n",
    "files = get_text_files(path, folders = ['train', 'test'])[:20000]\n",
    "cut = int(len(files)*0.8)\n",
    "splits = [list(range(cut)), list(range(cut,len(files)))]\n",
    "#splits = GrandparentSplitter(valid_name='test')(files)\n",
    "dsets = Datasets(files, tfms, splits=splits)\n",
    "dls = dsets.dataloaders(dl_type=LMDataLoader)"
   ]
  },
  {
   "cell_type": "code",
   "execution_count": 184,
   "metadata": {},
   "outputs": [
    {
     "data": {
      "text/html": [
       "<hr/>\n",
       "<h3>DataLoaders</h3>\n",
       "<blockquote><pre><code>DataLoaders(*loaders, path:str|Path='.', device=None)</code></pre></blockquote><p>Basic wrapper around several `DataLoader`s.</p>\n",
       "<p><a href=\"https://docs.fast.ai/data.core.html#dataloaders\" target=\"_blank\" rel=\"noreferrer noopener\">Show in docs</a></p>"
      ],
      "text/plain": [
       "<IPython.core.display.HTML object>"
      ]
     },
     "metadata": {},
     "output_type": "display_data"
    }
   ],
   "source": [
    "doc(DataLoaders)"
   ]
  },
  {
   "cell_type": "code",
   "execution_count": 183,
   "metadata": {},
   "outputs": [
    {
     "data": {
      "text/plain": [
       "(TensorText([   2,    8,   20,   16,   13, 1197,  401,  107,   66,    9,  229,\n",
       "              582,   15,  311,    5,  161,  871,   80,   13,  374,    0,    0,\n",
       "               65,   12,   61,   17,    0, 1854,   10,    8,   20,   16,  684,\n",
       "               14,   43,   66,  154,  114,   57,  802,  140,   54,  347,  443,\n",
       "              120,   19,   55, 1103, 1318,   10,    8,   52,   25,   13,    0,\n",
       "               12,   13,    0,  231,   13, 1806,   19,    9,  144,   25, 1728,\n",
       "               44,   34,  101,   86,  103,    9,  299,   25,  615, 1103,   10,\n",
       "                8,  116,  277,   52,   16,   13,    0,  167,   36,  102,   15,\n",
       "                9,  518,   16,  151, 1094,    0,   61,   27,    8, 1573,    0,\n",
       "               49,   27,    8,   33,   89,   10,   27,   17,    0,    0,   12,\n",
       "              566,  439,  120,  164,   84,   16, 1086,   19,   13,    0,   35,\n",
       "               10,    8,  932,   17,  566,   33,  175,   11,   84,  141,  529,\n",
       "              354,   71,   70,    0,   80,   17,   74,  166,   72,   10,   27,\n",
       "                8,   18,  283,  182,   28,   34,   11,   18,   74,   32,   28,\n",
       "               85,   10]),)"
      ]
     },
     "execution_count": 183,
     "metadata": {},
     "output_type": "execute_result"
    }
   ],
   "source": [
    "dsets.valid[0]"
   ]
  },
  {
   "cell_type": "code",
   "execution_count": 158,
   "metadata": {},
   "outputs": [
    {
     "data": {
      "text/plain": [
       "27"
      ]
     },
     "execution_count": 158,
     "metadata": {},
     "output_type": "execute_result"
    }
   ],
   "source": [
    "len(dls[1])"
   ]
  },
  {
   "cell_type": "code",
   "execution_count": 7,
   "metadata": {},
   "outputs": [
    {
     "data": {
      "text/html": [
       "<table border=\"1\" class=\"dataframe\">\n",
       "  <thead>\n",
       "    <tr style=\"text-align: right;\">\n",
       "      <th></th>\n",
       "      <th>text</th>\n",
       "      <th>text_</th>\n",
       "    </tr>\n",
       "  </thead>\n",
       "  <tbody>\n",
       "    <tr>\n",
       "      <th>0</th>\n",
       "      <td>xxbos \" one shot , one kill , no exceptions . \" a must see if you are into marines or snipers . two big thumbs up ! xxmaj great overall storyline , great camera work , good drama , action , details , and more . xxmaj pretty close to the real thing . xxmaj but this is n't a film to breakdown and pick out the editing faults . this</td>\n",
       "      <td>\" one shot , one kill , no exceptions . \" a must see if you are into marines or snipers . two big thumbs up ! xxmaj great overall storyline , great camera work , good drama , action , details , and more . xxmaj pretty close to the real thing . xxmaj but this is n't a film to breakdown and pick out the editing faults . this is</td>\n",
       "    </tr>\n",
       "    <tr>\n",
       "      <th>1</th>\n",
       "      <td>xxmaj australia , no redeeming features what so ever . xxmaj the dialog was hokey , the acting , awful and the script sucked ! ! xxmaj whoever thought it would be a good idea to do a sequel or follow up to the far superior xxmaj john xxmaj badham film , xxmaj wargames from the 80s , well they must of been on something cause it was a bad idea !</td>\n",
       "      <td>australia , no redeeming features what so ever . xxmaj the dialog was hokey , the acting , awful and the script sucked ! ! xxmaj whoever thought it would be a good idea to do a sequel or follow up to the far superior xxmaj john xxmaj badham film , xxmaj wargames from the 80s , well they must of been on something cause it was a bad idea ! !</td>\n",
       "    </tr>\n",
       "    <tr>\n",
       "      <th>2</th>\n",
       "      <td>xxmaj midler movie or go to the nearest music store and purchase one of xxmaj bette xxmaj midler 's albums . xxbos xxmaj this movie is one of the masterpieces from xxmaj mr . xxmaj antonioni . xxmaj it is about youth , distraction , happiness , alienation , materialism , honor , corruption . xxmaj and it is like everything else from great xxmaj italian director xxunk art . xxbos i</td>\n",
       "      <td>midler movie or go to the nearest music store and purchase one of xxmaj bette xxmaj midler 's albums . xxbos xxmaj this movie is one of the masterpieces from xxmaj mr . xxmaj antonioni . xxmaj it is about youth , distraction , happiness , alienation , materialism , honor , corruption . xxmaj and it is like everything else from great xxmaj italian director xxunk art . xxbos i watched</td>\n",
       "    </tr>\n",
       "    <tr>\n",
       "      <th>3</th>\n",
       "      <td>time . xxmaj avoid this like the plague , annoying music throughout , terrible editing , no comedy , its xxunk than a novelty mug … my xxunk wanted to watch this thinking it would be xxmaj legally xxmaj blonde material or something kind of watchable , but never better than average , chick flick . xxmaj its the first time she was begging me to push the stop button . \\n\\n</td>\n",
       "      <td>. xxmaj avoid this like the plague , annoying music throughout , terrible editing , no comedy , its xxunk than a novelty mug … my xxunk wanted to watch this thinking it would be xxmaj legally xxmaj blonde material or something kind of watchable , but never better than average , chick flick . xxmaj its the first time she was begging me to push the stop button . \\n\\n xxmaj</td>\n",
       "    </tr>\n",
       "    <tr>\n",
       "      <th>4</th>\n",
       "      <td>had xxmaj world xxmaj premiered the day before at the xxmaj xxunk xxmaj theatre xxup xxunk xxmaj screening xxmaj room . \\n\\n xxmaj the basic plot involves xxmaj morgan xxmaj freeman playing a one time popular actor who is on the downward slope of his career and who is taking on roles that may be beneath him , but which he still does with a positive attitude knowing that he needs to</td>\n",
       "      <td>xxmaj world xxmaj premiered the day before at the xxmaj xxunk xxmaj theatre xxup xxunk xxmaj screening xxmaj room . \\n\\n xxmaj the basic plot involves xxmaj morgan xxmaj freeman playing a one time popular actor who is on the downward slope of his career and who is taking on roles that may be beneath him , but which he still does with a positive attitude knowing that he needs to pay</td>\n",
       "    </tr>\n",
       "    <tr>\n",
       "      <th>5</th>\n",
       "      <td>whoopi as xxmaj blind xxmaj lemon and imitating xxmaj mick xxmaj jagger ? xxmaj great moments captured on film for sure but the movie still kind of sucks , right ? xxmaj that 's how i feel about \" rich xxmaj in xxmaj love \" . a man hears his wife sing for the first time . xxmaj post - xxunk teenagers talk about the nature of love . xxmaj albert xxmaj</td>\n",
       "      <td>as xxmaj blind xxmaj lemon and imitating xxmaj mick xxmaj jagger ? xxmaj great moments captured on film for sure but the movie still kind of sucks , right ? xxmaj that 's how i feel about \" rich xxmaj in xxmaj love \" . a man hears his wife sing for the first time . xxmaj post - xxunk teenagers talk about the nature of love . xxmaj albert xxmaj finney</td>\n",
       "    </tr>\n",
       "    <tr>\n",
       "      <th>6</th>\n",
       "      <td>questions that hit me this moment : xxmaj polish xxmaj xxunk 's xxmaj french is plenty colloquial ( un maximum d ' \" un maximum d ' \" ) . xxmaj even so , does she have an accent ? i think i can tell she does . xxmaj what does the absence of color add , especially at the single spot the fringe of the city is glimpsed ? xxmaj how</td>\n",
       "      <td>that hit me this moment : xxmaj polish xxmaj xxunk 's xxmaj french is plenty colloquial ( un maximum d ' \" un maximum d ' \" ) . xxmaj even so , does she have an accent ? i think i can tell she does . xxmaj what does the absence of color add , especially at the single spot the fringe of the city is glimpsed ? xxmaj how does</td>\n",
       "    </tr>\n",
       "    <tr>\n",
       "      <th>7</th>\n",
       "      <td>that or not . \\n\\n xxmaj but i loved how urban the coincidences were , from immigrants to love xxunk to crowded subway cars to hanging around xxunk . \\n\\n xxmaj the subtitles quite annoyingly gave both parts of a dialog at once . \\n\\n ( originally written 12 / 8 / 2001 ) xxbos xxmaj shaggy &amp; scooby - doo xxmaj get a xxmaj clue . xxmaj it 's like watching</td>\n",
       "      <td>or not . \\n\\n xxmaj but i loved how urban the coincidences were , from immigrants to love xxunk to crowded subway cars to hanging around xxunk . \\n\\n xxmaj the subtitles quite annoyingly gave both parts of a dialog at once . \\n\\n ( originally written 12 / 8 / 2001 ) xxbos xxmaj shaggy &amp; scooby - doo xxmaj get a xxmaj clue . xxmaj it 's like watching a</td>\n",
       "    </tr>\n",
       "    <tr>\n",
       "      <th>8</th>\n",
       "      <td>apartment when just one scene before he had 20 men that are no more than 15 feet from him with sign of escape ? xxmaj who knows the scene just cuts to him in the apartment … … xxunk well suspension of belief i guess ) , the movie to me stays interesting . xxmaj it is only until the last 20 minutes that the film seems to feel like it could</td>\n",
       "      <td>when just one scene before he had 20 men that are no more than 15 feet from him with sign of escape ? xxmaj who knows the scene just cuts to him in the apartment … … xxunk well suspension of belief i guess ) , the movie to me stays interesting . xxmaj it is only until the last 20 minutes that the film seems to feel like it could have</td>\n",
       "    </tr>\n",
       "  </tbody>\n",
       "</table>"
      ],
      "text/plain": [
       "<IPython.core.display.HTML object>"
      ]
     },
     "metadata": {},
     "output_type": "display_data"
    }
   ],
   "source": [
    "dls.show_batch()"
   ]
  },
  {
   "cell_type": "code",
   "execution_count": 16,
   "metadata": {},
   "outputs": [],
   "source": [
    "def scaled_dot_product_attention(query, key, value, mask=None):\n",
    "    dim_k = query.size(-1)\n",
    "    scores = torch.bmm(query, key.transpose(1, 2)) / np.sqrt(dim_k)\n",
    "    if mask is not None:\n",
    "        if scores.shape[1] == mask.shape[1]:\n",
    "            scores = scores.masked_fill(mask == 0, float(\"-inf\"))\n",
    "        else:\n",
    "            mask = torch.tril(torch.ones(scores.shape[1], scores.shape[1])).unsqueeze(0).to(device)\n",
    "            scores = scores.masked_fill(mask == 0, float(\"-inf\"))\n",
    "    weights = F.softmax(scores, dim=-1)\n",
    "    return weights.bmm(value)\n",
    "\n",
    "class AttentionHead(nn.Module):\n",
    "    def __init__(self, embed_dim, head_dim, vocab_size):\n",
    "        super().__init__()\n",
    "        self.q = nn.Linear(embed_dim, head_dim)\n",
    "        self.k = nn.Linear(embed_dim, head_dim)\n",
    "        self.v = nn.Linear(embed_dim, head_dim)\n",
    "        self.mask = torch.tril(torch.ones(vocab_size, vocab_size)).unsqueeze(0).to(device)\n",
    "\n",
    "    def forward(self, hidden_state):\n",
    "        attn_outputs = scaled_dot_product_attention(\n",
    "            self.q(hidden_state), self.k(hidden_state), self.v(hidden_state), self.mask)\n",
    "        return attn_outputs\n",
    "\n",
    "class MultiHeadAttention(nn.Module):\n",
    "    def __init__(self, config):\n",
    "        super().__init__()\n",
    "        embed_dim = config.hidden_size\n",
    "        num_heads = config.num_attention_heads\n",
    "        head_dim = embed_dim // num_heads\n",
    "        self.heads = nn.ModuleList(\n",
    "            [AttentionHead(embed_dim, head_dim, 72) for _ in range(num_heads)]\n",
    "        )\n",
    "        self.output_linear = nn.Linear(embed_dim, embed_dim)\n",
    "\n",
    "    def forward(self, hidden_state):\n",
    "        x = torch.cat([h(hidden_state) for h in self.heads], dim=-1)\n",
    "        x = self.output_linear(x)\n",
    "        return x\n",
    "\n",
    "class FeedForward(nn.Module):\n",
    "    def __init__(self, config):\n",
    "        super().__init__()\n",
    "        self.linear_1 = nn.Linear(config.hidden_size, config.intermediate_size)\n",
    "        self.linear_2 = nn.Linear(config.intermediate_size, config.hidden_size)\n",
    "        self.gelu = nn.GELU()\n",
    "        self.dropout = nn.Dropout(config.hidden_dropout_prob)\n",
    "        \n",
    "    def forward(self, x):\n",
    "        x = self.linear_1(x)\n",
    "        x = self.gelu(x)\n",
    "        x = self.linear_2(x)\n",
    "        x = self.dropout(x)\n",
    "        return x\n",
    "\n",
    "class TransformerEncoderLayer(nn.Module):\n",
    "    def __init__(self, config):\n",
    "        super().__init__()\n",
    "        self.layer_norm_1 = nn.LayerNorm(config.hidden_size)\n",
    "        self.layer_norm_2 = nn.LayerNorm(config.hidden_size)\n",
    "        self.attention = MultiHeadAttention(config)\n",
    "        self.feed_forward = FeedForward(config)\n",
    "\n",
    "    def forward(self, x):\n",
    "        # Apply layer normalization and then copy input into query, key, value\n",
    "        hidden_state = self.layer_norm_1(x)\n",
    "        # Apply attention with a skip connection\n",
    "        x = x + self.attention(hidden_state)\n",
    "        # Apply feed-forward layer with a skip connection\n",
    "        x = x + self.feed_forward(self.layer_norm_2(x))\n",
    "        return x\n",
    "\n",
    "class Embeddings(nn.Module):\n",
    "    def __init__(self, config):\n",
    "        super().__init__()\n",
    "        self.token_embeddings = nn.Embedding(config.vocab_size, \n",
    "                                             config.hidden_size)\n",
    "        self.position_embeddings = nn.Embedding(config.max_position_embeddings,\n",
    "                                                config.hidden_size)\n",
    "        self.layer_norm = nn.LayerNorm(config.hidden_size, eps=1e-12)\n",
    "        self.dropout = nn.Dropout()\n",
    "\n",
    "    def forward(self, input_ids):\n",
    "        # Create position IDs for input sequence\n",
    "        seq_length = input_ids.size(1)\n",
    "        position_ids = torch.arange(seq_length, dtype=torch.long).unsqueeze(0).to(device)\n",
    "        # Create token and position embeddings\n",
    "        token_embeddings = self.token_embeddings(input_ids)\n",
    "        \n",
    "        position_embeddings = self.position_embeddings(position_ids)\n",
    "        # Combine token and position embeddings\n",
    "        embeddings = token_embeddings + position_embeddings\n",
    "        embeddings = self.layer_norm(embeddings)\n",
    "        embeddings = self.dropout(embeddings)\n",
    "        return embeddings\n",
    "\n",
    "class TransformerEncoder(nn.Module):\n",
    "    def __init__(self, config):\n",
    "        super().__init__()\n",
    "        self.embeddings = Embeddings(config)\n",
    "        self.layers = nn.ModuleList([TransformerEncoderLayer(config) \n",
    "                                     for _ in range(config.num_hidden_layers)])\n",
    "\n",
    "    def forward(self, x):\n",
    "        x = self.embeddings(x)\n",
    "        for layer in self.layers:\n",
    "            x = layer(x)\n",
    "        return x\n",
    "\n",
    "class TransformerForSequenceClassification(nn.Module):\n",
    "    def __init__(self, config):\n",
    "        super().__init__()\n",
    "        self.encoder = TransformerEncoder(config)\n",
    "        self.dropout = nn.Dropout(config.hidden_dropout_prob)\n",
    "        self.classifier = nn.Linear(config.hidden_size, config.num_labels)\n",
    "        \n",
    "    def forward(self, x):\n",
    "        #print(x)\n",
    "        x = self.encoder(x)#[:, 0, :] # select hidden state of [CLS] token\n",
    "        #print(x)\n",
    "        x = self.dropout(x)\n",
    "        x = self.classifier(x)\n",
    "        #print(x)\n",
    "        return x"
   ]
  },
  {
   "cell_type": "code",
   "execution_count": 9,
   "metadata": {},
   "outputs": [
    {
     "name": "stderr",
     "output_type": "stream",
     "text": [
      "/home/paperspace/gnn_project/.venv/lib/python3.10/site-packages/tqdm/auto.py:21: TqdmWarning: IProgress not found. Please update jupyter and ipywidgets. See https://ipywidgets.readthedocs.io/en/stable/user_install.html\n",
      "  from .autonotebook import tqdm as notebook_tqdm\n"
     ]
    }
   ],
   "source": [
    "from transformers import AutoConfig\n",
    "config = AutoConfig.from_pretrained('bert-base-uncased')"
   ]
  },
  {
   "cell_type": "code",
   "execution_count": 17,
   "metadata": {},
   "outputs": [],
   "source": [
    "config.vocab_size = len(dls.vocab)\n",
    "config.num_labels = len(dls.vocab)\n",
    "config.hidden_size = 132\n",
    "encoder_classifier = TransformerForSequenceClassification(config)"
   ]
  },
  {
   "cell_type": "code",
   "execution_count": 18,
   "metadata": {},
   "outputs": [
    {
     "data": {
      "text/html": [
       "\n",
       "<style>\n",
       "    /* Turns off some styling */\n",
       "    progress {\n",
       "        /* gets rid of default border in Firefox and Opera. */\n",
       "        border: none;\n",
       "        /* Needs to be in here for Safari polyfill so background images work as expected. */\n",
       "        background-size: auto;\n",
       "    }\n",
       "    progress:not([value]), progress:not([value])::-webkit-progress-bar {\n",
       "        background: repeating-linear-gradient(45deg, #7e7e7e, #7e7e7e 10px, #5c5c5c 10px, #5c5c5c 20px);\n",
       "    }\n",
       "    .progress-bar-interrupted, .progress-bar-interrupted::-webkit-progress-bar {\n",
       "        background: #F44336;\n",
       "    }\n",
       "</style>\n"
      ],
      "text/plain": [
       "<IPython.core.display.HTML object>"
      ]
     },
     "metadata": {},
     "output_type": "display_data"
    },
    {
     "data": {
      "text/html": [
       "\n",
       "    <div>\n",
       "      <progress value='0' class='' max='1' style='width:300px; height:20px; vertical-align: middle;'></progress>\n",
       "      0.00% [0/1 00:00&lt;?]\n",
       "    </div>\n",
       "    \n",
       "<table border=\"1\" class=\"dataframe\">\n",
       "  <thead>\n",
       "    <tr style=\"text-align: left;\">\n",
       "      <th>epoch</th>\n",
       "      <th>train_loss</th>\n",
       "      <th>valid_loss</th>\n",
       "      <th>accuracy</th>\n",
       "      <th>time</th>\n",
       "    </tr>\n",
       "  </thead>\n",
       "  <tbody>\n",
       "  </tbody>\n",
       "</table><p>\n",
       "\n",
       "    <div>\n",
       "      <progress value='0' class='' max='1055' style='width:300px; height:20px; vertical-align: middle;'></progress>\n",
       "      0.00% [0/1055 00:00&lt;?]\n",
       "    </div>\n",
       "    "
      ],
      "text/plain": [
       "<IPython.core.display.HTML object>"
      ]
     },
     "metadata": {},
     "output_type": "display_data"
    }
   ],
   "source": [
    "model = encoder_classifier\n",
    "\n",
    "model.to(device)\n",
    "\n",
    "dls.to(device)\n",
    "\n",
    "learn = Learner(\n",
    "    dls, \n",
    "    model, \n",
    "    loss_func=CrossEntropyLossFlat(), \n",
    "    metrics=[accuracy]\n",
    ")\n",
    "\n",
    "learn.fit_one_cycle(1, 1e-3)\n",
    "\n",
    "#learn.export('mymodel.pkl')"
   ]
  },
  {
   "cell_type": "code",
   "execution_count": 234,
   "metadata": {},
   "outputs": [
    {
     "data": {
      "text/plain": [
       "Path('models/my_model.pth')"
      ]
     },
     "execution_count": 234,
     "metadata": {},
     "output_type": "execute_result"
    }
   ],
   "source": [
    "learn.save('my_model')"
   ]
  },
  {
   "cell_type": "code",
   "execution_count": 21,
   "metadata": {},
   "outputs": [
    {
     "name": "stderr",
     "output_type": "stream",
     "text": [
      "/tmp/ipykernel_3511/2736430099.py:8: UserWarning: To copy construct from a tensor, it is recommended to use sourceTensor.clone().detach() or sourceTensor.clone().detach().requires_grad_(True), rather than torch.tensor(sourceTensor).\n",
      "  input_ids = torch.tensor(token_ids).unsqueeze(0).to(device)  # Add batch dimension\n"
     ]
    },
    {
     "name": "stdout",
     "output_type": "stream",
     "text": [
      "xxbos i liked this movie because it was a great movie . xxmaj it 's a\n"
     ]
    }
   ],
   "source": [
    "import torch\n",
    "\n",
    "mytokenizer = Pipeline([tok,num])\n",
    "\n",
    "# Define a function for text generation\n",
    "def generate_text(model, starting_text, max_length=10):\n",
    "    token_ids = mytokenizer(starting_text).to(device)\n",
    "    input_ids = torch.tensor(token_ids).unsqueeze(0).to(device)  # Add batch dimension\n",
    "    with torch.no_grad():\n",
    "        for _ in range(max_length):\n",
    "            outputs = model(input_ids)\n",
    "            logits = outputs[:, -1, :]  # Get logits for the last token\n",
    "            next_token_id = torch.argmax(logits, dim=-1)\n",
    "            #print(next_token_id)\n",
    "            #token_ids.append(next_token_id.item())\n",
    "            token_ids = torch.cat((token_ids, next_token_id),dim=0)\n",
    "            input_ids = torch.cat([input_ids, next_token_id.unsqueeze(0).to(device)], dim=-1)\n",
    "            #print(input_ids)\n",
    "            if next_token_id == 'EOS':\n",
    "                break\n",
    "    return mytokenizer.decode(token_ids)\n",
    "\n",
    "# Generate text\n",
    "generated_text = generate_text(learn.model, \"I liked this movie because\")\n",
    "print(generated_text)\n"
   ]
  }
 ],
 "metadata": {
  "kernelspec": {
   "display_name": "Python 3 (ipykernel)",
   "language": "python",
   "name": "python3"
  },
  "language_info": {
   "codemirror_mode": {
    "name": "ipython",
    "version": 3
   },
   "file_extension": ".py",
   "mimetype": "text/x-python",
   "name": "python",
   "nbconvert_exporter": "python",
   "pygments_lexer": "ipython3",
   "version": "3.10.12"
  }
 },
 "nbformat": 4,
 "nbformat_minor": 2
}
