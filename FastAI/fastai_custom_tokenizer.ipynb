{
 "cells": [
  {
   "cell_type": "code",
   "execution_count": 1,
   "metadata": {},
   "outputs": [],
   "source": [
    "from fastai.text.all import *\n",
    "import pandas as pd"
   ]
  },
  {
   "cell_type": "code",
   "execution_count": 6,
   "metadata": {},
   "outputs": [],
   "source": [
    "path = untar_data(URLs.IMDB)"
   ]
  },
  {
   "cell_type": "markdown",
   "metadata": {},
   "source": [
    "https://docs.fast.ai/text.core.html"
   ]
  },
  {
   "cell_type": "code",
   "execution_count": 7,
   "metadata": {},
   "outputs": [],
   "source": [
    "files = get_text_files(path, folders = ['train', 'test', 'unsup'])"
   ]
  },
  {
   "cell_type": "code",
   "execution_count": 9,
   "metadata": {},
   "outputs": [
    {
     "data": {
      "text/plain": [
       "\"It's about jealousy, it's about racism, it's about manipulation, but the un\""
      ]
     },
     "execution_count": 9,
     "metadata": {},
     "output_type": "execute_result"
    }
   ],
   "source": [
    "txt = files[0].open().read()\n",
    "txt[:75]"
   ]
  },
  {
   "cell_type": "code",
   "execution_count": 11,
   "metadata": {},
   "outputs": [
    {
     "data": {
      "text/plain": [
       "(#200) ['It\\'s about jealousy, it\\'s about racism, it\\'s about manipulation, but the underlying message is love. Geoffrey Sax tried to pull off Shakespeare\\'s Othello, by bringing it to modern day context. However, the actors were not convincing enough to pull this off. There were extra bodies to help put everything in to perspective, however, John Othello, played by Eamonn Walker, over reacted a lot in this film, causing for the down fall of Keeley Hawes, Dessie Brabant, eventually ending in Dessie\\'s death. <br /><br />Ben Jago, played by Christopher Eccleston, was seen as the main character in the film. He didn\\'t give enough evidence for Dessie to be cheating on Othello, with Michael Cass, played by Richard Coyle. Instead he just played a friend to all and gave one reason as to why she \"was\" cheating. In the play, it took a lot more convincing from Iago to make Othello even suspect anything. This change made the movie more about rage for the wrong reasons, than what the book was based off of. However, the movie did have a few good points. It turned the army scenes into more a racist group toward blacks, where Othello is the main chief of the police squad. These scenes are made believable by the raging crowds, and burning fires. You are able to sense the amount of racism in the movie, more so than you can in the book. This book plays up the modern day scenes by making it much easier to understand, than the Shakespearian times it was written in. In the play Iago (Jago) gets tortured at the end, but in the film he gets his satisfaction, and gets Othello\\'s position. He never gets what he deserves and is never caught for telling the lie to Othello until it is too late. I saw this as a downfall in the movie, because I feel that the villain is granted his treasure of the promotion out of lying, and in the book, he is found out by Rodrigo. Overall, the movie could have done a better job based on the play than what it did. I feel that the director of the movie left out some of the most important parts of the play that were mentioned or there to make the play flow, or make it more of a tragedy. I would say that you should read the book first, in order to understand all of the events that happened in the movie, otherwise you may find yourself lost, and confused.','on this quagmire of mediocrity? You are SO much better than this.<br /><br />Simply put, Frostbite is worthless. Bad acting (and I use that term loosely), minimalist \"plot,\" sophomoric humor, and lackluster snowboarding. There\\'s not even a sufficient display of feminine pulchritude to spark the prurient interest of socially inept, but red-blooded, males.<br /><br />Top Gun had spectacular flight sequences to goggle at. Days of Thunder had heart-pounding racing action. Even Point Break had skydiving scenes to its credit. Frostbite has none of these. It\\'s not worth your time, my time, Traci Lords\\' time, Carmen Nicole\\'s time, nor the time of anyone involved with this destruction of celluloid that would have been perfectly usable on something worthwhile had it not been wasted on this fodder for the recycling center.<br /><br />The world will be a better place when we forget that Frostbite ever existed.','I watched this movie about six years ago and I recently did so again. If I remember correctly I did not like it at all the first time and I appreciated it slightly more this second time.<br /><br />This movie is obviously on a big budget. The effects are mostly top notch (except for one or two \"impacts\") and the cast is impressive. However, there are some elements that destroy the overall impression of the show.<br /><br />Firstly, whoever decided that Peter Stormare should act as a crazy Russian astronaut should be fired. Being a Swede and a fan of Peter, I\\'m pretty sure he can play a Russian character well. But his performance in this case is plain stupid, both with respect the lines uttered and the acting. So... something must be wrong with the script. I\\'d like to see Peter as a professional Russian astronaut instead.<br /><br />Secondly, the action scenes that take place on the surface are so intense that it is nearly unbearable to watch. It is a total chaos that lasts over thirty minutes with too few moments to catch one\\'s breath. In addition to this, the events that unfold are simply not credible. I\\'d like to see a much more sensible and stripped down version of this part of the movie.<br /><br />Finally, the scenes that involve flying space shuttles are too action-biased. The shuttles are maneuvering like if they were a couple of MIGs, at zero safety distance, while bouncing off car-sized ice blocks like ping-pong balls. The director should watch Apollo 13 to learn the limitations of spacecraft like these.<br /><br />I like the music score because it is dramatic to a degree making it very touching. The overall performance of the actors is great. Apart from the things mentioned above the story is interesting and quite easy to follow.<br /><br />With some minor changes this would have been a 8/10 movie. I\\'m sorry it isn\\'t!',\"This was one of the worst movies that I have ever watched. The story was about a woman prisoner sent into space to try and save mankind but what it actually turned out to be was that the prisoner was actually put on board a space ship with a nymphomaniac lesbian commander. All the story was about was having sex over and over again. There was no need for all of this footage - only to create a soft porn film. Of course we had to see the heroin of the movie having sex for about 2 minutes. I don't know what all this had to do with the actual plot of the movie -except I assume to get men to watch it. I gave it 1 out of 10 only because there was no other rating lower. Don't waste your money or time- it has nothing to do with science fiction but rather a movie for young adolescent boys to watch to see t&a. The creature was shown only more than half way through the movie and looked like the alien in the movie with Signorney Weaver. Poor excuse for entertainment.\",'In this horrible attempt at a Blair Witch mockumentary, a bunch of people go to Africa to investigate a creature called the Half-Caste. It\\'s pretty obvious that there was no script to speak of, and that everything was improvised. That can work if you have good actors, which this film didn\\'t. <br /><br />This movie tries to gain points for originality by exploring a more obscure myth and an exotic culture. As a result, there are a lot of scenes out in the bush where characters do \"quirky African stuff\" like eating elephant dung. There is also some pretty good footage of lions eating (from a National Geographic perspective) but there\\'s not a single scare in the whole movie. <br /><br />If you\\'ve seen Cannibal Holocaust or the Blair Witch Project, this movie will hold no surprises for you, and you can probably watch better lion footage on the Discovery Channel.<br /><br />Definitely a Half- Aste effort. <br /><br />A note to the filmmakers: guys, do us all a favor and next time save the \"How I spent my African Vacation\" home movie for your family and close friends. Nobody else wants to see it.','The spoof genre, which has lacked creativity and humor for some time already, gets spat upon yet again by hacks with no talent. No point, no fun, no originality; just a few cheap bucks for the film makers. <br /><br />It takes more than just referencing some recent movies and giving characters double-meaning names to be satire; to make people laugh. Any clod can pick up a cam-corder, and have some bad-acting buddies in cheap costumes imitate somebody. Since the genre being targeted this time is inspirational sports movies, there are a few lame references thrown out to movies of that type: the jokes are so weak the characters actually have to emphasize the references in various ways, to get you to laugh hysterically. It doesn\\'t work.<br /><br />That\\'s not comedy. However, the same old worn out sophomoric \"jokes\" ripped off from a middle school washroom (done even more blandly than usual) are all here. If that\\'s not enough, there\\'s a running \"gag\" of a bus running somebody over. So funny, right? Also, one pathetically poor scene does more product placement than Michael Bay; again with the same unfunny results. A musical bit flops miserably. Pity Carl Weathers, once Apollo Creed in the Rocky series, now stuck with roles in swill like this.<br /><br />Lousy beyond words. Watching a snail run the marathon would be less tedious than watching this film is. Probably a lot funnier, too.','I was a hippie age 22 in 1965, have seen the play 5 times, have 2 versions of the music, and have read the script many times. Maybe taken as an separate thing, the movie is OK, but as an adoption of the play, it\\'s terrible.<br /><br />First the good. The songs are sung well, and the production values are pretty good. The homosexual implications in Black Boys, White Boys is cute. The Claude/Berger switch was interesting. Hair is a fluid production, and constant changes in it are inherent provided the basic spirit of it is retained.<br /><br />But the basic spirit was very much distorted. It seemed like all the producer wanted was to sing certain songs, and fit the story-line to them regardless of what that did to the original intent of the play.<br /><br />Claude, Sheila, and Hud were presented as a selfish brats who could care less about anyone outside their tribe. Claude destroyed Sheila\\'s parents party (it\\'s hard to believe that she smiled while her parents were being hurt), and repeatedly stole cars. Sheila stole the soldier\\'s clothes and car. Then she left him in the middle of the desert where he would certainly sunburn badly, probably be busted in rank, and could likely die on that lonely Nevada road. Good fun. And Hud found it fine to break his son\\'s heart while yelling at his ex. This is not what hippies were like, not what the play described, and is directly opposite to a love generation.<br /><br />I\\'ve never seen a hippie beg for money. The point was to be self-sufficient outside the capitalist system, not beg from it.<br /><br />After Berger is thrown in jail for ruining Sheila\\'s party and Claude offers to bail some out, Berger insists on being bailed instead, with no better plan for bailing the rest that hitting on Sheila\\'s parents, and then hitting on his own mommy.<br /><br />\"Be In\" has always been a very spiritual point, but here it is wasted on silly brides floating around. Even if this is part of his trip, it ruins a beautiful song. I know they\\'re contrasting \"Floating In Space\" with the Army. But again, it totally ruins a beautiful song.<br /><br />While Sheila and Claude are skinny dipping, Berger steals their clothes, laughing \"it was fun man\" even after he could see both were very annoyed. Then a little later, Berger does one thing that no hippie ever does. He hits Claude. Terrible.<br /><br />Then they have the perfect opportunity to sing \"Starshine\" at night in some beautiful SF spot with the stars twinkling down, maybe working into an inventive duet. Instead, the whole tribe sings it in the blazing sun speeding down the road in a convertible (stolen of course).<br /><br />I was vastly disappointed with the movie in 1979, and I like it even less now. I think it would have been possible to do a reasonably close adoption of the show, but this ain\\'t it.','Only a very small child could overlook the absurdities in this bomb; the first difficulty faced by the submarine \"Seaview\" is what appear to be chunks of--rock? falling down through the water and crashing into its hull. But it\\'s not rock, they\\'re under the North Pole--it is ICE! Everybody, except possibly hitherto mentioned small children (and even some of them) know that ICE FLOATS.<br /><br />Then, disaster strikes--that darn VAN ALLEN RADIATION BELT around the Earth catches fire! No one knows how this happened, we are told, which is understandable, because it is utterly impossible for radiation to \"catch fire\", and even if it could, there is NO AIR IN SPACE for it to burn.<br /><br />There is literally no good reason to overlook science concepts basic to 2nd grade school textbooks when making a film; however, Irwin Allen manages to do it again and again; perhaps we are meant to focus on the \"people\" instead, which is pretty easy, as they are CARDBOARD.<br /><br />The cast tries very hard not to look embarrassed in this ridiculous sub-kiddie romp, much like later episodes of his \"Lost in Space\" TV series, the concept of which was swiped outright from writer Ib Melchior and then rushed into production.<br /><br />The sub looks pretty good, though, which is why this one gets a \"2\".',\"What an awful movie. Full of cliches, perplexing scenes, very bad acting, and an atrotious script. It is hard to believe the same guys that wrote The People vs. Larry Flint and Man on the Moon wrote this garbage. Man, this makes my list of Top 10 Worst Movies of All-Time. Didn't this guy, this director, if you can call him that, realize that the first Problem Child was bad enough? Let alone make a sequel for it!!?? Amazing that piece of trash films like this can be shown to children let alone be released! 1 out of 10 *'s\",\"Naach would have won an Razzie for the Worst Film in 2004 (may be overall too) if it were global. When it comes acting badly (aka showing attitude/yawning/over (not) acting) Halle Berry is no match for Antra Malli. While the catwoman had storeline, supposedly hot actress in microscopic costume, and some action sequences, Naach had nothing at all.<br /><br />One of those movies which makes me wonder why IMDb does allow one to rate a movie as 0/10. Yet again, I think that movie does not even deserve a 0. It has to be something negative or minus infinity.<br /><br />OK what about the plot outline? It is a funda-giving, arrogant, full of attitude choreographer meet an useless, skill-less, loafer who aspires to be an actor tale. The story is so short that if just another sentence, IMDb might ban me for writing a spoiler. About the story-telling? Its like a bunch (sorry 2 people for the most part) of people moving in super slow motion. Don't try this movie if you have bought new DVD-player. You would end up believing that either DVD is in bad shape or DVD-player is struck. Not its fault at all.<br /><br />At the end of it all, you end up giving some credits to the director. At least he realized that both Antra Malli and Abhishek Bachan (at least at that time) can't speak dialogues convincingly, so there are not too many dialogues in this movie. So, you can at least sleep your way through the movie, with some annoying noises from those Antra-malli song sequences.<br /><br />Do watch this movie if you are new to Bollywood Cinema. Once you have tolerated this movie, you would be able to see any Bollywood movie and enjoy it.<br /><br />There can't be worse 3 hour torture than this!\"...]"
      ]
     },
     "execution_count": 11,
     "metadata": {},
     "output_type": "execute_result"
    }
   ],
   "source": [
    "txts = L(o.open().read() for o in files[:200])\n",
    "txts"
   ]
  },
  {
   "cell_type": "markdown",
   "metadata": {},
   "source": [
    "## Subword Tokenization"
   ]
  },
  {
   "cell_type": "code",
   "execution_count": 12,
   "metadata": {},
   "outputs": [],
   "source": [
    "def subword(sz):\n",
    "    sp = SubwordTokenizer(vocab_sz=sz)\n",
    "    sp.setup(txts)\n",
    "    return ' '.join(first(sp([txt]))[:40])"
   ]
  },
  {
   "cell_type": "code",
   "execution_count": 16,
   "metadata": {},
   "outputs": [
    {
     "data": {
      "text/html": [
       "\n",
       "<style>\n",
       "    /* Turns off some styling */\n",
       "    progress {\n",
       "        /* gets rid of default border in Firefox and Opera. */\n",
       "        border: none;\n",
       "        /* Needs to be in here for Safari polyfill so background images work as expected. */\n",
       "        background-size: auto;\n",
       "    }\n",
       "    progress:not([value]), progress:not([value])::-webkit-progress-bar {\n",
       "        background: repeating-linear-gradient(45deg, #7e7e7e, #7e7e7e 10px, #5c5c5c 10px, #5c5c5c 20px);\n",
       "    }\n",
       "    .progress-bar-interrupted, .progress-bar-interrupted::-webkit-progress-bar {\n",
       "        background: #F44336;\n",
       "    }\n",
       "</style>\n"
      ],
      "text/plain": [
       "<IPython.core.display.HTML object>"
      ]
     },
     "metadata": {},
     "output_type": "display_data"
    },
    {
     "data": {
      "text/html": [],
      "text/plain": [
       "<IPython.core.display.HTML object>"
      ]
     },
     "metadata": {},
     "output_type": "display_data"
    },
    {
     "data": {
      "text/plain": [
       "\"▁It ' s ▁about ▁jea lousy , ▁it ' s ▁about ▁racism , ▁it ' s ▁about ▁ manipulati on , ▁but ▁the ▁under ly ing ▁message ▁is ▁love . ▁Ge off re y ▁S ax ▁tri ed ▁to ▁pull\""
      ]
     },
     "execution_count": 16,
     "metadata": {},
     "output_type": "execute_result"
    }
   ],
   "source": [
    "subword(10000)"
   ]
  },
  {
   "cell_type": "markdown",
   "metadata": {},
   "source": [
    "## Numericalization"
   ]
  },
  {
   "cell_type": "code",
   "execution_count": 17,
   "metadata": {},
   "outputs": [
    {
     "name": "stderr",
     "output_type": "stream",
     "text": [
      "/home/chris/University/GNN/project/transformer_env/lib/python3.9/site-packages/torch/cuda/__init__.py:628: UserWarning: Can't initialize NVML\n",
      "  warnings.warn(\"Can't initialize NVML\")\n"
     ]
    }
   ],
   "source": [
    "spacy = WordTokenizer()\n",
    "tkn = Tokenizer(spacy)"
   ]
  },
  {
   "cell_type": "code",
   "execution_count": 36,
   "metadata": {},
   "outputs": [
    {
     "data": {
      "text/plain": [
       "(#530) ['xxbos','xxmaj','it',\"'s\",'about','jealousy',',','it',\"'s\",'about'...]"
      ]
     },
     "execution_count": 36,
     "metadata": {},
     "output_type": "execute_result"
    }
   ],
   "source": [
    "toks200 = txts[:200].map(tkn)\n",
    "toks200[0]"
   ]
  },
  {
   "cell_type": "code",
   "execution_count": 23,
   "metadata": {},
   "outputs": [
    {
     "data": {
      "text/plain": [
       "\"(#1920) ['xxunk','xxpad','xxbos','xxeos','xxfld','xxrep','xxwrep','xxup','xxmaj','the','.',',','and','a','to','of','is','i','it','in'...]\""
      ]
     },
     "execution_count": 23,
     "metadata": {},
     "output_type": "execute_result"
    }
   ],
   "source": [
    "num = Numericalize()\n",
    "num.setup(toks200)\n",
    "coll_repr(num.vocab,20)"
   ]
  },
  {
   "cell_type": "code",
   "execution_count": 25,
   "metadata": {},
   "outputs": [],
   "source": [
    "toks = tkn(txt)"
   ]
  },
  {
   "cell_type": "code",
   "execution_count": 26,
   "metadata": {},
   "outputs": [
    {
     "data": {
      "text/plain": [
       "TensorText([   2,    8,   18,   25,   66,    0,   11,   18,   25,   66, 1416,\n",
       "              11,   18,   25,   66,    0,   11,   31,    9,    0])"
      ]
     },
     "execution_count": 26,
     "metadata": {},
     "output_type": "execute_result"
    }
   ],
   "source": [
    "nums = num(toks)[:20]\n",
    "nums"
   ]
  },
  {
   "cell_type": "code",
   "execution_count": 29,
   "metadata": {},
   "outputs": [
    {
     "data": {
      "text/plain": [
       "\"xxbos xxmaj it 's about xxunk , it 's about racism , it 's about xxunk , but the xxunk\""
      ]
     },
     "execution_count": 29,
     "metadata": {},
     "output_type": "execute_result"
    }
   ],
   "source": [
    "' '.join(num.vocab[o] for o in nums)"
   ]
  },
  {
   "cell_type": "code",
   "execution_count": 33,
   "metadata": {},
   "outputs": [
    {
     "data": {
      "text/plain": [
       "(#20) ['xxbos','xxmaj','it',\"'s\",'about','jealousy',',','it',\"'s\",'about'...]"
      ]
     },
     "execution_count": 33,
     "metadata": {},
     "output_type": "execute_result"
    }
   ],
   "source": [
    "toks[:20]"
   ]
  },
  {
   "cell_type": "markdown",
   "metadata": {},
   "source": [
    "## Batches"
   ]
  },
  {
   "cell_type": "code",
   "execution_count": 35,
   "metadata": {},
   "outputs": [
    {
     "data": {
      "text/plain": [
       "(torch.Size([64, 72]), torch.Size([64, 72]))"
      ]
     },
     "execution_count": 35,
     "metadata": {},
     "output_type": "execute_result"
    }
   ],
   "source": [
    "nums200 = toks200.map(num)\n",
    "\n",
    "dl = LMDataLoader(nums200)\n",
    "\n",
    "x,y = first(dl)\n",
    "x.shape, y.shape"
   ]
  },
  {
   "cell_type": "code",
   "execution_count": 40,
   "metadata": {},
   "outputs": [
    {
     "data": {
      "text/plain": [
       "\"xxbos xxmaj it 's about xxunk , it 's about racism , it 's about xxunk , but the xxunk\""
      ]
     },
     "execution_count": 40,
     "metadata": {},
     "output_type": "execute_result"
    }
   ],
   "source": [
    "' '.join(num.vocab[o] for o in x[0][:20])"
   ]
  },
  {
   "cell_type": "code",
   "execution_count": 41,
   "metadata": {},
   "outputs": [
    {
     "data": {
      "text/plain": [
       "\"xxmaj it 's about xxunk , it 's about racism , it 's about xxunk , but the xxunk message\""
      ]
     },
     "execution_count": 41,
     "metadata": {},
     "output_type": "execute_result"
    }
   ],
   "source": [
    "' '.join(num.vocab[o] for o in y[0][:20])"
   ]
  },
  {
   "cell_type": "markdown",
   "metadata": {},
   "source": [
    "## FastAI Transforms"
   ]
  },
  {
   "cell_type": "code",
   "execution_count": 43,
   "metadata": {},
   "outputs": [],
   "source": [
    "files = get_text_files(path, folders = ['train','test'])\n",
    "txts = L(o.open().read() for o in files[:2000])"
   ]
  },
  {
   "cell_type": "code",
   "execution_count": 44,
   "metadata": {},
   "outputs": [
    {
     "data": {
      "text/plain": [
       "(#530) ['xxbos','xxmaj','it',\"'s\",'about','jealousy',',','it',\"'s\",'about'...]"
      ]
     },
     "execution_count": 44,
     "metadata": {},
     "output_type": "execute_result"
    }
   ],
   "source": [
    "tok = Tokenizer.from_folder(path)\n",
    "tok.setup(txts)\n",
    "toks = txts.map(tok)\n",
    "toks[0]"
   ]
  },
  {
   "cell_type": "code",
   "execution_count": 45,
   "metadata": {},
   "outputs": [
    {
     "data": {
      "text/plain": [
       "TensorText([   2,    8,   18,   23,   62, 6709,   11,   18,   23,   62])"
      ]
     },
     "execution_count": 45,
     "metadata": {},
     "output_type": "execute_result"
    }
   ],
   "source": [
    "num = Numericalize()\n",
    "num.setup(toks)\n",
    "nums = toks.map(num)\n",
    "nums[0][:10]"
   ]
  },
  {
   "cell_type": "code",
   "execution_count": 46,
   "metadata": {},
   "outputs": [
    {
     "data": {
      "text/plain": [
       "(#10) ['xxbos','xxmaj','it',\"'s\",'about','jealousy',',','it',\"'s\",'about']"
      ]
     },
     "execution_count": 46,
     "metadata": {},
     "output_type": "execute_result"
    }
   ],
   "source": [
    "nums_dec = num.decode(nums[0][:10])\n",
    "nums_dec"
   ]
  },
  {
   "cell_type": "code",
   "execution_count": 47,
   "metadata": {},
   "outputs": [
    {
     "data": {
      "text/plain": [
       "\"xxbos xxmaj it 's about jealousy , it 's about\""
      ]
     },
     "execution_count": 47,
     "metadata": {},
     "output_type": "execute_result"
    }
   ],
   "source": [
    "tok.decode(nums_dec)"
   ]
  },
  {
   "cell_type": "code",
   "execution_count": 48,
   "metadata": {},
   "outputs": [
    {
     "data": {
      "text/plain": [
       "((#530) ['xxbos','xxmaj','it',\"'s\",'about','jealousy',',','it',\"'s\",'about'...],\n",
       " (#2) ['xxbos','t'])"
      ]
     },
     "execution_count": 48,
     "metadata": {},
     "output_type": "execute_result"
    }
   ],
   "source": [
    "tok((txts[0], txt[1]))"
   ]
  },
  {
   "cell_type": "code",
   "execution_count": 50,
   "metadata": {},
   "outputs": [
    {
     "data": {
      "text/plain": [
       "(3, 2.0)"
      ]
     },
     "execution_count": 50,
     "metadata": {},
     "output_type": "execute_result"
    }
   ],
   "source": [
    "def f(x:int): return x+1\n",
    "tfm = Transform(f)\n",
    "tfm(2),tfm(2.0)"
   ]
  },
  {
   "cell_type": "code",
   "execution_count": 51,
   "metadata": {},
   "outputs": [
    {
     "data": {
      "text/plain": [
       "(3, 2.0)"
      ]
     },
     "execution_count": 51,
     "metadata": {},
     "output_type": "execute_result"
    }
   ],
   "source": [
    "@Transform\n",
    "def f(x:int): return x+1\n",
    "f(2),f(2.0)"
   ]
  },
  {
   "cell_type": "code",
   "execution_count": null,
   "metadata": {},
   "outputs": [],
   "source": [
    "class NormalizeMean(Transform):\n",
    "    def setups(self, items): self.mean = sum(items)/len(items)\n",
    "    def encodes(self, x): return x-self.mean\n",
    "    def encodes(self, x): return x+self.mean"
   ]
  }
 ],
 "metadata": {
  "kernelspec": {
   "display_name": "Python 3 (ipykernel)",
   "language": "python",
   "name": "python3"
  },
  "language_info": {
   "codemirror_mode": {
    "name": "ipython",
    "version": 3
   },
   "file_extension": ".py",
   "mimetype": "text/x-python",
   "name": "python",
   "nbconvert_exporter": "python",
   "pygments_lexer": "ipython3",
   "version": "3.9.18"
  }
 },
 "nbformat": 4,
 "nbformat_minor": 2
}
