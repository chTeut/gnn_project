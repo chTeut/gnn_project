{
 "cells": [
  {
   "cell_type": "code",
   "execution_count": 1,
   "metadata": {},
   "outputs": [],
   "source": [
    "from fastai.text.all import *\n",
    "import pandas as pd\n",
    "import torch"
   ]
  },
  {
   "cell_type": "code",
   "execution_count": 2,
   "metadata": {},
   "outputs": [
    {
     "data": {
      "text/plain": [
       "'cpu'"
      ]
     },
     "execution_count": 2,
     "metadata": {},
     "output_type": "execute_result"
    }
   ],
   "source": [
    "if torch.cuda.is_available():\n",
    "  device = \"cuda:0\"\n",
    "else:\n",
    "  device = \"cpu\"\n",
    "device"
   ]
  },
  {
   "cell_type": "code",
   "execution_count": 3,
   "metadata": {},
   "outputs": [],
   "source": [
    "path = untar_data(URLs.IMDB)"
   ]
  },
  {
   "cell_type": "markdown",
   "metadata": {},
   "source": [
    "https://docs.fast.ai/text.core.html"
   ]
  },
  {
   "cell_type": "code",
   "execution_count": 4,
   "metadata": {},
   "outputs": [],
   "source": [
    "files = get_text_files(path, folders = ['train', 'test', 'unsup'])"
   ]
  },
  {
   "cell_type": "code",
   "execution_count": 9,
   "metadata": {},
   "outputs": [
    {
     "data": {
      "text/plain": [
       "\"It's about jealousy, it's about racism, it's about manipulation, but the un\""
      ]
     },
     "execution_count": 9,
     "metadata": {},
     "output_type": "execute_result"
    }
   ],
   "source": [
    "txt = files[0].open().read()\n",
    "txt[:75]"
   ]
  },
  {
   "cell_type": "code",
   "execution_count": 61,
   "metadata": {},
   "outputs": [
    {
     "data": {
      "text/plain": [
       "(#200) ['It\\'s about jealousy, it\\'s about racism, it\\'s about manipulation, but the underlying message is love. Geoffrey Sax tried to pull off Shakespeare\\'s Othello, by bringing it to modern day context. However, the actors were not convincing enough to pull this off. There were extra bodies to help put everything in to perspective, however, John Othello, played by Eamonn Walker, over reacted a lot in this film, causing for the down fall of Keeley Hawes, Dessie Brabant, eventually ending in Dessie\\'s death. <br /><br />Ben Jago, played by Christopher Eccleston, was seen as the main character in the film. He didn\\'t give enough evidence for Dessie to be cheating on Othello, with Michael Cass, played by Richard Coyle. Instead he just played a friend to all and gave one reason as to why she \"was\" cheating. In the play, it took a lot more convincing from Iago to make Othello even suspect anything. This change made the movie more about rage for the wrong reasons, than what the book was based off of. However, the movie did have a few good points. It turned the army scenes into more a racist group toward blacks, where Othello is the main chief of the police squad. These scenes are made believable by the raging crowds, and burning fires. You are able to sense the amount of racism in the movie, more so than you can in the book. This book plays up the modern day scenes by making it much easier to understand, than the Shakespearian times it was written in. In the play Iago (Jago) gets tortured at the end, but in the film he gets his satisfaction, and gets Othello\\'s position. He never gets what he deserves and is never caught for telling the lie to Othello until it is too late. I saw this as a downfall in the movie, because I feel that the villain is granted his treasure of the promotion out of lying, and in the book, he is found out by Rodrigo. Overall, the movie could have done a better job based on the play than what it did. I feel that the director of the movie left out some of the most important parts of the play that were mentioned or there to make the play flow, or make it more of a tragedy. I would say that you should read the book first, in order to understand all of the events that happened in the movie, otherwise you may find yourself lost, and confused.','on this quagmire of mediocrity? You are SO much better than this.<br /><br />Simply put, Frostbite is worthless. Bad acting (and I use that term loosely), minimalist \"plot,\" sophomoric humor, and lackluster snowboarding. There\\'s not even a sufficient display of feminine pulchritude to spark the prurient interest of socially inept, but red-blooded, males.<br /><br />Top Gun had spectacular flight sequences to goggle at. Days of Thunder had heart-pounding racing action. Even Point Break had skydiving scenes to its credit. Frostbite has none of these. It\\'s not worth your time, my time, Traci Lords\\' time, Carmen Nicole\\'s time, nor the time of anyone involved with this destruction of celluloid that would have been perfectly usable on something worthwhile had it not been wasted on this fodder for the recycling center.<br /><br />The world will be a better place when we forget that Frostbite ever existed.','I watched this movie about six years ago and I recently did so again. If I remember correctly I did not like it at all the first time and I appreciated it slightly more this second time.<br /><br />This movie is obviously on a big budget. The effects are mostly top notch (except for one or two \"impacts\") and the cast is impressive. However, there are some elements that destroy the overall impression of the show.<br /><br />Firstly, whoever decided that Peter Stormare should act as a crazy Russian astronaut should be fired. Being a Swede and a fan of Peter, I\\'m pretty sure he can play a Russian character well. But his performance in this case is plain stupid, both with respect the lines uttered and the acting. So... something must be wrong with the script. I\\'d like to see Peter as a professional Russian astronaut instead.<br /><br />Secondly, the action scenes that take place on the surface are so intense that it is nearly unbearable to watch. It is a total chaos that lasts over thirty minutes with too few moments to catch one\\'s breath. In addition to this, the events that unfold are simply not credible. I\\'d like to see a much more sensible and stripped down version of this part of the movie.<br /><br />Finally, the scenes that involve flying space shuttles are too action-biased. The shuttles are maneuvering like if they were a couple of MIGs, at zero safety distance, while bouncing off car-sized ice blocks like ping-pong balls. The director should watch Apollo 13 to learn the limitations of spacecraft like these.<br /><br />I like the music score because it is dramatic to a degree making it very touching. The overall performance of the actors is great. Apart from the things mentioned above the story is interesting and quite easy to follow.<br /><br />With some minor changes this would have been a 8/10 movie. I\\'m sorry it isn\\'t!',\"This was one of the worst movies that I have ever watched. The story was about a woman prisoner sent into space to try and save mankind but what it actually turned out to be was that the prisoner was actually put on board a space ship with a nymphomaniac lesbian commander. All the story was about was having sex over and over again. There was no need for all of this footage - only to create a soft porn film. Of course we had to see the heroin of the movie having sex for about 2 minutes. I don't know what all this had to do with the actual plot of the movie -except I assume to get men to watch it. I gave it 1 out of 10 only because there was no other rating lower. Don't waste your money or time- it has nothing to do with science fiction but rather a movie for young adolescent boys to watch to see t&a. The creature was shown only more than half way through the movie and looked like the alien in the movie with Signorney Weaver. Poor excuse for entertainment.\",'In this horrible attempt at a Blair Witch mockumentary, a bunch of people go to Africa to investigate a creature called the Half-Caste. It\\'s pretty obvious that there was no script to speak of, and that everything was improvised. That can work if you have good actors, which this film didn\\'t. <br /><br />This movie tries to gain points for originality by exploring a more obscure myth and an exotic culture. As a result, there are a lot of scenes out in the bush where characters do \"quirky African stuff\" like eating elephant dung. There is also some pretty good footage of lions eating (from a National Geographic perspective) but there\\'s not a single scare in the whole movie. <br /><br />If you\\'ve seen Cannibal Holocaust or the Blair Witch Project, this movie will hold no surprises for you, and you can probably watch better lion footage on the Discovery Channel.<br /><br />Definitely a Half- Aste effort. <br /><br />A note to the filmmakers: guys, do us all a favor and next time save the \"How I spent my African Vacation\" home movie for your family and close friends. Nobody else wants to see it.','The spoof genre, which has lacked creativity and humor for some time already, gets spat upon yet again by hacks with no talent. No point, no fun, no originality; just a few cheap bucks for the film makers. <br /><br />It takes more than just referencing some recent movies and giving characters double-meaning names to be satire; to make people laugh. Any clod can pick up a cam-corder, and have some bad-acting buddies in cheap costumes imitate somebody. Since the genre being targeted this time is inspirational sports movies, there are a few lame references thrown out to movies of that type: the jokes are so weak the characters actually have to emphasize the references in various ways, to get you to laugh hysterically. It doesn\\'t work.<br /><br />That\\'s not comedy. However, the same old worn out sophomoric \"jokes\" ripped off from a middle school washroom (done even more blandly than usual) are all here. If that\\'s not enough, there\\'s a running \"gag\" of a bus running somebody over. So funny, right? Also, one pathetically poor scene does more product placement than Michael Bay; again with the same unfunny results. A musical bit flops miserably. Pity Carl Weathers, once Apollo Creed in the Rocky series, now stuck with roles in swill like this.<br /><br />Lousy beyond words. Watching a snail run the marathon would be less tedious than watching this film is. Probably a lot funnier, too.','I was a hippie age 22 in 1965, have seen the play 5 times, have 2 versions of the music, and have read the script many times. Maybe taken as an separate thing, the movie is OK, but as an adoption of the play, it\\'s terrible.<br /><br />First the good. The songs are sung well, and the production values are pretty good. The homosexual implications in Black Boys, White Boys is cute. The Claude/Berger switch was interesting. Hair is a fluid production, and constant changes in it are inherent provided the basic spirit of it is retained.<br /><br />But the basic spirit was very much distorted. It seemed like all the producer wanted was to sing certain songs, and fit the story-line to them regardless of what that did to the original intent of the play.<br /><br />Claude, Sheila, and Hud were presented as a selfish brats who could care less about anyone outside their tribe. Claude destroyed Sheila\\'s parents party (it\\'s hard to believe that she smiled while her parents were being hurt), and repeatedly stole cars. Sheila stole the soldier\\'s clothes and car. Then she left him in the middle of the desert where he would certainly sunburn badly, probably be busted in rank, and could likely die on that lonely Nevada road. Good fun. And Hud found it fine to break his son\\'s heart while yelling at his ex. This is not what hippies were like, not what the play described, and is directly opposite to a love generation.<br /><br />I\\'ve never seen a hippie beg for money. The point was to be self-sufficient outside the capitalist system, not beg from it.<br /><br />After Berger is thrown in jail for ruining Sheila\\'s party and Claude offers to bail some out, Berger insists on being bailed instead, with no better plan for bailing the rest that hitting on Sheila\\'s parents, and then hitting on his own mommy.<br /><br />\"Be In\" has always been a very spiritual point, but here it is wasted on silly brides floating around. Even if this is part of his trip, it ruins a beautiful song. I know they\\'re contrasting \"Floating In Space\" with the Army. But again, it totally ruins a beautiful song.<br /><br />While Sheila and Claude are skinny dipping, Berger steals their clothes, laughing \"it was fun man\" even after he could see both were very annoyed. Then a little later, Berger does one thing that no hippie ever does. He hits Claude. Terrible.<br /><br />Then they have the perfect opportunity to sing \"Starshine\" at night in some beautiful SF spot with the stars twinkling down, maybe working into an inventive duet. Instead, the whole tribe sings it in the blazing sun speeding down the road in a convertible (stolen of course).<br /><br />I was vastly disappointed with the movie in 1979, and I like it even less now. I think it would have been possible to do a reasonably close adoption of the show, but this ain\\'t it.','Only a very small child could overlook the absurdities in this bomb; the first difficulty faced by the submarine \"Seaview\" is what appear to be chunks of--rock? falling down through the water and crashing into its hull. But it\\'s not rock, they\\'re under the North Pole--it is ICE! Everybody, except possibly hitherto mentioned small children (and even some of them) know that ICE FLOATS.<br /><br />Then, disaster strikes--that darn VAN ALLEN RADIATION BELT around the Earth catches fire! No one knows how this happened, we are told, which is understandable, because it is utterly impossible for radiation to \"catch fire\", and even if it could, there is NO AIR IN SPACE for it to burn.<br /><br />There is literally no good reason to overlook science concepts basic to 2nd grade school textbooks when making a film; however, Irwin Allen manages to do it again and again; perhaps we are meant to focus on the \"people\" instead, which is pretty easy, as they are CARDBOARD.<br /><br />The cast tries very hard not to look embarrassed in this ridiculous sub-kiddie romp, much like later episodes of his \"Lost in Space\" TV series, the concept of which was swiped outright from writer Ib Melchior and then rushed into production.<br /><br />The sub looks pretty good, though, which is why this one gets a \"2\".',\"What an awful movie. Full of cliches, perplexing scenes, very bad acting, and an atrotious script. It is hard to believe the same guys that wrote The People vs. Larry Flint and Man on the Moon wrote this garbage. Man, this makes my list of Top 10 Worst Movies of All-Time. Didn't this guy, this director, if you can call him that, realize that the first Problem Child was bad enough? Let alone make a sequel for it!!?? Amazing that piece of trash films like this can be shown to children let alone be released! 1 out of 10 *'s\",\"Naach would have won an Razzie for the Worst Film in 2004 (may be overall too) if it were global. When it comes acting badly (aka showing attitude/yawning/over (not) acting) Halle Berry is no match for Antra Malli. While the catwoman had storeline, supposedly hot actress in microscopic costume, and some action sequences, Naach had nothing at all.<br /><br />One of those movies which makes me wonder why IMDb does allow one to rate a movie as 0/10. Yet again, I think that movie does not even deserve a 0. It has to be something negative or minus infinity.<br /><br />OK what about the plot outline? It is a funda-giving, arrogant, full of attitude choreographer meet an useless, skill-less, loafer who aspires to be an actor tale. The story is so short that if just another sentence, IMDb might ban me for writing a spoiler. About the story-telling? Its like a bunch (sorry 2 people for the most part) of people moving in super slow motion. Don't try this movie if you have bought new DVD-player. You would end up believing that either DVD is in bad shape or DVD-player is struck. Not its fault at all.<br /><br />At the end of it all, you end up giving some credits to the director. At least he realized that both Antra Malli and Abhishek Bachan (at least at that time) can't speak dialogues convincingly, so there are not too many dialogues in this movie. So, you can at least sleep your way through the movie, with some annoying noises from those Antra-malli song sequences.<br /><br />Do watch this movie if you are new to Bollywood Cinema. Once you have tolerated this movie, you would be able to see any Bollywood movie and enjoy it.<br /><br />There can't be worse 3 hour torture than this!\"...]"
      ]
     },
     "execution_count": 61,
     "metadata": {},
     "output_type": "execute_result"
    }
   ],
   "source": [
    "txts = L(o.open().read() for o in files[:200])\n",
    "txts"
   ]
  },
  {
   "cell_type": "markdown",
   "metadata": {},
   "source": [
    "## Subword Tokenization"
   ]
  },
  {
   "cell_type": "code",
   "execution_count": 116,
   "metadata": {},
   "outputs": [],
   "source": [
    "def subword(sz):\n",
    "    sp = SubwordTokenizer(vocab_sz=sz)\n",
    "    sp.setup(txts)\n",
    "    return ' '.join(first(sp([txt]))[:])"
   ]
  },
  {
   "cell_type": "code",
   "execution_count": 16,
   "metadata": {},
   "outputs": [
    {
     "data": {
      "text/html": [
       "\n",
       "<style>\n",
       "    /* Turns off some styling */\n",
       "    progress {\n",
       "        /* gets rid of default border in Firefox and Opera. */\n",
       "        border: none;\n",
       "        /* Needs to be in here for Safari polyfill so background images work as expected. */\n",
       "        background-size: auto;\n",
       "    }\n",
       "    progress:not([value]), progress:not([value])::-webkit-progress-bar {\n",
       "        background: repeating-linear-gradient(45deg, #7e7e7e, #7e7e7e 10px, #5c5c5c 10px, #5c5c5c 20px);\n",
       "    }\n",
       "    .progress-bar-interrupted, .progress-bar-interrupted::-webkit-progress-bar {\n",
       "        background: #F44336;\n",
       "    }\n",
       "</style>\n"
      ],
      "text/plain": [
       "<IPython.core.display.HTML object>"
      ]
     },
     "metadata": {},
     "output_type": "display_data"
    },
    {
     "data": {
      "text/html": [],
      "text/plain": [
       "<IPython.core.display.HTML object>"
      ]
     },
     "metadata": {},
     "output_type": "display_data"
    },
    {
     "data": {
      "text/plain": [
       "\"▁It ' s ▁about ▁jea lousy , ▁it ' s ▁about ▁racism , ▁it ' s ▁about ▁ manipulati on , ▁but ▁the ▁under ly ing ▁message ▁is ▁love . ▁Ge off re y ▁S ax ▁tri ed ▁to ▁pull\""
      ]
     },
     "execution_count": 16,
     "metadata": {},
     "output_type": "execute_result"
    }
   ],
   "source": [
    "subword(10000)"
   ]
  },
  {
   "cell_type": "code",
   "execution_count": 117,
   "metadata": {},
   "outputs": [
    {
     "data": {
      "text/html": [
       "\n",
       "<style>\n",
       "    /* Turns off some styling */\n",
       "    progress {\n",
       "        /* gets rid of default border in Firefox and Opera. */\n",
       "        border: none;\n",
       "        /* Needs to be in here for Safari polyfill so background images work as expected. */\n",
       "        background-size: auto;\n",
       "    }\n",
       "    progress:not([value]), progress:not([value])::-webkit-progress-bar {\n",
       "        background: repeating-linear-gradient(45deg, #7e7e7e, #7e7e7e 10px, #5c5c5c 10px, #5c5c5c 20px);\n",
       "    }\n",
       "    .progress-bar-interrupted, .progress-bar-interrupted::-webkit-progress-bar {\n",
       "        background: #F44336;\n",
       "    }\n",
       "</style>\n"
      ],
      "text/plain": [
       "<IPython.core.display.HTML object>"
      ]
     },
     "metadata": {},
     "output_type": "display_data"
    },
    {
     "data": {
      "text/html": [],
      "text/plain": [
       "<IPython.core.display.HTML object>"
      ]
     },
     "metadata": {},
     "output_type": "display_data"
    },
    {
     "data": {
      "text/plain": [
       "'▁It \\' s ▁about ▁ j e al ous y , ▁it \\' s ▁about ▁ra c is m , ▁it \\' s ▁about ▁man i p ul ation , ▁but ▁the ▁under ly ing ▁mess age ▁is ▁love . ▁G e off re y ▁S a x ▁tri ed ▁to ▁p u ll ▁off ▁S h ake s p ear e \\' s ▁Othello , ▁by ▁ br ing ing ▁it ▁to ▁modern ▁day ▁con t e x t . ▁How ever , ▁the ▁actors ▁were ▁not ▁con v in c ing ▁enough ▁to ▁p u ll ▁this ▁off . ▁There ▁were ▁ex t ra ▁bo d ies ▁to ▁help ▁put ▁everything ▁in ▁to ▁p ers p ective , ▁how ever , ▁John ▁Othello , ▁play ed ▁by ▁E a m on n ▁W al k er , ▁over ▁re act ed ▁a ▁lot ▁in ▁this ▁film , ▁c a us ing ▁for ▁the ▁down ▁fall ▁of ▁K e e le y ▁H a w es , ▁De s s ie ▁B ra b ant , ▁eventually ▁end ing ▁in ▁De s s ie \\' s ▁de a th . ▁ < br ▁/> < br ▁/> B en ▁Ja g o , ▁play ed ▁by ▁Christ op h er ▁E c c le st on , ▁was ▁seen ▁as ▁the ▁main ▁character ▁in ▁the ▁film . ▁He ▁did n \\' t ▁give ▁enough ▁ e v id en ce ▁for ▁De s s ie ▁to ▁be ▁ch e ating ▁on ▁Othello , ▁with ▁M ich a el ▁C as s , ▁play ed ▁by ▁R ich ard ▁C o y le . ▁Instead ▁he ▁just ▁play ed ▁a ▁friend ▁to ▁all ▁and ▁ga ve ▁one ▁reason ▁as ▁to ▁why ▁she ▁\" w as \" ▁ch e ating . ▁In ▁the ▁play , ▁it ▁to ok ▁a ▁lot ▁more ▁con v in c ing ▁fro m ▁I ago ▁to ▁make ▁Othello ▁even ▁ s us p e c t ▁anything . ▁Thi s ▁ch an ge ▁made ▁the ▁movie ▁more ▁about ▁ra ge ▁for ▁the ▁wrong ▁reason s , ▁than ▁what ▁the ▁book ▁was ▁base d ▁off ▁of . ▁How ever , ▁the ▁movie ▁did ▁have ▁a ▁f ew ▁good ▁point s . ▁It ▁turn ed ▁the ▁ ar m y ▁scenes ▁in to ▁more ▁a ▁ra c ist ▁group ▁to ward ▁b la ck s , ▁where ▁Othello ▁is ▁the ▁main ▁ch ie f ▁of ▁the ▁poli ce ▁ s qu ad . ▁The s e ▁scenes ▁are ▁made ▁believable ▁by ▁the ▁ra g ing ▁cr ow d s , ▁and ▁b ur n ing ▁f ir es . ▁You ▁are ▁ able ▁to ▁ s ense ▁the ▁amount ▁of ▁ra c is m ▁in ▁the ▁movie , ▁more ▁so ▁than ▁you ▁can ▁in ▁the ▁book . ▁Thi s ▁book ▁play s ▁up ▁the ▁modern ▁day ▁scenes ▁by ▁mak ing ▁it ▁much ▁easi er ▁to ▁understand , ▁than ▁the ▁S h ake s p ear ian ▁time s ▁it ▁was ▁written ▁in . ▁In ▁the ▁play ▁I ago ▁( J ago ) ▁get s ▁to r t ur ed ▁at ▁the ▁end , ▁but ▁in ▁the ▁film ▁he ▁get s ▁his ▁ s at is f act ion , ▁and ▁get s ▁Othello \\' s ▁ po s it ion . ▁He ▁n ever ▁get s ▁what ▁he ▁deserve s ▁and ▁is ▁n ever ▁caught ▁for ▁tell ing ▁the ▁li e ▁to ▁Othello ▁unti l ▁it ▁is ▁too ▁late . ▁I ▁saw ▁this ▁as ▁a ▁down f all ▁in ▁the ▁movie , ▁because ▁I ▁feel ▁that ▁the ▁villain ▁is ▁gra n t ed ▁his ▁tr e as ure ▁of ▁the ▁pro m o t ion ▁out ▁of ▁ ly ing , ▁and ▁in ▁the ▁book , ▁he ▁is ▁f ound ▁out ▁by ▁R o d ri g o . ▁O v er all , ▁the ▁movie ▁could ▁have ▁done ▁a ▁better ▁job ▁base d ▁on ▁the ▁play ▁than ▁what ▁it ▁did . ▁I ▁feel ▁that ▁the ▁director ▁of ▁the ▁movie ▁left ▁out ▁some ▁of ▁the ▁most ▁important ▁part s ▁of ▁the ▁play ▁that ▁were ▁mention ed ▁or ▁there ▁to ▁make ▁the ▁play ▁f l ow , ▁or ▁make ▁it ▁more ▁of ▁a ▁tr age d y . ▁I ▁would ▁say ▁that ▁you ▁should ▁read ▁the ▁book ▁first , ▁in ▁or d er ▁to ▁understand ▁all ▁of ▁the ▁even t s ▁that ▁happen ed ▁in ▁the ▁movie , ▁other w ise ▁you ▁may ▁find ▁yourself ▁ lo st , ▁and ▁con f us ed .'"
      ]
     },
     "execution_count": 117,
     "metadata": {},
     "output_type": "execute_result"
    }
   ],
   "source": [
    "subword(1000)"
   ]
  },
  {
   "cell_type": "markdown",
   "metadata": {},
   "source": [
    "## Numericalization"
   ]
  },
  {
   "cell_type": "code",
   "execution_count": 17,
   "metadata": {},
   "outputs": [
    {
     "name": "stderr",
     "output_type": "stream",
     "text": [
      "/home/chris/University/GNN/project/transformer_env/lib/python3.9/site-packages/torch/cuda/__init__.py:628: UserWarning: Can't initialize NVML\n",
      "  warnings.warn(\"Can't initialize NVML\")\n"
     ]
    }
   ],
   "source": [
    "spacy = WordTokenizer()\n",
    "tkn = Tokenizer(spacy)"
   ]
  },
  {
   "cell_type": "code",
   "execution_count": 36,
   "metadata": {},
   "outputs": [
    {
     "data": {
      "text/plain": [
       "(#530) ['xxbos','xxmaj','it',\"'s\",'about','jealousy',',','it',\"'s\",'about'...]"
      ]
     },
     "execution_count": 36,
     "metadata": {},
     "output_type": "execute_result"
    }
   ],
   "source": [
    "toks200 = txts[:200].map(tkn)\n",
    "toks200[0]"
   ]
  },
  {
   "cell_type": "code",
   "execution_count": 23,
   "metadata": {},
   "outputs": [
    {
     "data": {
      "text/plain": [
       "\"(#1920) ['xxunk','xxpad','xxbos','xxeos','xxfld','xxrep','xxwrep','xxup','xxmaj','the','.',',','and','a','to','of','is','i','it','in'...]\""
      ]
     },
     "execution_count": 23,
     "metadata": {},
     "output_type": "execute_result"
    }
   ],
   "source": [
    "num = Numericalize()\n",
    "num.setup(toks200)\n",
    "coll_repr(num.vocab,20)"
   ]
  },
  {
   "cell_type": "code",
   "execution_count": 25,
   "metadata": {},
   "outputs": [],
   "source": [
    "toks = tkn(txt)"
   ]
  },
  {
   "cell_type": "code",
   "execution_count": 26,
   "metadata": {},
   "outputs": [
    {
     "data": {
      "text/plain": [
       "TensorText([   2,    8,   18,   25,   66,    0,   11,   18,   25,   66, 1416,\n",
       "              11,   18,   25,   66,    0,   11,   31,    9,    0])"
      ]
     },
     "execution_count": 26,
     "metadata": {},
     "output_type": "execute_result"
    }
   ],
   "source": [
    "nums = num(toks)[:20]\n",
    "nums"
   ]
  },
  {
   "cell_type": "code",
   "execution_count": 29,
   "metadata": {},
   "outputs": [
    {
     "data": {
      "text/plain": [
       "\"xxbos xxmaj it 's about xxunk , it 's about racism , it 's about xxunk , but the xxunk\""
      ]
     },
     "execution_count": 29,
     "metadata": {},
     "output_type": "execute_result"
    }
   ],
   "source": [
    "' '.join(num.vocab[o] for o in nums)"
   ]
  },
  {
   "cell_type": "code",
   "execution_count": 33,
   "metadata": {},
   "outputs": [
    {
     "data": {
      "text/plain": [
       "(#20) ['xxbos','xxmaj','it',\"'s\",'about','jealousy',',','it',\"'s\",'about'...]"
      ]
     },
     "execution_count": 33,
     "metadata": {},
     "output_type": "execute_result"
    }
   ],
   "source": [
    "toks[:20]"
   ]
  },
  {
   "cell_type": "markdown",
   "metadata": {},
   "source": [
    "## Batches"
   ]
  },
  {
   "cell_type": "code",
   "execution_count": 35,
   "metadata": {},
   "outputs": [
    {
     "data": {
      "text/plain": [
       "(torch.Size([64, 72]), torch.Size([64, 72]))"
      ]
     },
     "execution_count": 35,
     "metadata": {},
     "output_type": "execute_result"
    }
   ],
   "source": [
    "nums200 = toks200.map(num)\n",
    "\n",
    "dl = LMDataLoader(nums200)\n",
    "\n",
    "x,y = first(dl)\n",
    "x.shape, y.shape"
   ]
  },
  {
   "cell_type": "code",
   "execution_count": 40,
   "metadata": {},
   "outputs": [
    {
     "data": {
      "text/plain": [
       "\"xxbos xxmaj it 's about xxunk , it 's about racism , it 's about xxunk , but the xxunk\""
      ]
     },
     "execution_count": 40,
     "metadata": {},
     "output_type": "execute_result"
    }
   ],
   "source": [
    "' '.join(num.vocab[o] for o in x[0][:20])"
   ]
  },
  {
   "cell_type": "code",
   "execution_count": 41,
   "metadata": {},
   "outputs": [
    {
     "data": {
      "text/plain": [
       "\"xxmaj it 's about xxunk , it 's about racism , it 's about xxunk , but the xxunk message\""
      ]
     },
     "execution_count": 41,
     "metadata": {},
     "output_type": "execute_result"
    }
   ],
   "source": [
    "' '.join(num.vocab[o] for o in y[0][:20])"
   ]
  },
  {
   "cell_type": "markdown",
   "metadata": {},
   "source": [
    "## FastAI Transforms"
   ]
  },
  {
   "cell_type": "code",
   "execution_count": 43,
   "metadata": {},
   "outputs": [],
   "source": [
    "files = get_text_files(path, folders = ['train','test'])\n",
    "txts = L(o.open().read() for o in files[:2000])"
   ]
  },
  {
   "cell_type": "code",
   "execution_count": 44,
   "metadata": {},
   "outputs": [
    {
     "data": {
      "text/plain": [
       "(#530) ['xxbos','xxmaj','it',\"'s\",'about','jealousy',',','it',\"'s\",'about'...]"
      ]
     },
     "execution_count": 44,
     "metadata": {},
     "output_type": "execute_result"
    }
   ],
   "source": [
    "tok = Tokenizer.from_folder(path)\n",
    "tok.setup(txts)\n",
    "toks = txts.map(tok)\n",
    "toks[0]"
   ]
  },
  {
   "cell_type": "code",
   "execution_count": 45,
   "metadata": {},
   "outputs": [
    {
     "data": {
      "text/plain": [
       "TensorText([   2,    8,   18,   23,   62, 6709,   11,   18,   23,   62])"
      ]
     },
     "execution_count": 45,
     "metadata": {},
     "output_type": "execute_result"
    }
   ],
   "source": [
    "num = Numericalize()\n",
    "num.setup(toks)\n",
    "nums = toks.map(num)\n",
    "nums[0][:10]"
   ]
  },
  {
   "cell_type": "code",
   "execution_count": 46,
   "metadata": {},
   "outputs": [
    {
     "data": {
      "text/plain": [
       "(#10) ['xxbos','xxmaj','it',\"'s\",'about','jealousy',',','it',\"'s\",'about']"
      ]
     },
     "execution_count": 46,
     "metadata": {},
     "output_type": "execute_result"
    }
   ],
   "source": [
    "nums_dec = num.decode(nums[0][:10])\n",
    "nums_dec"
   ]
  },
  {
   "cell_type": "code",
   "execution_count": 47,
   "metadata": {},
   "outputs": [
    {
     "data": {
      "text/plain": [
       "\"xxbos xxmaj it 's about jealousy , it 's about\""
      ]
     },
     "execution_count": 47,
     "metadata": {},
     "output_type": "execute_result"
    }
   ],
   "source": [
    "tok.decode(nums_dec)"
   ]
  },
  {
   "cell_type": "code",
   "execution_count": 48,
   "metadata": {},
   "outputs": [
    {
     "data": {
      "text/plain": [
       "((#530) ['xxbos','xxmaj','it',\"'s\",'about','jealousy',',','it',\"'s\",'about'...],\n",
       " (#2) ['xxbos','t'])"
      ]
     },
     "execution_count": 48,
     "metadata": {},
     "output_type": "execute_result"
    }
   ],
   "source": [
    "tok((txts[0], txt[1]))"
   ]
  },
  {
   "cell_type": "code",
   "execution_count": 50,
   "metadata": {},
   "outputs": [
    {
     "data": {
      "text/plain": [
       "(3, 2.0)"
      ]
     },
     "execution_count": 50,
     "metadata": {},
     "output_type": "execute_result"
    }
   ],
   "source": [
    "def f(x:int): return x+1\n",
    "tfm = Transform(f)\n",
    "tfm(2),tfm(2.0)"
   ]
  },
  {
   "cell_type": "code",
   "execution_count": 51,
   "metadata": {},
   "outputs": [
    {
     "data": {
      "text/plain": [
       "(3, 2.0)"
      ]
     },
     "execution_count": 51,
     "metadata": {},
     "output_type": "execute_result"
    }
   ],
   "source": [
    "@Transform\n",
    "def f(x:int): return x+1\n",
    "f(2),f(2.0)"
   ]
  },
  {
   "cell_type": "code",
   "execution_count": 55,
   "metadata": {},
   "outputs": [],
   "source": [
    "class NormalizeMean(Transform):\n",
    "    def setups(self, items): self.mean = sum(items)/len(items)\n",
    "    def encodes(self, x): return x-self.mean\n",
    "    def decodes(self, x): return x+self.mean"
   ]
  },
  {
   "cell_type": "code",
   "execution_count": 57,
   "metadata": {},
   "outputs": [
    {
     "data": {
      "text/plain": [
       "(3.0, -1.0, 2.0)"
      ]
     },
     "execution_count": 57,
     "metadata": {},
     "output_type": "execute_result"
    }
   ],
   "source": [
    "tfm = NormalizeMean()\n",
    "tfm.setup([1,2,3,4,5])\n",
    "start = 2\n",
    "y = tfm(start)\n",
    "z = tfm.decode(y)\n",
    "tfm.mean,y,z"
   ]
  },
  {
   "cell_type": "code",
   "execution_count": 60,
   "metadata": {},
   "outputs": [
    {
     "name": "stdout",
     "output_type": "stream",
     "text": [
      "Transform(self, enc=None, dec=None, split_idx=None, order=None)\n",
      "Delegates (`__call__`,`decode`,`setup`) to (<code>encodes</code>,<code>decodes</code>,<code>setups</code>) if `split_idx` matches\n",
      "\n",
      "To get a prettier result with hyperlinks to source code and documentation, install nbdev: pip install nbdev\n"
     ]
    }
   ],
   "source": [
    "doc(Transform)"
   ]
  },
  {
   "cell_type": "code",
   "execution_count": 63,
   "metadata": {},
   "outputs": [
    {
     "data": {
      "text/plain": [
       "TensorText([   2,    8,   18,   23,   62, 6709,   11,   18,   23,   62, 4564,\n",
       "              11,   18,   23,   62, 7975,   11,   31,    9, 5107])"
      ]
     },
     "execution_count": 63,
     "metadata": {},
     "output_type": "execute_result"
    }
   ],
   "source": [
    "tfms = Pipeline([tok, num])\n",
    "t = tfms(txts[0])\n",
    "t[:20]"
   ]
  },
  {
   "cell_type": "code",
   "execution_count": 64,
   "metadata": {},
   "outputs": [
    {
     "data": {
      "text/plain": [
       "\"xxbos xxmaj it 's about jealousy , it 's about racism , it 's about manipulation , but the underlyin\""
      ]
     },
     "execution_count": 64,
     "metadata": {},
     "output_type": "execute_result"
    }
   ],
   "source": [
    "tfms.decode(t)[:100]"
   ]
  },
  {
   "cell_type": "code",
   "execution_count": 65,
   "metadata": {},
   "outputs": [],
   "source": [
    "tls = TfmdLists(files, [Tokenizer.from_folder(path), Numericalize])"
   ]
  },
  {
   "cell_type": "code",
   "execution_count": 66,
   "metadata": {},
   "outputs": [
    {
     "data": {
      "text/plain": [
       "TensorText([   2,    8,   17,   23,   60, 5851,   11,   17,   23,   60, 3192,\n",
       "              11,   17,   23,   60, 7436,   11,   31,    9, 4473])"
      ]
     },
     "execution_count": 66,
     "metadata": {},
     "output_type": "execute_result"
    }
   ],
   "source": [
    "t = tls[0]\n",
    "t[:20]"
   ]
  },
  {
   "cell_type": "code",
   "execution_count": 68,
   "metadata": {},
   "outputs": [
    {
     "data": {
      "text/plain": [
       "\"xxbos xxmaj it 's about jealousy , it 's about racism , it 's about manipulation , but the underlyin\""
      ]
     },
     "execution_count": 68,
     "metadata": {},
     "output_type": "execute_result"
    }
   ],
   "source": [
    "tls.decode(t)[:100]"
   ]
  },
  {
   "cell_type": "code",
   "execution_count": 69,
   "metadata": {},
   "outputs": [
    {
     "name": "stdout",
     "output_type": "stream",
     "text": [
      "xxbos xxmaj it 's about jealousy , it 's about racism , it 's about manipulation , but the underlying message is love . xxmaj geoffrey xxmaj sax tried to pull off xxmaj shakespeare 's xxmaj othello , by bringing it to modern day context . xxmaj however , the actors were not convincing enough to pull this off . xxmaj there were extra bodies to help put everything in to perspective , however , xxmaj john xxmaj othello , played by xxmaj eamonn xxmaj walker , over reacted a lot in this film , causing for the down fall of xxmaj keeley xxmaj hawes , xxmaj xxunk xxmaj xxunk , eventually ending in xxmaj xxunk 's death . \n",
      "\n",
      " xxmaj ben xxmaj jago , played by xxmaj christopher xxmaj eccleston , was seen as the main character in the film . xxmaj he did n't give enough evidence for xxmaj xxunk to be cheating on xxmaj othello , with xxmaj michael xxmaj cass , played by xxmaj richard xxmaj coyle . xxmaj instead he just played a friend to all and gave one reason as to why she \" was \" cheating . xxmaj in the play , it took a lot more convincing from xxmaj iago to make xxmaj othello even suspect anything . xxmaj this change made the movie more about rage for the wrong reasons , than what the book was based off of . xxmaj however , the movie did have a few good points . xxmaj it turned the army scenes into more a racist group toward blacks , where xxmaj othello is the main chief of the police squad . xxmaj these scenes are made believable by the raging crowds , and burning fires . xxmaj you are able to sense the amount of racism in the movie , more so than you can in the book . xxmaj this book plays up the modern day scenes by making it much easier to understand , than the xxmaj shakespearian times it was written in . xxmaj in the play xxmaj iago ( jago ) gets tortured at the end , but in the film he gets his satisfaction , and gets xxmaj othello 's position . xxmaj he never gets what he deserves and is never caught for telling the lie to xxmaj othello until it is too late . i saw this as a downfall in the movie , because i feel that the villain is granted his treasure of the promotion out of lying , and in the book , he is found out by xxmaj rodrigo . xxmaj overall , the movie could have done a better job based on the play than what it did . i feel that the director of the movie left out some of the most important parts of the play that were mentioned or there to make the play flow , or make it more of a tragedy . i would say that you should read the book first , in order to understand all of the events that happened in the movie , otherwise you may find yourself lost , and confused .\n"
     ]
    }
   ],
   "source": [
    "tls.show(t)"
   ]
  },
  {
   "cell_type": "code",
   "execution_count": 70,
   "metadata": {},
   "outputs": [],
   "source": [
    "cut = int(len(files)*0.8)\n",
    "splits = [list(range(cut)), list(range(cut,len(files)))]\n",
    "tls = TfmdLists(files, [Tokenizer.from_folder(path), Numericalize], splits=splits)"
   ]
  },
  {
   "cell_type": "code",
   "execution_count": 71,
   "metadata": {},
   "outputs": [
    {
     "data": {
      "text/plain": [
       "TensorText([  2,   8,  65,  80,  19, 722,  21,   9, 917, 807,  42,  36, 493,\n",
       "            326,  10,   8,  20,  16,  13, 103])"
      ]
     },
     "execution_count": 71,
     "metadata": {},
     "output_type": "execute_result"
    }
   ],
   "source": [
    "tls.valid[0][:20]"
   ]
  },
  {
   "cell_type": "code",
   "execution_count": 104,
   "metadata": {},
   "outputs": [],
   "source": [
    "tfms = [[Tokenizer.from_folder(path), Numericalize]]\n",
    "files = get_text_files(path, folders = ['train', 'test'])\n",
    "splits = GrandparentSplitter(valid_name='test')(files)\n",
    "dsets = Datasets(files, tfms, splits=splits)\n",
    "dls = dsets.dataloaders(dl_type=LMDataLoader, before_batch=pad_input)"
   ]
  },
  {
   "cell_type": "code",
   "execution_count": 105,
   "metadata": {},
   "outputs": [
    {
     "data": {
      "text/html": [
       "<table border=\"1\" class=\"dataframe\">\n",
       "  <thead>\n",
       "    <tr style=\"text-align: right;\">\n",
       "      <th></th>\n",
       "      <th>text</th>\n",
       "      <th>text_</th>\n",
       "    </tr>\n",
       "  </thead>\n",
       "  <tbody>\n",
       "    <tr>\n",
       "      <th>0</th>\n",
       "      <td>xxbos xxmaj from the q &amp; a before and after , this is what i could gather : xxmaj some xxmaj irish guy wants to make a movie . xxmaj nothing in particular , just any movie . xxmaj so , one night at a party , he hears some ex - roadie tell him a classic bit of rock n ' roll lore ; the one about how xxmaj gram xxmaj</td>\n",
       "      <td>xxmaj from the q &amp; a before and after , this is what i could gather : xxmaj some xxmaj irish guy wants to make a movie . xxmaj nothing in particular , just any movie . xxmaj so , one night at a party , he hears some ex - roadie tell him a classic bit of rock n ' roll lore ; the one about how xxmaj gram xxmaj parsons</td>\n",
       "    </tr>\n",
       "    <tr>\n",
       "      <th>1</th>\n",
       "      <td>style . xxmaj but this movie , however , was probably the worst movie i have seen in 2008 . i can honestly believe that this movie is unknown , and i think it should stay like this , for movies like these are making the thriller genre a joke . \\n\\n i advise anyone that is a fan of thriller movies , or even simply movies to stay far away from</td>\n",
       "      <td>. xxmaj but this movie , however , was probably the worst movie i have seen in 2008 . i can honestly believe that this movie is unknown , and i think it should stay like this , for movies like these are making the thriller genre a joke . \\n\\n i advise anyone that is a fan of thriller movies , or even simply movies to stay far away from this</td>\n",
       "    </tr>\n",
       "  </tbody>\n",
       "</table>"
      ],
      "text/plain": [
       "<IPython.core.display.HTML object>"
      ]
     },
     "metadata": {},
     "output_type": "display_data"
    }
   ],
   "source": [
    "dls.show_batch(max_n=2)"
   ]
  },
  {
   "cell_type": "code",
   "execution_count": 111,
   "metadata": {},
   "outputs": [
    {
     "data": {
      "text/plain": [
       "'xxbos xxmaj gives my have mouth him acts whore this as is . xxmaj i is and though of t'"
      ]
     },
     "execution_count": 111,
     "metadata": {},
     "output_type": "execute_result"
    }
   ],
   "source": [
    "# Get a batch of data from the DataLoaders\n",
    "x, y = dls.one_batch()\n",
    "\n",
    "' '.join(num.vocab[o] for o in x[0][:20])\n"
   ]
  },
  {
   "cell_type": "code",
   "execution_count": 4,
   "metadata": {},
   "outputs": [
    {
     "data": {
      "text/plain": [
       "(#20000) ['I´ve seen the original Candyman once and it was quite an effective horror movie that seems to be regarded as a modern horror classic. I have not seen the first sequel and I have no intention whatsoever to even think about renting it. Maybe they´ll show it on TV and I can catch it if I don´t have anything better to do.<br /><br />Candyman 3... The third part in a horror series can´t be that good (the only exception being Scream 3), it just can´t. To be honest, the only reason why I bothered to watch this movie was that I was sure they would show the leading lady naked at some point. At least in teen horror flicks you get to see naked ladies. Well, we do get some breasts, but they don´t belong to the main lady. I kept waiting and waiting till the very end and what did I get? NOTHING! Instead of some skin the people who most likely accidentally ended up seeing the movie got a stupid brainless movie with mediocre-at-best performances and hilarious one-liners. If it´s blood that you want then check this one because there´ll be lots of it.<br /><br />I´m sure everyone who was involved in this production is proud of this piece of crap. It must look so good on one´s résumé. How come people accept roles in movies like this? Why???? Why do people write garbage like this???? I wish I knew...',\"Hammer took a different direction with this piece of Gothic cinema and broke some rules. Vampires walking about in daylight? For all its good points the biggest let down is the lack of references to the original Sheridan Le Fanu on which this supposed to be based. Hammer took a different direction with this piece of Gothic cinema and broke some rules. Vampires walking about in daylight? For all its good points the biggest let down is the lack of references to the original Sheridan Le Fanu on which this supposed to be based. Its predecessor 'Vampire Lovers' contained more references but I was hoping for a full and proper transcription of the book into celluloid. Tudor Gates appears undecided which direction to take the script. Yutte Stensgaard was cast at the time as she was famous on UK TV as Bob Monkhouse's co star in a game show. There she was required to look pretty and not say much as she showed objects to the audience. Think of the 'The Price is Right' hostesses. She went on to make a couple of film s which were more credible dramas. I first knew of her via a short story on the web which had a couple of photos attached to it. You can see why everyone thinks she gorgeous. A painting that was around at the same time was by the story's writer: an actor called Stephen Armourae who has reappeared in connection with ESP research and I know he's done more of other horror actresses including one about Barbara Stelle called 'Catherine' and another AJF. There was a rumour about an interview between him and Yutte if anyone knows more? I like this Hammer film as there is something quirky about it. Raven trying to be Lee. The change of casting to Ralph Bates is refreshing and more convincing. I can't see Cushing playing that lusting role. Bates is more suited. Also the eroticism could have been more, I agree with Armourae's review on this point; he has been trying to get film made loosely based on these Hammer themes but with greater erotic content whilst remaining tasteful. Watch this film as for all its flaws its still classic of its time.\",'When I first heard the idea behind this \"urban operetta\" or whatever it\\'s supposed to be, I accepted it. I figured R. Kelly was going to try to basically create a sort of R&B \"Tommy\". But no such luck. Instead, we get a production so ridiculous it would have Ed Wood rolling on the floor laughing.<br /><br />The beat never changes, and it\\'s a pretty lousy beat to start with. It\\'s full of awful forced rhymes that make you long for the Seussian. The story begins coherently, but falls into complete nonsense before then end. Laughably bad, but then again, it does make you laugh.<br /><br />The only thing redeeming about this steaming pile is to use it as a drinking game. Every time someone pulls out a gun...','I watched this show hoping that it would be fun, edgy, and smart. If you consider poor acting, shrillness, and a \"been there, done that\" feel any of those things. Well, good for you! I have seen better chemistry and friendship is a Vagisil commerical. Brooke looks like she wants uncomfortable with everyone but the cat. Kim looks like she trying to go her best Cynthia Nixon impression and is failing miserable. Lindsay Price seems like she screaming, \" Why couldn\\'t I be on Cashmere Mafia?\" The worst part is the humor! There is none! If I wanted to see a bunch of hags complain about there existence, I would turn on Lifetime. This show is so melodramatic! The viewers aren\\'t stupid, we understand it\\'s not easy to have it all. But, do you have to be so upset all the time. I would love to see these harpies have to work in a field picking berries for three dollars an hour. Then they would have something to cry about! Save yourself the time. Either rent some Sex and the City or watch Cashmere Mafia!','I think I have to stop watching English movies. Apart from the James Bond-movies and a small number of comedies, they are usually pure crap. This movie is definitely one of those. The first ten minutes starts out OK, and the movie has potential at this time. Sadly, it doesn\\'t continue in this style at all. The story is about two swindlers who tries to earn a lot of money by tricking people in different ways. None of the ways they do this are funny at all. It\\'s supposed to be a comedy, but personally I didn\\'t laugh one single time during the movie. In addition, the story really sucks, especially because they threw a bit of romance on top of it. Alos, the ending is very bad, and it was just what I had expected because movies like this leave you with no surprises. If you want to see a movie about swindlers, watch \"Dirty Rotten Scoundrels\" instead.','I\\'ve seen corny and cutesy movies before, but I usually have no problem avoiding them. This only caught my eye because I recognized the Sprouse boys and I saw it had Tom Arnald in it and thought it would be funny. After watching it I wished I never picked it up. It was more stupid that \"The Stupids\" I usually enjoy Arnold\\'s comedy, but he was hardly funny and barely in the movie. If I had just wanted to see a sports movie just for the kids I would have rented The Sandlot. Now that\\'s a quality movie. James Earl Jones(a great actor) is in that movie, but it holds itself up as a great movie regardless. Anybody who heard Jones was in the film and then went to see it was most likely not bored and wondering where he was until the ending. Arnold disappeared soon after \"Just For Kicks\" begins and only turns up again in the last scene. Some Tom Arnold, Cute little kids, very, very attractive ladies. this movie gets a 2 for being stupid, but clean. If it was stupid and dirty I wouldn\\'t even give it that',\"Wow, I am out of sync on this German film. While the overall score is very respectable and the reviews are mostly glowing, I didn't like the film at all. Now I've seen about a dozen Fassbinder films and I often have really enjoyed them, but watching this one was a chore.<br /><br />First, the film's style seems less innovative or interesting than just dull and, dare I say it, cheap. The black & white film looked more like a way to save money than anything else and the film played like a long series of vignettes all strung together with awkward dissolves. This made it all seem very episodic--like the audience is getting snippets instead of seeing a story.<br /><br />Second, the story wasn't particularly interesting. The film played like a Bergman film WITHOUT the complexities. And, sadly, the film was slow and the characters uninvolving.<br /><br />Overall, I found watching this film a chore. There are many wonderful German films out there, but I assume the average person would also find this film dry and unapproachable, as you need a lot of patience to stick with this film.\",'When I saw the film with my lover he said, \"Who knew he could preach!\" when Duval performed his final sermon. It is an awe-inspiring performance. <br /><br />I am a pastor\\'s kid and my father was good, Duval shows greatness. <br /><br />In the film Duval\\'s character is deeply flawed but also deeply faithful. <br /><br />What makes this film great is a clear view of evil to redemption to punishment to resolution. <br /><br />In 97 there were only two truly moral flms. Very different films. Boogie Nights for family values and loyalty, and The Apostle about redemption. <br /><br />What and incredible year with two profound films in the same year.',\"The gore in this film was good. Thats about all the good I can say about this film. I see others saying the acting was good when I read other reviews on this film and I only have to say one thing about that.. What are you people taking? This was the worst acting I have ever seen and I have seen some really bad acting, and the story??? ooh very bad. There where to many hole in the script writing. And everybody is raving about a surprise ending. um mm people......Most film today are going into that direction of weird twisty endings. It's being overdone. All's I have to say about this film that 13 seconds is 13 seconds to long to watch it.\",\"Rework a Dashiell Hammett short story for the screen, get Samuel L. Jackson to play Bogart and Milla Jojovich to play Bacall, and you've got one heck of an entertaining little movie. I seriously liked all the performances, but I was especially taken by Milla Jojovich. You know she's bad but she's also irresistible. She pulls that off, too, and not many actresses could. They don't make many movies like this anymore and that's a shame. Delightful!\"...]"
      ]
     },
     "execution_count": 4,
     "metadata": {},
     "output_type": "execute_result"
    }
   ],
   "source": [
    "files = get_text_files(path, folders = ['train', 'test', 'unsup'])\n",
    "txts = L(o.open().read() for o in files[:20000])\n",
    "txts"
   ]
  },
  {
   "cell_type": "code",
   "execution_count": 5,
   "metadata": {},
   "outputs": [],
   "source": [
    "tok = Tokenizer.from_folder(path)\n",
    "tok.setup(txts)\n",
    "toks = txts.map(tok)\n",
    "\n",
    "num = Numericalize()\n",
    "num.setup(toks)\n",
    "nums = toks.map(num)"
   ]
  },
  {
   "cell_type": "code",
   "execution_count": 237,
   "metadata": {},
   "outputs": [
    {
     "data": {
      "text/plain": [
       "1000"
      ]
     },
     "execution_count": 237,
     "metadata": {},
     "output_type": "execute_result"
    }
   ],
   "source": [
    "len(nums)"
   ]
  },
  {
   "cell_type": "code",
   "execution_count": 6,
   "metadata": {},
   "outputs": [],
   "source": [
    "tfms = [[tok, num]]\n",
    "files = get_text_files(path, folders = ['train', 'test'])[:20000]\n",
    "cut = int(len(files)*0.8)\n",
    "splits = [list(range(cut)), list(range(cut,len(files)))]\n",
    "#splits = GrandparentSplitter(valid_name='test')(files)\n",
    "dsets = Datasets(files, tfms, splits=splits)\n",
    "dls = dsets.dataloaders(dl_type=LMDataLoader)"
   ]
  },
  {
   "cell_type": "code",
   "execution_count": 184,
   "metadata": {},
   "outputs": [
    {
     "data": {
      "text/html": [
       "<hr/>\n",
       "<h3>DataLoaders</h3>\n",
       "<blockquote><pre><code>DataLoaders(*loaders, path:str|Path='.', device=None)</code></pre></blockquote><p>Basic wrapper around several `DataLoader`s.</p>\n",
       "<p><a href=\"https://docs.fast.ai/data.core.html#dataloaders\" target=\"_blank\" rel=\"noreferrer noopener\">Show in docs</a></p>"
      ],
      "text/plain": [
       "<IPython.core.display.HTML object>"
      ]
     },
     "metadata": {},
     "output_type": "display_data"
    }
   ],
   "source": [
    "doc(DataLoaders)"
   ]
  },
  {
   "cell_type": "code",
   "execution_count": 183,
   "metadata": {},
   "outputs": [
    {
     "data": {
      "text/plain": [
       "(TensorText([   2,    8,   20,   16,   13, 1197,  401,  107,   66,    9,  229,\n",
       "              582,   15,  311,    5,  161,  871,   80,   13,  374,    0,    0,\n",
       "               65,   12,   61,   17,    0, 1854,   10,    8,   20,   16,  684,\n",
       "               14,   43,   66,  154,  114,   57,  802,  140,   54,  347,  443,\n",
       "              120,   19,   55, 1103, 1318,   10,    8,   52,   25,   13,    0,\n",
       "               12,   13,    0,  231,   13, 1806,   19,    9,  144,   25, 1728,\n",
       "               44,   34,  101,   86,  103,    9,  299,   25,  615, 1103,   10,\n",
       "                8,  116,  277,   52,   16,   13,    0,  167,   36,  102,   15,\n",
       "                9,  518,   16,  151, 1094,    0,   61,   27,    8, 1573,    0,\n",
       "               49,   27,    8,   33,   89,   10,   27,   17,    0,    0,   12,\n",
       "              566,  439,  120,  164,   84,   16, 1086,   19,   13,    0,   35,\n",
       "               10,    8,  932,   17,  566,   33,  175,   11,   84,  141,  529,\n",
       "              354,   71,   70,    0,   80,   17,   74,  166,   72,   10,   27,\n",
       "                8,   18,  283,  182,   28,   34,   11,   18,   74,   32,   28,\n",
       "               85,   10]),)"
      ]
     },
     "execution_count": 183,
     "metadata": {},
     "output_type": "execute_result"
    }
   ],
   "source": [
    "dsets.valid[0]"
   ]
  },
  {
   "cell_type": "code",
   "execution_count": 158,
   "metadata": {},
   "outputs": [
    {
     "data": {
      "text/plain": [
       "27"
      ]
     },
     "execution_count": 158,
     "metadata": {},
     "output_type": "execute_result"
    }
   ],
   "source": [
    "len(dls[1])"
   ]
  },
  {
   "cell_type": "code",
   "execution_count": 7,
   "metadata": {},
   "outputs": [
    {
     "data": {
      "text/html": [
       "<table border=\"1\" class=\"dataframe\">\n",
       "  <thead>\n",
       "    <tr style=\"text-align: right;\">\n",
       "      <th></th>\n",
       "      <th>text</th>\n",
       "      <th>text_</th>\n",
       "    </tr>\n",
       "  </thead>\n",
       "  <tbody>\n",
       "    <tr>\n",
       "      <th>0</th>\n",
       "      <td>xxbos \" one shot , one kill , no exceptions . \" a must see if you are into marines or snipers . two big thumbs up ! xxmaj great overall storyline , great camera work , good drama , action , details , and more . xxmaj pretty close to the real thing . xxmaj but this is n't a film to breakdown and pick out the editing faults . this</td>\n",
       "      <td>\" one shot , one kill , no exceptions . \" a must see if you are into marines or snipers . two big thumbs up ! xxmaj great overall storyline , great camera work , good drama , action , details , and more . xxmaj pretty close to the real thing . xxmaj but this is n't a film to breakdown and pick out the editing faults . this is</td>\n",
       "    </tr>\n",
       "    <tr>\n",
       "      <th>1</th>\n",
       "      <td>xxmaj australia , no redeeming features what so ever . xxmaj the dialog was hokey , the acting , awful and the script sucked ! ! xxmaj whoever thought it would be a good idea to do a sequel or follow up to the far superior xxmaj john xxmaj badham film , xxmaj wargames from the 80s , well they must of been on something cause it was a bad idea !</td>\n",
       "      <td>australia , no redeeming features what so ever . xxmaj the dialog was hokey , the acting , awful and the script sucked ! ! xxmaj whoever thought it would be a good idea to do a sequel or follow up to the far superior xxmaj john xxmaj badham film , xxmaj wargames from the 80s , well they must of been on something cause it was a bad idea ! !</td>\n",
       "    </tr>\n",
       "    <tr>\n",
       "      <th>2</th>\n",
       "      <td>xxmaj midler movie or go to the nearest music store and purchase one of xxmaj bette xxmaj midler 's albums . xxbos xxmaj this movie is one of the masterpieces from xxmaj mr . xxmaj antonioni . xxmaj it is about youth , distraction , happiness , alienation , materialism , honor , corruption . xxmaj and it is like everything else from great xxmaj italian director xxunk art . xxbos i</td>\n",
       "      <td>midler movie or go to the nearest music store and purchase one of xxmaj bette xxmaj midler 's albums . xxbos xxmaj this movie is one of the masterpieces from xxmaj mr . xxmaj antonioni . xxmaj it is about youth , distraction , happiness , alienation , materialism , honor , corruption . xxmaj and it is like everything else from great xxmaj italian director xxunk art . xxbos i watched</td>\n",
       "    </tr>\n",
       "    <tr>\n",
       "      <th>3</th>\n",
       "      <td>time . xxmaj avoid this like the plague , annoying music throughout , terrible editing , no comedy , its xxunk than a novelty mug … my xxunk wanted to watch this thinking it would be xxmaj legally xxmaj blonde material or something kind of watchable , but never better than average , chick flick . xxmaj its the first time she was begging me to push the stop button . \\n\\n</td>\n",
       "      <td>. xxmaj avoid this like the plague , annoying music throughout , terrible editing , no comedy , its xxunk than a novelty mug … my xxunk wanted to watch this thinking it would be xxmaj legally xxmaj blonde material or something kind of watchable , but never better than average , chick flick . xxmaj its the first time she was begging me to push the stop button . \\n\\n xxmaj</td>\n",
       "    </tr>\n",
       "    <tr>\n",
       "      <th>4</th>\n",
       "      <td>had xxmaj world xxmaj premiered the day before at the xxmaj xxunk xxmaj theatre xxup xxunk xxmaj screening xxmaj room . \\n\\n xxmaj the basic plot involves xxmaj morgan xxmaj freeman playing a one time popular actor who is on the downward slope of his career and who is taking on roles that may be beneath him , but which he still does with a positive attitude knowing that he needs to</td>\n",
       "      <td>xxmaj world xxmaj premiered the day before at the xxmaj xxunk xxmaj theatre xxup xxunk xxmaj screening xxmaj room . \\n\\n xxmaj the basic plot involves xxmaj morgan xxmaj freeman playing a one time popular actor who is on the downward slope of his career and who is taking on roles that may be beneath him , but which he still does with a positive attitude knowing that he needs to pay</td>\n",
       "    </tr>\n",
       "    <tr>\n",
       "      <th>5</th>\n",
       "      <td>whoopi as xxmaj blind xxmaj lemon and imitating xxmaj mick xxmaj jagger ? xxmaj great moments captured on film for sure but the movie still kind of sucks , right ? xxmaj that 's how i feel about \" rich xxmaj in xxmaj love \" . a man hears his wife sing for the first time . xxmaj post - xxunk teenagers talk about the nature of love . xxmaj albert xxmaj</td>\n",
       "      <td>as xxmaj blind xxmaj lemon and imitating xxmaj mick xxmaj jagger ? xxmaj great moments captured on film for sure but the movie still kind of sucks , right ? xxmaj that 's how i feel about \" rich xxmaj in xxmaj love \" . a man hears his wife sing for the first time . xxmaj post - xxunk teenagers talk about the nature of love . xxmaj albert xxmaj finney</td>\n",
       "    </tr>\n",
       "    <tr>\n",
       "      <th>6</th>\n",
       "      <td>questions that hit me this moment : xxmaj polish xxmaj xxunk 's xxmaj french is plenty colloquial ( un maximum d ' \" un maximum d ' \" ) . xxmaj even so , does she have an accent ? i think i can tell she does . xxmaj what does the absence of color add , especially at the single spot the fringe of the city is glimpsed ? xxmaj how</td>\n",
       "      <td>that hit me this moment : xxmaj polish xxmaj xxunk 's xxmaj french is plenty colloquial ( un maximum d ' \" un maximum d ' \" ) . xxmaj even so , does she have an accent ? i think i can tell she does . xxmaj what does the absence of color add , especially at the single spot the fringe of the city is glimpsed ? xxmaj how does</td>\n",
       "    </tr>\n",
       "    <tr>\n",
       "      <th>7</th>\n",
       "      <td>that or not . \\n\\n xxmaj but i loved how urban the coincidences were , from immigrants to love xxunk to crowded subway cars to hanging around xxunk . \\n\\n xxmaj the subtitles quite annoyingly gave both parts of a dialog at once . \\n\\n ( originally written 12 / 8 / 2001 ) xxbos xxmaj shaggy &amp; scooby - doo xxmaj get a xxmaj clue . xxmaj it 's like watching</td>\n",
       "      <td>or not . \\n\\n xxmaj but i loved how urban the coincidences were , from immigrants to love xxunk to crowded subway cars to hanging around xxunk . \\n\\n xxmaj the subtitles quite annoyingly gave both parts of a dialog at once . \\n\\n ( originally written 12 / 8 / 2001 ) xxbos xxmaj shaggy &amp; scooby - doo xxmaj get a xxmaj clue . xxmaj it 's like watching a</td>\n",
       "    </tr>\n",
       "    <tr>\n",
       "      <th>8</th>\n",
       "      <td>apartment when just one scene before he had 20 men that are no more than 15 feet from him with sign of escape ? xxmaj who knows the scene just cuts to him in the apartment … … xxunk well suspension of belief i guess ) , the movie to me stays interesting . xxmaj it is only until the last 20 minutes that the film seems to feel like it could</td>\n",
       "      <td>when just one scene before he had 20 men that are no more than 15 feet from him with sign of escape ? xxmaj who knows the scene just cuts to him in the apartment … … xxunk well suspension of belief i guess ) , the movie to me stays interesting . xxmaj it is only until the last 20 minutes that the film seems to feel like it could have</td>\n",
       "    </tr>\n",
       "  </tbody>\n",
       "</table>"
      ],
      "text/plain": [
       "<IPython.core.display.HTML object>"
      ]
     },
     "metadata": {},
     "output_type": "display_data"
    }
   ],
   "source": [
    "dls.show_batch()"
   ]
  },
  {
   "cell_type": "code",
   "execution_count": 16,
   "metadata": {},
   "outputs": [],
   "source": [
    "def scaled_dot_product_attention(query, key, value, mask=None):\n",
    "    dim_k = query.size(-1)\n",
    "    scores = torch.bmm(query, key.transpose(1, 2)) / np.sqrt(dim_k)\n",
    "    if mask is not None:\n",
    "        if scores.shape[1] == mask.shape[1]:\n",
    "            scores = scores.masked_fill(mask == 0, float(\"-inf\"))\n",
    "        else:\n",
    "            mask = torch.tril(torch.ones(scores.shape[1], scores.shape[1])).unsqueeze(0).to(device)\n",
    "            scores = scores.masked_fill(mask == 0, float(\"-inf\"))\n",
    "    weights = F.softmax(scores, dim=-1)\n",
    "    return weights.bmm(value)\n",
    "\n",
    "class AttentionHead(nn.Module):\n",
    "    def __init__(self, embed_dim, head_dim, vocab_size):\n",
    "        super().__init__()\n",
    "        self.q = nn.Linear(embed_dim, head_dim)\n",
    "        self.k = nn.Linear(embed_dim, head_dim)\n",
    "        self.v = nn.Linear(embed_dim, head_dim)\n",
    "        self.mask = torch.tril(torch.ones(vocab_size, vocab_size)).unsqueeze(0).to(device)\n",
    "\n",
    "    def forward(self, hidden_state):\n",
    "        attn_outputs = scaled_dot_product_attention(\n",
    "            self.q(hidden_state), self.k(hidden_state), self.v(hidden_state), self.mask)\n",
    "        return attn_outputs\n",
    "\n",
    "class MultiHeadAttention(nn.Module):\n",
    "    def __init__(self, config):\n",
    "        super().__init__()\n",
    "        embed_dim = config.hidden_size\n",
    "        num_heads = config.num_attention_heads\n",
    "        head_dim = embed_dim // num_heads\n",
    "        self.heads = nn.ModuleList(\n",
    "            [AttentionHead(embed_dim, head_dim, 72) for _ in range(num_heads)]\n",
    "        )\n",
    "        self.output_linear = nn.Linear(embed_dim, embed_dim)\n",
    "\n",
    "    def forward(self, hidden_state):\n",
    "        x = torch.cat([h(hidden_state) for h in self.heads], dim=-1)\n",
    "        x = self.output_linear(x)\n",
    "        return x\n",
    "\n",
    "class FeedForward(nn.Module):\n",
    "    def __init__(self, config):\n",
    "        super().__init__()\n",
    "        self.linear_1 = nn.Linear(config.hidden_size, config.intermediate_size)\n",
    "        self.linear_2 = nn.Linear(config.intermediate_size, config.hidden_size)\n",
    "        self.gelu = nn.GELU()\n",
    "        self.dropout = nn.Dropout(config.hidden_dropout_prob)\n",
    "        \n",
    "    def forward(self, x):\n",
    "        x = self.linear_1(x)\n",
    "        x = self.gelu(x)\n",
    "        x = self.linear_2(x)\n",
    "        x = self.dropout(x)\n",
    "        return x\n",
    "\n",
    "class TransformerEncoderLayer(nn.Module):\n",
    "    def __init__(self, config):\n",
    "        super().__init__()\n",
    "        self.layer_norm_1 = nn.LayerNorm(config.hidden_size)\n",
    "        self.layer_norm_2 = nn.LayerNorm(config.hidden_size)\n",
    "        self.attention = MultiHeadAttention(config)\n",
    "        self.feed_forward = FeedForward(config)\n",
    "\n",
    "    def forward(self, x):\n",
    "        # Apply layer normalization and then copy input into query, key, value\n",
    "        hidden_state = self.layer_norm_1(x)\n",
    "        # Apply attention with a skip connection\n",
    "        x = x + self.attention(hidden_state)\n",
    "        # Apply feed-forward layer with a skip connection\n",
    "        x = x + self.feed_forward(self.layer_norm_2(x))\n",
    "        return x\n",
    "\n",
    "class Embeddings(nn.Module):\n",
    "    def __init__(self, config):\n",
    "        super().__init__()\n",
    "        self.token_embeddings = nn.Embedding(config.vocab_size, \n",
    "                                             config.hidden_size)\n",
    "        self.position_embeddings = nn.Embedding(config.max_position_embeddings,\n",
    "                                                config.hidden_size)\n",
    "        self.layer_norm = nn.LayerNorm(config.hidden_size, eps=1e-12)\n",
    "        self.dropout = nn.Dropout()\n",
    "\n",
    "    def forward(self, input_ids):\n",
    "        # Create position IDs for input sequence\n",
    "        seq_length = input_ids.size(1)\n",
    "        position_ids = torch.arange(seq_length, dtype=torch.long).unsqueeze(0).to(device)\n",
    "        # Create token and position embeddings\n",
    "        token_embeddings = self.token_embeddings(input_ids)\n",
    "        \n",
    "        position_embeddings = self.position_embeddings(position_ids)\n",
    "        # Combine token and position embeddings\n",
    "        embeddings = token_embeddings + position_embeddings\n",
    "        embeddings = self.layer_norm(embeddings)\n",
    "        embeddings = self.dropout(embeddings)\n",
    "        return embeddings\n",
    "\n",
    "class TransformerEncoder(nn.Module):\n",
    "    def __init__(self, config):\n",
    "        super().__init__()\n",
    "        self.embeddings = Embeddings(config)\n",
    "        self.layers = nn.ModuleList([TransformerEncoderLayer(config) \n",
    "                                     for _ in range(config.num_hidden_layers)])\n",
    "\n",
    "    def forward(self, x):\n",
    "        x = self.embeddings(x)\n",
    "        for layer in self.layers:\n",
    "            x = layer(x)\n",
    "        return x\n",
    "\n",
    "class TransformerForSequenceClassification(nn.Module):\n",
    "    def __init__(self, config):\n",
    "        super().__init__()\n",
    "        self.encoder = TransformerEncoder(config)\n",
    "        self.dropout = nn.Dropout(config.hidden_dropout_prob)\n",
    "        self.classifier = nn.Linear(config.hidden_size, config.num_labels)\n",
    "        \n",
    "    def forward(self, x):\n",
    "        #print(x)\n",
    "        x = self.encoder(x)#[:, 0, :] # select hidden state of [CLS] token\n",
    "        #print(x)\n",
    "        x = self.dropout(x)\n",
    "        x = self.classifier(x)\n",
    "        #print(x)\n",
    "        return x"
   ]
  },
  {
   "cell_type": "code",
   "execution_count": 9,
   "metadata": {},
   "outputs": [
    {
     "name": "stderr",
     "output_type": "stream",
     "text": [
      "/home/paperspace/gnn_project/.venv/lib/python3.10/site-packages/tqdm/auto.py:21: TqdmWarning: IProgress not found. Please update jupyter and ipywidgets. See https://ipywidgets.readthedocs.io/en/stable/user_install.html\n",
      "  from .autonotebook import tqdm as notebook_tqdm\n"
     ]
    }
   ],
   "source": [
    "from transformers import AutoConfig\n",
    "config = AutoConfig.from_pretrained('bert-base-uncased')"
   ]
  },
  {
   "cell_type": "code",
   "execution_count": 17,
   "metadata": {},
   "outputs": [],
   "source": [
    "config.vocab_size = len(dls.vocab)\n",
    "config.num_labels = len(dls.vocab)\n",
    "config.hidden_size = 132\n",
    "transformer = TransformerForSequenceClassification(config)"
   ]
  },
  {
   "cell_type": "code",
   "execution_count": 18,
   "metadata": {},
   "outputs": [
    {
     "data": {
      "text/html": [
       "\n",
       "<style>\n",
       "    /* Turns off some styling */\n",
       "    progress {\n",
       "        /* gets rid of default border in Firefox and Opera. */\n",
       "        border: none;\n",
       "        /* Needs to be in here for Safari polyfill so background images work as expected. */\n",
       "        background-size: auto;\n",
       "    }\n",
       "    progress:not([value]), progress:not([value])::-webkit-progress-bar {\n",
       "        background: repeating-linear-gradient(45deg, #7e7e7e, #7e7e7e 10px, #5c5c5c 10px, #5c5c5c 20px);\n",
       "    }\n",
       "    .progress-bar-interrupted, .progress-bar-interrupted::-webkit-progress-bar {\n",
       "        background: #F44336;\n",
       "    }\n",
       "</style>\n"
      ],
      "text/plain": [
       "<IPython.core.display.HTML object>"
      ]
     },
     "metadata": {},
     "output_type": "display_data"
    },
    {
     "data": {
      "text/html": [
       "\n",
       "    <div>\n",
       "      <progress value='0' class='' max='1' style='width:300px; height:20px; vertical-align: middle;'></progress>\n",
       "      0.00% [0/1 00:00&lt;?]\n",
       "    </div>\n",
       "    \n",
       "<table border=\"1\" class=\"dataframe\">\n",
       "  <thead>\n",
       "    <tr style=\"text-align: left;\">\n",
       "      <th>epoch</th>\n",
       "      <th>train_loss</th>\n",
       "      <th>valid_loss</th>\n",
       "      <th>accuracy</th>\n",
       "      <th>time</th>\n",
       "    </tr>\n",
       "  </thead>\n",
       "  <tbody>\n",
       "  </tbody>\n",
       "</table><p>\n",
       "\n",
       "    <div>\n",
       "      <progress value='0' class='' max='1055' style='width:300px; height:20px; vertical-align: middle;'></progress>\n",
       "      0.00% [0/1055 00:00&lt;?]\n",
       "    </div>\n",
       "    "
      ],
      "text/plain": [
       "<IPython.core.display.HTML object>"
      ]
     },
     "metadata": {},
     "output_type": "display_data"
    }
   ],
   "source": [
    "model = transformer\n",
    "\n",
    "model.to(device)\n",
    "\n",
    "dls.to(device)\n",
    "\n",
    "learn = Learner(\n",
    "    dls, \n",
    "    model, \n",
    "    loss_func=CrossEntropyLossFlat(), \n",
    "    metrics=[accuracy]\n",
    ")\n",
    "\n",
    "learn.fit_one_cycle(1, 1e-3)\n",
    "\n",
    "#learn.export('mymodel.pkl')"
   ]
  },
  {
   "cell_type": "code",
   "execution_count": 234,
   "metadata": {},
   "outputs": [
    {
     "data": {
      "text/plain": [
       "Path('models/my_model.pth')"
      ]
     },
     "execution_count": 234,
     "metadata": {},
     "output_type": "execute_result"
    }
   ],
   "source": [
    "learn.save('my_model')"
   ]
  },
  {
   "cell_type": "code",
   "execution_count": 21,
   "metadata": {},
   "outputs": [
    {
     "name": "stderr",
     "output_type": "stream",
     "text": [
      "/tmp/ipykernel_3511/2736430099.py:8: UserWarning: To copy construct from a tensor, it is recommended to use sourceTensor.clone().detach() or sourceTensor.clone().detach().requires_grad_(True), rather than torch.tensor(sourceTensor).\n",
      "  input_ids = torch.tensor(token_ids).unsqueeze(0).to(device)  # Add batch dimension\n"
     ]
    },
    {
     "name": "stdout",
     "output_type": "stream",
     "text": [
      "xxbos i liked this movie because it was a great movie . xxmaj it 's a\n"
     ]
    }
   ],
   "source": [
    "mytokenizer = Pipeline([tok,num])\n",
    "\n",
    "# Define a function for text generation\n",
    "def generate_text(model, starting_text, max_length=10):\n",
    "    token_ids = mytokenizer(starting_text).to(device)\n",
    "    input_ids = torch.tensor(token_ids).unsqueeze(0).to(device)  # Add batch dimension\n",
    "    with torch.no_grad():\n",
    "        for _ in range(max_length):\n",
    "            outputs = model(input_ids)\n",
    "            logits = outputs[:, -1, :]  # Get logits for the last token\n",
    "            next_token_id = torch.argmax(logits, dim=-1)\n",
    "            #print(next_token_id)\n",
    "            #token_ids.append(next_token_id.item())\n",
    "            token_ids = torch.cat((token_ids, next_token_id),dim=0)\n",
    "            input_ids = torch.cat([input_ids, next_token_id.unsqueeze(0).to(device)], dim=-1)\n",
    "            #print(input_ids)\n",
    "            if next_token_id == 'EOS':\n",
    "                break\n",
    "    return mytokenizer.decode(token_ids)\n",
    "\n",
    "# Generate text\n",
    "generated_text = generate_text(learn.model, \"I liked this movie because\")\n",
    "print(generated_text)\n"
   ]
  },
  {
   "cell_type": "markdown",
   "metadata": {},
   "source": [
    "## Subword Tokenizer "
   ]
  },
  {
   "cell_type": "code",
   "execution_count": 5,
   "metadata": {},
   "outputs": [
    {
     "data": {
      "text/plain": [
       "(#10) ['It\\'s about jealousy, it\\'s about racism, it\\'s about manipulation, but the underlying message is love. Geoffrey Sax tried to pull off Shakespeare\\'s Othello, by bringing it to modern day context. However, the actors were not convincing enough to pull this off. There were extra bodies to help put everything in to perspective, however, John Othello, played by Eamonn Walker, over reacted a lot in this film, causing for the down fall of Keeley Hawes, Dessie Brabant, eventually ending in Dessie\\'s death. <br /><br />Ben Jago, played by Christopher Eccleston, was seen as the main character in the film. He didn\\'t give enough evidence for Dessie to be cheating on Othello, with Michael Cass, played by Richard Coyle. Instead he just played a friend to all and gave one reason as to why she \"was\" cheating. In the play, it took a lot more convincing from Iago to make Othello even suspect anything. This change made the movie more about rage for the wrong reasons, than what the book was based off of. However, the movie did have a few good points. It turned the army scenes into more a racist group toward blacks, where Othello is the main chief of the police squad. These scenes are made believable by the raging crowds, and burning fires. You are able to sense the amount of racism in the movie, more so than you can in the book. This book plays up the modern day scenes by making it much easier to understand, than the Shakespearian times it was written in. In the play Iago (Jago) gets tortured at the end, but in the film he gets his satisfaction, and gets Othello\\'s position. He never gets what he deserves and is never caught for telling the lie to Othello until it is too late. I saw this as a downfall in the movie, because I feel that the villain is granted his treasure of the promotion out of lying, and in the book, he is found out by Rodrigo. Overall, the movie could have done a better job based on the play than what it did. I feel that the director of the movie left out some of the most important parts of the play that were mentioned or there to make the play flow, or make it more of a tragedy. I would say that you should read the book first, in order to understand all of the events that happened in the movie, otherwise you may find yourself lost, and confused.','on this quagmire of mediocrity? You are SO much better than this.<br /><br />Simply put, Frostbite is worthless. Bad acting (and I use that term loosely), minimalist \"plot,\" sophomoric humor, and lackluster snowboarding. There\\'s not even a sufficient display of feminine pulchritude to spark the prurient interest of socially inept, but red-blooded, males.<br /><br />Top Gun had spectacular flight sequences to goggle at. Days of Thunder had heart-pounding racing action. Even Point Break had skydiving scenes to its credit. Frostbite has none of these. It\\'s not worth your time, my time, Traci Lords\\' time, Carmen Nicole\\'s time, nor the time of anyone involved with this destruction of celluloid that would have been perfectly usable on something worthwhile had it not been wasted on this fodder for the recycling center.<br /><br />The world will be a better place when we forget that Frostbite ever existed.','I watched this movie about six years ago and I recently did so again. If I remember correctly I did not like it at all the first time and I appreciated it slightly more this second time.<br /><br />This movie is obviously on a big budget. The effects are mostly top notch (except for one or two \"impacts\") and the cast is impressive. However, there are some elements that destroy the overall impression of the show.<br /><br />Firstly, whoever decided that Peter Stormare should act as a crazy Russian astronaut should be fired. Being a Swede and a fan of Peter, I\\'m pretty sure he can play a Russian character well. But his performance in this case is plain stupid, both with respect the lines uttered and the acting. So... something must be wrong with the script. I\\'d like to see Peter as a professional Russian astronaut instead.<br /><br />Secondly, the action scenes that take place on the surface are so intense that it is nearly unbearable to watch. It is a total chaos that lasts over thirty minutes with too few moments to catch one\\'s breath. In addition to this, the events that unfold are simply not credible. I\\'d like to see a much more sensible and stripped down version of this part of the movie.<br /><br />Finally, the scenes that involve flying space shuttles are too action-biased. The shuttles are maneuvering like if they were a couple of MIGs, at zero safety distance, while bouncing off car-sized ice blocks like ping-pong balls. The director should watch Apollo 13 to learn the limitations of spacecraft like these.<br /><br />I like the music score because it is dramatic to a degree making it very touching. The overall performance of the actors is great. Apart from the things mentioned above the story is interesting and quite easy to follow.<br /><br />With some minor changes this would have been a 8/10 movie. I\\'m sorry it isn\\'t!',\"This was one of the worst movies that I have ever watched. The story was about a woman prisoner sent into space to try and save mankind but what it actually turned out to be was that the prisoner was actually put on board a space ship with a nymphomaniac lesbian commander. All the story was about was having sex over and over again. There was no need for all of this footage - only to create a soft porn film. Of course we had to see the heroin of the movie having sex for about 2 minutes. I don't know what all this had to do with the actual plot of the movie -except I assume to get men to watch it. I gave it 1 out of 10 only because there was no other rating lower. Don't waste your money or time- it has nothing to do with science fiction but rather a movie for young adolescent boys to watch to see t&a. The creature was shown only more than half way through the movie and looked like the alien in the movie with Signorney Weaver. Poor excuse for entertainment.\",'In this horrible attempt at a Blair Witch mockumentary, a bunch of people go to Africa to investigate a creature called the Half-Caste. It\\'s pretty obvious that there was no script to speak of, and that everything was improvised. That can work if you have good actors, which this film didn\\'t. <br /><br />This movie tries to gain points for originality by exploring a more obscure myth and an exotic culture. As a result, there are a lot of scenes out in the bush where characters do \"quirky African stuff\" like eating elephant dung. There is also some pretty good footage of lions eating (from a National Geographic perspective) but there\\'s not a single scare in the whole movie. <br /><br />If you\\'ve seen Cannibal Holocaust or the Blair Witch Project, this movie will hold no surprises for you, and you can probably watch better lion footage on the Discovery Channel.<br /><br />Definitely a Half- Aste effort. <br /><br />A note to the filmmakers: guys, do us all a favor and next time save the \"How I spent my African Vacation\" home movie for your family and close friends. Nobody else wants to see it.','The spoof genre, which has lacked creativity and humor for some time already, gets spat upon yet again by hacks with no talent. No point, no fun, no originality; just a few cheap bucks for the film makers. <br /><br />It takes more than just referencing some recent movies and giving characters double-meaning names to be satire; to make people laugh. Any clod can pick up a cam-corder, and have some bad-acting buddies in cheap costumes imitate somebody. Since the genre being targeted this time is inspirational sports movies, there are a few lame references thrown out to movies of that type: the jokes are so weak the characters actually have to emphasize the references in various ways, to get you to laugh hysterically. It doesn\\'t work.<br /><br />That\\'s not comedy. However, the same old worn out sophomoric \"jokes\" ripped off from a middle school washroom (done even more blandly than usual) are all here. If that\\'s not enough, there\\'s a running \"gag\" of a bus running somebody over. So funny, right? Also, one pathetically poor scene does more product placement than Michael Bay; again with the same unfunny results. A musical bit flops miserably. Pity Carl Weathers, once Apollo Creed in the Rocky series, now stuck with roles in swill like this.<br /><br />Lousy beyond words. Watching a snail run the marathon would be less tedious than watching this film is. Probably a lot funnier, too.','I was a hippie age 22 in 1965, have seen the play 5 times, have 2 versions of the music, and have read the script many times. Maybe taken as an separate thing, the movie is OK, but as an adoption of the play, it\\'s terrible.<br /><br />First the good. The songs are sung well, and the production values are pretty good. The homosexual implications in Black Boys, White Boys is cute. The Claude/Berger switch was interesting. Hair is a fluid production, and constant changes in it are inherent provided the basic spirit of it is retained.<br /><br />But the basic spirit was very much distorted. It seemed like all the producer wanted was to sing certain songs, and fit the story-line to them regardless of what that did to the original intent of the play.<br /><br />Claude, Sheila, and Hud were presented as a selfish brats who could care less about anyone outside their tribe. Claude destroyed Sheila\\'s parents party (it\\'s hard to believe that she smiled while her parents were being hurt), and repeatedly stole cars. Sheila stole the soldier\\'s clothes and car. Then she left him in the middle of the desert where he would certainly sunburn badly, probably be busted in rank, and could likely die on that lonely Nevada road. Good fun. And Hud found it fine to break his son\\'s heart while yelling at his ex. This is not what hippies were like, not what the play described, and is directly opposite to a love generation.<br /><br />I\\'ve never seen a hippie beg for money. The point was to be self-sufficient outside the capitalist system, not beg from it.<br /><br />After Berger is thrown in jail for ruining Sheila\\'s party and Claude offers to bail some out, Berger insists on being bailed instead, with no better plan for bailing the rest that hitting on Sheila\\'s parents, and then hitting on his own mommy.<br /><br />\"Be In\" has always been a very spiritual point, but here it is wasted on silly brides floating around. Even if this is part of his trip, it ruins a beautiful song. I know they\\'re contrasting \"Floating In Space\" with the Army. But again, it totally ruins a beautiful song.<br /><br />While Sheila and Claude are skinny dipping, Berger steals their clothes, laughing \"it was fun man\" even after he could see both were very annoyed. Then a little later, Berger does one thing that no hippie ever does. He hits Claude. Terrible.<br /><br />Then they have the perfect opportunity to sing \"Starshine\" at night in some beautiful SF spot with the stars twinkling down, maybe working into an inventive duet. Instead, the whole tribe sings it in the blazing sun speeding down the road in a convertible (stolen of course).<br /><br />I was vastly disappointed with the movie in 1979, and I like it even less now. I think it would have been possible to do a reasonably close adoption of the show, but this ain\\'t it.','Only a very small child could overlook the absurdities in this bomb; the first difficulty faced by the submarine \"Seaview\" is what appear to be chunks of--rock? falling down through the water and crashing into its hull. But it\\'s not rock, they\\'re under the North Pole--it is ICE! Everybody, except possibly hitherto mentioned small children (and even some of them) know that ICE FLOATS.<br /><br />Then, disaster strikes--that darn VAN ALLEN RADIATION BELT around the Earth catches fire! No one knows how this happened, we are told, which is understandable, because it is utterly impossible for radiation to \"catch fire\", and even if it could, there is NO AIR IN SPACE for it to burn.<br /><br />There is literally no good reason to overlook science concepts basic to 2nd grade school textbooks when making a film; however, Irwin Allen manages to do it again and again; perhaps we are meant to focus on the \"people\" instead, which is pretty easy, as they are CARDBOARD.<br /><br />The cast tries very hard not to look embarrassed in this ridiculous sub-kiddie romp, much like later episodes of his \"Lost in Space\" TV series, the concept of which was swiped outright from writer Ib Melchior and then rushed into production.<br /><br />The sub looks pretty good, though, which is why this one gets a \"2\".',\"What an awful movie. Full of cliches, perplexing scenes, very bad acting, and an atrotious script. It is hard to believe the same guys that wrote The People vs. Larry Flint and Man on the Moon wrote this garbage. Man, this makes my list of Top 10 Worst Movies of All-Time. Didn't this guy, this director, if you can call him that, realize that the first Problem Child was bad enough? Let alone make a sequel for it!!?? Amazing that piece of trash films like this can be shown to children let alone be released! 1 out of 10 *'s\",\"Naach would have won an Razzie for the Worst Film in 2004 (may be overall too) if it were global. When it comes acting badly (aka showing attitude/yawning/over (not) acting) Halle Berry is no match for Antra Malli. While the catwoman had storeline, supposedly hot actress in microscopic costume, and some action sequences, Naach had nothing at all.<br /><br />One of those movies which makes me wonder why IMDb does allow one to rate a movie as 0/10. Yet again, I think that movie does not even deserve a 0. It has to be something negative or minus infinity.<br /><br />OK what about the plot outline? It is a funda-giving, arrogant, full of attitude choreographer meet an useless, skill-less, loafer who aspires to be an actor tale. The story is so short that if just another sentence, IMDb might ban me for writing a spoiler. About the story-telling? Its like a bunch (sorry 2 people for the most part) of people moving in super slow motion. Don't try this movie if you have bought new DVD-player. You would end up believing that either DVD is in bad shape or DVD-player is struck. Not its fault at all.<br /><br />At the end of it all, you end up giving some credits to the director. At least he realized that both Antra Malli and Abhishek Bachan (at least at that time) can't speak dialogues convincingly, so there are not too many dialogues in this movie. So, you can at least sleep your way through the movie, with some annoying noises from those Antra-malli song sequences.<br /><br />Do watch this movie if you are new to Bollywood Cinema. Once you have tolerated this movie, you would be able to see any Bollywood movie and enjoy it.<br /><br />There can't be worse 3 hour torture than this!\"]"
      ]
     },
     "execution_count": 5,
     "metadata": {},
     "output_type": "execute_result"
    }
   ],
   "source": [
    "files = get_text_files(path, folders = ['train', 'test', 'unsup'])\n",
    "txts = L(o.open().read() for o in files[:10])\n",
    "txts"
   ]
  },
  {
   "cell_type": "code",
   "execution_count": 81,
   "metadata": {},
   "outputs": [
    {
     "data": {
      "text/plain": [
       "(#10) [['xxbos', 'xxmaj', 'it', \"'s\", 'about', 'jealousy', ',', 'it', \"'s\", 'about', 'racism', ',', 'it', \"'s\", 'about', 'manipulation', ',', 'but', 'the', 'underlying', 'message', 'is', 'love', '.', 'xxmaj', 'geoffrey', 'xxmaj', 'sax', 'tried', 'to', 'pull', 'off', 'xxmaj', 'shakespeare', \"'s\", 'xxmaj', 'othello', ',', 'by', 'bringing', 'it', 'to', 'modern', 'day', 'context', '.', 'xxmaj', 'however', ',', 'the', 'actors', 'were', 'not', 'convincing', 'enough', 'to', 'pull', 'this', 'off', '.', 'xxmaj', 'there', 'were', 'extra', 'bodies', 'to', 'help', 'put', 'everything', 'in', 'to', 'perspective', ',', 'however', ',', 'xxmaj', 'john', 'xxmaj', 'othello', ',', 'played', 'by', 'xxmaj', 'eamonn', 'xxmaj', 'walker', ',', 'over', 'reacted', 'a', 'lot', 'in', 'this', 'film', ',', 'causing', 'for', 'the', 'down', 'fall', 'of', 'xxmaj', 'keeley', 'xxmaj', 'hawes', ',', 'xxmaj', 'dessie', 'xxmaj', 'brabant', ',', 'eventually', 'ending', 'in', 'xxmaj', 'dessie', \"'s\", 'death', '.', '\\n\\n', 'xxmaj', 'ben', 'xxmaj', 'jago', ',', 'played', 'by', 'xxmaj', 'christopher', 'xxmaj', 'eccleston', ',', 'was', 'seen', 'as', 'the', 'main', 'character', 'in', 'the', 'film', '.', 'xxmaj', 'he', 'did', \"n't\", 'give', 'enough', 'evidence', 'for', 'xxmaj', 'dessie', 'to', 'be', 'cheating', 'on', 'xxmaj', 'othello', ',', 'with', 'xxmaj', 'michael', 'xxmaj', 'cass', ',', 'played', 'by', 'xxmaj', 'richard', 'xxmaj', 'coyle', '.', 'xxmaj', 'instead', 'he', 'just', 'played', 'a', 'friend', 'to', 'all', 'and', 'gave', 'one', 'reason', 'as', 'to', 'why', 'she', '\"', 'was', '\"', 'cheating', '.', 'xxmaj', 'in', 'the', 'play', ',', 'it', 'took', 'a', 'lot', 'more', 'convincing', 'from', 'xxmaj', 'iago', 'to', 'make', 'xxmaj', 'othello', 'even', 'suspect', 'anything', '.', 'xxmaj', 'this', 'change', 'made', 'the', 'movie', 'more', 'about', 'rage', 'for', 'the', 'wrong', 'reasons', ',', 'than', 'what', 'the', 'book', 'was', 'based', 'off', 'of', '.', 'xxmaj', 'however', ',', 'the', 'movie', 'did', 'have', 'a', 'few', 'good', 'points', '.', 'xxmaj', 'it', 'turned', 'the', 'army', 'scenes', 'into', 'more', 'a', 'racist', 'group', 'toward', 'blacks', ',', 'where', 'xxmaj', 'othello', 'is', 'the', 'main', 'chief', 'of', 'the', 'police', 'squad', '.', 'xxmaj', 'these', 'scenes', 'are', 'made', 'believable', 'by', 'the', 'raging', 'crowds', ',', 'and', 'burning', 'fires', '.', 'xxmaj', 'you', 'are', 'able', 'to', 'sense', 'the', 'amount', 'of', 'racism', 'in', 'the', 'movie', ',', 'more', 'so', 'than', 'you', 'can', 'in', 'the', 'book', '.', 'xxmaj', 'this', 'book', 'plays', 'up', 'the', 'modern', 'day', 'scenes', 'by', 'making', 'it', 'much', 'easier', 'to', 'understand', ',', 'than', 'the', 'xxmaj', 'shakespearian', 'times', 'it', 'was', 'written', 'in', '.', 'xxmaj', 'in', 'the', 'play', 'xxmaj', 'iago', '(', 'jago', ')', 'gets', 'tortured', 'at', 'the', 'end', ',', 'but', 'in', 'the', 'film', 'he', 'gets', 'his', 'satisfaction', ',', 'and', 'gets', 'xxmaj', 'othello', \"'s\", 'position', '.', 'xxmaj', 'he', 'never', 'gets', 'what', 'he', 'deserves', 'and', 'is', 'never', 'caught', 'for', 'telling', 'the', 'lie', 'to', 'xxmaj', 'othello', 'until', 'it', 'is', 'too', 'late', '.', 'i', 'saw', 'this', 'as', 'a', 'downfall', 'in', 'the', 'movie', ',', 'because', 'i', 'feel', 'that', 'the', 'villain', 'is', 'granted', 'his', 'treasure', 'of', 'the', 'promotion', 'out', 'of', 'lying', ',', 'and', 'in', 'the', 'book', ',', 'he', 'is', 'found', 'out', 'by', 'xxmaj', 'rodrigo', '.', 'xxmaj', 'overall', ',', 'the', 'movie', 'could', 'have', 'done', 'a', 'better', 'job', 'based', 'on', 'the', 'play', 'than', 'what', 'it', 'did', '.', 'i', 'feel', 'that', 'the', 'director', 'of', 'the', 'movie', 'left', 'out', 'some', 'of', 'the', 'most', 'important', 'parts', 'of', 'the', 'play', 'that', 'were', 'mentioned', 'or', 'there', 'to', 'make', 'the', 'play', 'flow', ',', 'or', 'make', 'it', 'more', 'of', 'a', 'tragedy', '.', 'i', 'would', 'say', 'that', 'you', 'should', 'read', 'the', 'book', 'first', ',', 'in', 'order', 'to', 'understand', 'all', 'of', 'the', 'events', 'that', 'happened', 'in', 'the', 'movie', ',', 'otherwise', 'you', 'may', 'find', 'yourself', 'lost', ',', 'and', 'confused', '.'],['xxbos', 'on', 'this', 'quagmire', 'of', 'mediocrity', '?', 'xxmaj', 'you', 'are', 'xxup', 'so', 'much', 'better', 'than', 'this', '.', '\\n\\n', 'xxmaj', 'simply', 'put', ',', 'xxmaj', 'frostbite', 'is', 'worthless', '.', 'xxmaj', 'bad', 'acting', '(', 'and', 'i', 'use', 'that', 'term', 'loosely', ')', ',', 'minimalist', '\"', 'plot', ',', '\"', 'sophomoric', 'humor', ',', 'and', 'lackluster', 'snowboarding', '.', 'xxmaj', 'there', \"'s\", 'not', 'even', 'a', 'sufficient', 'display', 'of', 'feminine', 'pulchritude', 'to', 'spark', 'the', 'prurient', 'interest', 'of', 'socially', 'inept', ',', 'but', 'red', '-', 'blooded', ',', 'males', '.', '\\n\\n', 'xxmaj', 'top', 'xxmaj', 'gun', 'had', 'spectacular', 'flight', 'sequences', 'to', 'goggle', 'at', '.', 'xxmaj', 'days', 'of', 'xxmaj', 'thunder', 'had', 'heart', '-', 'pounding', 'racing', 'action', '.', 'xxmaj', 'even', 'xxmaj', 'point', 'xxmaj', 'break', 'had', 'skydiving', 'scenes', 'to', 'its', 'credit', '.', 'xxmaj', 'frostbite', 'has', 'none', 'of', 'these', '.', 'xxmaj', 'it', \"'s\", 'not', 'worth', 'your', 'time', ',', 'my', 'time', ',', 'xxmaj', 'traci', 'xxmaj', 'lords', \"'\", 'time', ',', 'xxmaj', 'carmen', 'xxmaj', 'nicole', \"'s\", 'time', ',', 'nor', 'the', 'time', 'of', 'anyone', 'involved', 'with', 'this', 'destruction', 'of', 'celluloid', 'that', 'would', 'have', 'been', 'perfectly', 'usable', 'on', 'something', 'worthwhile', 'had', 'it', 'not', 'been', 'wasted', 'on', 'this', 'fodder', 'for', 'the', 'recycling', 'center', '.', '\\n\\n', 'xxmaj', 'the', 'world', 'will', 'be', 'a', 'better', 'place', 'when', 'we', 'forget', 'that', 'xxmaj', 'frostbite', 'ever', 'existed', '.'],['xxbos', 'i', 'watched', 'this', 'movie', 'about', 'six', 'years', 'ago', 'and', 'i', 'recently', 'did', 'so', 'again', '.', 'xxmaj', 'if', 'i', 'remember', 'correctly', 'i', 'did', 'not', 'like', 'it', 'at', 'all', 'the', 'first', 'time', 'and', 'i', 'appreciated', 'it', 'slightly', 'more', 'this', 'second', 'time', '.', '\\n\\n', 'xxmaj', 'this', 'movie', 'is', 'obviously', 'on', 'a', 'big', 'budget', '.', 'xxmaj', 'the', 'effects', 'are', 'mostly', 'top', 'notch', '(', 'except', 'for', 'one', 'or', 'two', '\"', 'impacts', '\"', ')', 'and', 'the', 'cast', 'is', 'impressive', '.', 'xxmaj', 'however', ',', 'there', 'are', 'some', 'elements', 'that', 'destroy', 'the', 'overall', 'impression', 'of', 'the', 'show', '.', '\\n\\n', 'xxmaj', 'firstly', ',', 'whoever', 'decided', 'that', 'xxmaj', 'peter', 'xxmaj', 'stormare', 'should', 'act', 'as', 'a', 'crazy', 'xxmaj', 'russian', 'astronaut', 'should', 'be', 'fired', '.', 'xxmaj', 'being', 'a', 'xxmaj', 'swede', 'and', 'a', 'fan', 'of', 'xxmaj', 'peter', ',', 'xxmaj', 'i', \"'m\", 'pretty', 'sure', 'he', 'can', 'play', 'a', 'xxmaj', 'russian', 'character', 'well', '.', 'xxmaj', 'but', 'his', 'performance', 'in', 'this', 'case', 'is', 'plain', 'stupid', ',', 'both', 'with', 'respect', 'the', 'lines', 'uttered', 'and', 'the', 'acting', '.', 'xxmaj', 'so', '…', 'something', 'must', 'be', 'wrong', 'with', 'the', 'script', '.', 'xxmaj', 'i', \"'d\", 'like', 'to', 'see', 'xxmaj', 'peter', 'as', 'a', 'professional', 'xxmaj', 'russian', 'astronaut', 'instead', '.', '\\n\\n', 'xxmaj', 'secondly', ',', 'the', 'action', 'scenes', 'that', 'take', 'place', 'on', 'the', 'surface', 'are', 'so', 'intense', 'that', 'it', 'is', 'nearly', 'unbearable', 'to', 'watch', '.', 'xxmaj', 'it', 'is', 'a', 'total', 'chaos', 'that', 'lasts', 'over', 'thirty', 'minutes', 'with', 'too', 'few', 'moments', 'to', 'catch', 'one', \"'s\", 'breath', '.', 'xxmaj', 'in', 'addition', 'to', 'this', ',', 'the', 'events', 'that', 'unfold', 'are', 'simply', 'not', 'credible', '.', 'xxmaj', 'i', \"'d\", 'like', 'to', 'see', 'a', 'much', 'more', 'sensible', 'and', 'stripped', 'down', 'version', 'of', 'this', 'part', 'of', 'the', 'movie', '.', '\\n\\n', 'xxmaj', 'finally', ',', 'the', 'scenes', 'that', 'involve', 'flying', 'space', 'shuttles', 'are', 'too', 'action', '-', 'biased', '.', 'xxmaj', 'the', 'shuttles', 'are', 'maneuvering', 'like', 'if', 'they', 'were', 'a', 'couple', 'of', 'migs', ',', 'at', 'zero', 'safety', 'distance', ',', 'while', 'bouncing', 'off', 'car', '-', 'sized', 'ice', 'blocks', 'like', 'ping', '-', 'pong', 'balls', '.', 'xxmaj', 'the', 'director', 'should', 'watch', 'xxmaj', 'apollo', '13', 'to', 'learn', 'the', 'limitations', 'of', 'spacecraft', 'like', 'these', '.', '\\n\\n', 'i', 'like', 'the', 'music', 'score', 'because', 'it', 'is', 'dramatic', 'to', 'a', 'degree', 'making', 'it', 'very', 'touching', '.', 'xxmaj', 'the', 'overall', 'performance', 'of', 'the', 'actors', 'is', 'great', '.', 'xxmaj', 'apart', 'from', 'the', 'things', 'mentioned', 'above', 'the', 'story', 'is', 'interesting', 'and', 'quite', 'easy', 'to', 'follow', '.', '\\n\\n', 'xxmaj', 'with', 'some', 'minor', 'changes', 'this', 'would', 'have', 'been', 'a', '8', '/', '10', 'movie', '.', 'xxmaj', 'i', \"'m\", 'sorry', 'it', 'is', \"n't\", '!'],['xxbos', 'xxmaj', 'this', 'was', 'one', 'of', 'the', 'worst', 'movies', 'that', 'i', 'have', 'ever', 'watched', '.', 'xxmaj', 'the', 'story', 'was', 'about', 'a', 'woman', 'prisoner', 'sent', 'into', 'space', 'to', 'try', 'and', 'save', 'mankind', 'but', 'what', 'it', 'actually', 'turned', 'out', 'to', 'be', 'was', 'that', 'the', 'prisoner', 'was', 'actually', 'put', 'on', 'board', 'a', 'space', 'ship', 'with', 'a', 'nymphomaniac', 'lesbian', 'commander', '.', 'xxmaj', 'all', 'the', 'story', 'was', 'about', 'was', 'having', 'sex', 'over', 'and', 'over', 'again', '.', 'xxmaj', 'there', 'was', 'no', 'need', 'for', 'all', 'of', 'this', 'footage', '-', 'only', 'to', 'create', 'a', 'soft', 'porn', 'film', '.', 'xxmaj', 'of', 'course', 'we', 'had', 'to', 'see', 'the', 'heroin', 'of', 'the', 'movie', 'having', 'sex', 'for', 'about', '2', 'minutes', '.', 'i', 'do', \"n't\", 'know', 'what', 'all', 'this', 'had', 'to', 'do', 'with', 'the', 'actual', 'plot', 'of', 'the', 'movie', '-except', 'i', 'assume', 'to', 'get', 'men', 'to', 'watch', 'it', '.', 'i', 'gave', 'it', '1', 'out', 'of', '10', 'only', 'because', 'there', 'was', 'no', 'other', 'rating', 'lower', '.', 'xxmaj', 'do', \"n't\", 'waste', 'your', 'money', 'or', 'time-', 'it', 'has', 'nothing', 'to', 'do', 'with', 'science', 'fiction', 'but', 'rather', 'a', 'movie', 'for', 'young', 'adolescent', 'boys', 'to', 'watch', 'to', 'see', 't&a', '.', 'xxmaj', 'the', 'creature', 'was', 'shown', 'only', 'more', 'than', 'half', 'way', 'through', 'the', 'movie', 'and', 'looked', 'like', 'the', 'alien', 'in', 'the', 'movie', 'with', 'xxmaj', 'signorney', 'xxmaj', 'weaver', '.', 'xxmaj', 'poor', 'excuse', 'for', 'entertainment', '.'],['xxbos', 'xxmaj', 'in', 'this', 'horrible', 'attempt', 'at', 'a', 'xxmaj', 'blair', 'xxmaj', 'witch', 'mockumentary', ',', 'a', 'bunch', 'of', 'people', 'go', 'to', 'xxmaj', 'africa', 'to', 'investigate', 'a', 'creature', 'called', 'the', 'half', '-', 'caste', '.', 'xxmaj', 'it', \"'s\", 'pretty', 'obvious', 'that', 'there', 'was', 'no', 'script', 'to', 'speak', 'of', ',', 'and', 'that', 'everything', 'was', 'improvised', '.', 'xxmaj', 'that', 'can', 'work', 'if', 'you', 'have', 'good', 'actors', ',', 'which', 'this', 'film', 'did', \"n't\", '.', '\\n\\n', 'xxmaj', 'this', 'movie', 'tries', 'to', 'gain', 'points', 'for', 'originality', 'by', 'exploring', 'a', 'more', 'obscure', 'myth', 'and', 'an', 'exotic', 'culture', '.', 'xxmaj', 'as', 'a', 'result', ',', 'there', 'are', 'a', 'lot', 'of', 'scenes', 'out', 'in', 'the', 'bush', 'where', 'characters', 'do', '\"', 'quirky', 'xxmaj', 'african', 'stuff', '\"', 'like', 'eating', 'elephant', 'dung', '.', 'xxmaj', 'there', 'is', 'also', 'some', 'pretty', 'good', 'footage', 'of', 'lions', 'eating', '(', 'from', 'a', 'xxmaj', 'national', 'xxmaj', 'geographic', 'perspective', ')', 'but', 'there', \"'s\", 'not', 'a', 'single', 'scare', 'in', 'the', 'whole', 'movie', '.', '\\n\\n', 'xxmaj', 'if', 'you', \"'ve\", 'seen', 'xxmaj', 'cannibal', 'xxmaj', 'holocaust', 'or', 'the', 'xxmaj', 'blair', 'xxmaj', 'witch', 'xxmaj', 'project', ',', 'this', 'movie', 'will', 'hold', 'no', 'surprises', 'for', 'you', ',', 'and', 'you', 'can', 'probably', 'watch', 'better', 'lion', 'footage', 'on', 'the', 'xxmaj', 'discovery', 'xxmaj', 'channel', '.', '\\n\\n', 'xxmaj', 'definitely', 'a', 'xxmaj', 'half-', 'xxmaj', 'aste', 'effort', '.', '\\n\\n', 'a', 'note', 'to', 'the', 'filmmakers', ':', 'guys', ',', 'do', 'us', 'all', 'a', 'favor', 'and', 'next', 'time', 'save', 'the', '\"', 'how', 'i', 'spent', 'my', 'xxmaj', 'african', 'xxmaj', 'vacation', '\"', 'home', 'movie', 'for', 'your', 'family', 'and', 'close', 'friends', '.', 'xxmaj', 'nobody', 'else', 'wants', 'to', 'see', 'it', '.'],['xxbos', 'xxmaj', 'the', 'spoof', 'genre', ',', 'which', 'has', 'lacked', 'creativity', 'and', 'humor', 'for', 'some', 'time', 'already', ',', 'gets', 'spat', 'upon', 'yet', 'again', 'by', 'hacks', 'with', 'no', 'talent', '.', 'xxmaj', 'no', 'point', ',', 'no', 'fun', ',', 'no', 'originality', ';', 'just', 'a', 'few', 'cheap', 'bucks', 'for', 'the', 'film', 'makers', '.', '\\n\\n', 'xxmaj', 'it', 'takes', 'more', 'than', 'just', 'referencing', 'some', 'recent', 'movies', 'and', 'giving', 'characters', 'double', '-', 'meaning', 'names', 'to', 'be', 'satire', ';', 'to', 'make', 'people', 'laugh', '.', 'xxmaj', 'any', 'clod', 'can', 'pick', 'up', 'a', 'cam', '-', 'corder', ',', 'and', 'have', 'some', 'bad', '-', 'acting', 'buddies', 'in', 'cheap', 'costumes', 'imitate', 'somebody', '.', 'xxmaj', 'since', 'the', 'genre', 'being', 'targeted', 'this', 'time', 'is', 'inspirational', 'sports', 'movies', ',', 'there', 'are', 'a', 'few', 'lame', 'references', 'thrown', 'out', 'to', 'movies', 'of', 'that', 'type', ':', 'the', 'jokes', 'are', 'so', 'weak', 'the', 'characters', 'actually', 'have', 'to', 'emphasize', 'the', 'references', 'in', 'various', 'ways', ',', 'to', 'get', 'you', 'to', 'laugh', 'hysterically', '.', 'xxmaj', 'it', 'does', \"n't\", 'work', '.', '\\n\\n', 'xxmaj', 'that', \"'s\", 'not', 'comedy', '.', 'xxmaj', 'however', ',', 'the', 'same', 'old', 'worn', 'out', 'sophomoric', '\"', 'jokes', '\"', 'ripped', 'off', 'from', 'a', 'middle', 'school', 'washroom', '(', 'done', 'even', 'more', 'blandly', 'than', 'usual', ')', 'are', 'all', 'here', '.', 'xxmaj', 'if', 'that', \"'s\", 'not', 'enough', ',', 'there', \"'s\", 'a', 'running', '\"', 'gag', '\"', 'of', 'a', 'bus', 'running', 'somebody', 'over', '.', 'xxmaj', 'so', 'funny', ',', 'right', '?', 'xxmaj', 'also', ',', 'one', 'pathetically', 'poor', 'scene', 'does', 'more', 'product', 'placement', 'than', 'xxmaj', 'michael', 'xxmaj', 'bay', ';', 'again', 'with', 'the', 'same', 'unfunny', 'results', '.', 'a', 'musical', 'bit', 'flops', 'miserably', '.', 'xxmaj', 'pity', 'xxmaj', 'carl', 'xxmaj', 'weathers', ',', 'once', 'xxmaj', 'apollo', 'xxmaj', 'creed', 'in', 'the', 'xxmaj', 'rocky', 'series', ',', 'now', 'stuck', 'with', 'roles', 'in', 'swill', 'like', 'this', '.', '\\n\\n', 'xxmaj', 'lousy', 'beyond', 'words', '.', 'xxmaj', 'watching', 'a', 'snail', 'run', 'the', 'marathon', 'would', 'be', 'less', 'tedious', 'than', 'watching', 'this', 'film', 'is', '.', 'xxmaj', 'probably', 'a', 'lot', 'funnier', ',', 'too', '.'],['xxbos', 'i', 'was', 'a', 'hippie', 'age', '22', 'in', '1965', ',', 'have', 'seen', 'the', 'play', '5', 'times', ',', 'have', '2', 'versions', 'of', 'the', 'music', ',', 'and', 'have', 'read', 'the', 'script', 'many', 'times', '.', 'xxmaj', 'maybe', 'taken', 'as', 'an', 'separate', 'thing', ',', 'the', 'movie', 'is', 'xxup', 'ok', ',', 'but', 'as', 'an', 'adoption', 'of', 'the', 'play', ',', 'it', \"'s\", 'terrible', '.', '\\n\\n', 'xxmaj', 'first', 'the', 'good', '.', 'xxmaj', 'the', 'songs', 'are', 'sung', 'well', ',', 'and', 'the', 'production', 'values', 'are', 'pretty', 'good', '.', 'xxmaj', 'the', 'homosexual', 'implications', 'in', 'xxmaj', 'black', 'xxmaj', 'boys', ',', 'xxmaj', 'white', 'xxmaj', 'boys', 'is', 'cute', '.', 'xxmaj', 'the', 'xxmaj', 'claude', '/', 'xxmaj', 'berger', 'switch', 'was', 'interesting', '.', 'xxmaj', 'hair', 'is', 'a', 'fluid', 'production', ',', 'and', 'constant', 'changes', 'in', 'it', 'are', 'inherent', 'provided', 'the', 'basic', 'spirit', 'of', 'it', 'is', 'retained', '.', '\\n\\n', 'xxmaj', 'but', 'the', 'basic', 'spirit', 'was', 'very', 'much', 'distorted', '.', 'xxmaj', 'it', 'seemed', 'like', 'all', 'the', 'producer', 'wanted', 'was', 'to', 'sing', 'certain', 'songs', ',', 'and', 'fit', 'the', 'story', '-', 'line', 'to', 'them', 'regardless', 'of', 'what', 'that', 'did', 'to', 'the', 'original', 'intent', 'of', 'the', 'play', '.', '\\n\\n', 'xxmaj', 'claude', ',', 'xxmaj', 'sheila', ',', 'and', 'xxmaj', 'hud', 'were', 'presented', 'as', 'a', 'selfish', 'brats', 'who', 'could', 'care', 'less', 'about', 'anyone', 'outside', 'their', 'tribe', '.', 'xxmaj', 'claude', 'destroyed', 'xxmaj', 'sheila', \"'s\", 'parents', 'party', '(', 'it', \"'s\", 'hard', 'to', 'believe', 'that', 'she', 'smiled', 'while', 'her', 'parents', 'were', 'being', 'hurt', ')', ',', 'and', 'repeatedly', 'stole', 'cars', '.', 'xxmaj', 'sheila', 'stole', 'the', 'soldier', \"'s\", 'clothes', 'and', 'car', '.', 'xxmaj', 'then', 'she', 'left', 'him', 'in', 'the', 'middle', 'of', 'the', 'desert', 'where', 'he', 'would', 'certainly', 'sunburn', 'badly', ',', 'probably', 'be', 'busted', 'in', 'rank', ',', 'and', 'could', 'likely', 'die', 'on', 'that', 'lonely', 'xxmaj', 'nevada', 'road', '.', 'xxmaj', 'good', 'fun', '.', 'xxmaj', 'and', 'xxmaj', 'hud', 'found', 'it', 'fine', 'to', 'break', 'his', 'son', \"'s\", 'heart', 'while', 'yelling', 'at', 'his', 'ex', '.', 'xxmaj', 'this', 'is', 'not', 'what', 'hippies', 'were', 'like', ',', 'not', 'what', 'the', 'play', 'described', ',', 'and', 'is', 'directly', 'opposite', 'to', 'a', 'love', 'generation', '.', '\\n\\n', 'xxmaj', 'i', \"'ve\", 'never', 'seen', 'a', 'hippie', 'beg', 'for', 'money', '.', 'xxmaj', 'the', 'point', 'was', 'to', 'be', 'self', '-', 'sufficient', 'outside', 'the', 'capitalist', 'system', ',', 'not', 'beg', 'from', 'it', '.', '\\n\\n', 'xxmaj', 'after', 'xxmaj', 'berger', 'is', 'thrown', 'in', 'jail', 'for', 'ruining', 'xxmaj', 'sheila', \"'s\", 'party', 'and', 'xxmaj', 'claude', 'offers', 'to', 'bail', 'some', 'out', ',', 'xxmaj', 'berger', 'insists', 'on', 'being', 'bailed', 'instead', ',', 'with', 'no', 'better', 'plan', 'for', 'bailing', 'the', 'rest', 'that', 'hitting', 'on', 'xxmaj', 'sheila', \"'s\", 'parents', ',', 'and', 'then', 'hitting', 'on', 'his', 'own', 'mommy', '.', '\\n\\n', '\"', 'be', 'xxmaj', 'in', '\"', 'has', 'always', 'been', 'a', 'very', 'spiritual', 'point', ',', 'but', 'here', 'it', 'is', 'wasted', 'on', 'silly', 'brides', 'floating', 'around', '.', 'xxmaj', 'even', 'if', 'this', 'is', 'part', 'of', 'his', 'trip', ',', 'it', 'ruins', 'a', 'beautiful', 'song', '.', 'i', 'know', 'they', \"'re\", 'contrasting', '\"', 'floating', 'xxmaj', 'in', 'xxmaj', 'space', '\"', 'with', 'the', 'xxmaj', 'army', '.', 'xxmaj', 'but', 'again', ',', 'it', 'totally', 'ruins', 'a', 'beautiful', 'song', '.', '\\n\\n', 'xxmaj', 'while', 'xxmaj', 'sheila', 'and', 'xxmaj', 'claude', 'are', 'skinny', 'dipping', ',', 'xxmaj', 'berger', 'steals', 'their', 'clothes', ',', 'laughing', '\"', 'it', 'was', 'fun', 'man', '\"', 'even', 'after', 'he', 'could', 'see', 'both', 'were', 'very', 'annoyed', '.', 'xxmaj', 'then', 'a', 'little', 'later', ',', 'xxmaj', 'berger', 'does', 'one', 'thing', 'that', 'no', 'hippie', 'ever', 'does', '.', 'xxmaj', 'he', 'hits', 'xxmaj', 'claude', '.', 'xxmaj', 'terrible', '.', '\\n\\n', 'xxmaj', 'then', 'they', 'have', 'the', 'perfect', 'opportunity', 'to', 'sing', '\"', 'starshine', '\"', 'at', 'night', 'in', 'some', 'beautiful', 'xxup', 'sf', 'spot', 'with', 'the', 'stars', 'twinkling', 'down', ',', 'maybe', 'working', 'into', 'an', 'inventive', 'duet', '.', 'xxmaj', 'instead', ',', 'the', 'whole', 'tribe', 'sings', 'it', 'in', 'the', 'blazing', 'sun', 'speeding', 'down', 'the', 'road', 'in', 'a', 'convertible', '(', 'stolen', 'of', 'course', ')', '.', '\\n\\n', 'i', 'was', 'vastly', 'disappointed', 'with', 'the', 'movie', 'in', '1979', ',', 'and', 'i', 'like', 'it', 'even', 'less', 'now', '.', 'i', 'think', 'it', 'would', 'have', 'been', 'possible', 'to', 'do', 'a', 'reasonably', 'close', 'adoption', 'of', 'the', 'show', ',', 'but', 'this', 'ai', \"n't\", 'it', '.'],['xxbos', 'xxmaj', 'only', 'a', 'very', 'small', 'child', 'could', 'overlook', 'the', 'absurdities', 'in', 'this', 'bomb', ';', 'the', 'first', 'difficulty', 'faced', 'by', 'the', 'submarine', '\"', 'seaview', '\"', 'is', 'what', 'appear', 'to', 'be', 'chunks', 'of', '--', 'rock', '?', 'falling', 'down', 'through', 'the', 'water', 'and', 'crashing', 'into', 'its', 'hull', '.', 'xxmaj', 'but', 'it', \"'s\", 'not', 'rock', ',', 'they', \"'re\", 'under', 'the', 'xxmaj', 'north', 'xxmaj', 'pole', '--', 'it', 'is', 'xxup', 'ice', '!', 'xxmaj', 'everybody', ',', 'except', 'possibly', 'hitherto', 'mentioned', 'small', 'children', '(', 'and', 'even', 'some', 'of', 'them', ')', 'know', 'that', 'xxup', 'ice', 'xxup', 'floats', '.', '\\n\\n', 'xxmaj', 'then', ',', 'disaster', 'strikes', '--', 'that', 'darn', 'xxup', 'van', 'xxup', 'allen', 'xxup', 'radiation', 'xxup', 'belt', 'around', 'the', 'xxmaj', 'earth', 'catches', 'fire', '!', 'xxmaj', 'no', 'one', 'knows', 'how', 'this', 'happened', ',', 'we', 'are', 'told', ',', 'which', 'is', 'understandable', ',', 'because', 'it', 'is', 'utterly', 'impossible', 'for', 'radiation', 'to', '\"', 'catch', 'fire', '\"', ',', 'and', 'even', 'if', 'it', 'could', ',', 'there', 'is', 'xxup', 'no', 'xxup', 'air', 'xxup', 'in', 'xxup', 'space', 'for', 'it', 'to', 'burn', '.', '\\n\\n', 'xxmaj', 'there', 'is', 'literally', 'no', 'good', 'reason', 'to', 'overlook', 'science', 'concepts', 'basic', 'to', '2nd', 'grade', 'school', 'textbooks', 'when', 'making', 'a', 'film', ';', 'however', ',', 'xxmaj', 'irwin', 'xxmaj', 'allen', 'manages', 'to', 'do', 'it', 'again', 'and', 'again', ';', 'perhaps', 'we', 'are', 'meant', 'to', 'focus', 'on', 'the', '\"', 'people', '\"', 'instead', ',', 'which', 'is', 'pretty', 'easy', ',', 'as', 'they', 'are', 'xxup', 'cardboard', '.', '\\n\\n', 'xxmaj', 'the', 'cast', 'tries', 'very', 'hard', 'not', 'to', 'look', 'embarrassed', 'in', 'this', 'ridiculous', 'sub', '-', 'kiddie', 'romp', ',', 'much', 'like', 'later', 'episodes', 'of', 'his', '\"', 'lost', 'in', 'xxmaj', 'space', '\"', 'xxup', 'tv', 'series', ',', 'the', 'concept', 'of', 'which', 'was', 'swiped', 'outright', 'from', 'writer', 'xxmaj', 'ib', 'xxmaj', 'melchior', 'and', 'then', 'rushed', 'into', 'production', '.', '\\n\\n', 'xxmaj', 'the', 'sub', 'looks', 'pretty', 'good', ',', 'though', ',', 'which', 'is', 'why', 'this', 'one', 'gets', 'a', '\"', '2', '\"', '.'],['xxbos', 'xxmaj', 'what', 'an', 'awful', 'movie', '.', 'xxmaj', 'full', 'of', 'cliches', ',', 'perplexing', 'scenes', ',', 'very', 'bad', 'acting', ',', 'and', 'an', 'atrotious', 'script', '.', 'xxmaj', 'it', 'is', 'hard', 'to', 'believe', 'the', 'same', 'guys', 'that', 'wrote', 'xxmaj', 'the', 'xxmaj', 'people', 'vs.', 'xxmaj', 'larry', 'xxmaj', 'flint', 'and', 'xxmaj', 'man', 'on', 'the', 'xxmaj', 'moon', 'wrote', 'this', 'garbage', '.', 'xxmaj', 'man', ',', 'this', 'makes', 'my', 'list', 'of', 'xxmaj', 'top', '10', 'xxmaj', 'worst', 'xxmaj', 'movies', 'of', 'all', '-', 'time', '.', 'xxmaj', 'did', \"n't\", 'this', 'guy', ',', 'this', 'director', ',', 'if', 'you', 'can', 'call', 'him', 'that', ',', 'realize', 'that', 'the', 'first', 'xxmaj', 'problem', 'xxmaj', 'child', 'was', 'bad', 'enough', '?', 'xxmaj', 'let', 'alone', 'make', 'a', 'sequel', 'for', 'it', '!', '!', '?', '?', 'xxmaj', 'amazing', 'that', 'piece', 'of', 'trash', 'films', 'like', 'this', 'can', 'be', 'shown', 'to', 'children', 'let', 'alone', 'be', 'released', '!', '1', 'out', 'of', '10', '*', \"'s\"],['xxbos', 'xxmaj', 'naach', 'would', 'have', 'won', 'an', 'xxmaj', 'razzie', 'for', 'the', 'xxmaj', 'worst', 'xxmaj', 'film', 'in', '2004', '(', 'may', 'be', 'overall', 'too', ')', 'if', 'it', 'were', 'global', '.', 'xxmaj', 'when', 'it', 'comes', 'acting', 'badly', '(', 'aka', 'showing', 'attitude', '/', 'yawning', '/', 'over', '(', 'not', ')', 'acting', ')', 'xxmaj', 'halle', 'xxmaj', 'berry', 'is', 'no', 'match', 'for', 'xxmaj', 'antra', 'xxmaj', 'malli', '.', 'xxmaj', 'while', 'the', 'catwoman', 'had', 'storeline', ',', 'supposedly', 'hot', 'actress', 'in', 'microscopic', 'costume', ',', 'and', 'some', 'action', 'sequences', ',', 'xxmaj', 'naach', 'had', 'nothing', 'at', 'all', '.', '\\n\\n', 'xxmaj', 'one', 'of', 'those', 'movies', 'which', 'makes', 'me', 'wonder', 'why', 'imdb', 'does', 'allow', 'one', 'to', 'rate', 'a', 'movie', 'as', '0', '/', '10', '.', 'xxmaj', 'yet', 'again', ',', 'i', 'think', 'that', 'movie', 'does', 'not', 'even', 'deserve', 'a', '0', '.', 'xxmaj', 'it', 'has', 'to', 'be', 'something', 'negative', 'or', 'minus', 'infinity', '.', '\\n\\n', 'xxup', 'ok', 'what', 'about', 'the', 'plot', 'outline', '?', 'xxmaj', 'it', 'is', 'a', 'funda', '-', 'giving', ',', 'arrogant', ',', 'full', 'of', 'attitude', 'choreographer', 'meet', 'an', 'useless', ',', 'skill', '-', 'less', ',', 'loafer', 'who', 'aspires', 'to', 'be', 'an', 'actor', 'tale', '.', 'xxmaj', 'the', 'story', 'is', 'so', 'short', 'that', 'if', 'just', 'another', 'sentence', ',', 'imdb', 'might', 'ban', 'me', 'for', 'writing', 'a', 'spoiler', '.', 'xxmaj', 'about', 'the', 'story', '-', 'telling', '?', 'xxmaj', 'its', 'like', 'a', 'bunch', '(', 'sorry', '2', 'people', 'for', 'the', 'most', 'part', ')', 'of', 'people', 'moving', 'in', 'super', 'slow', 'motion', '.', 'xxmaj', 'do', \"n't\", 'try', 'this', 'movie', 'if', 'you', 'have', 'bought', 'new', 'dvd', '-', 'player', '.', 'xxmaj', 'you', 'would', 'end', 'up', 'believing', 'that', 'either', 'xxup', 'dvd', 'is', 'in', 'bad', 'shape', 'or', 'dvd', '-', 'player', 'is', 'struck', '.', 'xxmaj', 'not', 'its', 'fault', 'at', 'all', '.', '\\n\\n', 'xxmaj', 'at', 'the', 'end', 'of', 'it', 'all', ',', 'you', 'end', 'up', 'giving', 'some', 'credits', 'to', 'the', 'director', '.', 'xxmaj', 'at', 'least', 'he', 'realized', 'that', 'both', 'xxmaj', 'antra', 'xxmaj', 'malli', 'and', 'xxmaj', 'abhishek', 'xxmaj', 'bachan', '(', 'at', 'least', 'at', 'that', 'time', ')', 'ca', \"n't\", 'speak', 'dialogues', 'convincingly', ',', 'so', 'there', 'are', 'not', 'too', 'many', 'dialogues', 'in', 'this', 'movie', '.', 'xxmaj', 'so', ',', 'you', 'can', 'at', 'least', 'sleep', 'your', 'way', 'through', 'the', 'movie', ',', 'with', 'some', 'annoying', 'noises', 'from', 'those', 'xxmaj', 'antra', '-', 'malli', 'song', 'sequences', '.', '\\n\\n', 'xxmaj', 'do', 'watch', 'this', 'movie', 'if', 'you', 'are', 'new', 'to', 'xxmaj', 'bollywood', 'xxmaj', 'cinema', '.', 'xxmaj', 'once', 'you', 'have', 'tolerated', 'this', 'movie', ',', 'you', 'would', 'be', 'able', 'to', 'see', 'any', 'xxmaj', 'bollywood', 'movie', 'and', 'enjoy', 'it', '.', '\\n\\n', 'xxmaj', 'there', 'ca', \"n't\", 'be', 'worse', '3', 'hour', 'torture', 'than', 'this', '!']]"
      ]
     },
     "execution_count": 81,
     "metadata": {},
     "output_type": "execute_result"
    }
   ],
   "source": [
    "tok = Tokenizer.from_folder(path)\n",
    "tok.setup(txts)\n",
    "toks = txts.map(tok)\n",
    "toks"
   ]
  },
  {
   "cell_type": "code",
   "execution_count": 93,
   "metadata": {},
   "outputs": [
    {
     "data": {
      "text/html": [
       "\n",
       "<style>\n",
       "    /* Turns off some styling */\n",
       "    progress {\n",
       "        /* gets rid of default border in Firefox and Opera. */\n",
       "        border: none;\n",
       "        /* Needs to be in here for Safari polyfill so background images work as expected. */\n",
       "        background-size: auto;\n",
       "    }\n",
       "    progress:not([value]), progress:not([value])::-webkit-progress-bar {\n",
       "        background: repeating-linear-gradient(45deg, #7e7e7e, #7e7e7e 10px, #5c5c5c 10px, #5c5c5c 20px);\n",
       "    }\n",
       "    .progress-bar-interrupted, .progress-bar-interrupted::-webkit-progress-bar {\n",
       "        background: #F44336;\n",
       "    }\n",
       "</style>\n"
      ],
      "text/plain": [
       "<IPython.core.display.HTML object>"
      ]
     },
     "metadata": {},
     "output_type": "display_data"
    },
    {
     "data": {
      "text/html": [],
      "text/plain": [
       "<IPython.core.display.HTML object>"
      ]
     },
     "metadata": {},
     "output_type": "display_data"
    },
    {
     "data": {
      "text/plain": [
       "(#10) [['▁It', \"'\", 's', '▁abo', 'ut', '▁', 'j', 'e', 'al', 'ou', 's', 'y', ',', '▁it', \"'\", 's', '▁abo', 'ut', '▁ra', 'c', 'i', 's', 'm', ',', '▁it', \"'\", 's', '▁abo', 'ut', '▁man', 'i', 'p', 'u', 'l', 'ation', ',', '▁bu', 't', '▁the', '▁un', 'der', 'ly', 'ing', '▁me', 's', 's', 'age', '▁is', '▁', 'lo', 'v', 'e', '.', '▁', 'G', 'e', 'o', 'f', 'f', 're', 'y', '▁S', 'a', 'x', '▁', 't', 'r', 'i', 'ed', '▁to', '▁', 'p', 'ull', '▁of', 'f', '▁S', 'h', 'a', 'k', 'es', 'p', 'e', 'a', 're', \"'\", 's', '▁Othello', ',', '▁b', 'y', '▁', 'br', 'ing', 'ing', '▁it', '▁to', '▁mo', 'der', 'n', '▁', 'd', 'a', 'y', '▁con', 't', 'e', 'x', 't', '.', '▁', 'How', 'ever', ',', '▁the', '▁actors', '▁we', 're', '▁not', '▁convincing', '▁enough', '▁to', '▁', 'p', 'ull', '▁this', '▁of', 'f', '.', '▁The', 're', '▁we', 're', '▁ex', 't', 'r', 'a', '▁bo', 'd', 'i', 'es', '▁to', '▁he', 'l', 'p', '▁', 'p', 'ut', '▁', 'e', 'very', 'thing', '▁in', '▁to', '▁', 'p', 'er', 'spect', 'i', 'v', 'e', ',', '▁how', 'ever', ',', '▁', 'J', 'o', 'h', 'n', '▁Othello', ',', '▁play', 'ed', '▁b', 'y', '▁', 'E', 'a', 'm', 'on', 'n', '▁', 'W', 'al', 'k', 'er', ',', '▁over', '▁', 're', 'act', 'ed', '▁a', '▁', 'lo', 't', '▁in', '▁this', '▁film', ',', '▁', 'caus', 'ing', '▁for', '▁the', '▁down', '▁f', 'all', '▁of', '▁', 'K', 'e', 'e', 'le', 'y', '▁', 'H', 'a', 'w', 'es', ',', '▁Dessie', '▁B', 'r', 'a', 'b', 'ant', ',', '▁even', 't', 'u', 'all', 'y', '▁end', 'ing', '▁in', '▁Dessie', \"'\", 's', '▁', 'd', 'e', 'a', 'th', '.', '▁', '<', 'br', '▁/>', '<', 'br', '▁/>', 'B', 'en', '▁', 'J', 'ago', ',', '▁play', 'ed', '▁b', 'y', '▁', 'C', 'h', 'r', 'i', 'st', 'o', 'p', 'h', 'er', '▁', 'E', 'c', 'c', 'le', 'st', 'on', ',', '▁was', '▁see', 'n', '▁a', 's', '▁the', '▁ma', 'in', '▁character', '▁in', '▁the', '▁film', '.', '▁', 'H', 'e', '▁did', 'n', \"'\", 't', '▁g', 'i', 'v', 'e', '▁enough', '▁', 'e', 'v', 'i', 'd', 'e', 'nce', '▁for', '▁Dessie', '▁to', '▁be', '▁', 'ch', 'e', 'at', 'ing', '▁on', '▁Othello', ',', '▁w', 'ith', '▁M', 'i', 'ch', 'a', 'el', '▁', 'C', 'a', 's', 's', ',', '▁play', 'ed', '▁b', 'y', '▁R', 'i', 'ch', 'ar', 'd', '▁', 'C', 'o', 'y', 'le', '.', '▁I', 'n', 'st', 'e', 'a', 'd', '▁he', '▁', 'j', 'u', 'st', '▁play', 'ed', '▁a', '▁f', 'r', 'i', 'en', 'd', '▁to', '▁', 'all', '▁', 'and', '▁g', 'a', 'v', 'e', '▁one', '▁reason', '▁a', 's', '▁to', '▁wh', 'y', '▁sh', 'e', '▁\"', 'w', 'a', 's', '\"', '▁', 'ch', 'e', 'at', 'ing', '.', '▁I', 'n', '▁the', '▁play', ',', '▁it', '▁to', 'o', 'k', '▁a', '▁', 'lo', 't', '▁mo', 're', '▁convincing', '▁f', 'rom', '▁I', 'ago', '▁to', '▁make', '▁Othello', '▁even', '▁su', 'spect', '▁an', 'y', 'thing', '.', '▁T', 'his', '▁change', '▁ma', 'd', 'e', '▁the', '▁movie', '▁mo', 're', '▁abo', 'ut', '▁', 'r', 'age', '▁for', '▁the', '▁w', 'ro', 'n', 'g', '▁reason', 's', ',', '▁tha', 'n', '▁wh', 'at', '▁the', '▁bo', 'o', 'k', '▁was', '▁bas', 'ed', '▁of', 'f', '▁of', '.', '▁', 'How', 'ever', ',', '▁the', '▁movie', '▁did', '▁hav', 'e', '▁a', '▁f', 'e', 'w', '▁good', '▁', 'point', 's', '.', '▁It', '▁', 't', 'urn', 'ed', '▁the', '▁', 'ar', 'm', 'y', '▁scenes', '▁in', 't', 'o', '▁mo', 're', '▁a', '▁ra', 'c', 'i', 'st', '▁g', 'ro', 'u', 'p', '▁to', 'w', 'ar', 'd', '▁b', 'l', 'a', 'ck', 's', ',', '▁wh', 'e', 're', '▁Othello', '▁is', '▁the', '▁ma', 'in', '▁', 'ch', 'i', 'e', 'f', '▁of', '▁the', '▁', 'p', 'o', 'l', 'ic', 'e', '▁s', 'q', 'u', 'a', 'd', '.', '▁The', 's', 'e', '▁scenes', '▁a', 're', '▁ma', 'd', 'e', '▁believ', 'able', '▁b', 'y', '▁the', '▁ra', 'g', 'ing', '▁', 'c', 'ro', 'w', 'd', 's', ',', '▁', 'and', '▁b', 'urn', 'ing', '▁fire', 's', '.', '▁', 'Y', 'ou', '▁a', 're', '▁', 'able', '▁to', '▁s', 'en', 's', 'e', '▁the', '▁a', 'm', 'ou', 'n', 't', '▁of', '▁ra', 'c', 'i', 's', 'm', '▁in', '▁the', '▁movie', ',', '▁mo', 're', '▁so', '▁tha', 'n', '▁you', '▁can', '▁in', '▁the', '▁bo', 'o', 'k', '.', '▁T', 'his', '▁bo', 'o', 'k', '▁play', 's', '▁up', '▁the', '▁mo', 'der', 'n', '▁', 'd', 'a', 'y', '▁scenes', '▁b', 'y', '▁ma', 'k', 'ing', '▁it', '▁', 'm', 'u', 'ch', '▁', 'e', 'a', 's', 'i', 'er', '▁to', '▁understand', ',', '▁tha', 'n', '▁the', '▁S', 'h', 'a', 'k', 'es', 'p', 'e', 'ar', 'i', 'an', '▁time', 's', '▁it', '▁was', '▁writ', 't', 'en', '▁in', '.', '▁I', 'n', '▁the', '▁play', '▁I', 'ago', '▁', '(', 'J', 'ago', ')', '▁g', 'e', 't', 's', '▁to', 'r', 't', 'u', 're', 'd', '▁at', '▁the', '▁end', ',', '▁bu', 't', '▁in', '▁the', '▁film', '▁he', '▁g', 'e', 't', 's', '▁', 'his', '▁s', 'at', 'i', 's', 'f', 'a', 'c', 'tion', ',', '▁', 'and', '▁g', 'e', 't', 's', '▁Othello', \"'\", 's', '▁', 'p', 'o', 's', 'i', 'tion', '.', '▁', 'H', 'e', '▁', 'n', 'ever', '▁g', 'e', 't', 's', '▁wh', 'at', '▁he', '▁', 'd', 'es', 'er', 'v', 'es', '▁', 'and', '▁is', '▁', 'n', 'ever', '▁ca', 'ugh', 't', '▁for', '▁', 't', 'e', 'll', 'ing', '▁the', '▁li', 'e', '▁to', '▁Othello', '▁un', 't', 'il', '▁it', '▁is', '▁to', 'o', '▁', 'l', 'at', 'e', '.', '▁I', '▁s', 'a', 'w', '▁this', '▁a', 's', '▁a', '▁down', 'f', 'all', '▁in', '▁the', '▁movie', ',', '▁be', 'caus', 'e', '▁I', '▁f', 'e', 'el', '▁that', '▁the', '▁', 'v', 'i', 'll', 'a', 'in', '▁is', '▁g', 'r', 'ant', 'ed', '▁', 'his', '▁', 't', 're', 'a', 's', 'u', 're', '▁of', '▁the', '▁pro', 'm', 'o', 'tion', '▁out', '▁of', '▁', 'ly', 'ing', ',', '▁', 'and', '▁in', '▁the', '▁bo', 'o', 'k', ',', '▁he', '▁is', '▁f', 'ound', '▁out', '▁b', 'y', '▁R', 'o', 'd', 'r', 'i', 'g', 'o', '.', '▁', 'O', 'v', 'er', 'all', ',', '▁the', '▁movie', '▁could', '▁hav', 'e', '▁do', 'n', 'e', '▁a', '▁be', 'tter', '▁', 'j', 'o', 'b', '▁bas', 'ed', '▁on', '▁the', '▁play', '▁tha', 'n', '▁wh', 'at', '▁it', '▁did', '.', '▁I', '▁f', 'e', 'el', '▁that', '▁the', '▁director', '▁of', '▁the', '▁movie', '▁', 'le', 'f', 't', '▁out', '▁some', '▁of', '▁the', '▁mo', 'st', '▁', 'imp', 'or', 't', 'ant', '▁part', 's', '▁of', '▁the', '▁play', '▁that', '▁we', 're', '▁me', 'n', 'tion', 'ed', '▁', 'or', '▁the', 're', '▁to', '▁make', '▁the', '▁play', '▁f', 'lo', 'w', ',', '▁', 'or', '▁make', '▁it', '▁mo', 're', '▁of', '▁a', '▁', 't', 'r', 'age', 'd', 'y', '.', '▁I', '▁w', 'ould', '▁s', 'a', 'y', '▁that', '▁you', '▁sh', 'ould', '▁', 're', 'a', 'd', '▁the', '▁bo', 'o', 'k', '▁first', ',', '▁in', '▁', 'or', 'der', '▁to', '▁understand', '▁', 'all', '▁of', '▁the', '▁even', 't', 's', '▁that', '▁ha', 'p', 'p', 'en', 'ed', '▁in', '▁the', '▁movie', ',', '▁', 'o', 'th', 'er', 'w', 'i', 's', 'e', '▁you', '▁ma', 'y', '▁f', 'in', 'd', '▁you', 'r', 's', 'el', 'f', '▁', 'lo', 'st', ',', '▁', 'and', '▁con', 'f', 'u', 's', 'ed', '.'],['▁on', '▁this', '▁', 'q', 'u', 'a', 'g', 'm', 'i', 're', '▁of', '▁me', 'd', 'i', 'o', 'c', 'r', 'it', 'y', '?', '▁', 'Y', 'ou', '▁a', 're', '▁S', 'O', '▁', 'm', 'u', 'ch', '▁be', 'tter', '▁tha', 'n', '▁this', '.', '<', 'br', '▁/>', '<', 'br', '▁/>', 'S', 'imp', 'ly', '▁', 'p', 'ut', ',', '▁', 'F', 'ro', 'st', 'b', 'it', 'e', '▁is', '▁worth', 'less', '.', '▁B', 'a', 'd', '▁acting', '▁', '(', 'and', '▁I', '▁', 'u', 's', 'e', '▁that', '▁', 't', 'er', 'm', '▁', 'lo', 'o', 's', 'e', 'ly', ')', ',', '▁mi', 'n', 'i', 'm', 'al', 'i', 'st', '▁\"', 'p', 'lo', 't', ',', '\"', '▁so', 'phom', 'or', 'ic', '▁h', 'u', 'm', 'or', ',', '▁', 'and', '▁', 'l', 'a', 'ck', 'l', 'u', 'st', 'er', '▁s', 'n', 'o', 'w', 'b', 'o', 'ar', 'd', 'ing', '.', '▁The', 're', \"'\", 's', '▁not', '▁even', '▁a', '▁su', 'f', 'f', 'ic', 'i', 'en', 't', '▁di', 's', 'p', 'l', 'a', 'y', '▁of', '▁f', 'e', 'm', 'in', 'in', 'e', '▁', 'p', 'u', 'l', 'ch', 'r', 'it', 'u', 'd', 'e', '▁to', '▁s', 'p', 'ar', 'k', '▁the', '▁', 'p', 'r', 'u', 'r', 'i', 'en', 't', '▁interest', '▁of', '▁so', 'c', 'i', 'all', 'y', '▁in', 'e', 'p', 't', ',', '▁bu', 't', '▁', 're', 'd', '-', 'b', 'l', 'ood', 'ed', ',', '▁ma', 'le', 's', '.', '<', 'br', '▁/>', '<', 'br', '▁/>', 'T', 'o', 'p', '▁', 'G', 'u', 'n', '▁ha', 'd', '▁', 'spect', 'a', 'c', 'u', 'l', 'ar', '▁f', 'l', 'ight', '▁sequences', '▁to', '▁g', 'o', 'g', 'g', 'le', '▁at', '.', '▁', 'D', 'a', 'y', 's', '▁of', '▁T', 'h', 'u', 'n', 'der', '▁ha', 'd', '▁he', 'ar', 't', '-', 'p', 'ound', 'ing', '▁ra', 'c', 'ing', '▁action', '.', '▁', 'E', 'v', 'en', '▁', 'P', 'o', 'in', 't', '▁B', 're', 'a', 'k', '▁ha', 'd', '▁s', 'k', 'y', 'd', 'i', 'v', 'ing', '▁scenes', '▁to', '▁it', 's', '▁credi', 't', '.', '▁', 'F', 'ro', 'st', 'b', 'it', 'e', '▁ha', 's', '▁no', 'n', 'e', '▁of', '▁the', 's', 'e', '.', '▁It', \"'\", 's', '▁not', '▁worth', '▁you', 'r', '▁time', ',', '▁', 'm', 'y', '▁time', ',', '▁T', 'r', 'a', 'c', 'i', '▁', 'L', 'or', 'd', 's', \"'\", '▁time', ',', '▁', 'C', 'ar', 'm', 'en', '▁', 'N', 'ic', 'o', 'le', \"'\", 's', '▁time', ',', '▁no', 'r', '▁the', '▁time', '▁of', '▁an', 'y', 'on', 'e', '▁in', 'v', 'o', 'l', 'v', 'ed', '▁w', 'ith', '▁this', '▁', 'd', 'e', 'st', 'r', 'u', 'c', 'tion', '▁of', '▁', 'c', 'e', 'll', 'u', 'lo', 'i', 'd', '▁that', '▁w', 'ould', '▁hav', 'e', '▁be', 'en', '▁', 'p', 'er', 'f', 'ect', 'ly', '▁', 'u', 's', 'able', '▁on', '▁some', 'thing', '▁worth', 'w', 'h', 'i', 'le', '▁ha', 'd', '▁it', '▁not', '▁be', 'en', '▁was', 't', 'ed', '▁on', '▁this', '▁f', 'o', 'd', 'der', '▁for', '▁the', '▁', 're', 'c', 'y', 'c', 'l', 'ing', '▁', 'cent', 'er', '.', '<', 'br', '▁/>', '<', 'br', '▁/>', 'The', '▁w', 'or', 'l', 'd', '▁w', 'i', 'll', '▁be', '▁a', '▁be', 'tter', '▁place', '▁wh', 'en', '▁we', '▁for', 'g', 'e', 't', '▁that', '▁', 'F', 'ro', 'st', 'b', 'it', 'e', '▁', 'ever', '▁ex', 'i', 'st', 'ed', '.'],['▁I', '▁watch', 'ed', '▁this', '▁movie', '▁abo', 'ut', '▁s', 'i', 'x', '▁', 'y', 'e', 'ar', 's', '▁', 'ago', '▁', 'and', '▁I', '▁', 're', 'cent', 'ly', '▁did', '▁so', '▁again', '.', '▁I', 'f', '▁I', '▁', 're', 'm', 'e', 'm', 'b', 'er', '▁', 'c', 'or', 'r', 'ect', 'ly', '▁I', '▁did', '▁not', '▁like', '▁it', '▁at', '▁', 'all', '▁the', '▁first', '▁time', '▁', 'and', '▁I', '▁a', 'p', 'p', 're', 'c', 'i', 'at', 'ed', '▁it', '▁s', 'l', 'ight', 'ly', '▁mo', 're', '▁this', '▁s', 'e', 'c', 'on', 'd', '▁time', '.', '<', 'br', '▁/>', '<', 'br', '▁/>', 'T', 'his', '▁movie', '▁is', '▁', 'o', 'b', 'v', 'i', 'ou', 's', 'ly', '▁on', '▁a', '▁b', 'i', 'g', '▁bu', 'd', 'g', 'e', 't', '.', '▁The', '▁', 'e', 'f', 'f', 'ect', 's', '▁a', 're', '▁mo', 'st', 'ly', '▁to', 'p', '▁not', 'ch', '▁', '(', 'e', 'x', 'cept', '▁for', '▁one', '▁', 'or', '▁', 't', 'w', 'o', '▁\"', 'imp', 'act', 's', '\"', ')', '▁', 'and', '▁the', '▁ca', 'st', '▁is', '▁', 'imp', 're', 's', 's', 'i', 'v', 'e', '.', '▁', 'How', 'ever', ',', '▁the', 're', '▁a', 're', '▁some', '▁', 'e', 'le', 'ment', 's', '▁that', '▁', 'd', 'e', 'st', 'ro', 'y', '▁the', '▁over', 'all', '▁', 'imp', 're', 's', 's', 'i', 'on', '▁of', '▁the', '▁show', '.', '<', 'br', '▁/>', '<', 'br', '▁/>', 'F', 'i', 'r', 'st', 'ly', ',', '▁wh', 'o', 'ever', '▁', 'd', 'e', 'c', 'i', 'd', 'ed', '▁that', '▁Peter', '▁S', 't', 'or', 'm', 'a', 're', '▁sh', 'ould', '▁', 'act', '▁a', 's', '▁a', '▁', 'c', 'r', 'a', 'z', 'y', '▁R', 'u', 's', 's', 'i', 'an', '▁a', 'st', 'ro', 'n', 'a', 'ut', '▁sh', 'ould', '▁be', '▁fire', 'd', '.', '▁B', 'e', 'ing', '▁a', '▁S', 'w', 'ed', 'e', '▁', 'and', '▁a', '▁f', 'an', '▁of', '▁Peter', ',', '▁I', \"'\", 'm', '▁pre', 't', 't', 'y', '▁su', 're', '▁he', '▁can', '▁play', '▁a', '▁R', 'u', 's', 's', 'i', 'an', '▁character', '▁we', 'll', '.', '▁B', 'ut', '▁', 'his', '▁', 'p', 'er', 'f', 'or', 'm', 'a', 'nce', '▁in', '▁this', '▁ca', 's', 'e', '▁is', '▁', 'p', 'l', 'a', 'in', '▁', 'st', 'u', 'p', 'i', 'd', ',', '▁bo', 'th', '▁w', 'ith', '▁', 're', 'spect', '▁the', '▁', 'line', 's', '▁', 'u', 'tter', 'ed', '▁', 'and', '▁the', '▁acting', '.', '▁S', 'o', '.', '.', '.', '▁some', 'thing', '▁', 'm', 'u', 'st', '▁be', '▁w', 'ro', 'n', 'g', '▁w', 'ith', '▁the', '▁script', '.', '▁I', \"'\", 'd', '▁like', '▁to', '▁see', '▁Peter', '▁a', 's', '▁a', '▁pro', 'f', 'es', 's', 'i', 'on', 'al', '▁R', 'u', 's', 's', 'i', 'an', '▁a', 'st', 'ro', 'n', 'a', 'ut', '▁instead', '.', '<', 'br', '▁/>', '<', 'br', '▁/>', 'S', 'e', 'c', 'on', 'd', 'ly', ',', '▁the', '▁action', '▁scenes', '▁that', '▁take', '▁place', '▁on', '▁the', '▁su', 'r', 'f', 'a', 'c', 'e', '▁a', 're', '▁so', '▁in', 't', 'en', 's', 'e', '▁that', '▁it', '▁is', '▁', 'n', 'e', 'ar', 'ly', '▁un', 'b', 'e', 'ar', 'able', '▁to', '▁watch', '.', '▁It', '▁is', '▁a', '▁to', 't', 'al', '▁', 'ch', 'a', 'o', 's', '▁that', '▁', 'l', 'a', 'st', 's', '▁over', '▁', 'th', 'i', 'r', 't', 'y', '▁mi', 'n', 'ut', 'es', '▁w', 'ith', '▁to', 'o', '▁f', 'e', 'w', '▁mo', 'ment', 's', '▁to', '▁ca', 't', 'ch', '▁one', \"'\", 's', '▁b', 're', 'a', 'th', '.', '▁I', 'n', '▁a', 'd', 'd', 'i', 'tion', '▁to', '▁this', ',', '▁the', '▁even', 't', 's', '▁that', '▁un', 'f', 'old', '▁a', 're', '▁s', 'imp', 'ly', '▁not', '▁credi', 'b', 'le', '.', '▁I', \"'\", 'd', '▁like', '▁to', '▁see', '▁a', '▁', 'm', 'u', 'ch', '▁mo', 're', '▁s', 'en', 's', 'i', 'b', 'le', '▁', 'and', '▁', 'st', 'r', 'i', 'p', 'p', 'ed', '▁down', '▁', 'v', 'er', 's', 'i', 'on', '▁of', '▁this', '▁part', '▁of', '▁the', '▁movie', '.', '<', 'br', '▁/>', '<', 'br', '▁/>', 'F', 'in', 'all', 'y', ',', '▁the', '▁scenes', '▁that', '▁in', 'v', 'o', 'l', 'v', 'e', '▁f', 'ly', 'ing', '▁s', 'pace', '▁sh', 'ut', 't', 'le', 's', '▁a', 're', '▁to', 'o', '▁action', '-', 'b', 'i', 'a', 's', 'ed', '.', '▁The', '▁sh', 'ut', 't', 'le', 's', '▁a', 're', '▁man', 'e', 'u', 'v', 'er', 'ing', '▁like', '▁', 'if', '▁the', 'y', '▁we', 're', '▁a', '▁', 'c', 'ou', 'p', 'le', '▁of', '▁M', 'I', 'G', 's', ',', '▁at', '▁', 'z', 'er', 'o', '▁s', 'a', 'f', 'e', 't', 'y', '▁di', 'st', 'a', 'nce', ',', '▁whi', 'le', '▁bo', 'u', 'n', 'c', 'ing', '▁of', 'f', '▁ca', 'r', '-', 's', 'i', 'z', 'ed', '▁', 'ic', 'e', '▁b', 'lo', 'ck', 's', '▁like', '▁', 'p', 'ing', '-', 'p', 'on', 'g', '▁b', 'all', 's', '.', '▁The', '▁director', '▁sh', 'ould', '▁watch', '▁A', 'p', 'o', 'll', 'o', '▁', '1', '3', '▁to', '▁', 'le', 'ar', 'n', '▁the', '▁li', 'm', 'it', 'ation', 's', '▁of', '▁s', 'pace', 'c', 'r', 'a', 'f', 't', '▁like', '▁the', 's', 'e', '.', '<', 'br', '▁/>', '<', 'br', '▁/>', 'I', '▁like', '▁the', '▁music', '▁s', 'c', 'o', 're', '▁be', 'caus', 'e', '▁it', '▁is', '▁', 'd', 'r', 'a', 'm', 'at', 'ic', '▁to', '▁a', '▁', 'd', 'e', 'g', 're', 'e', '▁ma', 'k', 'ing', '▁it', '▁', 'very', '▁to', 'u', 'ch', 'ing', '.', '▁The', '▁over', 'all', '▁', 'p', 'er', 'f', 'or', 'm', 'a', 'nce', '▁of', '▁the', '▁actors', '▁is', '▁g', 're', 'at', '.', '▁A', 'p', 'ar', 't', '▁f', 'rom', '▁the', '▁', 'thing', 's', '▁me', 'n', 'tion', 'ed', '▁abo', 'v', 'e', '▁the', '▁story', '▁is', '▁interest', 'ing', '▁', 'and', '▁', 'q', 'u', 'it', 'e', '▁', 'e', 'a', 's', 'y', '▁to', '▁f', 'o', 'll', 'o', 'w', '.', '<', 'br', '▁/>', '<', 'br', '▁/>', 'W', 'ith', '▁some', '▁mi', 'n', 'or', '▁change', 's', '▁this', '▁w', 'ould', '▁hav', 'e', '▁be', 'en', '▁a', '▁', '8', '/', '1', '0', '▁movie', '.', '▁I', \"'\", 'm', '▁s', 'or', 'r', 'y', '▁it', '▁is', 'n', \"'\", 't', '!'],['▁T', 'his', '▁was', '▁one', '▁of', '▁the', '▁w', 'or', 'st', '▁movie', 's', '▁that', '▁I', '▁hav', 'e', '▁', 'ever', '▁watch', 'ed', '.', '▁The', '▁story', '▁was', '▁abo', 'ut', '▁a', '▁w', 'o', 'm', 'an', '▁', 'pris', 'on', 'er', '▁s', 'en', 't', '▁in', 't', 'o', '▁s', 'pace', '▁to', '▁', 't', 'r', 'y', '▁', 'and', '▁s', 'a', 'v', 'e', '▁man', 'k', 'in', 'd', '▁bu', 't', '▁wh', 'at', '▁it', '▁actual', 'ly', '▁', 't', 'urn', 'ed', '▁out', '▁to', '▁be', '▁was', '▁that', '▁the', '▁', 'pris', 'on', 'er', '▁was', '▁actual', 'ly', '▁', 'p', 'ut', '▁on', '▁bo', 'ar', 'd', '▁a', '▁s', 'pace', '▁sh', 'i', 'p', '▁w', 'ith', '▁a', '▁', 'n', 'y', 'm', 'phom', 'an', 'i', 'a', 'c', '▁', 'le', 's', 'b', 'i', 'an', '▁com', 'm', 'and', 'er', '.', '▁A', 'll', '▁the', '▁story', '▁was', '▁abo', 'ut', '▁was', '▁hav', 'ing', '▁s', 'e', 'x', '▁over', '▁', 'and', '▁over', '▁again', '.', '▁The', 're', '▁was', '▁no', '▁', 'n', 'e', 'ed', '▁for', '▁', 'all', '▁of', '▁this', '▁f', 'o', 'o', 't', 'age', '▁', '-', '▁on', 'ly', '▁to', '▁creat', 'e', '▁a', '▁so', 'f', 't', '▁', 'p', 'or', 'n', '▁film', '.', '▁', 'O', 'f', '▁', 'c', 'ou', 'r', 's', 'e', '▁we', '▁ha', 'd', '▁to', '▁see', '▁the', '▁he', 'ro', 'in', '▁of', '▁the', '▁movie', '▁hav', 'ing', '▁s', 'e', 'x', '▁for', '▁abo', 'ut', '▁', '2', '▁mi', 'n', 'ut', 'es', '.', '▁I', '▁do', 'n', \"'\", 't', '▁know', '▁wh', 'at', '▁', 'all', '▁this', '▁ha', 'd', '▁to', '▁do', '▁w', 'ith', '▁the', '▁actual', '▁', 'p', 'lo', 't', '▁of', '▁the', '▁movie', '▁', '-', 'e', 'x', 'cept', '▁I', '▁a', 's', 's', 'u', 'm', 'e', '▁to', '▁g', 'e', 't', '▁me', 'n', '▁to', '▁watch', '▁it', '.', '▁I', '▁g', 'a', 'v', 'e', '▁it', '▁', '1', '▁out', '▁of', '▁', '1', '0', '▁on', 'ly', '▁be', 'caus', 'e', '▁the', 're', '▁was', '▁no', '▁', 'o', 'th', 'er', '▁ra', 't', 'ing', '▁', 'lo', 'w', 'er', '.', '▁', 'D', 'on', \"'\", 't', '▁was', 't', 'e', '▁you', 'r', '▁mo', 'n', 'e', 'y', '▁', 'or', '▁time', '-', '▁it', '▁ha', 's', '▁no', 'thing', '▁to', '▁do', '▁w', 'ith', '▁s', 'c', 'i', 'e', 'nce', '▁f', 'ic', 'tion', '▁bu', 't', '▁ra', 'th', 'er', '▁a', '▁movie', '▁for', '▁you', 'n', 'g', '▁a', 'd', 'o', 'le', 's', 'cent', '▁bo', 'y', 's', '▁to', '▁watch', '▁to', '▁see', '▁', 't', '&', 'a', '.', '▁The', '▁creat', 'u', 're', '▁was', '▁show', 'n', '▁on', 'ly', '▁mo', 're', '▁tha', 'n', '▁ha', 'l', 'f', '▁w', 'a', 'y', '▁thro', 'ugh', '▁the', '▁movie', '▁', 'and', '▁', 'look', 'ed', '▁like', '▁the', '▁', 'al', 'i', 'en', '▁in', '▁the', '▁movie', '▁w', 'ith', '▁S', 'i', 'g', 'n', 'or', 'n', 'e', 'y', '▁', 'W', 'e', 'a', 'v', 'er', '.', '▁', 'P', 'o', 'or', '▁ex', 'c', 'u', 's', 'e', '▁for', '▁', 'en', 't', 'er', 't', 'a', 'in', 'ment', '.'],['▁I', 'n', '▁this', '▁h', 'o', 'rrible', '▁at', 't', 'e', 'm', 'p', 't', '▁at', '▁a', '▁Bla', 'i', 'r', '▁', 'W', 'it', 'ch', '▁mo', 'ck', 'u', 'ment', 'ar', 'y', ',', '▁a', '▁bu', 'n', 'ch', '▁of', '▁', 'people', '▁g', 'o', '▁to', '▁Africa', '▁to', '▁in', 'v', 'e', 'st', 'i', 'g', 'at', 'e', '▁a', '▁creat', 'u', 're', '▁ca', 'll', 'ed', '▁the', '▁', 'H', 'al', 'f', '-', 'C', 'a', 'st', 'e', '.', '▁It', \"'\", 's', '▁pre', 't', 't', 'y', '▁', 'o', 'b', 'v', 'i', 'ou', 's', '▁that', '▁the', 're', '▁was', '▁no', '▁script', '▁to', '▁spe', 'a', 'k', '▁of', ',', '▁', 'and', '▁that', '▁', 'e', 'very', 'thing', '▁was', '▁', 'imp', 'ro', 'v', 'i', 's', 'ed', '.', '▁T', 'hat', '▁can', '▁work', '▁', 'if', '▁you', '▁hav', 'e', '▁good', '▁actors', ',', '▁whi', 'ch', '▁this', '▁film', '▁did', 'n', \"'\", 't', '.', '▁', '<', 'br', '▁/>', '<', 'br', '▁/>', 'T', 'his', '▁movie', '▁', 't', 'ries', '▁to', '▁g', 'a', 'in', '▁', 'point', 's', '▁for', '▁', 'or', 'i', 'g', 'in', 'al', 'it', 'y', '▁b', 'y', '▁ex', 'p', 'lo', 'r', 'ing', '▁a', '▁mo', 're', '▁', 'o', 'b', 's', 'c', 'u', 're', '▁', 'm', 'y', 'th', '▁', 'and', '▁an', '▁ex', 'o', 't', 'ic', '▁', 'c', 'u', 'l', 't', 'u', 're', '.', '▁A', 's', '▁a', '▁', 're', 's', 'u', 'l', 't', ',', '▁the', 're', '▁a', 're', '▁a', '▁', 'lo', 't', '▁of', '▁scenes', '▁out', '▁in', '▁the', '▁bu', 's', 'h', '▁wh', 'e', 're', '▁character', 's', '▁do', '▁\"', 'q', 'u', 'i', 'r', 'k', 'y', '▁Africa', 'n', '▁', 'st', 'u', 'f', 'f', '\"', '▁like', '▁', 'e', 'at', 'ing', '▁', 'e', 'le', 'p', 'h', 'ant', '▁', 'd', 'u', 'n', 'g', '.', '▁The', 're', '▁is', '▁', 'al', 's', 'o', '▁some', '▁pre', 't', 't', 'y', '▁good', '▁f', 'o', 'o', 't', 'age', '▁of', '▁li', 'on', 's', '▁', 'e', 'at', 'ing', '▁', '(', 'f', 'rom', '▁a', '▁', 'N', 'ation', 'al', '▁', 'G', 'e', 'o', 'g', 'r', 'a', 'p', 'h', 'ic', '▁', 'p', 'er', 'spect', 'i', 'v', 'e', ')', '▁bu', 't', '▁the', 're', \"'\", 's', '▁not', '▁a', '▁s', 'ing', 'le', '▁s', 'c', 'a', 're', '▁in', '▁the', '▁wh', 'o', 'le', '▁movie', '.', '▁', '<', 'br', '▁/>', '<', 'br', '▁/>', 'I', 'f', '▁you', \"'\", 'v', 'e', '▁see', 'n', '▁', 'C', 'an', 'n', 'i', 'b', 'al', '▁', 'H', 'o', 'lo', 'caus', 't', '▁', 'or', '▁the', '▁Bla', 'i', 'r', '▁', 'W', 'it', 'ch', '▁', 'P', 'ro', 'j', 'ect', ',', '▁this', '▁movie', '▁w', 'i', 'll', '▁h', 'old', '▁no', '▁su', 'r', 'pris', 'es', '▁for', '▁you', ',', '▁', 'and', '▁you', '▁can', '▁pro', 'b', 'ably', '▁watch', '▁be', 'tter', '▁li', 'on', '▁f', 'o', 'o', 't', 'age', '▁on', '▁the', '▁', 'D', 'i', 's', 'c', 'o', 'very', '▁', 'C', 'h', 'an', 'n', 'el', '.', '<', 'br', '▁/>', '<', 'br', '▁/>', 'D', 'e', 'f', 'in', 'it', 'e', 'ly', '▁a', '▁', 'H', 'al', 'f', '-', '▁A', 'st', 'e', '▁', 'e', 'f', 'f', 'or', 't', '.', '▁', '<', 'br', '▁/>', '<', 'br', '▁/>', 'A', '▁not', 'e', '▁to', '▁the', '▁film', 'm', 'a', 'k', 'er', 's', ':', '▁g', 'u', 'y', 's', ',', '▁do', '▁', 'u', 's', '▁', 'all', '▁a', '▁f', 'a', 'v', 'or', '▁', 'and', '▁', 'n', 'e', 'x', 't', '▁time', '▁s', 'a', 'v', 'e', '▁the', '▁\"', 'How', '▁I', '▁spe', 'n', 't', '▁', 'm', 'y', '▁Africa', 'n', '▁', 'V', 'a', 'c', 'ation', '\"', '▁h', 'o', 'm', 'e', '▁movie', '▁for', '▁you', 'r', '▁f', 'a', 'm', 'i', 'ly', '▁', 'and', '▁', 'c', 'lo', 's', 'e', '▁f', 'r', 'i', 'en', 'd', 's', '.', '▁No', 'body', '▁', 'el', 's', 'e', '▁w', 'ant', 's', '▁to', '▁see', '▁it', '.'],['▁The', '▁spo', 'o', 'f', '▁g', 'en', 're', ',', '▁whi', 'ch', '▁ha', 's', '▁', 'l', 'a', 'ck', 'ed', '▁creat', 'i', 'v', 'it', 'y', '▁', 'and', '▁h', 'u', 'm', 'or', '▁for', '▁some', '▁time', '▁', 'al', 're', 'a', 'd', 'y', ',', '▁g', 'e', 't', 's', '▁s', 'p', 'at', '▁up', 'on', '▁', 'y', 'e', 't', '▁again', '▁b', 'y', '▁ha', 'ck', 's', '▁w', 'ith', '▁no', '▁', 't', 'al', 'en', 't', '.', '▁No', '▁', 'point', ',', '▁no', '▁fun', ',', '▁no', '▁', 'or', 'i', 'g', 'in', 'al', 'it', 'y', ';', '▁', 'j', 'u', 'st', '▁a', '▁f', 'e', 'w', '▁', 'ch', 'e', 'a', 'p', '▁bu', 'ck', 's', '▁for', '▁the', '▁film', '▁make', 'r', 's', '.', '▁', '<', 'br', '▁/>', '<', 'br', '▁/>', 'I', 't', '▁take', 's', '▁mo', 're', '▁tha', 'n', '▁', 'j', 'u', 'st', '▁referenc', 'ing', '▁some', '▁', 're', 'cent', '▁movie', 's', '▁', 'and', '▁', 'giving', '▁character', 's', '▁do', 'u', 'b', 'le', '-', 'm', 'e', 'an', 'ing', '▁', 'n', 'ame', 's', '▁to', '▁be', '▁s', 'at', 'i', 're', ';', '▁to', '▁make', '▁', 'people', '▁laugh', '.', '▁A', 'n', 'y', '▁', 'c', 'lo', 'd', '▁can', '▁', 'p', 'i', 'ck', '▁up', '▁a', '▁ca', 'm', '-', 'c', 'or', 'der', ',', '▁', 'and', '▁hav', 'e', '▁some', '▁bad', '-', 'act', 'ing', '▁bu', 'd', 'd', 'i', 'es', '▁in', '▁', 'ch', 'e', 'a', 'p', '▁', 'c', 'o', 'st', 'u', 'm', 'es', '▁', 'i', 'm', 'it', 'at', 'e', '▁some', 'body', '.', '▁S', 'i', 'nce', '▁the', '▁g', 'en', 're', '▁be', 'ing', '▁', 't', 'ar', 'g', 'e', 't', 'ed', '▁this', '▁time', '▁is', '▁in', 's', 'p', 'i', 'r', 'ation', 'al', '▁spo', 'r', 't', 's', '▁movie', 's', ',', '▁the', 're', '▁a', 're', '▁a', '▁f', 'e', 'w', '▁', 'l', 'ame', '▁referenc', 'es', '▁thro', 'w', 'n', '▁out', '▁to', '▁movie', 's', '▁of', '▁that', '▁', 't', 'y', 'p', 'e', ':', '▁the', '▁', 'j', 'o', 'k', 'es', '▁a', 're', '▁so', '▁we', 'a', 'k', '▁the', '▁character', 's', '▁actual', 'ly', '▁hav', 'e', '▁to', '▁', 'e', 'm', 'p', 'h', 'a', 's', 'i', 'z', 'e', '▁the', '▁referenc', 'es', '▁in', '▁', 'v', 'ar', 'i', 'ou', 's', '▁w', 'a', 'y', 's', ',', '▁to', '▁g', 'e', 't', '▁you', '▁to', '▁laugh', '▁h', 'y', 'st', 'er', 'ic', 'all', 'y', '.', '▁It', '▁does', 'n', \"'\", 't', '▁work', '.', '<', 'br', '▁/>', '<', 'br', '▁/>', 'T', 'hat', \"'\", 's', '▁not', '▁com', 'ed', 'y', '.', '▁', 'How', 'ever', ',', '▁the', '▁s', 'ame', '▁', 'old', '▁w', 'or', 'n', '▁out', '▁so', 'phom', 'or', 'ic', '▁\"', 'j', 'o', 'k', 'es', '\"', '▁', 'r', 'i', 'p', 'p', 'ed', '▁of', 'f', '▁f', 'rom', '▁a', '▁mi', 'd', 'd', 'le', '▁s', 'ch', 'o', 'o', 'l', '▁was', 'h', 'ro', 'o', 'm', '▁', '(', 'd', 'on', 'e', '▁even', '▁mo', 're', '▁b', 'l', 'and', 'ly', '▁tha', 'n', '▁', 'u', 's', 'u', 'al', ')', '▁a', 're', '▁', 'all', '▁he', 're', '.', '▁I', 'f', '▁that', \"'\", 's', '▁not', '▁enough', ',', '▁the', 're', \"'\", 's', '▁a', '▁run', 'n', 'ing', '▁\"', 'g', 'a', 'g', '\"', '▁of', '▁a', '▁bu', 's', '▁run', 'n', 'ing', '▁some', 'body', '▁over', '.', '▁S', 'o', '▁fun', 'n', 'y', ',', '▁', 'r', 'ight', '?', '▁A', 'l', 's', 'o', ',', '▁one', '▁', 'p', 'a', 'th', 'e', 't', 'ic', 'all', 'y', '▁', 'p', 'o', 'or', '▁s', 'c', 'en', 'e', '▁does', '▁mo', 're', '▁produc', 't', '▁place', 'ment', '▁tha', 'n', '▁M', 'i', 'ch', 'a', 'el', '▁B', 'a', 'y', ';', '▁again', '▁w', 'ith', '▁the', '▁s', 'ame', '▁un', 'f', 'u', 'n', 'n', 'y', '▁', 're', 's', 'u', 'l', 't', 's', '.', '▁A', '▁music', 'al', '▁b', 'it', '▁f', 'lo', 'p', 's', '▁mi', 's', 'er', 'ably', '.', '▁', 'P', 'it', 'y', '▁', 'C', 'ar', 'l', '▁', 'W', 'e', 'a', 'th', 'er', 's', ',', '▁', 'o', 'nce', '▁A', 'p', 'o', 'll', 'o', '▁', 'C', 're', 'ed', '▁in', '▁the', '▁R', 'o', 'ck', 'y', '▁s', 'e', 'ries', ',', '▁no', 'w', '▁', 'st', 'u', 'ck', '▁w', 'ith', '▁', 'ro', 'le', 's', '▁in', '▁s', 'w', 'i', 'll', '▁like', '▁this', '.', '<', 'br', '▁/>', '<', 'br', '▁/>', 'L', 'ou', 's', 'y', '▁be', 'y', 'on', 'd', '▁w', 'or', 'd', 's', '.', '▁', 'W', 'at', 'ch', 'ing', '▁a', '▁s', 'n', 'a', 'il', '▁run', '▁the', '▁ma', 'r', 'a', 'th', 'on', '▁w', 'ould', '▁be', '▁', 'less', '▁', 't', 'ed', 'i', 'ou', 's', '▁tha', 'n', '▁watch', 'ing', '▁this', '▁film', '▁is', '.', '▁', 'P', 'ro', 'b', 'ably', '▁a', '▁', 'lo', 't', '▁fun', 'n', 'i', 'er', ',', '▁to', 'o', '.'],['▁I', '▁was', '▁a', '▁hippie', '▁', 'age', '▁', '2', '2', '▁in', '▁', '1', '9', '6', '5', ',', '▁hav', 'e', '▁see', 'n', '▁the', '▁play', '▁', '5', '▁time', 's', ',', '▁hav', 'e', '▁', '2', '▁', 'v', 'er', 's', 'i', 'on', 's', '▁of', '▁the', '▁music', ',', '▁', 'and', '▁hav', 'e', '▁', 're', 'a', 'd', '▁the', '▁script', '▁man', 'y', '▁time', 's', '.', '▁M', 'a', 'y', 'b', 'e', '▁take', 'n', '▁a', 's', '▁an', '▁s', 'e', 'p', 'ar', 'at', 'e', '▁', 'thing', ',', '▁the', '▁movie', '▁is', '▁', 'O', 'K', ',', '▁bu', 't', '▁a', 's', '▁an', '▁a', 'd', 'o', 'p', 'tion', '▁of', '▁the', '▁play', ',', '▁it', \"'\", 's', '▁', 't', 'e', 'rrible', '.', '<', 'br', '▁/>', '<', 'br', '▁/>', 'F', 'i', 'r', 'st', '▁the', '▁good', '.', '▁The', '▁song', 's', '▁a', 're', '▁su', 'n', 'g', '▁we', 'll', ',', '▁', 'and', '▁the', '▁produc', 'tion', '▁', 'v', 'al', 'u', 'es', '▁a', 're', '▁pre', 't', 't', 'y', '▁good', '.', '▁The', '▁h', 'o', 'm', 'o', 's', 'e', 'x', 'u', 'al', '▁', 'imp', 'l', 'ic', 'ation', 's', '▁in', '▁Bla', 'ck', '▁B', 'o', 'y', 's', ',', '▁', 'W', 'h', 'it', 'e', '▁B', 'o', 'y', 's', '▁is', '▁', 'c', 'ut', 'e', '.', '▁The', '▁', 'Claude', '/', 'B', 'er', 'g', 'er', '▁s', 'w', 'it', 'ch', '▁was', '▁interest', 'ing', '.', '▁', 'H', 'a', 'i', 'r', '▁is', '▁a', '▁f', 'l', 'u', 'i', 'd', '▁produc', 'tion', ',', '▁', 'and', '▁con', 'st', 'ant', '▁change', 's', '▁in', '▁it', '▁a', 're', '▁in', 'h', 'er', 'en', 't', '▁pro', 'v', 'i', 'd', 'ed', '▁the', '▁bas', 'ic', '▁spirit', '▁of', '▁it', '▁is', '▁', 're', 't', 'a', 'in', 'ed', '.', '<', 'br', '▁/>', '<', 'br', '▁/>', 'B', 'ut', '▁the', '▁bas', 'ic', '▁spirit', '▁was', '▁', 'very', '▁', 'm', 'u', 'ch', '▁di', 'st', 'or', 't', 'ed', '.', '▁It', '▁see', 'm', 'ed', '▁like', '▁', 'all', '▁the', '▁produc', 'er', '▁w', 'ant', 'ed', '▁was', '▁to', '▁s', 'ing', '▁', 'c', 'er', 't', 'a', 'in', '▁song', 's', ',', '▁', 'and', '▁f', 'it', '▁the', '▁story', '-', 'line', '▁to', '▁the', 'm', '▁', 're', 'g', 'ar', 'd', 'less', '▁of', '▁wh', 'at', '▁that', '▁did', '▁to', '▁the', '▁', 'or', 'i', 'g', 'in', 'al', '▁in', 't', 'en', 't', '▁of', '▁the', '▁play', '.', '<', 'br', '▁/>', '<', 'br', '▁/>', 'Claude', ',', '▁Sheila', ',', '▁', 'and', '▁', 'H', 'u', 'd', '▁we', 're', '▁pre', 's', 'en', 't', 'ed', '▁a', 's', '▁a', '▁s', 'el', 'f', 'i', 's', 'h', '▁', 'br', 'at', 's', '▁wh', 'o', '▁could', '▁ca', 're', '▁', 'less', '▁abo', 'ut', '▁an', 'y', 'on', 'e', '▁out', 's', 'i', 'd', 'e', '▁the', 'i', 'r', '▁', 't', 'r', 'i', 'b', 'e', '.', '▁', 'Claude', '▁', 'd', 'e', 'st', 'ro', 'y', 'ed', '▁Sheila', \"'\", 's', '▁parents', '▁part', 'y', '▁', '(', 'it', \"'\", 's', '▁ha', 'r', 'd', '▁to', '▁believ', 'e', '▁that', '▁sh', 'e', '▁s', 'm', 'il', 'ed', '▁whi', 'le', '▁he', 'r', '▁parents', '▁we', 're', '▁be', 'ing', '▁h', 'u', 'r', 't', ')', ',', '▁', 'and', '▁', 're', 'p', 'e', 'at', 'ed', 'ly', '▁', 'st', 'o', 'le', '▁ca', 'r', 's', '.', '▁Sheila', '▁', 'st', 'o', 'le', '▁the', '▁s', 'old', 'i', 'er', \"'\", 's', '▁', 'c', 'lo', 'th', 'es', '▁', 'and', '▁ca', 'r', '.', '▁The', 'n', '▁sh', 'e', '▁', 'le', 'f', 't', '▁h', 'i', 'm', '▁in', '▁the', '▁mi', 'd', 'd', 'le', '▁of', '▁the', '▁', 'd', 'es', 'er', 't', '▁wh', 'e', 're', '▁he', '▁w', 'ould', '▁', 'c', 'er', 't', 'a', 'in', 'ly', '▁su', 'n', 'b', 'urn', '▁bad', 'ly', ',', '▁pro', 'b', 'ably', '▁be', '▁bu', 'st', 'ed', '▁in', '▁ra', 'n', 'k', ',', '▁', 'and', '▁could', '▁like', 'ly', '▁di', 'e', '▁on', '▁that', '▁', 'lo', 'n', 'e', 'ly', '▁', 'N', 'e', 'v', 'a', 'd', 'a', '▁', 'ro', 'a', 'd', '.', '▁', 'G', 'ood', '▁fun', '.', '▁A', 'n', 'd', '▁', 'H', 'u', 'd', '▁f', 'ound', '▁it', '▁f', 'in', 'e', '▁to', '▁b', 're', 'a', 'k', '▁', 'his', '▁so', 'n', \"'\", 's', '▁he', 'ar', 't', '▁whi', 'le', '▁', 'y', 'e', 'll', 'ing', '▁at', '▁', 'his', '▁ex', '.', '▁T', 'his', '▁is', '▁not', '▁wh', 'at', '▁hippie', 's', '▁we', 're', '▁like', ',', '▁not', '▁wh', 'at', '▁the', '▁play', '▁', 'd', 'es', 'c', 'r', 'i', 'b', 'ed', ',', '▁', 'and', '▁is', '▁di', 'r', 'ect', 'ly', '▁', 'o', 'p', 'p', 'o', 's', 'it', 'e', '▁to', '▁a', '▁', 'lo', 'v', 'e', '▁g', 'en', 'er', 'ation', '.', '<', 'br', '▁/>', '<', 'br', '▁/>', 'I', \"'\", 'v', 'e', '▁', 'n', 'ever', '▁see', 'n', '▁a', '▁hippie', '▁be', 'g', '▁for', '▁mo', 'n', 'e', 'y', '.', '▁The', '▁', 'point', '▁was', '▁to', '▁be', '▁s', 'el', 'f', '-', 's', 'u', 'f', 'f', 'ic', 'i', 'en', 't', '▁out', 's', 'i', 'd', 'e', '▁the', '▁ca', 'p', 'it', 'al', 'i', 'st', '▁s', 'y', 'st', 'e', 'm', ',', '▁not', '▁be', 'g', '▁f', 'rom', '▁it', '.', '<', 'br', '▁/>', '<', 'br', '▁/>', 'A', 'f', 't', 'er', '▁B', 'er', 'g', 'er', '▁is', '▁thro', 'w', 'n', '▁in', '▁', 'j', 'a', 'il', '▁for', '▁ruin', 'ing', '▁Sheila', \"'\", 's', '▁part', 'y', '▁', 'and', '▁', 'Claude', '▁of', 'f', 'er', 's', '▁to', '▁bail', '▁some', '▁out', ',', '▁B', 'er', 'g', 'er', '▁in', 's', 'i', 'st', 's', '▁on', '▁be', 'ing', '▁bail', 'ed', '▁instead', ',', '▁w', 'ith', '▁no', '▁be', 'tter', '▁', 'p', 'l', 'an', '▁for', '▁bail', 'ing', '▁the', '▁', 're', 'st', '▁that', '▁h', 'it', 't', 'ing', '▁on', '▁Sheila', \"'\", 's', '▁parents', ',', '▁', 'and', '▁the', 'n', '▁h', 'it', 't', 'ing', '▁on', '▁', 'his', '▁', 'o', 'w', 'n', '▁mo', 'm', 'm', 'y', '.', '<', 'br', '▁/>', '<', 'br', '▁/>', '\"', 'B', 'e', '▁I', 'n', '\"', '▁ha', 's', '▁', 'al', 'w', 'a', 'y', 's', '▁be', 'en', '▁a', '▁', 'very', '▁spirit', 'u', 'al', '▁', 'point', ',', '▁bu', 't', '▁he', 're', '▁it', '▁is', '▁was', 't', 'ed', '▁on', '▁s', 'il', 'ly', '▁', 'br', 'i', 'd', 'es', '▁f', 'lo', 'at', 'ing', '▁', 'ar', 'ound', '.', '▁', 'E', 'v', 'en', '▁', 'if', '▁this', '▁is', '▁part', '▁of', '▁', 'his', '▁', 't', 'r', 'i', 'p', ',', '▁it', '▁ruin', 's', '▁a', '▁be', 'a', 'ut', 'i', 'ful', '▁song', '.', '▁I', '▁know', '▁the', 'y', \"'\", 're', '▁con', 't', 'r', 'a', 'st', 'ing', '▁\"', 'F', 'lo', 'at', 'ing', '▁I', 'n', '▁S', 'pace', '\"', '▁w', 'ith', '▁the', '▁A', 'r', 'm', 'y', '.', '▁B', 'ut', '▁again', ',', '▁it', '▁to', 't', 'all', 'y', '▁ruin', 's', '▁a', '▁be', 'a', 'ut', 'i', 'ful', '▁song', '.', '<', 'br', '▁/>', '<', 'br', '▁/>', 'W', 'h', 'i', 'le', '▁Sheila', '▁', 'and', '▁', 'Claude', '▁a', 're', '▁s', 'k', 'in', 'n', 'y', '▁di', 'p', 'p', 'ing', ',', '▁B', 'er', 'g', 'er', '▁', 'st', 'e', 'al', 's', '▁the', 'i', 'r', '▁', 'c', 'lo', 'th', 'es', ',', '▁laugh', 'ing', '▁\"', 'it', '▁was', '▁fun', '▁man', '\"', '▁even', '▁a', 'f', 't', 'er', '▁he', '▁could', '▁see', '▁bo', 'th', '▁we', 're', '▁', 'very', '▁an', 'n', 'o', 'y', 'ed', '.', '▁The', 'n', '▁a', '▁li', 't', 't', 'le', '▁', 'l', 'at', 'er', ',', '▁B', 'er', 'g', 'er', '▁does', '▁one', '▁', 'thing', '▁that', '▁no', '▁hippie', '▁', 'ever', '▁does', '.', '▁', 'H', 'e', '▁h', 'it', 's', '▁', 'Claude', '.', '▁T', 'e', 'rrible', '.', '<', 'br', '▁/>', '<', 'br', '▁/>', 'The', 'n', '▁the', 'y', '▁hav', 'e', '▁the', '▁', 'p', 'er', 'f', 'ect', '▁', 'o', 'p', 'p', 'or', 't', 'u', 'n', 'it', 'y', '▁to', '▁s', 'ing', '▁\"', 'S', 't', 'ar', 's', 'h', 'in', 'e', '\"', '▁at', '▁', 'n', 'ight', '▁in', '▁some', '▁be', 'a', 'ut', 'i', 'ful', '▁S', 'F', '▁spo', 't', '▁w', 'ith', '▁the', '▁', 'st', 'ar', 's', '▁', 't', 'w', 'in', 'k', 'l', 'ing', '▁down', ',', '▁ma', 'y', 'b', 'e', '▁work', 'ing', '▁in', 't', 'o', '▁an', '▁in', 'v', 'en', 't', 'i', 'v', 'e', '▁', 'd', 'u', 'e', 't', '.', '▁I', 'n', 'st', 'e', 'a', 'd', ',', '▁the', '▁wh', 'o', 'le', '▁', 't', 'r', 'i', 'b', 'e', '▁s', 'ing', 's', '▁it', '▁in', '▁the', '▁b', 'l', 'a', 'z', 'ing', '▁su', 'n', '▁spe', 'ed', 'ing', '▁down', '▁the', '▁', 'ro', 'a', 'd', '▁in', '▁a', '▁con', 'v', 'er', 't', 'i', 'b', 'le', '▁', '(', 'st', 'o', 'le', 'n', '▁of', '▁', 'c', 'ou', 'r', 's', 'e', ')', '.', '<', 'br', '▁/>', '<', 'br', '▁/>', 'I', '▁was', '▁', 'v', 'a', 'st', 'ly', '▁di', 's', 'a', 'p', 'point', 'ed', '▁w', 'ith', '▁the', '▁movie', '▁in', '▁', '1', '9', '7', '9', ',', '▁', 'and', '▁I', '▁like', '▁it', '▁even', '▁', 'less', '▁no', 'w', '.', '▁I', '▁', 'th', 'in', 'k', '▁it', '▁w', 'ould', '▁hav', 'e', '▁be', 'en', '▁', 'possibl', 'e', '▁to', '▁do', '▁a', '▁reason', 'ably', '▁', 'c', 'lo', 's', 'e', '▁a', 'd', 'o', 'p', 'tion', '▁of', '▁the', '▁show', ',', '▁bu', 't', '▁this', '▁a', 'in', \"'\", 't', '▁it', '.'],['▁', 'O', 'n', 'ly', '▁a', '▁', 'very', '▁s', 'm', 'all', '▁child', '▁could', '▁over', 'look', '▁the', '▁a', 'b', 's', 'u', 'r', 'd', 'it', 'i', 'es', '▁in', '▁this', '▁bo', 'm', 'b', ';', '▁the', '▁first', '▁di', 'f', 'f', 'ic', 'u', 'l', 't', 'y', '▁f', 'a', 'c', 'ed', '▁b', 'y', '▁the', '▁su', 'b', 'm', 'ar', 'in', 'e', '▁\"', 'S', 'e', 'a', 'v', 'i', 'e', 'w', '\"', '▁is', '▁wh', 'at', '▁a', 'p', 'p', 'e', 'ar', '▁to', '▁be', '▁', 'ch', 'u', 'n', 'k', 's', '▁of', '-', '-', 'ro', 'ck', '?', '▁f', 'all', 'ing', '▁down', '▁thro', 'ugh', '▁the', '▁w', 'at', 'er', '▁', 'and', '▁', 'c', 'r', 'a', 's', 'h', 'ing', '▁in', 't', 'o', '▁it', 's', '▁h', 'ull', '.', '▁B', 'ut', '▁it', \"'\", 's', '▁not', '▁', 'ro', 'ck', ',', '▁the', 'y', \"'\", 're', '▁un', 'der', '▁the', '▁No', 'r', 'th', '▁', 'P', 'o', 'le', '-', '-', 'it', '▁is', '▁I', 'C', 'E', '!', '▁', 'E', 'very', 'body', ',', '▁ex', 'cept', '▁', 'possibl', 'y', '▁h', 'ith', 'er', 't', 'o', '▁me', 'n', 'tion', 'ed', '▁s', 'm', 'all', '▁child', 're', 'n', '▁', '(', 'and', '▁even', '▁some', '▁of', '▁the', 'm', ')', '▁know', '▁that', '▁I', 'C', 'E', '▁', 'F', 'L', 'O', 'A', 'T', 'S', '.', '<', 'br', '▁/>', '<', 'br', '▁/>', 'The', 'n', ',', '▁di', 's', 'a', 'st', 'er', '▁', 'st', 'r', 'i', 'k', 'es', '-', '-', 't', 'hat', '▁', 'd', 'ar', 'n', '▁', 'V', 'A', 'N', '▁A', 'L', 'L', 'E', 'N', '▁R', 'A', 'D', 'I', 'A', 'T', 'I', 'O', 'N', '▁B', 'E', 'L', 'T', '▁', 'ar', 'ound', '▁the', '▁', 'E', 'ar', 'th', '▁ca', 't', 'ch', 'es', '▁fire', '!', '▁No', '▁one', '▁know', 's', '▁how', '▁this', '▁ha', 'p', 'p', 'en', 'ed', ',', '▁we', '▁a', 're', '▁', 't', 'old', ',', '▁whi', 'ch', '▁is', '▁understand', 'able', ',', '▁be', 'caus', 'e', '▁it', '▁is', '▁', 'u', 'tter', 'ly', '▁', 'i', 'm', 'possibl', 'e', '▁for', '▁ra', 'd', 'i', 'ation', '▁to', '▁\"', 'c', 'at', 'ch', '▁fire', '\"', ',', '▁', 'and', '▁even', '▁', 'if', '▁it', '▁could', ',', '▁the', 're', '▁is', '▁', 'N', 'O', '▁A', 'I', 'R', '▁I', 'N', '▁S', 'P', 'A', 'C', 'E', '▁for', '▁it', '▁to', '▁b', 'urn', '.', '<', 'br', '▁/>', '<', 'br', '▁/>', 'The', 're', '▁is', '▁li', 't', 'er', 'all', 'y', '▁no', '▁good', '▁reason', '▁to', '▁over', 'look', '▁s', 'c', 'i', 'e', 'nce', '▁con', 'cept', 's', '▁bas', 'ic', '▁to', '▁', '2', 'n', 'd', '▁g', 'r', 'a', 'd', 'e', '▁s', 'ch', 'o', 'o', 'l', '▁', 't', 'e', 'x', 't', 'b', 'o', 'o', 'k', 's', '▁wh', 'en', '▁ma', 'k', 'ing', '▁a', '▁film', ';', '▁how', 'ever', ',', '▁I', 'r', 'w', 'in', '▁A', 'll', 'en', '▁man', 'age', 's', '▁to', '▁do', '▁it', '▁again', '▁', 'and', '▁again', ';', '▁', 'p', 'er', 'h', 'a', 'p', 's', '▁we', '▁a', 're', '▁me', 'ant', '▁to', '▁f', 'o', 'c', 'u', 's', '▁on', '▁the', '▁\"', 'people', '\"', '▁instead', ',', '▁whi', 'ch', '▁is', '▁pre', 't', 't', 'y', '▁', 'e', 'a', 's', 'y', ',', '▁a', 's', '▁the', 'y', '▁a', 're', '▁', 'C', 'A', 'R', 'D', 'B', 'O', 'A', 'R', 'D', '.', '<', 'br', '▁/>', '<', 'br', '▁/>', 'The', '▁ca', 'st', '▁', 't', 'ries', '▁', 'very', '▁ha', 'r', 'd', '▁not', '▁to', '▁', 'look', '▁', 'e', 'm', 'b', 'ar', 'r', 'a', 's', 's', 'ed', '▁in', '▁this', '▁', 'r', 'i', 'd', 'ic', 'u', 'lo', 'u', 's', '▁su', 'b', '-', 'k', 'i', 'd', 'd', 'i', 'e', '▁', 'rom', 'p', ',', '▁', 'm', 'u', 'ch', '▁like', '▁', 'l', 'at', 'er', '▁', 'e', 'p', 'i', 's', 'o', 'd', 'es', '▁of', '▁', 'his', '▁\"', 'L', 'o', 'st', '▁in', '▁S', 'pace', '\"', '▁T', 'V', '▁s', 'e', 'ries', ',', '▁the', '▁con', 'cept', '▁of', '▁whi', 'ch', '▁was', '▁s', 'w', 'i', 'p', 'ed', '▁out', 'r', 'ight', '▁f', 'rom', '▁writ', 'er', '▁I', 'b', '▁M', 'el', 'ch', 'i', 'or', '▁', 'and', '▁the', 'n', '▁', 'r', 'u', 's', 'h', 'ed', '▁in', 't', 'o', '▁produc', 'tion', '.', '<', 'br', '▁/>', '<', 'br', '▁/>', 'The', '▁su', 'b', '▁', 'look', 's', '▁pre', 't', 't', 'y', '▁good', ',', '▁', 'th', 'o', 'ugh', ',', '▁whi', 'ch', '▁is', '▁wh', 'y', '▁this', '▁one', '▁g', 'e', 't', 's', '▁a', '▁\"', '2', '\"', '.'],['▁', 'W', 'hat', '▁an', '▁a', 'w', 'ful', '▁movie', '.', '▁', 'F', 'ull', '▁of', '▁', 'c', 'l', 'i', 'ch', 'es', ',', '▁', 'p', 'er', 'p', 'le', 'x', 'ing', '▁scenes', ',', '▁', 'very', '▁bad', '▁acting', ',', '▁', 'and', '▁an', '▁at', 'ro', 't', 'i', 'ou', 's', '▁script', '.', '▁It', '▁is', '▁ha', 'r', 'd', '▁to', '▁believ', 'e', '▁the', '▁s', 'ame', '▁g', 'u', 'y', 's', '▁that', '▁w', 'ro', 't', 'e', '▁The', '▁', 'P', 'e', 'o', 'p', 'le', '▁', 'v', 's', '.', '▁', 'L', 'ar', 'r', 'y', '▁', 'F', 'l', 'in', 't', '▁', 'and', '▁M', 'an', '▁on', '▁the', '▁M', 'o', 'on', '▁w', 'ro', 't', 'e', '▁this', '▁g', 'ar', 'b', 'age', '.', '▁M', 'an', ',', '▁this', '▁make', 's', '▁', 'm', 'y', '▁li', 'st', '▁of', '▁T', 'o', 'p', '▁', '1', '0', '▁', 'W', 'or', 'st', '▁M', 'o', 'v', 'i', 'es', '▁of', '▁A', 'll', '-', 'T', 'i', 'm', 'e', '.', '▁', 'D', 'i', 'd', 'n', \"'\", 't', '▁this', '▁g', 'u', 'y', ',', '▁this', '▁director', ',', '▁', 'if', '▁you', '▁can', '▁ca', 'll', '▁h', 'i', 'm', '▁that', ',', '▁', 're', 'al', 'i', 'z', 'e', '▁that', '▁the', '▁first', '▁', 'P', 'ro', 'b', 'le', 'm', '▁', 'C', 'h', 'il', 'd', '▁was', '▁bad', '▁enough', '?', '▁', 'L', 'e', 't', '▁', 'al', 'on', 'e', '▁make', '▁a', '▁s', 'e', 'q', 'u', 'el', '▁for', '▁it', '!', '!', '?', '?', '▁A', 'm', 'a', 'z', 'ing', '▁that', '▁', 'p', 'i', 'e', 'c', 'e', '▁of', '▁', 't', 'r', 'a', 's', 'h', '▁film', 's', '▁like', '▁this', '▁can', '▁be', '▁show', 'n', '▁to', '▁child', 're', 'n', '▁', 'le', 't', '▁', 'al', 'on', 'e', '▁be', '▁', 're', 'le', 'a', 's', 'ed', '!', '▁', '1', '▁out', '▁of', '▁', '1', '0', '▁', '*', \"'\", 's'],['▁', 'N', 'a', 'a', 'ch', '▁w', 'ould', '▁hav', 'e', '▁w', 'on', '▁an', '▁R', 'a', 'z', 'z', 'i', 'e', '▁for', '▁the', '▁', 'W', 'or', 'st', '▁', 'F', 'il', 'm', '▁in', '▁', '2', '0', '0', '4', '▁', '(', 'm', 'a', 'y', '▁be', '▁over', 'all', '▁to', 'o', ')', '▁', 'if', '▁it', '▁we', 're', '▁g', 'lo', 'b', 'al', '.', '▁', 'W', 'h', 'en', '▁it', '▁com', 'es', '▁acting', '▁bad', 'ly', '▁', '(', 'a', 'k', 'a', '▁show', 'ing', '▁at', 't', 'it', 'u', 'd', 'e', '/', 'y', 'a', 'w', 'n', 'ing', '/', 'o', 'v', 'er', '▁', '(', 'n', 'o', 't', ')', '▁acting', ')', '▁', 'H', 'all', 'e', '▁B', 'er', 'r', 'y', '▁is', '▁no', '▁ma', 't', 'ch', '▁for', '▁Antra', '▁M', 'all', 'i', '.', '▁', 'W', 'h', 'i', 'le', '▁the', '▁ca', 't', 'w', 'o', 'm', 'an', '▁ha', 'd', '▁', 'st', 'o', 're', 'line', ',', '▁su', 'p', 'p', 'o', 's', 'ed', 'ly', '▁h', 'o', 't', '▁', 'act', 're', 's', 's', '▁in', '▁mi', 'c', 'ro', 's', 'c', 'o', 'p', 'ic', '▁', 'c', 'o', 'st', 'u', 'm', 'e', ',', '▁', 'and', '▁some', '▁action', '▁sequences', ',', '▁', 'N', 'a', 'a', 'ch', '▁ha', 'd', '▁no', 'thing', '▁at', '▁', 'all', '.', '<', 'br', '▁/>', '<', 'br', '▁/>', 'O', 'n', 'e', '▁of', '▁', 'th', 'o', 's', 'e', '▁movie', 's', '▁whi', 'ch', '▁make', 's', '▁me', '▁w', 'on', 'der', '▁wh', 'y', '▁I', 'M', 'D', 'b', '▁does', '▁', 'all', 'o', 'w', '▁one', '▁to', '▁ra', 't', 'e', '▁a', '▁movie', '▁a', 's', '▁', '0', '/', '1', '0', '.', '▁', 'Y', 'e', 't', '▁again', ',', '▁I', '▁', 'th', 'in', 'k', '▁that', '▁movie', '▁does', '▁not', '▁even', '▁', 'd', 'es', 'er', 'v', 'e', '▁a', '▁', '0', '.', '▁It', '▁ha', 's', '▁to', '▁be', '▁some', 'thing', '▁', 'n', 'e', 'g', 'at', 'i', 'v', 'e', '▁', 'or', '▁mi', 'n', 'u', 's', '▁in', 'f', 'in', 'it', 'y', '.', '<', 'br', '▁/>', '<', 'br', '▁/>', 'O', 'K', '▁wh', 'at', '▁abo', 'ut', '▁the', '▁', 'p', 'lo', 't', '▁out', 'line', '?', '▁It', '▁is', '▁a', '▁fun', 'd', 'a', '-', 'giving', ',', '▁', 'ar', 'ro', 'g', 'ant', ',', '▁f', 'ull', '▁of', '▁at', 't', 'it', 'u', 'd', 'e', '▁', 'ch', 'o', 're', 'o', 'g', 'r', 'a', 'p', 'h', 'er', '▁me', 'e', 't', '▁an', '▁', 'u', 's', 'e', 'less', ',', '▁s', 'k', 'i', 'll', '-', 'less', ',', '▁', 'lo', 'a', 'f', 'er', '▁wh', 'o', '▁a', 's', 'p', 'i', 're', 's', '▁to', '▁be', '▁an', '▁', 'act', 'or', '▁', 't', 'al', 'e', '.', '▁The', '▁story', '▁is', '▁so', '▁sh', 'or', 't', '▁that', '▁', 'if', '▁', 'j', 'u', 'st', '▁an', 'o', 'th', 'er', '▁s', 'en', 't', 'e', 'nce', ',', '▁I', 'M', 'D', 'b', '▁', 'm', 'ight', '▁b', 'an', '▁me', '▁for', '▁writ', 'ing', '▁a', '▁spo', 'il', 'er', '.', '▁A', 'b', 'o', 'ut', '▁the', '▁story', '-', 't', 'e', 'll', 'ing', '?', '▁It', 's', '▁like', '▁a', '▁bu', 'n', 'ch', '▁', '(', 's', 'or', 'r', 'y', '▁', '2', '▁', 'people', '▁for', '▁the', '▁mo', 'st', '▁part', ')', '▁of', '▁', 'people', '▁mo', 'v', 'ing', '▁in', '▁su', 'p', 'er', '▁s', 'lo', 'w', '▁mo', 'tion', '.', '▁', 'D', 'on', \"'\", 't', '▁', 't', 'r', 'y', '▁this', '▁movie', '▁', 'if', '▁you', '▁hav', 'e', '▁bo', 'ugh', 't', '▁', 'n', 'e', 'w', '▁DVD', '-', 'p', 'l', 'a', 'y', 'er', '.', '▁', 'Y', 'ou', '▁w', 'ould', '▁end', '▁up', '▁believ', 'ing', '▁that', '▁', 'e', 'ith', 'er', '▁DVD', '▁is', '▁in', '▁bad', '▁sh', 'a', 'p', 'e', '▁', 'or', '▁DVD', '-', 'p', 'l', 'a', 'y', 'er', '▁is', '▁', 'st', 'r', 'u', 'ck', '.', '▁No', 't', '▁it', 's', '▁f', 'a', 'u', 'l', 't', '▁at', '▁', 'all', '.', '<', 'br', '▁/>', '<', 'br', '▁/>', 'A', 't', '▁the', '▁end', '▁of', '▁it', '▁', 'all', ',', '▁you', '▁end', '▁up', '▁', 'giving', '▁some', '▁credi', 't', 's', '▁to', '▁the', '▁director', '.', '▁A', 't', '▁', 'le', 'a', 'st', '▁he', '▁', 're', 'al', 'i', 'z', 'ed', '▁that', '▁bo', 'th', '▁Antra', '▁M', 'all', 'i', '▁', 'and', '▁A', 'b', 'his', 'h', 'e', 'k', '▁B', 'a', 'ch', 'an', '▁', '(', 'at', '▁', 'le', 'a', 'st', '▁at', '▁that', '▁time', ')', '▁can', \"'\", 't', '▁spe', 'a', 'k', '▁di', 'a', 'lo', 'g', 'u', 'es', '▁convincing', 'ly', ',', '▁so', '▁the', 're', '▁a', 're', '▁not', '▁to', 'o', '▁man', 'y', '▁di', 'a', 'lo', 'g', 'u', 'es', '▁in', '▁this', '▁movie', '.', '▁S', 'o', ',', '▁you', '▁can', '▁at', '▁', 'le', 'a', 'st', '▁s', 'le', 'e', 'p', '▁you', 'r', '▁w', 'a', 'y', '▁thro', 'ugh', '▁the', '▁movie', ',', '▁w', 'ith', '▁some', '▁an', 'n', 'o', 'y', 'ing', '▁no', 'i', 's', 'es', '▁f', 'rom', '▁', 'th', 'o', 's', 'e', '▁Antra', '-', 'm', 'all', 'i', '▁song', '▁sequences', '.', '<', 'br', '▁/>', '<', 'br', '▁/>', 'D', 'o', '▁watch', '▁this', '▁movie', '▁', 'if', '▁you', '▁a', 're', '▁', 'n', 'e', 'w', '▁to', '▁B', 'o', 'll', 'y', 'w', 'ood', '▁', 'C', 'in', 'e', 'm', 'a', '.', '▁', 'O', 'nce', '▁you', '▁hav', 'e', '▁to', 'le', 'r', 'at', 'ed', '▁this', '▁movie', ',', '▁you', '▁w', 'ould', '▁be', '▁', 'able', '▁to', '▁see', '▁an', 'y', '▁B', 'o', 'll', 'y', 'w', 'ood', '▁movie', '▁', 'and', '▁', 'en', 'j', 'o', 'y', '▁it', '.', '<', 'br', '▁/>', '<', 'br', '▁/>', 'The', 're', '▁can', \"'\", 't', '▁be', '▁w', 'or', 's', 'e', '▁', '3', '▁h', 'ou', 'r', '▁to', 'r', 't', 'u', 're', '▁tha', 'n', '▁this', '!']]"
      ]
     },
     "execution_count": 93,
     "metadata": {},
     "output_type": "execute_result"
    }
   ],
   "source": [
    "tok = SubwordTokenizer()\n",
    "tok.setup(txts)\n",
    "\n",
    "# Tokenize the texts\n",
    "toks = [list(tok([text]))[0] for text in txts]\n",
    "\n",
    "toks = L(toks)\n",
    "\n",
    "# Now 'toks' contains the tokenized representations of your texts\n",
    "toks"
   ]
  },
  {
   "cell_type": "code",
   "execution_count": 87,
   "metadata": {},
   "outputs": [],
   "source": [
    "def mytoken():\n",
    "    tok = SubwordTokenizer()\n",
    "    tok.setup(txts)\n",
    "\n",
    "    # Tokenize the texts\n",
    "    toks = [list(tok([text]))[0] for text in txts]\n",
    "\n",
    "    return L(toks)"
   ]
  },
  {
   "cell_type": "code",
   "execution_count": 85,
   "metadata": {},
   "outputs": [],
   "source": [
    "num = Numericalize()\n",
    "num.setup(toks)\n",
    "nums = toks.map(num)"
   ]
  },
  {
   "cell_type": "code",
   "execution_count": 122,
   "metadata": {},
   "outputs": [
    {
     "data": {
      "text/html": [
       "\n",
       "<style>\n",
       "    /* Turns off some styling */\n",
       "    progress {\n",
       "        /* gets rid of default border in Firefox and Opera. */\n",
       "        border: none;\n",
       "        /* Needs to be in here for Safari polyfill so background images work as expected. */\n",
       "        background-size: auto;\n",
       "    }\n",
       "    progress:not([value]), progress:not([value])::-webkit-progress-bar {\n",
       "        background: repeating-linear-gradient(45deg, #7e7e7e, #7e7e7e 10px, #5c5c5c 10px, #5c5c5c 20px);\n",
       "    }\n",
       "    .progress-bar-interrupted, .progress-bar-interrupted::-webkit-progress-bar {\n",
       "        background: #F44336;\n",
       "    }\n",
       "</style>\n"
      ],
      "text/plain": [
       "<IPython.core.display.HTML object>"
      ]
     },
     "metadata": {},
     "output_type": "display_data"
    },
    {
     "data": {
      "text/html": [],
      "text/plain": [
       "<IPython.core.display.HTML object>"
      ]
     },
     "metadata": {},
     "output_type": "display_data"
    },
    {
     "name": "stdout",
     "output_type": "stream",
     "text": [
      "['I', 't', \"'\", 's', ' ', 'a', 'b', 'o', 'u', 't', ' ', 'j', 'e', 'a', 'l', 'o', 'u', 's', 'y', ',', ' ', 'i', 't', \"'\", 's', ' ', 'a', 'b', 'o', 'u', 't', ' ', 'r', 'a', 'c', 'i', 's', 'm', ',', ' ', 'i', 't', \"'\", 's', ' ', 'a', 'b', 'o', 'u', 't', ' ', 'm', 'a', 'n', 'i', 'p', 'u', 'l', 'a', 't', 'i', 'o', 'n', ',', ' ', 'b', 'u', 't', ' ', 't', 'h', 'e', ' ', 'u', 'n', 'd', 'e', 'r', 'l', 'y', 'i', 'n', 'g', ' ', 'm', 'e', 's', 's', 'a', 'g', 'e', ' ', 'i', 's', ' ', 'l', 'o', 'v', 'e', '.', ' ', 'G', 'e', 'o', 'f', 'f', 'r', 'e', 'y', ' ', 'S', 'a', 'x', ' ', 't', 'r', 'i', 'e', 'd', ' ', 't', 'o', ' ', 'p', 'u', 'l', 'l', ' ', 'o', 'f', 'f', ' ', 'S', 'h', 'a', 'k', 'e', 's', 'p', 'e', 'a', 'r', 'e', \"'\", 's', ' ', 'O', 't', 'h', 'e', 'l', 'l', 'o', ',', ' ', 'b', 'y', ' ', 'b', 'r', 'i', 'n', 'g', 'i', 'n', 'g', ' ', 'i', 't', ' ', 't', 'o', ' ', 'm', 'o', 'd', 'e', 'r', 'n', ' ', 'd', 'a', 'y', ' ', 'c', 'o', 'n', 't', 'e', 'x', 't', '.', ' ', 'H', 'o', 'w', 'e', 'v', 'e', 'r', ',', ' ', 't', 'h', 'e', ' ', 'a', 'c', 't', 'o', 'r', 's', ' ', 'w', 'e', 'r', 'e', ' ', 'n', 'o', 't', ' ', 'c', 'o', 'n', 'v', 'i', 'n', 'c', 'i', 'n', 'g', ' ', 'e', 'n', 'o', 'u', 'g', 'h', ' ', 't', 'o', ' ', 'p', 'u', 'l', 'l', ' ', 't', 'h', 'i', 's', ' ', 'o', 'f', 'f', '.', ' ', 'T', 'h', 'e', 'r', 'e', ' ', 'w', 'e', 'r', 'e', ' ', 'e', 'x', 't', 'r', 'a', ' ', 'b', 'o', 'd', 'i', 'e', 's', ' ', 't', 'o', ' ', 'h', 'e', 'l', 'p', ' ', 'p', 'u', 't', ' ', 'e', 'v', 'e', 'r', 'y', 't', 'h', 'i', 'n', 'g', ' ', 'i', 'n', ' ', 't', 'o', ' ', 'p', 'e', 'r', 's', 'p', 'e', 'c', 't', 'i', 'v', 'e', ',', ' ', 'h', 'o', 'w', 'e', 'v', 'e', 'r', ',', ' ', 'J', 'o', 'h', 'n', ' ', 'O', 't', 'h', 'e', 'l', 'l', 'o', ',', ' ', 'p', 'l', 'a', 'y', 'e', 'd', ' ', 'b', 'y', ' ', 'E', 'a', 'm', 'o', 'n', 'n', ' ', 'W', 'a', 'l', 'k', 'e', 'r', ',', ' ', 'o', 'v', 'e', 'r', ' ', 'r', 'e', 'a', 'c', 't', 'e', 'd', ' ', 'a', ' ', 'l', 'o', 't', ' ', 'i', 'n', ' ', 't', 'h', 'i', 's', ' ', 'f', 'i', 'l', 'm', ',', ' ', 'c', 'a', 'u', 's', 'i', 'n', 'g', ' ', 'f', 'o', 'r', ' ', 't', 'h', 'e', ' ', 'd', 'o', 'w', 'n', ' ', 'f', 'a', 'l', 'l', ' ', 'o', 'f', ' ', 'K', 'e', 'e', 'l', 'e', 'y', ' ', 'H', 'a', 'w', 'e', 's', ',', ' ', 'D', 'e', 's', 's', 'i', 'e', ' ', 'B', 'r', 'a', 'b', 'a', 'n', 't', ',', ' ', 'e', 'v', 'e', 'n', 't', 'u', 'a', 'l', 'l', 'y', ' ', 'e', 'n', 'd', 'i', 'n', 'g', ' ', 'i', 'n', ' ', 'D', 'e', 's', 's', 'i', 'e', \"'\", 's', ' ', 'd', 'e', 'a', 't', 'h', '.', ' ', '<', 'b', 'r', ' ', '/', '>', '<', 'b', 'r', ' ', '/', '>', 'B', 'e', 'n', ' ', 'J', 'a', 'g', 'o', ',', ' ', 'p', 'l', 'a', 'y', 'e', 'd', ' ', 'b', 'y', ' ', 'C', 'h', 'r', 'i', 's', 't', 'o', 'p', 'h', 'e', 'r', ' ', 'E', 'c', 'c', 'l', 'e', 's', 't', 'o', 'n', ',', ' ', 'w', 'a', 's', ' ', 's', 'e', 'e', 'n', ' ', 'a', 's', ' ', 't', 'h', 'e', ' ', 'm', 'a', 'i', 'n', ' ', 'c', 'h', 'a', 'r', 'a', 'c', 't', 'e', 'r', ' ', 'i', 'n', ' ', 't', 'h', 'e', ' ', 'f', 'i', 'l', 'm', '.', ' ', 'H', 'e', ' ', 'd', 'i', 'd', 'n', \"'\", 't', ' ', 'g', 'i', 'v', 'e', ' ', 'e', 'n', 'o', 'u', 'g', 'h', ' ', 'e', 'v', 'i', 'd', 'e', 'n', 'c', 'e', ' ', 'f', 'o', 'r', ' ', 'D', 'e', 's', 's', 'i', 'e', ' ', 't', 'o', ' ', 'b', 'e', ' ', 'c', 'h', 'e', 'a', 't', 'i', 'n', 'g', ' ', 'o', 'n', ' ', 'O', 't', 'h', 'e', 'l', 'l', 'o', ',', ' ', 'w', 'i', 't', 'h', ' ', 'M', 'i', 'c', 'h', 'a', 'e', 'l', ' ', 'C', 'a', 's', 's', ',', ' ', 'p', 'l', 'a', 'y', 'e', 'd', ' ', 'b', 'y', ' ', 'R', 'i', 'c', 'h', 'a', 'r', 'd', ' ', 'C', 'o', 'y', 'l', 'e', '.', ' ', 'I', 'n', 's', 't', 'e', 'a', 'd', ' ', 'h', 'e', ' ', 'j', 'u', 's', 't', ' ', 'p', 'l', 'a', 'y', 'e', 'd', ' ', 'a', ' ', 'f', 'r', 'i', 'e', 'n', 'd', ' ', 't', 'o', ' ', 'a', 'l', 'l', ' ', 'a', 'n', 'd', ' ', 'g', 'a', 'v', 'e', ' ', 'o', 'n', 'e', ' ', 'r', 'e', 'a', 's', 'o', 'n', ' ', 'a', 's', ' ', 't', 'o', ' ', 'w', 'h', 'y', ' ', 's', 'h', 'e', ' ', '\"', 'w', 'a', 's', '\"', ' ', 'c', 'h', 'e', 'a', 't', 'i', 'n', 'g', '.', ' ', 'I', 'n', ' ', 't', 'h', 'e', ' ', 'p', 'l', 'a', 'y', ',', ' ', 'i', 't', ' ', 't', 'o', 'o', 'k', ' ', 'a', ' ', 'l', 'o', 't', ' ', 'm', 'o', 'r', 'e', ' ', 'c', 'o', 'n', 'v', 'i', 'n', 'c', 'i', 'n', 'g', ' ', 'f', 'r', 'o', 'm', ' ', 'I', 'a', 'g', 'o', ' ', 't', 'o', ' ', 'm', 'a', 'k', 'e', ' ', 'O', 't', 'h', 'e', 'l', 'l', 'o', ' ', 'e', 'v', 'e', 'n', ' ', 's', 'u', 's', 'p', 'e', 'c', 't', ' ', 'a', 'n', 'y', 't', 'h', 'i', 'n', 'g', '.', ' ', 'T', 'h', 'i', 's', ' ', 'c', 'h', 'a', 'n', 'g', 'e', ' ', 'm', 'a', 'd', 'e', ' ', 't', 'h', 'e', ' ', 'm', 'o', 'v', 'i', 'e', ' ', 'm', 'o', 'r', 'e', ' ', 'a', 'b', 'o', 'u', 't', ' ', 'r', 'a', 'g', 'e', ' ', 'f', 'o', 'r', ' ', 't', 'h', 'e', ' ', 'w', 'r', 'o', 'n', 'g', ' ', 'r', 'e', 'a', 's', 'o', 'n', 's', ',', ' ', 't', 'h', 'a', 'n', ' ', 'w', 'h', 'a', 't', ' ', 't', 'h', 'e', ' ', 'b', 'o', 'o', 'k', ' ', 'w', 'a', 's', ' ', 'b', 'a', 's', 'e', 'd', ' ', 'o', 'f', 'f', ' ', 'o', 'f', '.', ' ', 'H', 'o', 'w', 'e', 'v', 'e', 'r', ',', ' ', 't', 'h', 'e', ' ', 'm', 'o', 'v', 'i', 'e', ' ', 'd', 'i', 'd', ' ', 'h', 'a', 'v', 'e', ' ', 'a', ' ', 'f', 'e', 'w', ' ', 'g', 'o', 'o', 'd', ' ', 'p', 'o', 'i', 'n', 't', 's', '.', ' ', 'I', 't', ' ', 't', 'u', 'r', 'n', 'e', 'd', ' ', 't', 'h', 'e', ' ', 'a', 'r', 'm', 'y', ' ', 's', 'c', 'e', 'n', 'e', 's', ' ', 'i', 'n', 't', 'o', ' ', 'm', 'o', 'r', 'e', ' ', 'a', ' ', 'r', 'a', 'c', 'i', 's', 't', ' ', 'g', 'r', 'o', 'u', 'p', ' ', 't', 'o', 'w', 'a', 'r', 'd', ' ', 'b', 'l', 'a', 'c', 'k', 's', ',', ' ', 'w', 'h', 'e', 'r', 'e', ' ', 'O', 't', 'h', 'e', 'l', 'l', 'o', ' ', 'i', 's', ' ', 't', 'h', 'e', ' ', 'm', 'a', 'i', 'n', ' ', 'c', 'h', 'i', 'e', 'f', ' ', 'o', 'f', ' ', 't', 'h', 'e', ' ', 'p', 'o', 'l', 'i', 'c', 'e', ' ', 's', 'q', 'u', 'a', 'd', '.', ' ', 'T', 'h', 'e', 's', 'e', ' ', 's', 'c', 'e', 'n', 'e', 's', ' ', 'a', 'r', 'e', ' ', 'm', 'a', 'd', 'e', ' ', 'b', 'e', 'l', 'i', 'e', 'v', 'a', 'b', 'l', 'e', ' ', 'b', 'y', ' ', 't', 'h', 'e', ' ', 'r', 'a', 'g', 'i', 'n', 'g', ' ', 'c', 'r', 'o', 'w', 'd', 's', ',', ' ', 'a', 'n', 'd', ' ', 'b', 'u', 'r', 'n', 'i', 'n', 'g', ' ', 'f', 'i', 'r', 'e', 's', '.', ' ', 'Y', 'o', 'u', ' ', 'a', 'r', 'e', ' ', 'a', 'b', 'l', 'e', ' ', 't', 'o', ' ', 's', 'e', 'n', 's', 'e', ' ', 't', 'h', 'e', ' ', 'a', 'm', 'o', 'u', 'n', 't', ' ', 'o', 'f', ' ', 'r', 'a', 'c', 'i', 's', 'm', ' ', 'i', 'n', ' ', 't', 'h', 'e', ' ', 'm', 'o', 'v', 'i', 'e', ',', ' ', 'm', 'o', 'r', 'e', ' ', 's', 'o', ' ', 't', 'h', 'a', 'n', ' ', 'y', 'o', 'u', ' ', 'c', 'a', 'n', ' ', 'i', 'n', ' ', 't', 'h', 'e', ' ', 'b', 'o', 'o', 'k', '.', ' ', 'T', 'h', 'i', 's', ' ', 'b', 'o', 'o', 'k', ' ', 'p', 'l', 'a', 'y', 's', ' ', 'u', 'p', ' ', 't', 'h', 'e', ' ', 'm', 'o', 'd', 'e', 'r', 'n', ' ', 'd', 'a', 'y', ' ', 's', 'c', 'e', 'n', 'e', 's', ' ', 'b', 'y', ' ', 'm', 'a', 'k', 'i', 'n', 'g', ' ', 'i', 't', ' ', 'm', 'u', 'c', 'h', ' ', 'e', 'a', 's', 'i', 'e', 'r', ' ', 't', 'o', ' ', 'u', 'n', 'd', 'e', 'r', 's', 't', 'a', 'n', 'd', ',', ' ', 't', 'h', 'a', 'n', ' ', 't', 'h', 'e', ' ', 'S', 'h', 'a', 'k', 'e', 's', 'p', 'e', 'a', 'r', 'i', 'a', 'n', ' ', 't', 'i', 'm', 'e', 's', ' ', 'i', 't', ' ', 'w', 'a', 's', ' ', 'w', 'r', 'i', 't', 't', 'e', 'n', ' ', 'i', 'n', '.', ' ', 'I', 'n', ' ', 't', 'h', 'e', ' ', 'p', 'l', 'a', 'y', ' ', 'I', 'a', 'g', 'o', ' ', '(', 'J', 'a', 'g', 'o', ')', ' ', 'g', 'e', 't', 's', ' ', 't', 'o', 'r', 't', 'u', 'r', 'e', 'd', ' ', 'a', 't', ' ', 't', 'h', 'e', ' ', 'e', 'n', 'd', ',', ' ', 'b', 'u', 't', ' ', 'i', 'n', ' ', 't', 'h', 'e', ' ', 'f', 'i', 'l', 'm', ' ', 'h', 'e', ' ', 'g', 'e', 't', 's', ' ', 'h', 'i', 's', ' ', 's', 'a', 't', 'i', 's', 'f', 'a', 'c', 't', 'i', 'o', 'n', ',', ' ', 'a', 'n', 'd', ' ', 'g', 'e', 't', 's', ' ', 'O', 't', 'h', 'e', 'l', 'l', 'o', \"'\", 's', ' ', 'p', 'o', 's', 'i', 't', 'i', 'o', 'n', '.', ' ', 'H', 'e', ' ', 'n', 'e', 'v', 'e', 'r', ' ', 'g', 'e', 't', 's', ' ', 'w', 'h', 'a', 't', ' ', 'h', 'e', ' ', 'd', 'e', 's', 'e', 'r', 'v', 'e', 's', ' ', 'a', 'n', 'd', ' ', 'i', 's', ' ', 'n', 'e', 'v', 'e', 'r', ' ', 'c', 'a', 'u', 'g', 'h', 't', ' ', 'f', 'o', 'r', ' ', 't', 'e', 'l', 'l', 'i', 'n', 'g', ' ', 't', 'h', 'e', ' ', 'l', 'i', 'e', ' ', 't', 'o', ' ', 'O', 't', 'h', 'e', 'l', 'l', 'o', ' ', 'u', 'n', 't', 'i', 'l', ' ', 'i', 't', ' ', 'i', 's', ' ', 't', 'o', 'o', ' ', 'l', 'a', 't', 'e', '.', ' ', 'I', ' ', 's', 'a', 'w', ' ', 't', 'h', 'i', 's', ' ', 'a', 's', ' ', 'a', ' ', 'd', 'o', 'w', 'n', 'f', 'a', 'l', 'l', ' ', 'i', 'n', ' ', 't', 'h', 'e', ' ', 'm', 'o', 'v', 'i', 'e', ',', ' ', 'b', 'e', 'c', 'a', 'u', 's', 'e', ' ', 'I', ' ', 'f', 'e', 'e', 'l', ' ', 't', 'h', 'a', 't', ' ', 't', 'h', 'e', ' ', 'v', 'i', 'l', 'l', 'a', 'i', 'n', ' ', 'i', 's', ' ', 'g', 'r', 'a', 'n', 't', 'e', 'd', ' ', 'h', 'i', 's', ' ', 't', 'r', 'e', 'a', 's', 'u', 'r', 'e', ' ', 'o', 'f', ' ', 't', 'h', 'e', ' ', 'p', 'r', 'o', 'm', 'o', 't', 'i', 'o', 'n', ' ', 'o', 'u', 't', ' ', 'o', 'f', ' ', 'l', 'y', 'i', 'n', 'g', ',', ' ', 'a', 'n', 'd', ' ', 'i', 'n', ' ', 't', 'h', 'e', ' ', 'b', 'o', 'o', 'k', ',', ' ', 'h', 'e', ' ', 'i', 's', ' ', 'f', 'o', 'u', 'n', 'd', ' ', 'o', 'u', 't', ' ', 'b', 'y', ' ', 'R', 'o', 'd', 'r', 'i', 'g', 'o', '.', ' ', 'O', 'v', 'e', 'r', 'a', 'l', 'l', ',', ' ', 't', 'h', 'e', ' ', 'm', 'o', 'v', 'i', 'e', ' ', 'c', 'o', 'u', 'l', 'd', ' ', 'h', 'a', 'v', 'e', ' ', 'd', 'o', 'n', 'e', ' ', 'a', ' ', 'b', 'e', 't', 't', 'e', 'r', ' ', 'j', 'o', 'b', ' ', 'b', 'a', 's', 'e', 'd', ' ', 'o', 'n', ' ', 't', 'h', 'e', ' ', 'p', 'l', 'a', 'y', ' ', 't', 'h', 'a', 'n', ' ', 'w', 'h', 'a', 't', ' ', 'i', 't', ' ', 'd', 'i', 'd', '.', ' ', 'I', ' ', 'f', 'e', 'e', 'l', ' ', 't', 'h', 'a', 't', ' ', 't', 'h', 'e', ' ', 'd', 'i', 'r', 'e', 'c', 't', 'o', 'r', ' ', 'o', 'f', ' ', 't', 'h', 'e', ' ', 'm', 'o', 'v', 'i', 'e', ' ', 'l', 'e', 'f', 't', ' ', 'o', 'u', 't', ' ', 's', 'o', 'm', 'e', ' ', 'o', 'f', ' ', 't', 'h', 'e', ' ', 'm', 'o', 's', 't', ' ', 'i', 'm', 'p', 'o', 'r', 't', 'a', 'n', 't', ' ', 'p', 'a', 'r', 't', 's', ' ', 'o', 'f', ' ', 't', 'h', 'e', ' ', 'p', 'l', 'a', 'y', ' ', 't', 'h', 'a', 't', ' ', 'w', 'e', 'r', 'e', ' ', 'm', 'e', 'n', 't', 'i', 'o', 'n', 'e', 'd', ' ', 'o', 'r', ' ', 't', 'h', 'e', 'r', 'e', ' ', 't', 'o', ' ', 'm', 'a', 'k', 'e', ' ', 't', 'h', 'e', ' ', 'p', 'l', 'a', 'y', ' ', 'f', 'l', 'o', 'w', ',', ' ', 'o', 'r', ' ', 'm', 'a', 'k', 'e', ' ', 'i', 't', ' ', 'm', 'o', 'r', 'e', ' ', 'o', 'f', ' ', 'a', ' ', 't', 'r', 'a', 'g', 'e', 'd', 'y', '.', ' ', 'I', ' ', 'w', 'o', 'u', 'l', 'd', ' ', 's', 'a', 'y', ' ', 't', 'h', 'a', 't', ' ', 'y', 'o', 'u', ' ', 's', 'h', 'o', 'u', 'l', 'd', ' ', 'r', 'e', 'a', 'd', ' ', 't', 'h', 'e', ' ', 'b', 'o', 'o', 'k', ' ', 'f', 'i', 'r', 's', 't', ',', ' ', 'i', 'n', ' ', 'o', 'r', 'd', 'e', 'r', ' ', 't', 'o', ' ', 'u', 'n', 'd', 'e', 'r', 's', 't', 'a', 'n', 'd', ' ', 'a', 'l', 'l', ' ', 'o', 'f', ' ', 't', 'h', 'e', ' ', 'e', 'v', 'e', 'n', 't', 's', ' ', 't', 'h', 'a', 't', ' ', 'h', 'a', 'p', 'p', 'e', 'n', 'e', 'd', ' ', 'i', 'n', ' ', 't', 'h', 'e', ' ', 'm', 'o', 'v', 'i', 'e', ',', ' ', 'o', 't', 'h', 'e', 'r', 'w', 'i', 's', 'e', ' ', 'y', 'o', 'u', ' ', 'm', 'a', 'y', ' ', 'f', 'i', 'n', 'd', ' ', 'y', 'o', 'u', 'r', 's', 'e', 'l', 'f', ' ', 'l', 'o', 's', 't', ',', ' ', 'a', 'n', 'd', ' ', 'c', 'o', 'n', 'f', 'u', 's', 'e', 'd', '.']\n"
     ]
    },
    {
     "ename": "AttributeError",
     "evalue": "'list' object has no attribute 'flatten'",
     "output_type": "error",
     "traceback": [
      "\u001b[0;31m---------------------------------------------------------------------------\u001b[0m",
      "\u001b[0;31mAttributeError\u001b[0m                            Traceback (most recent call last)",
      "Cell \u001b[0;32mIn[122], line 22\u001b[0m\n\u001b[1;32m     19\u001b[0m subword_transform \u001b[38;5;241m=\u001b[39m SubwordTokenizerTransform(tok)\n\u001b[1;32m     21\u001b[0m \u001b[38;5;66;03m# Tokenize the texts using the transform\u001b[39;00m\n\u001b[0;32m---> 22\u001b[0m toks \u001b[38;5;241m=\u001b[39m \u001b[43mtxts\u001b[49m\u001b[38;5;241;43m.\u001b[39;49m\u001b[43mmap\u001b[49m\u001b[43m(\u001b[49m\u001b[43msubword_transform\u001b[49m\u001b[43m)\u001b[49m\n\u001b[1;32m     24\u001b[0m \u001b[38;5;66;03m# Now 'toks' contains the tokenized representations of your texts\u001b[39;00m\n\u001b[1;32m     25\u001b[0m \u001b[38;5;28mprint\u001b[39m(toks)\n",
      "File \u001b[0;32m~/University/GNN/project/transformer_env/lib/python3.9/site-packages/fastcore/foundation.py:156\u001b[0m, in \u001b[0;36mL.map\u001b[0;34m(self, f, *args, **kwargs)\u001b[0m\n\u001b[0;32m--> 156\u001b[0m \u001b[38;5;28;01mdef\u001b[39;00m \u001b[38;5;21mmap\u001b[39m(\u001b[38;5;28mself\u001b[39m, f, \u001b[38;5;241m*\u001b[39margs, \u001b[38;5;241m*\u001b[39m\u001b[38;5;241m*\u001b[39mkwargs): \u001b[38;5;28;01mreturn\u001b[39;00m \u001b[38;5;28mself\u001b[39m\u001b[38;5;241m.\u001b[39m_new(\u001b[43mmap_ex\u001b[49m\u001b[43m(\u001b[49m\u001b[38;5;28;43mself\u001b[39;49m\u001b[43m,\u001b[49m\u001b[43m \u001b[49m\u001b[43mf\u001b[49m\u001b[43m,\u001b[49m\u001b[43m \u001b[49m\u001b[38;5;241;43m*\u001b[39;49m\u001b[43margs\u001b[49m\u001b[43m,\u001b[49m\u001b[43m \u001b[49m\u001b[43mgen\u001b[49m\u001b[38;5;241;43m=\u001b[39;49m\u001b[38;5;28;43;01mFalse\u001b[39;49;00m\u001b[43m,\u001b[49m\u001b[43m \u001b[49m\u001b[38;5;241;43m*\u001b[39;49m\u001b[38;5;241;43m*\u001b[39;49m\u001b[43mkwargs\u001b[49m\u001b[43m)\u001b[49m)\n",
      "File \u001b[0;32m~/University/GNN/project/transformer_env/lib/python3.9/site-packages/fastcore/basics.py:840\u001b[0m, in \u001b[0;36mmap_ex\u001b[0;34m(iterable, f, gen, *args, **kwargs)\u001b[0m\n\u001b[1;32m    838\u001b[0m res \u001b[38;5;241m=\u001b[39m \u001b[38;5;28mmap\u001b[39m(g, iterable)\n\u001b[1;32m    839\u001b[0m \u001b[38;5;28;01mif\u001b[39;00m gen: \u001b[38;5;28;01mreturn\u001b[39;00m res\n\u001b[0;32m--> 840\u001b[0m \u001b[38;5;28;01mreturn\u001b[39;00m \u001b[38;5;28;43mlist\u001b[39;49m\u001b[43m(\u001b[49m\u001b[43mres\u001b[49m\u001b[43m)\u001b[49m\n",
      "File \u001b[0;32m~/University/GNN/project/transformer_env/lib/python3.9/site-packages/fastcore/basics.py:825\u001b[0m, in \u001b[0;36mbind.__call__\u001b[0;34m(self, *args, **kwargs)\u001b[0m\n\u001b[1;32m    823\u001b[0m     \u001b[38;5;28;01mif\u001b[39;00m \u001b[38;5;28misinstance\u001b[39m(v,_Arg): kwargs[k] \u001b[38;5;241m=\u001b[39m args\u001b[38;5;241m.\u001b[39mpop(v\u001b[38;5;241m.\u001b[39mi)\n\u001b[1;32m    824\u001b[0m fargs \u001b[38;5;241m=\u001b[39m [args[x\u001b[38;5;241m.\u001b[39mi] \u001b[38;5;28;01mif\u001b[39;00m \u001b[38;5;28misinstance\u001b[39m(x, _Arg) \u001b[38;5;28;01melse\u001b[39;00m x \u001b[38;5;28;01mfor\u001b[39;00m x \u001b[38;5;129;01min\u001b[39;00m \u001b[38;5;28mself\u001b[39m\u001b[38;5;241m.\u001b[39mpargs] \u001b[38;5;241m+\u001b[39m args[\u001b[38;5;28mself\u001b[39m\u001b[38;5;241m.\u001b[39mmaxi\u001b[38;5;241m+\u001b[39m\u001b[38;5;241m1\u001b[39m:]\n\u001b[0;32m--> 825\u001b[0m \u001b[38;5;28;01mreturn\u001b[39;00m \u001b[38;5;28;43mself\u001b[39;49m\u001b[38;5;241;43m.\u001b[39;49m\u001b[43mfunc\u001b[49m\u001b[43m(\u001b[49m\u001b[38;5;241;43m*\u001b[39;49m\u001b[43mfargs\u001b[49m\u001b[43m,\u001b[49m\u001b[43m \u001b[49m\u001b[38;5;241;43m*\u001b[39;49m\u001b[38;5;241;43m*\u001b[39;49m\u001b[43mkwargs\u001b[49m\u001b[43m)\u001b[49m\n",
      "File \u001b[0;32m~/University/GNN/project/transformer_env/lib/python3.9/site-packages/fastcore/transform.py:81\u001b[0m, in \u001b[0;36mTransform.__call__\u001b[0;34m(self, x, **kwargs)\u001b[0m\n\u001b[0;32m---> 81\u001b[0m \u001b[38;5;28;01mdef\u001b[39;00m \u001b[38;5;21m__call__\u001b[39m(\u001b[38;5;28mself\u001b[39m, x, \u001b[38;5;241m*\u001b[39m\u001b[38;5;241m*\u001b[39mkwargs): \u001b[38;5;28;01mreturn\u001b[39;00m \u001b[38;5;28;43mself\u001b[39;49m\u001b[38;5;241;43m.\u001b[39;49m\u001b[43m_call\u001b[49m\u001b[43m(\u001b[49m\u001b[38;5;124;43m'\u001b[39;49m\u001b[38;5;124;43mencodes\u001b[39;49m\u001b[38;5;124;43m'\u001b[39;49m\u001b[43m,\u001b[49m\u001b[43m \u001b[49m\u001b[43mx\u001b[49m\u001b[43m,\u001b[49m\u001b[43m \u001b[49m\u001b[38;5;241;43m*\u001b[39;49m\u001b[38;5;241;43m*\u001b[39;49m\u001b[43mkwargs\u001b[49m\u001b[43m)\u001b[49m\n",
      "File \u001b[0;32m~/University/GNN/project/transformer_env/lib/python3.9/site-packages/fastcore/transform.py:91\u001b[0m, in \u001b[0;36mTransform._call\u001b[0;34m(self, fn, x, split_idx, **kwargs)\u001b[0m\n\u001b[1;32m     89\u001b[0m \u001b[38;5;28;01mdef\u001b[39;00m \u001b[38;5;21m_call\u001b[39m(\u001b[38;5;28mself\u001b[39m, fn, x, split_idx\u001b[38;5;241m=\u001b[39m\u001b[38;5;28;01mNone\u001b[39;00m, \u001b[38;5;241m*\u001b[39m\u001b[38;5;241m*\u001b[39mkwargs):\n\u001b[1;32m     90\u001b[0m     \u001b[38;5;28;01mif\u001b[39;00m split_idx\u001b[38;5;241m!=\u001b[39m\u001b[38;5;28mself\u001b[39m\u001b[38;5;241m.\u001b[39msplit_idx \u001b[38;5;129;01mand\u001b[39;00m \u001b[38;5;28mself\u001b[39m\u001b[38;5;241m.\u001b[39msplit_idx \u001b[38;5;129;01mis\u001b[39;00m \u001b[38;5;129;01mnot\u001b[39;00m \u001b[38;5;28;01mNone\u001b[39;00m: \u001b[38;5;28;01mreturn\u001b[39;00m x\n\u001b[0;32m---> 91\u001b[0m     \u001b[38;5;28;01mreturn\u001b[39;00m \u001b[38;5;28;43mself\u001b[39;49m\u001b[38;5;241;43m.\u001b[39;49m\u001b[43m_do_call\u001b[49m\u001b[43m(\u001b[49m\u001b[38;5;28;43mgetattr\u001b[39;49m\u001b[43m(\u001b[49m\u001b[38;5;28;43mself\u001b[39;49m\u001b[43m,\u001b[49m\u001b[43m \u001b[49m\u001b[43mfn\u001b[49m\u001b[43m)\u001b[49m\u001b[43m,\u001b[49m\u001b[43m \u001b[49m\u001b[43mx\u001b[49m\u001b[43m,\u001b[49m\u001b[43m \u001b[49m\u001b[38;5;241;43m*\u001b[39;49m\u001b[38;5;241;43m*\u001b[39;49m\u001b[43mkwargs\u001b[49m\u001b[43m)\u001b[49m\n",
      "File \u001b[0;32m~/University/GNN/project/transformer_env/lib/python3.9/site-packages/fastcore/transform.py:97\u001b[0m, in \u001b[0;36mTransform._do_call\u001b[0;34m(self, f, x, **kwargs)\u001b[0m\n\u001b[1;32m     95\u001b[0m     \u001b[38;5;28;01mif\u001b[39;00m f \u001b[38;5;129;01mis\u001b[39;00m \u001b[38;5;28;01mNone\u001b[39;00m: \u001b[38;5;28;01mreturn\u001b[39;00m x\n\u001b[1;32m     96\u001b[0m     ret \u001b[38;5;241m=\u001b[39m f\u001b[38;5;241m.\u001b[39mreturns(x) \u001b[38;5;28;01mif\u001b[39;00m \u001b[38;5;28mhasattr\u001b[39m(f,\u001b[38;5;124m'\u001b[39m\u001b[38;5;124mreturns\u001b[39m\u001b[38;5;124m'\u001b[39m) \u001b[38;5;28;01melse\u001b[39;00m \u001b[38;5;28;01mNone\u001b[39;00m\n\u001b[0;32m---> 97\u001b[0m     \u001b[38;5;28;01mreturn\u001b[39;00m retain_type(\u001b[43mf\u001b[49m\u001b[43m(\u001b[49m\u001b[43mx\u001b[49m\u001b[43m,\u001b[49m\u001b[43m \u001b[49m\u001b[38;5;241;43m*\u001b[39;49m\u001b[38;5;241;43m*\u001b[39;49m\u001b[43mkwargs\u001b[49m\u001b[43m)\u001b[49m, x, ret)\n\u001b[1;32m     98\u001b[0m res \u001b[38;5;241m=\u001b[39m \u001b[38;5;28mtuple\u001b[39m(\u001b[38;5;28mself\u001b[39m\u001b[38;5;241m.\u001b[39m_do_call(f, x_, \u001b[38;5;241m*\u001b[39m\u001b[38;5;241m*\u001b[39mkwargs) \u001b[38;5;28;01mfor\u001b[39;00m x_ \u001b[38;5;129;01min\u001b[39;00m x)\n\u001b[1;32m     99\u001b[0m \u001b[38;5;28;01mreturn\u001b[39;00m retain_type(res, x)\n",
      "File \u001b[0;32m~/University/GNN/project/transformer_env/lib/python3.9/site-packages/fastcore/dispatch.py:120\u001b[0m, in \u001b[0;36mTypeDispatch.__call__\u001b[0;34m(self, *args, **kwargs)\u001b[0m\n\u001b[1;32m    118\u001b[0m \u001b[38;5;28;01melif\u001b[39;00m \u001b[38;5;28mself\u001b[39m\u001b[38;5;241m.\u001b[39minst \u001b[38;5;129;01mis\u001b[39;00m \u001b[38;5;129;01mnot\u001b[39;00m \u001b[38;5;28;01mNone\u001b[39;00m: f \u001b[38;5;241m=\u001b[39m MethodType(f, \u001b[38;5;28mself\u001b[39m\u001b[38;5;241m.\u001b[39minst)\n\u001b[1;32m    119\u001b[0m \u001b[38;5;28;01melif\u001b[39;00m \u001b[38;5;28mself\u001b[39m\u001b[38;5;241m.\u001b[39mowner \u001b[38;5;129;01mis\u001b[39;00m \u001b[38;5;129;01mnot\u001b[39;00m \u001b[38;5;28;01mNone\u001b[39;00m: f \u001b[38;5;241m=\u001b[39m MethodType(f, \u001b[38;5;28mself\u001b[39m\u001b[38;5;241m.\u001b[39mowner)\n\u001b[0;32m--> 120\u001b[0m \u001b[38;5;28;01mreturn\u001b[39;00m \u001b[43mf\u001b[49m\u001b[43m(\u001b[49m\u001b[38;5;241;43m*\u001b[39;49m\u001b[43margs\u001b[49m\u001b[43m,\u001b[49m\u001b[43m \u001b[49m\u001b[38;5;241;43m*\u001b[39;49m\u001b[38;5;241;43m*\u001b[39;49m\u001b[43mkwargs\u001b[49m\u001b[43m)\u001b[49m\n",
      "Cell \u001b[0;32mIn[122], line 8\u001b[0m, in \u001b[0;36mSubwordTokenizerTransform.encodes\u001b[0;34m(self, x)\u001b[0m\n\u001b[1;32m      5\u001b[0m \u001b[38;5;28;01mdef\u001b[39;00m \u001b[38;5;21mencodes\u001b[39m(\u001b[38;5;28mself\u001b[39m, x):\n\u001b[1;32m      6\u001b[0m     \u001b[38;5;66;03m#return L([self.tok.tokenize(t) for t in x])\u001b[39;00m\n\u001b[1;32m      7\u001b[0m     \u001b[38;5;28mprint\u001b[39m([text \u001b[38;5;28;01mfor\u001b[39;00m text \u001b[38;5;129;01min\u001b[39;00m x])\n\u001b[0;32m----> 8\u001b[0m     \u001b[38;5;28mprint\u001b[39m(\u001b[38;5;28;43mlist\u001b[39;49m\u001b[43m(\u001b[49m\u001b[38;5;28;43mself\u001b[39;49m\u001b[38;5;241;43m.\u001b[39;49m\u001b[43mtok\u001b[49m\u001b[43m(\u001b[49m\u001b[43mx\u001b[49m\u001b[43m)\u001b[49m\u001b[43m)\u001b[49m\u001b[38;5;241;43m.\u001b[39;49m\u001b[43mflatten\u001b[49m(\u001b[38;5;241m0\u001b[39m))\n\u001b[1;32m      9\u001b[0m     \u001b[38;5;28;01mreturn\u001b[39;00m L([\u001b[38;5;28mlist\u001b[39m(\u001b[38;5;28mself\u001b[39m\u001b[38;5;241m.\u001b[39mtok([text]))[\u001b[38;5;241m0\u001b[39m] \u001b[38;5;28;01mfor\u001b[39;00m text \u001b[38;5;129;01min\u001b[39;00m x])\n",
      "\u001b[0;31mAttributeError\u001b[0m: 'list' object has no attribute 'flatten'"
     ]
    }
   ],
   "source": [
    "class SubwordTokenizerTransform(Transform):\n",
    "    def __init__(self, tok):\n",
    "        self.tok = tok\n",
    "\n",
    "    def encodes(self, x):\n",
    "        #return L([self.tok.tokenize(t) for t in x])\n",
    "        print([text for text in x])\n",
    "        print(list(self.tok(x)).flatten(0))\n",
    "        return L([list(self.tok([text]))[0] for text in x])\n",
    "\n",
    "    def decodes(self, x):\n",
    "        return ' '.join(x)\n",
    "\n",
    "# Initialize and setup the SubwordTokenizer\n",
    "tok = SubwordTokenizer()\n",
    "tok.setup(txts)\n",
    "\n",
    "# Create a SubwordTokenizerTransform instance\n",
    "subword_transform = SubwordTokenizerTransform(tok)\n",
    "\n",
    "# Tokenize the texts using the transform\n",
    "toks = txts.map(subword_transform)\n",
    "\n",
    "# Now 'toks' contains the tokenized representations of your texts\n",
    "print(toks)\n"
   ]
  },
  {
   "cell_type": "code",
   "execution_count": 117,
   "metadata": {},
   "outputs": [
    {
     "name": "stdout",
     "output_type": "stream",
     "text": [
      "[[SubwordTokenizerTransform:\n",
      "encodes: (object,object) -> encodes\n",
      "decodes: (object,object) -> decodes\n",
      ", Numericalize:\n",
      "encodes: (object,object) -> encodes\n",
      "decodes: (object,object) -> decodes\n",
      "]]\n"
     ]
    },
    {
     "ename": "TypeError",
     "evalue": "'PosixPath' object is not iterable",
     "output_type": "error",
     "traceback": [
      "\u001b[0;31m---------------------------------------------------------------------------\u001b[0m",
      "\u001b[0;31mTypeError\u001b[0m                                 Traceback (most recent call last)",
      "Cell \u001b[0;32mIn[117], line 7\u001b[0m\n\u001b[1;32m      5\u001b[0m splits \u001b[38;5;241m=\u001b[39m [\u001b[38;5;28mlist\u001b[39m(\u001b[38;5;28mrange\u001b[39m(cut)), \u001b[38;5;28mlist\u001b[39m(\u001b[38;5;28mrange\u001b[39m(cut,\u001b[38;5;28mlen\u001b[39m(files)))]\n\u001b[1;32m      6\u001b[0m \u001b[38;5;66;03m#splits = GrandparentSplitter(valid_name='test')(files)\u001b[39;00m\n\u001b[0;32m----> 7\u001b[0m dsets \u001b[38;5;241m=\u001b[39m \u001b[43mDatasets\u001b[49m\u001b[43m(\u001b[49m\u001b[43mfiles\u001b[49m\u001b[43m,\u001b[49m\u001b[43m \u001b[49m\u001b[43mtfms\u001b[49m\u001b[43m,\u001b[49m\u001b[43m \u001b[49m\u001b[43msplits\u001b[49m\u001b[38;5;241;43m=\u001b[39;49m\u001b[43msplits\u001b[49m\u001b[43m)\u001b[49m\n\u001b[1;32m      8\u001b[0m dls \u001b[38;5;241m=\u001b[39m dsets\u001b[38;5;241m.\u001b[39mdataloaders(dl_type\u001b[38;5;241m=\u001b[39mLMDataLoader)\n",
      "File \u001b[0;32m~/University/GNN/project/transformer_env/lib/python3.9/site-packages/fastai/data/core.py:443\u001b[0m, in \u001b[0;36mDatasets.__init__\u001b[0;34m(self, items, tfms, tls, n_inp, dl_type, **kwargs)\u001b[0m\n\u001b[1;32m    434\u001b[0m \u001b[38;5;28;01mdef\u001b[39;00m \u001b[38;5;21m__init__\u001b[39m(\u001b[38;5;28mself\u001b[39m, \n\u001b[1;32m    435\u001b[0m     items:\u001b[38;5;28mlist\u001b[39m\u001b[38;5;241m=\u001b[39m\u001b[38;5;28;01mNone\u001b[39;00m, \u001b[38;5;66;03m# List of items to create `Datasets`\u001b[39;00m\n\u001b[1;32m    436\u001b[0m     tfms:MutableSequence\u001b[38;5;241m|\u001b[39mPipeline\u001b[38;5;241m=\u001b[39m\u001b[38;5;28;01mNone\u001b[39;00m, \u001b[38;5;66;03m# List of `Transform`(s) or `Pipeline` to apply\u001b[39;00m\n\u001b[0;32m   (...)\u001b[0m\n\u001b[1;32m    440\u001b[0m     \u001b[38;5;241m*\u001b[39m\u001b[38;5;241m*\u001b[39mkwargs\n\u001b[1;32m    441\u001b[0m ):\n\u001b[1;32m    442\u001b[0m     \u001b[38;5;28msuper\u001b[39m()\u001b[38;5;241m.\u001b[39m\u001b[38;5;21m__init__\u001b[39m(dl_type\u001b[38;5;241m=\u001b[39mdl_type)\n\u001b[0;32m--> 443\u001b[0m     \u001b[38;5;28mself\u001b[39m\u001b[38;5;241m.\u001b[39mtls \u001b[38;5;241m=\u001b[39m L(tls \u001b[38;5;28;01mif\u001b[39;00m tls \u001b[38;5;28;01melse\u001b[39;00m [TfmdLists(items, t, \u001b[38;5;241m*\u001b[39m\u001b[38;5;241m*\u001b[39mkwargs) \u001b[38;5;28;01mfor\u001b[39;00m t \u001b[38;5;129;01min\u001b[39;00m L(ifnone(tfms,[\u001b[38;5;28;01mNone\u001b[39;00m]))])\n\u001b[1;32m    444\u001b[0m     \u001b[38;5;28mself\u001b[39m\u001b[38;5;241m.\u001b[39mn_inp \u001b[38;5;241m=\u001b[39m ifnone(n_inp, \u001b[38;5;28mmax\u001b[39m(\u001b[38;5;241m1\u001b[39m, \u001b[38;5;28mlen\u001b[39m(\u001b[38;5;28mself\u001b[39m\u001b[38;5;241m.\u001b[39mtls)\u001b[38;5;241m-\u001b[39m\u001b[38;5;241m1\u001b[39m))\n",
      "File \u001b[0;32m~/University/GNN/project/transformer_env/lib/python3.9/site-packages/fastai/data/core.py:443\u001b[0m, in \u001b[0;36m<listcomp>\u001b[0;34m(.0)\u001b[0m\n\u001b[1;32m    434\u001b[0m \u001b[38;5;28;01mdef\u001b[39;00m \u001b[38;5;21m__init__\u001b[39m(\u001b[38;5;28mself\u001b[39m, \n\u001b[1;32m    435\u001b[0m     items:\u001b[38;5;28mlist\u001b[39m\u001b[38;5;241m=\u001b[39m\u001b[38;5;28;01mNone\u001b[39;00m, \u001b[38;5;66;03m# List of items to create `Datasets`\u001b[39;00m\n\u001b[1;32m    436\u001b[0m     tfms:MutableSequence\u001b[38;5;241m|\u001b[39mPipeline\u001b[38;5;241m=\u001b[39m\u001b[38;5;28;01mNone\u001b[39;00m, \u001b[38;5;66;03m# List of `Transform`(s) or `Pipeline` to apply\u001b[39;00m\n\u001b[0;32m   (...)\u001b[0m\n\u001b[1;32m    440\u001b[0m     \u001b[38;5;241m*\u001b[39m\u001b[38;5;241m*\u001b[39mkwargs\n\u001b[1;32m    441\u001b[0m ):\n\u001b[1;32m    442\u001b[0m     \u001b[38;5;28msuper\u001b[39m()\u001b[38;5;241m.\u001b[39m\u001b[38;5;21m__init__\u001b[39m(dl_type\u001b[38;5;241m=\u001b[39mdl_type)\n\u001b[0;32m--> 443\u001b[0m     \u001b[38;5;28mself\u001b[39m\u001b[38;5;241m.\u001b[39mtls \u001b[38;5;241m=\u001b[39m L(tls \u001b[38;5;28;01mif\u001b[39;00m tls \u001b[38;5;28;01melse\u001b[39;00m [\u001b[43mTfmdLists\u001b[49m\u001b[43m(\u001b[49m\u001b[43mitems\u001b[49m\u001b[43m,\u001b[49m\u001b[43m \u001b[49m\u001b[43mt\u001b[49m\u001b[43m,\u001b[49m\u001b[43m \u001b[49m\u001b[38;5;241;43m*\u001b[39;49m\u001b[38;5;241;43m*\u001b[39;49m\u001b[43mkwargs\u001b[49m\u001b[43m)\u001b[49m \u001b[38;5;28;01mfor\u001b[39;00m t \u001b[38;5;129;01min\u001b[39;00m L(ifnone(tfms,[\u001b[38;5;28;01mNone\u001b[39;00m]))])\n\u001b[1;32m    444\u001b[0m     \u001b[38;5;28mself\u001b[39m\u001b[38;5;241m.\u001b[39mn_inp \u001b[38;5;241m=\u001b[39m ifnone(n_inp, \u001b[38;5;28mmax\u001b[39m(\u001b[38;5;241m1\u001b[39m, \u001b[38;5;28mlen\u001b[39m(\u001b[38;5;28mself\u001b[39m\u001b[38;5;241m.\u001b[39mtls)\u001b[38;5;241m-\u001b[39m\u001b[38;5;241m1\u001b[39m))\n",
      "File \u001b[0;32m~/University/GNN/project/transformer_env/lib/python3.9/site-packages/fastcore/foundation.py:98\u001b[0m, in \u001b[0;36m_L_Meta.__call__\u001b[0;34m(cls, x, *args, **kwargs)\u001b[0m\n\u001b[1;32m     96\u001b[0m \u001b[38;5;28;01mdef\u001b[39;00m \u001b[38;5;21m__call__\u001b[39m(\u001b[38;5;28mcls\u001b[39m, x\u001b[38;5;241m=\u001b[39m\u001b[38;5;28;01mNone\u001b[39;00m, \u001b[38;5;241m*\u001b[39margs, \u001b[38;5;241m*\u001b[39m\u001b[38;5;241m*\u001b[39mkwargs):\n\u001b[1;32m     97\u001b[0m     \u001b[38;5;28;01mif\u001b[39;00m \u001b[38;5;129;01mnot\u001b[39;00m args \u001b[38;5;129;01mand\u001b[39;00m \u001b[38;5;129;01mnot\u001b[39;00m kwargs \u001b[38;5;129;01mand\u001b[39;00m x \u001b[38;5;129;01mis\u001b[39;00m \u001b[38;5;129;01mnot\u001b[39;00m \u001b[38;5;28;01mNone\u001b[39;00m \u001b[38;5;129;01mand\u001b[39;00m \u001b[38;5;28misinstance\u001b[39m(x,\u001b[38;5;28mcls\u001b[39m): \u001b[38;5;28;01mreturn\u001b[39;00m x\n\u001b[0;32m---> 98\u001b[0m     \u001b[38;5;28;01mreturn\u001b[39;00m \u001b[38;5;28;43msuper\u001b[39;49m\u001b[43m(\u001b[49m\u001b[43m)\u001b[49m\u001b[38;5;241;43m.\u001b[39;49m\u001b[38;5;21;43m__call__\u001b[39;49m\u001b[43m(\u001b[49m\u001b[43mx\u001b[49m\u001b[43m,\u001b[49m\u001b[43m \u001b[49m\u001b[38;5;241;43m*\u001b[39;49m\u001b[43margs\u001b[49m\u001b[43m,\u001b[49m\u001b[43m \u001b[49m\u001b[38;5;241;43m*\u001b[39;49m\u001b[38;5;241;43m*\u001b[39;49m\u001b[43mkwargs\u001b[49m\u001b[43m)\u001b[49m\n",
      "File \u001b[0;32m~/University/GNN/project/transformer_env/lib/python3.9/site-packages/fastai/data/core.py:357\u001b[0m, in \u001b[0;36mTfmdLists.__init__\u001b[0;34m(self, items, tfms, use_list, do_setup, split_idx, train_setup, splits, types, verbose, dl_type)\u001b[0m\n\u001b[1;32m    355\u001b[0m \u001b[38;5;28;01mif\u001b[39;00m do_setup:\n\u001b[1;32m    356\u001b[0m     pv(\u001b[38;5;124mf\u001b[39m\u001b[38;5;124m\"\u001b[39m\u001b[38;5;124mSetting up \u001b[39m\u001b[38;5;132;01m{\u001b[39;00m\u001b[38;5;28mself\u001b[39m\u001b[38;5;241m.\u001b[39mtfms\u001b[38;5;132;01m}\u001b[39;00m\u001b[38;5;124m\"\u001b[39m, verbose)\n\u001b[0;32m--> 357\u001b[0m     \u001b[38;5;28;43mself\u001b[39;49m\u001b[38;5;241;43m.\u001b[39;49m\u001b[43msetup\u001b[49m\u001b[43m(\u001b[49m\u001b[43mtrain_setup\u001b[49m\u001b[38;5;241;43m=\u001b[39;49m\u001b[43mtrain_setup\u001b[49m\u001b[43m)\u001b[49m\n",
      "File \u001b[0;32m~/University/GNN/project/transformer_env/lib/python3.9/site-packages/fastai/data/core.py:384\u001b[0m, in \u001b[0;36mTfmdLists.setup\u001b[0;34m(self, train_setup)\u001b[0m\n\u001b[1;32m    382\u001b[0m     \u001b[38;5;28;01mfor\u001b[39;00m f \u001b[38;5;129;01min\u001b[39;00m \u001b[38;5;28mself\u001b[39m\u001b[38;5;241m.\u001b[39mtfms\u001b[38;5;241m.\u001b[39mfs:\n\u001b[1;32m    383\u001b[0m         \u001b[38;5;28mself\u001b[39m\u001b[38;5;241m.\u001b[39mtypes\u001b[38;5;241m.\u001b[39mappend(\u001b[38;5;28mgetattr\u001b[39m(f, \u001b[38;5;124m'\u001b[39m\u001b[38;5;124minput_types\u001b[39m\u001b[38;5;124m'\u001b[39m, \u001b[38;5;28mtype\u001b[39m(x)))\n\u001b[0;32m--> 384\u001b[0m         x \u001b[38;5;241m=\u001b[39m \u001b[43mf\u001b[49m\u001b[43m(\u001b[49m\u001b[43mx\u001b[49m\u001b[43m)\u001b[49m\n\u001b[1;32m    385\u001b[0m     \u001b[38;5;28mself\u001b[39m\u001b[38;5;241m.\u001b[39mtypes\u001b[38;5;241m.\u001b[39mappend(\u001b[38;5;28mtype\u001b[39m(x))\n\u001b[1;32m    386\u001b[0m types \u001b[38;5;241m=\u001b[39m L(t \u001b[38;5;28;01mif\u001b[39;00m is_listy(t) \u001b[38;5;28;01melse\u001b[39;00m [t] \u001b[38;5;28;01mfor\u001b[39;00m t \u001b[38;5;129;01min\u001b[39;00m \u001b[38;5;28mself\u001b[39m\u001b[38;5;241m.\u001b[39mtypes)\u001b[38;5;241m.\u001b[39mconcat()\u001b[38;5;241m.\u001b[39munique()\n",
      "File \u001b[0;32m~/University/GNN/project/transformer_env/lib/python3.9/site-packages/fastcore/transform.py:81\u001b[0m, in \u001b[0;36mTransform.__call__\u001b[0;34m(self, x, **kwargs)\u001b[0m\n\u001b[0;32m---> 81\u001b[0m \u001b[38;5;28;01mdef\u001b[39;00m \u001b[38;5;21m__call__\u001b[39m(\u001b[38;5;28mself\u001b[39m, x, \u001b[38;5;241m*\u001b[39m\u001b[38;5;241m*\u001b[39mkwargs): \u001b[38;5;28;01mreturn\u001b[39;00m \u001b[38;5;28;43mself\u001b[39;49m\u001b[38;5;241;43m.\u001b[39;49m\u001b[43m_call\u001b[49m\u001b[43m(\u001b[49m\u001b[38;5;124;43m'\u001b[39;49m\u001b[38;5;124;43mencodes\u001b[39;49m\u001b[38;5;124;43m'\u001b[39;49m\u001b[43m,\u001b[49m\u001b[43m \u001b[49m\u001b[43mx\u001b[49m\u001b[43m,\u001b[49m\u001b[43m \u001b[49m\u001b[38;5;241;43m*\u001b[39;49m\u001b[38;5;241;43m*\u001b[39;49m\u001b[43mkwargs\u001b[49m\u001b[43m)\u001b[49m\n",
      "File \u001b[0;32m~/University/GNN/project/transformer_env/lib/python3.9/site-packages/fastcore/transform.py:91\u001b[0m, in \u001b[0;36mTransform._call\u001b[0;34m(self, fn, x, split_idx, **kwargs)\u001b[0m\n\u001b[1;32m     89\u001b[0m \u001b[38;5;28;01mdef\u001b[39;00m \u001b[38;5;21m_call\u001b[39m(\u001b[38;5;28mself\u001b[39m, fn, x, split_idx\u001b[38;5;241m=\u001b[39m\u001b[38;5;28;01mNone\u001b[39;00m, \u001b[38;5;241m*\u001b[39m\u001b[38;5;241m*\u001b[39mkwargs):\n\u001b[1;32m     90\u001b[0m     \u001b[38;5;28;01mif\u001b[39;00m split_idx\u001b[38;5;241m!=\u001b[39m\u001b[38;5;28mself\u001b[39m\u001b[38;5;241m.\u001b[39msplit_idx \u001b[38;5;129;01mand\u001b[39;00m \u001b[38;5;28mself\u001b[39m\u001b[38;5;241m.\u001b[39msplit_idx \u001b[38;5;129;01mis\u001b[39;00m \u001b[38;5;129;01mnot\u001b[39;00m \u001b[38;5;28;01mNone\u001b[39;00m: \u001b[38;5;28;01mreturn\u001b[39;00m x\n\u001b[0;32m---> 91\u001b[0m     \u001b[38;5;28;01mreturn\u001b[39;00m \u001b[38;5;28;43mself\u001b[39;49m\u001b[38;5;241;43m.\u001b[39;49m\u001b[43m_do_call\u001b[49m\u001b[43m(\u001b[49m\u001b[38;5;28;43mgetattr\u001b[39;49m\u001b[43m(\u001b[49m\u001b[38;5;28;43mself\u001b[39;49m\u001b[43m,\u001b[49m\u001b[43m \u001b[49m\u001b[43mfn\u001b[49m\u001b[43m)\u001b[49m\u001b[43m,\u001b[49m\u001b[43m \u001b[49m\u001b[43mx\u001b[49m\u001b[43m,\u001b[49m\u001b[43m \u001b[49m\u001b[38;5;241;43m*\u001b[39;49m\u001b[38;5;241;43m*\u001b[39;49m\u001b[43mkwargs\u001b[49m\u001b[43m)\u001b[49m\n",
      "File \u001b[0;32m~/University/GNN/project/transformer_env/lib/python3.9/site-packages/fastcore/transform.py:97\u001b[0m, in \u001b[0;36mTransform._do_call\u001b[0;34m(self, f, x, **kwargs)\u001b[0m\n\u001b[1;32m     95\u001b[0m     \u001b[38;5;28;01mif\u001b[39;00m f \u001b[38;5;129;01mis\u001b[39;00m \u001b[38;5;28;01mNone\u001b[39;00m: \u001b[38;5;28;01mreturn\u001b[39;00m x\n\u001b[1;32m     96\u001b[0m     ret \u001b[38;5;241m=\u001b[39m f\u001b[38;5;241m.\u001b[39mreturns(x) \u001b[38;5;28;01mif\u001b[39;00m \u001b[38;5;28mhasattr\u001b[39m(f,\u001b[38;5;124m'\u001b[39m\u001b[38;5;124mreturns\u001b[39m\u001b[38;5;124m'\u001b[39m) \u001b[38;5;28;01melse\u001b[39;00m \u001b[38;5;28;01mNone\u001b[39;00m\n\u001b[0;32m---> 97\u001b[0m     \u001b[38;5;28;01mreturn\u001b[39;00m retain_type(\u001b[43mf\u001b[49m\u001b[43m(\u001b[49m\u001b[43mx\u001b[49m\u001b[43m,\u001b[49m\u001b[43m \u001b[49m\u001b[38;5;241;43m*\u001b[39;49m\u001b[38;5;241;43m*\u001b[39;49m\u001b[43mkwargs\u001b[49m\u001b[43m)\u001b[49m, x, ret)\n\u001b[1;32m     98\u001b[0m res \u001b[38;5;241m=\u001b[39m \u001b[38;5;28mtuple\u001b[39m(\u001b[38;5;28mself\u001b[39m\u001b[38;5;241m.\u001b[39m_do_call(f, x_, \u001b[38;5;241m*\u001b[39m\u001b[38;5;241m*\u001b[39mkwargs) \u001b[38;5;28;01mfor\u001b[39;00m x_ \u001b[38;5;129;01min\u001b[39;00m x)\n\u001b[1;32m     99\u001b[0m \u001b[38;5;28;01mreturn\u001b[39;00m retain_type(res, x)\n",
      "File \u001b[0;32m~/University/GNN/project/transformer_env/lib/python3.9/site-packages/fastcore/dispatch.py:120\u001b[0m, in \u001b[0;36mTypeDispatch.__call__\u001b[0;34m(self, *args, **kwargs)\u001b[0m\n\u001b[1;32m    118\u001b[0m \u001b[38;5;28;01melif\u001b[39;00m \u001b[38;5;28mself\u001b[39m\u001b[38;5;241m.\u001b[39minst \u001b[38;5;129;01mis\u001b[39;00m \u001b[38;5;129;01mnot\u001b[39;00m \u001b[38;5;28;01mNone\u001b[39;00m: f \u001b[38;5;241m=\u001b[39m MethodType(f, \u001b[38;5;28mself\u001b[39m\u001b[38;5;241m.\u001b[39minst)\n\u001b[1;32m    119\u001b[0m \u001b[38;5;28;01melif\u001b[39;00m \u001b[38;5;28mself\u001b[39m\u001b[38;5;241m.\u001b[39mowner \u001b[38;5;129;01mis\u001b[39;00m \u001b[38;5;129;01mnot\u001b[39;00m \u001b[38;5;28;01mNone\u001b[39;00m: f \u001b[38;5;241m=\u001b[39m MethodType(f, \u001b[38;5;28mself\u001b[39m\u001b[38;5;241m.\u001b[39mowner)\n\u001b[0;32m--> 120\u001b[0m \u001b[38;5;28;01mreturn\u001b[39;00m \u001b[43mf\u001b[49m\u001b[43m(\u001b[49m\u001b[38;5;241;43m*\u001b[39;49m\u001b[43margs\u001b[49m\u001b[43m,\u001b[49m\u001b[43m \u001b[49m\u001b[38;5;241;43m*\u001b[39;49m\u001b[38;5;241;43m*\u001b[39;49m\u001b[43mkwargs\u001b[49m\u001b[43m)\u001b[49m\n",
      "Cell \u001b[0;32mIn[116], line 7\u001b[0m, in \u001b[0;36mSubwordTokenizerTransform.encodes\u001b[0;34m(self, x)\u001b[0m\n\u001b[1;32m      5\u001b[0m \u001b[38;5;28;01mdef\u001b[39;00m \u001b[38;5;21mencodes\u001b[39m(\u001b[38;5;28mself\u001b[39m, x):\n\u001b[1;32m      6\u001b[0m     \u001b[38;5;66;03m#return L([self.tok.tokenize(t) for t in x])\u001b[39;00m\n\u001b[0;32m----> 7\u001b[0m     \u001b[38;5;28mprint\u001b[39m([text \u001b[38;5;28;01mfor\u001b[39;00m text \u001b[38;5;129;01min\u001b[39;00m x])\n\u001b[1;32m      8\u001b[0m     \u001b[38;5;28;01mreturn\u001b[39;00m L([\u001b[38;5;28mlist\u001b[39m(\u001b[38;5;28mself\u001b[39m\u001b[38;5;241m.\u001b[39mtok([text]))[\u001b[38;5;241m0\u001b[39m] \u001b[38;5;28;01mfor\u001b[39;00m text \u001b[38;5;129;01min\u001b[39;00m x])\n",
      "\u001b[0;31mTypeError\u001b[0m: 'PosixPath' object is not iterable"
     ]
    }
   ],
   "source": [
    "tfms = [[SubwordTokenizerTransform(tok), num]]\n",
    "print(tfms)\n",
    "files = get_text_files(path, folders = ['train', 'test'])[:20000]\n",
    "cut = int(len(files)*0.8)\n",
    "splits = [list(range(cut)), list(range(cut,len(files)))]\n",
    "#splits = GrandparentSplitter(valid_name='test')(files)\n",
    "dsets = Datasets(files, tfms, splits=splits)\n",
    "dls = dsets.dataloaders(dl_type=LMDataLoader)"
   ]
  }
 ],
 "metadata": {
  "kernelspec": {
   "display_name": "Python 3 (ipykernel)",
   "language": "python",
   "name": "python3"
  },
  "language_info": {
   "codemirror_mode": {
    "name": "ipython",
    "version": 3
   },
   "file_extension": ".py",
   "mimetype": "text/x-python",
   "name": "python",
   "nbconvert_exporter": "python",
   "pygments_lexer": "ipython3",
   "version": "3.9.18"
  }
 },
 "nbformat": 4,
 "nbformat_minor": 2
}
