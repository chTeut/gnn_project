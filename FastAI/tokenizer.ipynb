{
 "cells": [
  {
   "cell_type": "code",
   "execution_count": 1,
   "metadata": {},
   "outputs": [],
   "source": [
    "from fastai.text.all import *\n",
    "import pandas as pd\n"
   ]
  },
  {
   "cell_type": "code",
   "execution_count": 2,
   "metadata": {},
   "outputs": [],
   "source": [
    "path = untar_data(URLs.IMDB_SAMPLE)"
   ]
  },
  {
   "cell_type": "code",
   "execution_count": 3,
   "metadata": {},
   "outputs": [
    {
     "data": {
      "text/plain": [
       "'This is a extremely well-made film. The acting, script and camera-work are all first-rate. The music is good, too, though it is mostly early in the film, when things are still relatively cheery. There are no really superstars in the cast, though several faces will be familiar. The entire cast does an excellent job with the script.<br /><br />But it is hard to watch, because there is no good end to a situation like the one presented. It is now fashionable to blame the British for setting Hindus and Muslims against each other, and then cruelly separating them into two countries. There is some merit in this view, but it\\'s also true that no one forced Hindus and Muslims in the region to mistreat each other as they did around the time of partition. It seems more likely that the British simply saw the tensions between the religions and were clever enough to exploit them to their own ends.<br /><br />The result is that there is much cruelty and inhumanity in the situation and this is very unpleasant to remember and to see on the screen. But it is never painted as a black-and-white case. There is baseness and nobility on both sides, and also the hope for change in the younger generation.<br /><br />There is redemption of a sort, in the end, when Puro has to make a hard choice between a man who has ruined her life, but also truly loved her, and her family which has disowned her, then later come looking for her. But by that point, she has no option that is without great pain for her.<br /><br />This film carries the message that both Muslims and Hindus have their grave faults, and also that both can be dignified and caring people. The reality of partition makes that realisation all the more wrenching, since there can never be real reconciliation across the India/Pakistan border. In that sense, it is similar to \"Mr & Mrs Iyer\".<br /><br />In the end, we were glad to have seen the film, even though the resolution was heartbreaking. If the UK and US could deal with their own histories of racism with this kind of frankness, they would certainly be better off.'"
      ]
     },
     "execution_count": 3,
     "metadata": {},
     "output_type": "execute_result"
    }
   ],
   "source": [
    "df = pd.read_csv(path/'texts.csv', header=None)\n",
    "example_text = df.iloc[2][1]; example_text"
   ]
  },
  {
   "cell_type": "markdown",
   "metadata": {},
   "source": [
    "https://docs.fast.ai/text.core.html"
   ]
  },
  {
   "cell_type": "code",
   "execution_count": 11,
   "metadata": {},
   "outputs": [
    {
     "data": {
      "text/html": [
       "\n",
       "<style>\n",
       "    /* Turns off some styling */\n",
       "    progress {\n",
       "        /* gets rid of default border in Firefox and Opera. */\n",
       "        border: none;\n",
       "        /* Needs to be in here for Safari polyfill so background images work as expected. */\n",
       "        background-size: auto;\n",
       "    }\n",
       "    progress:not([value]), progress:not([value])::-webkit-progress-bar {\n",
       "        background: repeating-linear-gradient(45deg, #7e7e7e, #7e7e7e 10px, #5c5c5c 10px, #5c5c5c 20px);\n",
       "    }\n",
       "    .progress-bar-interrupted, .progress-bar-interrupted::-webkit-progress-bar {\n",
       "        background: #F44336;\n",
       "    }\n",
       "</style>\n"
      ],
      "text/plain": [
       "<IPython.core.display.HTML object>"
      ]
     },
     "metadata": {},
     "output_type": "display_data"
    },
    {
     "data": {
      "text/html": [],
      "text/plain": [
       "<IPython.core.display.HTML object>"
      ]
     },
     "metadata": {},
     "output_type": "display_data"
    },
    {
     "name": "stderr",
     "output_type": "stream",
     "text": [
      "sentencepiece_trainer.cc(178) LOG(INFO) Running command: --input=tmp/texts.out --vocab_size=34 --model_prefix=tmp/spm --character_coverage=0.99999 --model_type=unigram --unk_id=9 --pad_id=-1 --bos_id=-1 --eos_id=-1 --minloglevel=2 --user_defined_symbols=▁xxunk,▁xxpad,▁xxbos,▁xxeos,▁xxfld,▁xxrep,▁xxwrep,▁xxup,▁xxmaj --hard_vocab_limit=false\n"
     ]
    },
    {
     "data": {
      "text/html": [
       "\n",
       "<style>\n",
       "    /* Turns off some styling */\n",
       "    progress {\n",
       "        /* gets rid of default border in Firefox and Opera. */\n",
       "        border: none;\n",
       "        /* Needs to be in here for Safari polyfill so background images work as expected. */\n",
       "        background-size: auto;\n",
       "    }\n",
       "    progress:not([value]), progress:not([value])::-webkit-progress-bar {\n",
       "        background: repeating-linear-gradient(45deg, #7e7e7e, #7e7e7e 10px, #5c5c5c 10px, #5c5c5c 20px);\n",
       "    }\n",
       "    .progress-bar-interrupted, .progress-bar-interrupted::-webkit-progress-bar {\n",
       "        background: #F44336;\n",
       "    }\n",
       "</style>\n"
      ],
      "text/plain": [
       "<IPython.core.display.HTML object>"
      ]
     },
     "metadata": {},
     "output_type": "display_data"
    },
    {
     "data": {
      "text/html": [],
      "text/plain": [
       "<IPython.core.display.HTML object>"
      ]
     },
     "metadata": {},
     "output_type": "display_data"
    }
   ],
   "source": [
    "texts = [f\"This is an example of text {i}\" for i in range(10)]\n",
    "df = pd.DataFrame({'text': texts, 'label': list(range(10))}, columns=['text', 'label'])\n",
    "out,cnt = tokenize_df(df, text_cols='text', tok=SentencePieceTokenizer(vocab_sz=34), n_workers=1)"
   ]
  },
  {
   "cell_type": "code",
   "execution_count": null,
   "metadata": {},
   "outputs": [],
   "source": [
    "def _prepare_texts(tmp_d):\n",
    "    \"Prepare texts in a folder struct in tmp_d, a csv file and returns a dataframe\"\n",
    "    path = Path(tmp_d)/'tmp'\n",
    "    path.mkdir()\n",
    "    for d in ['a', 'b', 'c']: \n",
    "        (path/d).mkdir()\n",
    "        for i in range(5):\n",
    "            with open(path/d/f'text{i}.txt', 'w') as f: f.write(f\"This is an example of text {d} {i}\")\n",
    "    \n",
    "    texts = [f\"This is an example of text {d} {i}\" for i in range(5) for d in ['a', 'b', 'c']]\n",
    "    df = pd.DataFrame({'text': texts, 'label': list(range(15))}, columns=['text', 'label'])\n",
    "    csv_fname = tmp_d/'input.csv'\n",
    "    df.to_csv(csv_fname, index=False)\n",
    "    return path,df,csv_fname"
   ]
  },
  {
   "cell_type": "code",
   "execution_count": 22,
   "metadata": {},
   "outputs": [
    {
     "data": {
      "text/html": [
       "\n",
       "<style>\n",
       "    /* Turns off some styling */\n",
       "    progress {\n",
       "        /* gets rid of default border in Firefox and Opera. */\n",
       "        border: none;\n",
       "        /* Needs to be in here for Safari polyfill so background images work as expected. */\n",
       "        background-size: auto;\n",
       "    }\n",
       "    progress:not([value]), progress:not([value])::-webkit-progress-bar {\n",
       "        background: repeating-linear-gradient(45deg, #7e7e7e, #7e7e7e 10px, #5c5c5c 10px, #5c5c5c 20px);\n",
       "    }\n",
       "    .progress-bar-interrupted, .progress-bar-interrupted::-webkit-progress-bar {\n",
       "        background: #F44336;\n",
       "    }\n",
       "</style>\n"
      ],
      "text/plain": [
       "<IPython.core.display.HTML object>"
      ]
     },
     "metadata": {},
     "output_type": "display_data"
    },
    {
     "data": {
      "text/html": [],
      "text/plain": [
       "<IPython.core.display.HTML object>"
      ]
     },
     "metadata": {},
     "output_type": "display_data"
    },
    {
     "data": {
      "text/html": [
       "\n",
       "<style>\n",
       "    /* Turns off some styling */\n",
       "    progress {\n",
       "        /* gets rid of default border in Firefox and Opera. */\n",
       "        border: none;\n",
       "        /* Needs to be in here for Safari polyfill so background images work as expected. */\n",
       "        background-size: auto;\n",
       "    }\n",
       "    progress:not([value]), progress:not([value])::-webkit-progress-bar {\n",
       "        background: repeating-linear-gradient(45deg, #7e7e7e, #7e7e7e 10px, #5c5c5c 10px, #5c5c5c 20px);\n",
       "    }\n",
       "    .progress-bar-interrupted, .progress-bar-interrupted::-webkit-progress-bar {\n",
       "        background: #F44336;\n",
       "    }\n",
       "</style>\n"
      ],
      "text/plain": [
       "<IPython.core.display.HTML object>"
      ]
     },
     "metadata": {},
     "output_type": "display_data"
    },
    {
     "data": {
      "text/html": [],
      "text/plain": [
       "<IPython.core.display.HTML object>"
      ]
     },
     "metadata": {},
     "output_type": "display_data"
    },
    {
     "name": "stdout",
     "output_type": "stream",
     "text": [
      "['▁xx', 'b', 'o', 's', '▁xx', 'm', 'a', 'j', '▁t', 'h', 'i', 's', '▁', 'i', 's', '▁a', 'n', '▁', 'ex', 'a', 'm', 'p', 'l', 'e', '▁', 'o', 'f', '▁t', 'ex', 't', '▁', 'b', '▁', '4']\n"
     ]
    },
    {
     "data": {
      "text/html": [
       "\n",
       "<style>\n",
       "    /* Turns off some styling */\n",
       "    progress {\n",
       "        /* gets rid of default border in Firefox and Opera. */\n",
       "        border: none;\n",
       "        /* Needs to be in here for Safari polyfill so background images work as expected. */\n",
       "        background-size: auto;\n",
       "    }\n",
       "    progress:not([value]), progress:not([value])::-webkit-progress-bar {\n",
       "        background: repeating-linear-gradient(45deg, #7e7e7e, #7e7e7e 10px, #5c5c5c 10px, #5c5c5c 20px);\n",
       "    }\n",
       "    .progress-bar-interrupted, .progress-bar-interrupted::-webkit-progress-bar {\n",
       "        background: #F44336;\n",
       "    }\n",
       "</style>\n"
      ],
      "text/plain": [
       "<IPython.core.display.HTML object>"
      ]
     },
     "metadata": {},
     "output_type": "display_data"
    },
    {
     "data": {
      "text/html": [],
      "text/plain": [
       "<IPython.core.display.HTML object>"
      ]
     },
     "metadata": {},
     "output_type": "display_data"
    },
    {
     "name": "stdout",
     "output_type": "stream",
     "text": [
      "['▁xx', 'b', 'o', 's', '▁xx', 'm', 'a', 'j', '▁t', 'h', 'i', 's', '▁', 'i', 's', '▁a', 'n', '▁', 'ex', 'a', 'm', 'p', 'l', 'e', '▁', 'o', 'f', '▁t', 'ex', 't', '▁', 'c', '▁', '2']\n"
     ]
    }
   ],
   "source": [
    "with tempfile.TemporaryDirectory() as tmp_d:\n",
    "    path,df,csv_fname = _prepare_texts(Path(tmp_d))\n",
    "    items = get_text_files(path)\n",
    "    splits = RandomSplitter()(items)\n",
    "    tok = SentencePieceTokenizer(special_toks=[])\n",
    "    dsets = Datasets(items, [Tokenizer.from_folder(path, tok=tok)], splits=splits)\n",
    "    print(dsets.train[0][0])\n",
    "    \n",
    "with warnings.catch_warnings():\n",
    "    dsets = Datasets(df, [Tokenizer.from_df('text', tok=tok)], splits=splits)\n",
    "    print(dsets.train[0][0].text)"
   ]
  },
  {
   "cell_type": "code",
   "execution_count": 53,
   "metadata": {},
   "outputs": [
    {
     "data": {
      "text/html": [
       "\n",
       "<style>\n",
       "    /* Turns off some styling */\n",
       "    progress {\n",
       "        /* gets rid of default border in Firefox and Opera. */\n",
       "        border: none;\n",
       "        /* Needs to be in here for Safari polyfill so background images work as expected. */\n",
       "        background-size: auto;\n",
       "    }\n",
       "    progress:not([value]), progress:not([value])::-webkit-progress-bar {\n",
       "        background: repeating-linear-gradient(45deg, #7e7e7e, #7e7e7e 10px, #5c5c5c 10px, #5c5c5c 20px);\n",
       "    }\n",
       "    .progress-bar-interrupted, .progress-bar-interrupted::-webkit-progress-bar {\n",
       "        background: #F44336;\n",
       "    }\n",
       "</style>\n"
      ],
      "text/plain": [
       "<IPython.core.display.HTML object>"
      ]
     },
     "metadata": {},
     "output_type": "display_data"
    },
    {
     "data": {
      "text/html": [],
      "text/plain": [
       "<IPython.core.display.HTML object>"
      ]
     },
     "metadata": {},
     "output_type": "display_data"
    },
    {
     "name": "stdout",
     "output_type": "stream",
     "text": [
      "['▁', 'x', 'x', 'b', 'o', 's', '▁', 'x', 'x', 'ma', 'j', '▁', 're', 'a', 'd', 'ing', '▁', 's', 'o', 'm', 'e', '▁of', '▁the', '▁', 'c', 'o', 'm', 'm', 'e', 'n', 't', 's', '▁', 'o', 'n', '▁the', '▁', 'm', 'e', 's', 's', 'a', 'g', 'e', '▁', 'b', 'o', 'a', 'r', 'd', 's', '▁', 'h', 'e', 're', '▁', 'i', '▁', 'w', 'a', 's', '▁', 'e', 'x', 'p', 'e', 'c', 't', 'ing', '▁thi', 's', '▁', 'm', 'o', 'v', 'i', 'e', '▁', 't', 'o', '▁', 'b', 'e', '▁a', '▁', 'c', 'o', 'm', 'p', 'l', 'e', 't', 'e', '▁', 'l', 'e', 't', 'd', 'o', 'w', 'n', '▁', '-', '▁', 'b', 'u', 't', '▁', 'w', 'h', 'e', 'n', '▁', 'i', '▁', 'w', 'a', 't', 'c', 'h', 'e', 'd', '▁it', '▁', 'i', '▁', 'c', 'o', 'u', 'l', 'd', '▁', 'n', 'o', 't', '▁', 's', 't', 'o', 'p', '▁', 'l', 'a', 'u', 'g', 'h', 'ing', '!', '▁', 'x', 'x', 'ma', 'j', '▁it', '▁', 'h', 'a', 's', '▁of', 'f', 'i', 'c', 'i', 'all', 'y', '▁', 'b', 'e', 'c', 'o', 'm', 'e', '▁', 'm', 'y', '▁', 'n', 'e', 'w', '▁', 'f', 'a', 'v', 'o', 'u', 'r', 'i', 't', 'e', '▁', 'm', 'o', 'v', 'i', 'e', '.', '▁', 'i', '▁', 'd', 'o', 'n', \"'\", 't', '▁', 'k', 'n', 'o', 'w', '▁', 'w', 'h', 'a', 't', '▁', 'all', '▁the', '▁', 'h', 'a', 't', 'e', '▁', 'h', 'e', 're', '▁', 'i', 's', '▁a', 'b', 'o', 'u', 't', ',', '▁', 'ma', 'y', 'b', 'e', '▁it', \"'\", 's', '▁', 'b', 'e', 'c', 'a', 'u', 's', 'e', '▁a', '▁', 'm', 'o', 'v', 'i', 'e', '▁of', '▁thi', 's', '▁', 'k', 'i', 'nd', '▁', 'h', 'a', 's', '▁', 'n', 'e', 've', 'r', '▁', 're', 'all', 'y', '▁', 'b', 'e', 'e', 'n', '▁a', 'r', 'o', 'u', 'nd', '▁', 'b', 'e', 'f', 'o', 're', '.', '▁', 'i', '▁a', 'm', '▁a', 't', '▁a', '▁', 'l', 'o', 's', 's', '▁', 't', 'o', '▁', 'n', 'a', 'm', 'e', '▁a', 'n', 'o', 't', 'h', 'e', 'r', '▁', 'c', 'o', 'm', 'p', 'l', 'e', 't', 'e', 'l', 'y', '▁', 'female', '▁', 'd', 'r', 'i', 've', 'n', '▁', 'c', 'o', 'm', 'e', 'd', 'y', '.', '▁', 'x', 'x', 'ma', 'j', '▁', 'p', 'l', 'e', 'n', 't', 'y', '▁of', '▁', 'c', 'o', 'm', 'e', 'd', 'i', 'e', 's', '▁wi', 'l', 'l', '▁', 'h', 'a', 've', '▁', 'o', 'n', 'e', '▁', 'o', 'r', '▁', 't', 'w', 'o', '▁a', 'c', 't', 're', 's', 's', 'e', 's', '▁', 'i', 'n', '▁the', '▁', 'l', 'e', 'a', 'd', ',', '▁', 'b', 'u', 't', '▁the', 're', '▁wi', 'l', 'l', '▁', 'b', 'e', '▁a', '▁', 'l', 'o', 't', '▁of', '▁', 's', 'u', 'p', 'p', 'o', 'r', 't', 'ing', '▁', 'ma', 'l', 'e', '▁', 'c', 'h', 'a', 'r', 'a', 'c', 't', 'e', 'r', 's', '.', '▁', 'x', 'x', 'ma', 'j', '▁thi', 's', '▁', 'o', 'n', 'e', '▁', 'w', 'a', 's', '▁a', 'l', 'm', 'o', 's', 't', '▁', 'x', 'x', 'u', 'p', '▁', 'all', '▁', 'w', 'o', 'm', 'e', 'n', '▁', '-', '▁wi', 't', 'h', '▁the', '▁', 'e', 'x', 'c', 'e', 'p', 't', 'i', 'o', 'n', '▁of', '▁', 'x', 'x', 'ma', 'j', '▁', 's', 'e', 't', 'h', '▁', 'x', 'x', 'ma', 'j', '▁', 'm', 'e', 'y', 'e', 'r', 's', ',', '▁', 'x', 'x', 'ma', 'j', '▁', 'j', 'u', 's', 't', 'i', 'n', '▁', 'x', 'x', 'ma', 'j', '▁', 'h', 'a', 'r', 't', 'l', 'e', 'y', '▁a', 'nd', '▁the', '▁', 'b', 'r', 'i', 'e', 'f', '▁a', 'p', 'p', 'e', 'a', 'r', 'a', 'n', 'c', 'e', '▁of', '▁', 'x', 'x', 'ma', 'j', '▁wi', 'l', 'l', '▁', 'x', 'x', 'ma', 'j', '▁a', 'r', 'n', 'e', 't', 't', '▁', '-', '▁a', 'nd', '▁it', '▁', 'w', 'o', 'r', 'k', 'e', 'd', '.', '▁', 'x', 'x', 'ma', 'j', '▁', 'all', '▁of', '▁the', '▁a', 'c', 't', 're', 's', 's', 'e', 's', '▁', 'd', 'e', 'l', 'i', 've', 're', 'd', '▁', 've', 'r', 'y', '▁', 'f', 'u', 'n', 'n', 'y', '▁', 'p', 'e', 'r', 'f', 'o', 'r', 'ma', 'n', 'c', 'e', 's', '▁', '(', 'e', 's', 'p', 'e', 'c', 'i', 'all', 'y', '▁', 'x', 'x', 'ma', 'j', '▁', 'm', 'i', 's', 's', 'i', '▁', 'x', 'x', 'ma', 'j', '▁', 'p', 'y', 'l', 'e', ')', '▁', 'f', 'r', 'o', 'm', '▁a', '▁', 'q', 'u', 'i', 'r', 'k', 'y', '▁a', 'nd', '▁', 'l', 'o', 'v', 'a', 'b', 'l', 'e', '▁', 's', 'c', 'r', 'i', 'p', 't', '.', '▁', 'x', 'x', 'ma', 'j', '▁the', '▁', 'c', 'h', 'a', 'r', 'm', '▁of', '▁thi', 's', '▁', 'f', 'i', 'l', 'm', ',', '▁', 't', 'o', '▁', 'm', 'e', ',', '▁', 's', 'e', 'e', 'm', 's', '▁', 't', 'o', '▁', 'b', 'e', '▁', 'i', 'n', '▁it', 's', '▁', 's', 'u', 'b', 't', 'l', 'e', '▁', 'f', 'e', 'm', 'i', 'n', 'i', 's', 't', '▁', 'm', 'e', 's', 's', 'a', 'g', 'e', ':', '▁a', 'c', 'c', 'e', 'p', 't', 'ing', '▁', 'w', 'h', 'o', '▁', 'y', 'o', 'u', '▁a', 're', ',', '▁', 'female', '▁', 's', 'u', 'c', 'c', 'e', 's', 's', '▁', 'i', 'n', '▁the', '▁', 'p', 'u', 'b', 'l', 'i', 'c', '▁', 's', 'p', 'h', 'e', 're', ',', '▁the', '▁', 's', 't', 're', 'n', 'g', 't', 'h', '▁of', '▁', 'female', '▁', 'f', 'r', 'i', 'e', 'nd', 's', 'h', 'i', 'p', 's', '▁a', 'nd', '▁', 'b', 're', 'a', 'k', 'ing', '▁', 'g', 'e', 'nd', 'e', 'r', '▁', 'r', 'o', 'l', 'e', 's', '.', '▁', 'x', 'x', 'ma', 'j', '▁', 'l', 'i', 'g', 'h', 't', '-', 'h', 'e', 'a', 'r', 't', 'e', 'd', '▁', 't', 'h', 'o', 'u', 'g', 'h', '▁it', '▁', 'i', 's', ',', '▁', 'e', 'a', 'c', 'h', '▁of', '▁the', '▁', 'l', 'e', 'a', 'd', '▁', 'c', 'h', 'a', 'r', 'a', 'c', 't', 'e', 'r', 's', '▁', 'f', 'a', 'c', 'e', '▁a', '▁', 'c', 'h', 'all', 'e', 'n', 'g', 'e', '▁a', 's', '▁the', 'i', 'r', '▁a', 't', 't', 'e', 'm', 'p', 't', 's', '▁', 't', 'o', '▁', 'b', 'e', '▁', 'm', 'o', 're', '▁', \"'\", 'f', 'u', 'n', \"'\", '▁', 'c', 'o', 'n', 'f', 'l', 'i', 'c', 't', '▁wi', 't', 'h', '▁the', 'i', 'r', '▁', 'f', 'e', 'm', 'i', 'n', 'i', 's', 't', '▁', 'v', 'a', 'l', 'u', 'e', 's', '▁a', 'nd', '▁', 'w', 'h', 'o', '▁the', 'y', '▁', 'k', 'n', 'e', 'w', '▁the', 'm', 's', 'e', 'l', 've', 's', '▁', 't', 'o', '▁', 'b', 'e', '.', '▁', 'x', 'x', 'ma', 'j', '▁', 'm', 'i', 's', 's', 'i', '▁', 'x', 'x', 'ma', 'j', '▁', 'p', 'y', 'l', 'e', '▁', 'p', 'r', 'o', 'p', 'o', 's', 'e', 'd', '▁', 't', 'h', 'a', 't', '▁thi', 's', '▁', 'f', 'i', 'l', 'm', '▁', 'm', 'i', 's', 's', 'e', 'd', '▁a', '▁the', 'a', 't', 'r', 'i', 'c', 'a', 'l', '▁', 're', 'l', 'e', 'a', 's', 'e', '▁', 'b', 'e', 'c', 'a', 'u', 's', 'e', '▁of', '▁it', 's', '▁', 'all', '-', 'female', '▁', 'c', 'a', 's', 't', '▁a', 'nd', '▁', 'l', 'a', 'c', 'k', '▁of', '▁a', '▁', 'b', 'i', 'g', '-', 'n', 'a', 'm', 'e', '▁a', 'c', 't', 'o', 'r', '▁', 't', 'o', '▁', 'g', 'e', 't', '▁the', '▁', 's', 't', 'u', 'd', 'i', 'o', 's', '▁', 'b', 'e', 'h', 'i', 'nd', '▁it', ',', '▁a', 'nd', '▁', 'i', '▁', 'h', 'a', 've', '▁', 't', 'o', '▁a', 'g', 're', 'e', '.', '▁', 'x', 'x', 'ma', 'j', '▁', 'e', 've', 'r', 'y', 'o', 'n', 'e', '▁', 'x', 'x', 'ma', 'j', '▁', 'i', \"'\", 've', '▁', 're', 'c', 'o', 'm', 'm', 'e', 'nd', 'e', 'd', '▁thi', 's', '▁', 'f', 'i', 'l', 'm', '▁', 't', 'o', '▁', 'h', 'a', 's', '▁', 'l', 'o', 've', 'd', '▁it', '▁a', 'nd', '▁', 'i', '▁thi', 'n', 'k', '▁it', \"'\", 's', '▁a', '▁', 's', 'h', 'a', 'm', 'e', '▁', 't', 'h', 'a', 't', '▁a', '▁', 'c', 'o', 'm', 'e', 'd', 'y', '▁', 'c', 'e', 'l', 'e', 'b', 'r', 'a', 't', 'ing', '▁', 'female', '▁', 'd', 'o', 'r', 'k', 'i', 'n', 'e', 's', 's', '▁', 'h', 'a', 's', 'n', \"'\", 't', '▁', 'b', 'e', 'e', 'n', '▁wi', 'd', 'e', 'l', 'y', '▁a', 'c', 'c', 'e', 'p', 't', 'e', 'd', '▁a', 'nd', '▁', 's', 'u', 'c', 'c', 'e', 's', 's', 'f', 'u', 'l', '.', '▁', 'i', '▁', 'h', 'i', 'g', 'h', 'l', 'y', '▁', 're', 'c', 'o', 'm', 'm', 'e', 'nd', '▁thi', 's', '▁', 'f', 'i', 'l', 'm', '▁', 't', 'o', '▁a', 'n', 'y', 'o', 'n', 'e', '▁wi', 't', 'h', '▁a', 'n', '▁', 'o', 'p', 'e', 'n', '▁', 'm', 'i', 'nd', '▁', 'o', 'r', '▁a', '▁', 'l', 'o', 've', '▁of', '▁', 'female', '-', 'c', 'e', 'n', 't', 're', 'd', '▁', 'c', 'o', 'm', 'e', 'd', 'y', '.']\n"
     ]
    }
   ],
   "source": [
    "\n",
    "\n",
    "with tempfile.TemporaryDirectory() as tmp_d:\n",
    "    path = untar_data(URLs.IMDB_SAMPLE)\n",
    "    df = pd.read_csv(path/'texts.csv', header=None)\n",
    "    items = [val for val in df[1][:]]\n",
    "    blocks=TextBlock.from_folder(path, is_lm=True)\n",
    "    splits = RandomSplitter()(items)\n",
    "    tok = SentencePieceTokenizer(special_toks=[])\n",
    "    dsets = Datasets(items, [Tokenizer.from_folder(path, tok=tok)], splits=splits)\n",
    "    print(dsets.train[0][0])\n",
    "    "
   ]
  }
 ],
 "metadata": {
  "kernelspec": {
   "display_name": "transformer_env",
   "language": "python",
   "name": "python3"
  },
  "language_info": {
   "codemirror_mode": {
    "name": "ipython",
    "version": 3
   },
   "file_extension": ".py",
   "mimetype": "text/x-python",
   "name": "python",
   "nbconvert_exporter": "python",
   "pygments_lexer": "ipython3",
   "version": "3.9.18"
  }
 },
 "nbformat": 4,
 "nbformat_minor": 2
}
