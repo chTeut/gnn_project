{
 "cells": [
  {
   "cell_type": "code",
   "execution_count": 2,
   "metadata": {},
   "outputs": [],
   "source": [
    "import torch\n",
    "import torch.nn as nn\n",
    "import numpy as np\n",
    "import pickle\n",
    "from fastai.text.all import *"
   ]
  },
  {
   "cell_type": "code",
   "execution_count": 3,
   "metadata": {},
   "outputs": [
    {
     "data": {
      "text/plain": [
       "'cuda:0'"
      ]
     },
     "execution_count": 3,
     "metadata": {},
     "output_type": "execute_result"
    }
   ],
   "source": [
    "if torch.cuda.is_available():\n",
    "  device = \"cuda:0\"\n",
    "else:\n",
    "  device = \"cpu\"\n",
    "device"
   ]
  },
  {
   "cell_type": "code",
   "execution_count": 4,
   "metadata": {},
   "outputs": [],
   "source": [
    "def scaled_dot_product_attention(query, key, value, mask=None):\n",
    "    dim_k = query.size(-1)\n",
    "    scores = torch.bmm(query, key.transpose(1, 2)) / np.sqrt(dim_k)\n",
    "    if mask is not None:\n",
    "        if scores.shape[1] == mask.shape[1]:\n",
    "            scores = scores.masked_fill(mask == 0, float(\"-inf\"))\n",
    "        else:\n",
    "            mask = torch.tril(torch.ones(scores.shape[1], scores.shape[1], dtype=torch.float)).unsqueeze(0).to(device)\n",
    "            scores = scores.masked_fill(mask == 0, float(\"-inf\"))\n",
    "    weights = F.softmax(scores, dim=-1)\n",
    "    return weights.bmm(value)\n",
    "\n",
    "class AttentionHead(nn.Module):\n",
    "    def __init__(self, embed_dim, head_dim, vocab_size):\n",
    "        super().__init__()\n",
    "        self.q = nn.Linear(embed_dim, head_dim)\n",
    "        self.k = nn.Linear(embed_dim, head_dim)\n",
    "        self.v = nn.Linear(embed_dim, head_dim)\n",
    "        self.mask = torch.tril(torch.ones(head_dim, head_dim, dtype=torch.float)).unsqueeze(0).to(device)\n",
    "\n",
    "    def forward(self, hidden_state):\n",
    "        attn_outputs = scaled_dot_product_attention(\n",
    "            self.q(hidden_state), self.k(hidden_state), self.v(hidden_state), self.mask)\n",
    "        return attn_outputs\n",
    "\n",
    "class MultiHeadAttention(nn.Module):\n",
    "    def __init__(self, config):\n",
    "        super().__init__()\n",
    "        embed_dim = config.hidden_size\n",
    "        num_heads = config.num_attention_heads\n",
    "        head_dim = embed_dim // num_heads\n",
    "        self.heads = nn.ModuleList(\n",
    "            [AttentionHead(embed_dim, head_dim, config.vocab_size) for _ in range(num_heads)]\n",
    "        )\n",
    "        self.output_linear = nn.Linear(embed_dim, embed_dim)\n",
    "\n",
    "    def forward(self, hidden_state):\n",
    "        x = torch.cat([h(hidden_state) for h in self.heads], dim=-1)\n",
    "        x = self.output_linear(x)\n",
    "        return x\n",
    "\n",
    "class FeedForward(nn.Module):\n",
    "    def __init__(self, config):\n",
    "        super().__init__()\n",
    "        self.linear_1 = nn.Linear(config.hidden_size, config.intermediate_size)\n",
    "        self.linear_2 = nn.Linear(config.intermediate_size, config.hidden_size)\n",
    "        self.gelu = nn.GELU()\n",
    "        self.dropout = nn.Dropout(config.hidden_dropout_prob)\n",
    "        \n",
    "    def forward(self, x):\n",
    "        x = self.linear_1(x)\n",
    "        x = self.gelu(x)\n",
    "        x = self.linear_2(x)\n",
    "        x = self.dropout(x)\n",
    "        return x\n",
    "\n",
    "class TransformerDecoderLayer(nn.Module):\n",
    "    def __init__(self, config):\n",
    "        super().__init__()\n",
    "        self.layer_norm_1 = nn.LayerNorm(config.hidden_size)\n",
    "        self.layer_norm_2 = nn.LayerNorm(config.hidden_size)\n",
    "        self.attention = MultiHeadAttention(config)\n",
    "        self.feed_forward = FeedForward(config)\n",
    "\n",
    "    def forward(self, x):\n",
    "        hidden_state = self.layer_norm_1(x)\n",
    "        x = x + self.attention(hidden_state)\n",
    "        x = x + self.feed_forward(self.layer_norm_2(x))\n",
    "        return x\n",
    "\n",
    "class Embeddings(nn.Module):\n",
    "    def __init__(self, config):\n",
    "        super().__init__()\n",
    "        self.token_embeddings = nn.Embedding(config.vocab_size, \n",
    "                                             config.hidden_size)\n",
    "        self.position_embeddings = nn.Embedding(config.max_position_embeddings,\n",
    "                                                config.hidden_size)\n",
    "        self.layer_norm = nn.LayerNorm(config.hidden_size, eps=1e-12)\n",
    "        self.dropout = nn.Dropout()\n",
    "\n",
    "    def forward(self, input_ids):\n",
    "        if input_ids.dtype != torch.int:\n",
    "            input_ids = input_ids.int()\n",
    "        # Create position IDs for input sequence\n",
    "        seq_length = input_ids.size(1)\n",
    "        position_ids = torch.arange(seq_length, dtype=torch.int).unsqueeze(0).to(device)\n",
    "        # Create token and position embeddings\n",
    "        token_embeddings = self.token_embeddings(input_ids)\n",
    "        position_embeddings = self.position_embeddings(position_ids)\n",
    "        # Combine token and position embeddings\n",
    "        embeddings = token_embeddings + position_embeddings\n",
    "        embeddings = self.layer_norm(embeddings)\n",
    "        embeddings = self.dropout(embeddings)\n",
    "        \n",
    "        return embeddings\n",
    "\n",
    "class TransformerDecoder(nn.Module):\n",
    "    def __init__(self, config):\n",
    "        super().__init__()\n",
    "        self.embeddings = Embeddings(config)\n",
    "        self.layers = nn.ModuleList([TransformerDecoderLayer(config) \n",
    "                                     for _ in range(config.num_hidden_layers)])\n",
    "\n",
    "    def forward(self, x):\n",
    "        x = self.embeddings(x)\n",
    "        for layer in self.layers:\n",
    "            x = layer(x)\n",
    "        return x\n",
    "\n",
    "class ShellTransformer(nn.Module):\n",
    "    def __init__(self, config):\n",
    "        super().__init__()\n",
    "        self.decoder = TransformerDecoder(config)\n",
    "        self.dropout = nn.Dropout(config.hidden_dropout_prob)\n",
    "        self.classifier = nn.Linear(config.hidden_size, config.num_labels)\n",
    "        \n",
    "    def forward(self, x):\n",
    "        x = self.decoder(x)#[:, 0, :] \n",
    "        x = self.dropout(x)\n",
    "        x = self.classifier(x)\n",
    "        return x"
   ]
  },
  {
   "cell_type": "code",
   "execution_count": 5,
   "metadata": {},
   "outputs": [],
   "source": [
    "file = '/home/paperspace/gnn_project/Data/dataset-preprocessed.txt'\n",
    "\n",
    "# Initialize an empty list to store strings\n",
    "txts = []\n",
    "\n",
    "# Read the content of each line in the file and append it to the list\n",
    "with open(file, 'r', encoding='utf-8') as f:\n",
    "    for line in f:\n",
    "        txts.append(line.strip())  # Strip any leading/trailing whitespace from the line\n",
    "\n",
    "txts = L(txts)"
   ]
  },
  {
   "cell_type": "code",
   "execution_count": 9,
   "metadata": {},
   "outputs": [
    {
     "data": {
      "text/html": [
       "<table border=\"1\" class=\"dataframe\">\n",
       "  <thead>\n",
       "    <tr style=\"text-align: right;\">\n",
       "      <th></th>\n",
       "      <th>text</th>\n",
       "      <th>text_</th>\n",
       "    </tr>\n",
       "  </thead>\n",
       "  <tbody>\n",
       "    <tr>\n",
       "      <th>0</th>\n",
       "      <td>sudonginxssh-vpython2CVE_2019_15107.pyhttp://172.18.1.5:10000iddf-hsshsa</td>\n",
       "      <td>udonginxssh-vpython2CVE_2019_15107.pyhttp://172.18.1.5:10000iddf-hsshsak</td>\n",
       "    </tr>\n",
       "    <tr>\n",
       "      <th>1</th>\n",
       "      <td>xft:IosevkaSS01Medium:size=11'tar-zxvfaaa.tar.gzababrmid_rsa_jonas_tower</td>\n",
       "      <td>ft:IosevkaSS01Medium:size=11'tar-zxvfaaa.tar.gzababrmid_rsa_jonas_tower*</td>\n",
       "    </tr>\n",
       "  </tbody>\n",
       "</table>"
      ],
      "text/plain": [
       "<IPython.core.display.HTML object>"
      ]
     },
     "metadata": {},
     "output_type": "display_data"
    },
    {
     "name": "stderr",
     "output_type": "stream",
     "text": [
      "/home/paperspace/gnn_project/.venv/lib/python3.10/site-packages/tqdm/auto.py:21: TqdmWarning: IProgress not found. Please update jupyter and ipywidgets. See https://ipywidgets.readthedocs.io/en/stable/user_install.html\n",
      "  from .autonotebook import tqdm as notebook_tqdm\n"
     ]
    },
    {
     "data": {
      "text/html": [
       "\n",
       "<style>\n",
       "    /* Turns off some styling */\n",
       "    progress {\n",
       "        /* gets rid of default border in Firefox and Opera. */\n",
       "        border: none;\n",
       "        /* Needs to be in here for Safari polyfill so background images work as expected. */\n",
       "        background-size: auto;\n",
       "    }\n",
       "    progress:not([value]), progress:not([value])::-webkit-progress-bar {\n",
       "        background: repeating-linear-gradient(45deg, #7e7e7e, #7e7e7e 10px, #5c5c5c 10px, #5c5c5c 20px);\n",
       "    }\n",
       "    .progress-bar-interrupted, .progress-bar-interrupted::-webkit-progress-bar {\n",
       "        background: #F44336;\n",
       "    }\n",
       "</style>\n"
      ],
      "text/plain": [
       "<IPython.core.display.HTML object>"
      ]
     },
     "metadata": {},
     "output_type": "display_data"
    },
    {
     "data": {
      "text/html": [
       "<table border=\"1\" class=\"dataframe\">\n",
       "  <thead>\n",
       "    <tr style=\"text-align: left;\">\n",
       "      <th>epoch</th>\n",
       "      <th>train_loss</th>\n",
       "      <th>valid_loss</th>\n",
       "      <th>accuracy</th>\n",
       "      <th>time</th>\n",
       "    </tr>\n",
       "  </thead>\n",
       "  <tbody>\n",
       "    <tr>\n",
       "      <td>0</td>\n",
       "      <td>1.682203</td>\n",
       "      <td>None</td>\n",
       "      <td>None</td>\n",
       "      <td>11:13</td>\n",
       "    </tr>\n",
       "  </tbody>\n",
       "</table>"
      ],
      "text/plain": [
       "<IPython.core.display.HTML object>"
      ]
     },
     "metadata": {},
     "output_type": "display_data"
    },
    {
     "name": "stderr",
     "output_type": "stream",
     "text": [
      "/home/paperspace/gnn_project/.venv/lib/python3.10/site-packages/fastprogress/fastprogress.py:73: UserWarning: Your generator is empty.\n",
      "  warn(\"Your generator is empty.\")\n"
     ]
    },
    {
     "data": {
      "text/plain": [
       "Path('/home/paperspace/BaseTokenizer.pth')"
      ]
     },
     "execution_count": 9,
     "metadata": {},
     "output_type": "execute_result"
    }
   ],
   "source": [
    "class MyTokenizer(Transform):\n",
    "    def setups(self, items):\n",
    "        self.tok = BaseTokenizer()\n",
    "        \n",
    "    def encodes(self, txts):\n",
    "        toks = self.tok(txts)\n",
    "        tokenized_sentences = [[tok for tok in gen] for gen in toks]\n",
    "        flattened_list = [item for sublist in tokenized_sentences for item in sublist if item]\n",
    "        return flattened_list\n",
    "    \n",
    "    def decodes(self, encoded):\n",
    "        decoded_values = TitledStr(''.join(encoded))\n",
    "        return decoded_values\n",
    "            \n",
    "class MyNumerizer(Transform):\n",
    "    def setups(self, items):\n",
    "        self.num = Numericalize()\n",
    "        self.num.setup(items)\n",
    "        self.vocab = self.num.vocab\n",
    "        \n",
    "\n",
    "    def encodes(self, toks):\n",
    "        return self.num(toks)\n",
    "    \n",
    "    def decodes(self, encoded):\n",
    "        return self.num.decode(encoded)  \n",
    "    \n",
    "txt200 = txts[:]\n",
    "tokn = MyTokenizer()\n",
    "tokn.setup(txt200)\n",
    "\n",
    "toks = txt200.map(tokn)\n",
    "\n",
    "num = MyNumerizer()\n",
    "num.setup(toks)\n",
    "\n",
    "tfms = [[tokn, num]]\n",
    "cut = int(len(txts[:])*0.8)\n",
    "splits = [list(range(cut)), list(range(cut,len(txts[:])))]\n",
    "dsets = Datasets(txts[:], tfms)\n",
    "dls = dsets.dataloaders(dl_type=LMDataLoader)\n",
    "dls.show_batch(max_n=2)\n",
    "\n",
    "from transformers import AutoConfig\n",
    "config = AutoConfig.from_pretrained('bert-base-uncased')\n",
    "\n",
    "config.vocab_size = len(dls.vocab)\n",
    "config.num_labels = len(dls.vocab)\n",
    "config.hidden_size = 395\n",
    "config.num_hidden_layers = 12\n",
    "config.num_attention_heads = 5\n",
    "config.max_position_embeddings = 512\n",
    "config.intermediate_size = int((config.hidden_size * config.num_attention_heads) * 0.7)\n",
    "transformer = ShellTransformer(config)\n",
    "\n",
    "transformer.to(device)\n",
    "dls.to(device)\n",
    "\n",
    "learn = Learner(\n",
    "    dls, \n",
    "    transformer, \n",
    "    loss_func=CrossEntropyLossFlat(), \n",
    "    metrics=[accuracy]\n",
    ")\n",
    "\n",
    "learn.fit_one_cycle(1, 1e-3)\n",
    "\n",
    "learn.save('/home/paperspace/BaseTokenizer')"
   ]
  },
  {
   "cell_type": "code",
   "execution_count": 10,
   "metadata": {},
   "outputs": [
    {
     "data": {
      "text/html": [
       "<table border=\"1\" class=\"dataframe\">\n",
       "  <thead>\n",
       "    <tr style=\"text-align: right;\">\n",
       "      <th></th>\n",
       "      <th>text</th>\n",
       "      <th>text_</th>\n",
       "    </tr>\n",
       "  </thead>\n",
       "  <tbody>\n",
       "    <tr>\n",
       "      <th>0</th>\n",
       "      <td>vim page.hshutdown 0cd application/cargo rungit commit -m \"first commit\"</td>\n",
       "      <td>im page.hshutdown 0cd application/cargo rungit commit -m \"first commit\"n</td>\n",
       "    </tr>\n",
       "    <tr>\n",
       "      <th>1</th>\n",
       "      <td>x/webapp/webmin_backdoormake checkcd etc/apahce2/ps auwx | grep collectd</td>\n",
       "      <td>/webapp/webmin_backdoormake checkcd etc/apahce2/ps auwx | grep collectdp</td>\n",
       "    </tr>\n",
       "  </tbody>\n",
       "</table>"
      ],
      "text/plain": [
       "<IPython.core.display.HTML object>"
      ]
     },
     "metadata": {},
     "output_type": "display_data"
    },
    {
     "data": {
      "text/html": [
       "\n",
       "<style>\n",
       "    /* Turns off some styling */\n",
       "    progress {\n",
       "        /* gets rid of default border in Firefox and Opera. */\n",
       "        border: none;\n",
       "        /* Needs to be in here for Safari polyfill so background images work as expected. */\n",
       "        background-size: auto;\n",
       "    }\n",
       "    progress:not([value]), progress:not([value])::-webkit-progress-bar {\n",
       "        background: repeating-linear-gradient(45deg, #7e7e7e, #7e7e7e 10px, #5c5c5c 10px, #5c5c5c 20px);\n",
       "    }\n",
       "    .progress-bar-interrupted, .progress-bar-interrupted::-webkit-progress-bar {\n",
       "        background: #F44336;\n",
       "    }\n",
       "</style>\n"
      ],
      "text/plain": [
       "<IPython.core.display.HTML object>"
      ]
     },
     "metadata": {},
     "output_type": "display_data"
    },
    {
     "data": {
      "text/html": [
       "<table border=\"1\" class=\"dataframe\">\n",
       "  <thead>\n",
       "    <tr style=\"text-align: left;\">\n",
       "      <th>epoch</th>\n",
       "      <th>train_loss</th>\n",
       "      <th>valid_loss</th>\n",
       "      <th>accuracy</th>\n",
       "      <th>time</th>\n",
       "    </tr>\n",
       "  </thead>\n",
       "  <tbody>\n",
       "    <tr>\n",
       "      <td>0</td>\n",
       "      <td>1.454958</td>\n",
       "      <td>None</td>\n",
       "      <td>None</td>\n",
       "      <td>16:14</td>\n",
       "    </tr>\n",
       "  </tbody>\n",
       "</table>"
      ],
      "text/plain": [
       "<IPython.core.display.HTML object>"
      ]
     },
     "metadata": {},
     "output_type": "display_data"
    },
    {
     "name": "stderr",
     "output_type": "stream",
     "text": [
      "/home/paperspace/gnn_project/.venv/lib/python3.10/site-packages/fastprogress/fastprogress.py:73: UserWarning: Your generator is empty.\n",
      "  warn(\"Your generator is empty.\")\n"
     ]
    },
    {
     "data": {
      "text/plain": [
       "Path('/home/paperspace/SpacyTokenizer.pth')"
      ]
     },
     "execution_count": 10,
     "metadata": {},
     "output_type": "execute_result"
    }
   ],
   "source": [
    "class MyTokenizer(Transform):\n",
    "    def setups(self, items):\n",
    "        self.tok = SpacyTokenizer()\n",
    "        \n",
    "    def encodes(self, txts):\n",
    "        toks = self.tok(txts)\n",
    "        tokenized_sentences = [[tok for tok in gen] for gen in toks]\n",
    "        flattened_list = [item for sublist in tokenized_sentences for item in sublist if item]\n",
    "        return flattened_list\n",
    "    \n",
    "    def decodes(self, encoded):\n",
    "        decoded_values = TitledStr(''.join(encoded))\n",
    "        return decoded_values\n",
    "            \n",
    "class MyNumerizer(Transform):\n",
    "    def setups(self, items):\n",
    "        self.num = Numericalize()\n",
    "        self.num.setup(items)\n",
    "        self.vocab = self.num.vocab\n",
    "        \n",
    "\n",
    "    def encodes(self, toks):\n",
    "        return self.num(toks)\n",
    "    \n",
    "    def decodes(self, encoded):\n",
    "        return self.num.decode(encoded)  \n",
    "    \n",
    "txt200 = txts[:]\n",
    "tokn = MyTokenizer()\n",
    "tokn.setup(txt200)\n",
    "\n",
    "toks = txt200.map(tokn)\n",
    "\n",
    "num = MyNumerizer()\n",
    "num.setup(toks)\n",
    "\n",
    "tfms = [[tokn, num]]\n",
    "cut = int(len(txts[:])*0.8)\n",
    "splits = [list(range(cut)), list(range(cut,len(txts[:])))]\n",
    "dsets = Datasets(txts[:], tfms)\n",
    "dls = dsets.dataloaders(dl_type=LMDataLoader)\n",
    "dls.show_batch(max_n=2)\n",
    "\n",
    "from transformers import AutoConfig\n",
    "config = AutoConfig.from_pretrained('bert-base-uncased')\n",
    "\n",
    "config.vocab_size = len(dls.vocab)\n",
    "config.num_labels = len(dls.vocab)\n",
    "config.hidden_size = 395\n",
    "config.num_hidden_layers = 12\n",
    "config.num_attention_heads = 5\n",
    "config.max_position_embeddings = 512\n",
    "config.intermediate_size = int((config.hidden_size * config.num_attention_heads) * 0.7)\n",
    "transformer = ShellTransformer(config)\n",
    "\n",
    "transformer.to(device)\n",
    "dls.to(device)\n",
    "\n",
    "learn = Learner(\n",
    "    dls, \n",
    "    transformer, \n",
    "    loss_func=CrossEntropyLossFlat(), \n",
    "    metrics=[accuracy]\n",
    ")\n",
    "\n",
    "learn.fit_one_cycle(1, 1e-3)\n",
    "\n",
    "learn.save('/home/paperspace/SpacyTokenizer')"
   ]
  },
  {
   "cell_type": "code",
   "execution_count": 11,
   "metadata": {},
   "outputs": [
    {
     "data": {
      "text/html": [
       "<table border=\"1\" class=\"dataframe\">\n",
       "  <thead>\n",
       "    <tr style=\"text-align: right;\">\n",
       "      <th></th>\n",
       "      <th>text</th>\n",
       "      <th>text_</th>\n",
       "    </tr>\n",
       "  </thead>\n",
       "  <tbody>\n",
       "    <tr>\n",
       "      <th>0</th>\n",
       "      <td>cd Library/make cleanmake qemu-noxcc bankersalgorithm.cls jeff/Lifang/*v</td>\n",
       "      <td>d Library/make cleanmake qemu-noxcc bankersalgorithm.cls jeff/Lifang/*vi</td>\n",
       "    </tr>\n",
       "    <tr>\n",
       "      <th>1</th>\n",
       "      <td>ush origin mastersudo rebootrm MyNewProject/ -rfsudo su - postgreswc -l</td>\n",
       "      <td>sh origin mastersudo rebootrm MyNewProject/ -rfsudo su - postgreswc -l p</td>\n",
       "    </tr>\n",
       "  </tbody>\n",
       "</table>"
      ],
      "text/plain": [
       "<IPython.core.display.HTML object>"
      ]
     },
     "metadata": {},
     "output_type": "display_data"
    },
    {
     "data": {
      "text/html": [
       "\n",
       "<style>\n",
       "    /* Turns off some styling */\n",
       "    progress {\n",
       "        /* gets rid of default border in Firefox and Opera. */\n",
       "        border: none;\n",
       "        /* Needs to be in here for Safari polyfill so background images work as expected. */\n",
       "        background-size: auto;\n",
       "    }\n",
       "    progress:not([value]), progress:not([value])::-webkit-progress-bar {\n",
       "        background: repeating-linear-gradient(45deg, #7e7e7e, #7e7e7e 10px, #5c5c5c 10px, #5c5c5c 20px);\n",
       "    }\n",
       "    .progress-bar-interrupted, .progress-bar-interrupted::-webkit-progress-bar {\n",
       "        background: #F44336;\n",
       "    }\n",
       "</style>\n"
      ],
      "text/plain": [
       "<IPython.core.display.HTML object>"
      ]
     },
     "metadata": {},
     "output_type": "display_data"
    },
    {
     "data": {
      "text/html": [
       "<table border=\"1\" class=\"dataframe\">\n",
       "  <thead>\n",
       "    <tr style=\"text-align: left;\">\n",
       "      <th>epoch</th>\n",
       "      <th>train_loss</th>\n",
       "      <th>valid_loss</th>\n",
       "      <th>accuracy</th>\n",
       "      <th>time</th>\n",
       "    </tr>\n",
       "  </thead>\n",
       "  <tbody>\n",
       "    <tr>\n",
       "      <td>0</td>\n",
       "      <td>1.451062</td>\n",
       "      <td>None</td>\n",
       "      <td>None</td>\n",
       "      <td>16:32</td>\n",
       "    </tr>\n",
       "  </tbody>\n",
       "</table>"
      ],
      "text/plain": [
       "<IPython.core.display.HTML object>"
      ]
     },
     "metadata": {},
     "output_type": "display_data"
    },
    {
     "name": "stderr",
     "output_type": "stream",
     "text": [
      "/home/paperspace/gnn_project/.venv/lib/python3.10/site-packages/fastprogress/fastprogress.py:73: UserWarning: Your generator is empty.\n",
      "  warn(\"Your generator is empty.\")\n"
     ]
    },
    {
     "data": {
      "text/plain": [
       "Path('/home/paperspace/WordTokenizer.pth')"
      ]
     },
     "execution_count": 11,
     "metadata": {},
     "output_type": "execute_result"
    }
   ],
   "source": [
    "class MyTokenizer(Transform):\n",
    "    def setups(self, items):\n",
    "        self.tok = WordTokenizer()\n",
    "        \n",
    "    def encodes(self, txts):\n",
    "        toks = self.tok(txts)\n",
    "        tokenized_sentences = [[tok for tok in gen] for gen in toks]\n",
    "        flattened_list = [item for sublist in tokenized_sentences for item in sublist if item]\n",
    "        return flattened_list\n",
    "    \n",
    "    def decodes(self, encoded):\n",
    "        decoded_values = TitledStr(''.join(encoded))\n",
    "        return decoded_values\n",
    "            \n",
    "class MyNumerizer(Transform):\n",
    "    def setups(self, items):\n",
    "        self.num = Numericalize()\n",
    "        self.num.setup(items)\n",
    "        self.vocab = self.num.vocab\n",
    "        \n",
    "\n",
    "    def encodes(self, toks):\n",
    "        return self.num(toks)\n",
    "    \n",
    "    def decodes(self, encoded):\n",
    "        return self.num.decode(encoded)  \n",
    "    \n",
    "txt200 = txts[:]\n",
    "tokn = MyTokenizer()\n",
    "tokn.setup(txt200)\n",
    "\n",
    "toks = txt200.map(tokn)\n",
    "\n",
    "num = MyNumerizer()\n",
    "num.setup(toks)\n",
    "\n",
    "tfms = [[tokn, num]]\n",
    "cut = int(len(txts[:])*0.8)\n",
    "splits = [list(range(cut)), list(range(cut,len(txts[:])))]\n",
    "dsets = Datasets(txts[:], tfms)\n",
    "dls = dsets.dataloaders(dl_type=LMDataLoader)\n",
    "dls.show_batch(max_n=2)\n",
    "\n",
    "from transformers import AutoConfig\n",
    "config = AutoConfig.from_pretrained('bert-base-uncased')\n",
    "\n",
    "config.vocab_size = len(dls.vocab)\n",
    "config.num_labels = len(dls.vocab)\n",
    "config.hidden_size = 395\n",
    "config.num_hidden_layers = 12\n",
    "config.num_attention_heads = 5\n",
    "config.max_position_embeddings = 512\n",
    "config.intermediate_size = int((config.hidden_size * config.num_attention_heads) * 0.7)\n",
    "transformer = ShellTransformer(config)\n",
    "\n",
    "transformer.to(device)\n",
    "dls.to(device)\n",
    "\n",
    "learn = Learner(\n",
    "    dls, \n",
    "    transformer, \n",
    "    loss_func=CrossEntropyLossFlat(), \n",
    "    metrics=[accuracy]\n",
    ")\n",
    "\n",
    "learn.fit_one_cycle(1, 1e-3)\n",
    "\n",
    "learn.save('/home/paperspace/WordTokenizer')"
   ]
  },
  {
   "cell_type": "code",
   "execution_count": 12,
   "metadata": {},
   "outputs": [
    {
     "data": {
      "text/html": [
       "<table border=\"1\" class=\"dataframe\">\n",
       "  <thead>\n",
       "    <tr style=\"text-align: right;\">\n",
       "      <th></th>\n",
       "      <th>text</th>\n",
       "      <th>text_</th>\n",
       "    </tr>\n",
       "  </thead>\n",
       "  <tbody>\n",
       "    <tr>\n",
       "      <th>0</th>\n",
       "      <td>xxbos sudo su xxbos sudo apt - get update xxbos tessel wifi xxbos ls -ltr / vagrant / xxbos uname -a xxbos ifconfig xxunk inet up xxbos vim config.h xxbos find man -name xxmaj makefile.in xxbos nmap 172.18.1.5 xxunk xxbos vim trabalho0304 xxbos sudo dpkg -l locales xxbos git commit – m ‘ first commit lesson 3 ’ xxbos sudo python test8.py xxbos vim .bash_aliases xxbos modprobe cp210x xxbos cat teste02 xxbos</td>\n",
       "      <td>sudo su xxbos sudo apt - get update xxbos tessel wifi xxbos ls -ltr / vagrant / xxbos uname -a xxbos ifconfig xxunk inet up xxbos vim config.h xxbos find man -name xxmaj makefile.in xxbos nmap 172.18.1.5 xxunk xxbos vim trabalho0304 xxbos sudo dpkg -l locales xxbos git commit – m ‘ first commit lesson 3 ’ xxbos sudo python test8.py xxbos vim .bash_aliases xxbos modprobe cp210x xxbos cat teste02 xxbos git</td>\n",
       "    </tr>\n",
       "    <tr>\n",
       "      <th>1</th>\n",
       "      <td>baidu.com 127.0.0.1 -p5353 xxbos vi file1.py xxbos grep \" json \" . xxbos vim trabalho0304 xxbos git clone https : / / aur.archlinux.org / xxunk xxbos ssh heat - admin@172.16.0.26 xxbos sudo updatedb * xxbos vi 02.tf xxbos touch / home / guoding / xxmaj dropbox / note / deft / 123 xxbos cd bin xxbos cd xxmaj projects / xxunk - channel / xxbos ls -l xxbos dmesg | tail xxbos</td>\n",
       "      <td>127.0.0.1 -p5353 xxbos vi file1.py xxbos grep \" json \" . xxbos vim trabalho0304 xxbos git clone https : / / aur.archlinux.org / xxunk xxbos ssh heat - admin@172.16.0.26 xxbos sudo updatedb * xxbos vi 02.tf xxbos touch / home / guoding / xxmaj dropbox / note / deft / 123 xxbos cd bin xxbos cd xxmaj projects / xxunk - channel / xxbos ls -l xxbos dmesg | tail xxbos bower</td>\n",
       "    </tr>\n",
       "  </tbody>\n",
       "</table>"
      ],
      "text/plain": [
       "<IPython.core.display.HTML object>"
      ]
     },
     "metadata": {},
     "output_type": "display_data"
    },
    {
     "data": {
      "text/html": [
       "\n",
       "<style>\n",
       "    /* Turns off some styling */\n",
       "    progress {\n",
       "        /* gets rid of default border in Firefox and Opera. */\n",
       "        border: none;\n",
       "        /* Needs to be in here for Safari polyfill so background images work as expected. */\n",
       "        background-size: auto;\n",
       "    }\n",
       "    progress:not([value]), progress:not([value])::-webkit-progress-bar {\n",
       "        background: repeating-linear-gradient(45deg, #7e7e7e, #7e7e7e 10px, #5c5c5c 10px, #5c5c5c 20px);\n",
       "    }\n",
       "    .progress-bar-interrupted, .progress-bar-interrupted::-webkit-progress-bar {\n",
       "        background: #F44336;\n",
       "    }\n",
       "</style>\n"
      ],
      "text/plain": [
       "<IPython.core.display.HTML object>"
      ]
     },
     "metadata": {},
     "output_type": "display_data"
    },
    {
     "data": {
      "text/html": [
       "<table border=\"1\" class=\"dataframe\">\n",
       "  <thead>\n",
       "    <tr style=\"text-align: left;\">\n",
       "      <th>epoch</th>\n",
       "      <th>train_loss</th>\n",
       "      <th>valid_loss</th>\n",
       "      <th>accuracy</th>\n",
       "      <th>time</th>\n",
       "    </tr>\n",
       "  </thead>\n",
       "  <tbody>\n",
       "    <tr>\n",
       "      <td>0</td>\n",
       "      <td>3.776471</td>\n",
       "      <td>None</td>\n",
       "      <td>None</td>\n",
       "      <td>05:43</td>\n",
       "    </tr>\n",
       "  </tbody>\n",
       "</table>"
      ],
      "text/plain": [
       "<IPython.core.display.HTML object>"
      ]
     },
     "metadata": {},
     "output_type": "display_data"
    },
    {
     "name": "stderr",
     "output_type": "stream",
     "text": [
      "/home/paperspace/gnn_project/.venv/lib/python3.10/site-packages/fastprogress/fastprogress.py:73: UserWarning: Your generator is empty.\n",
      "  warn(\"Your generator is empty.\")\n"
     ]
    },
    {
     "data": {
      "text/plain": [
       "Path('/home/paperspace/PreTrainedWordTokenizer.pth')"
      ]
     },
     "execution_count": 12,
     "metadata": {},
     "output_type": "execute_result"
    }
   ],
   "source": [
    "class MyTokenizer(Transform):\n",
    "    def setups(self, items):\n",
    "        path = untar_data(URLs.IMDB)\n",
    "        self.tok = Tokenizer.from_folder(path)\n",
    "        self.tok.setup(items)\n",
    "        \n",
    "    def encodes(self, txts):\n",
    "        return self.tok(txts)\n",
    "    \n",
    "    def decodes(self, encoded):\n",
    "        return self.tok.decode(encoded)\n",
    "            \n",
    "class MyNumerizer(Transform):\n",
    "    def setups(self, items):\n",
    "        self.num = Numericalize()\n",
    "        self.num.setup(items)\n",
    "        self.vocab = self.num.vocab\n",
    "\n",
    "    def encodes(self, toks):\n",
    "        return self.num(toks)\n",
    "    \n",
    "    def decodes(self, encoded):\n",
    "        return self.num.decode(encoded) \n",
    "    \n",
    "txt200 = txts[:]\n",
    "tokn = MyTokenizer()\n",
    "tokn.setup(txt200)\n",
    "\n",
    "toks = txt200.map(tokn)\n",
    "\n",
    "num = MyNumerizer()\n",
    "num.setup(toks)\n",
    "\n",
    "tfms = [[tokn, num]]\n",
    "cut = int(len(txts[:])*0.8)\n",
    "splits = [list(range(cut)), list(range(cut,len(txts[:])))]\n",
    "dsets = Datasets(txts[:], tfms)\n",
    "dls = dsets.dataloaders(dl_type=LMDataLoader)\n",
    "dls.show_batch(max_n=2)\n",
    "\n",
    "from transformers import AutoConfig\n",
    "config = AutoConfig.from_pretrained('bert-base-uncased')\n",
    "\n",
    "config.vocab_size = len(dls.vocab)\n",
    "config.num_labels = len(dls.vocab)\n",
    "config.hidden_size = 395\n",
    "config.num_hidden_layers = 12\n",
    "config.num_attention_heads = 5\n",
    "config.max_position_embeddings = 512\n",
    "config.intermediate_size = int((config.hidden_size * config.num_attention_heads) * 0.7)\n",
    "transformer = ShellTransformer(config)\n",
    "\n",
    "transformer.to(device)\n",
    "dls.to(device)\n",
    "\n",
    "learn = Learner(\n",
    "    dls, \n",
    "    transformer, \n",
    "    loss_func=CrossEntropyLossFlat(), \n",
    "    metrics=[accuracy]\n",
    ")\n",
    "\n",
    "learn.fit_one_cycle(1, 1e-3)\n",
    "\n",
    "learn.save('/home/paperspace/PreTrainedWordTokenizer')"
   ]
  },
  {
   "cell_type": "code",
   "execution_count": 13,
   "metadata": {},
   "outputs": [
    {
     "data": {
      "text/html": [
       "\n",
       "<style>\n",
       "    /* Turns off some styling */\n",
       "    progress {\n",
       "        /* gets rid of default border in Firefox and Opera. */\n",
       "        border: none;\n",
       "        /* Needs to be in here for Safari polyfill so background images work as expected. */\n",
       "        background-size: auto;\n",
       "    }\n",
       "    progress:not([value]), progress:not([value])::-webkit-progress-bar {\n",
       "        background: repeating-linear-gradient(45deg, #7e7e7e, #7e7e7e 10px, #5c5c5c 10px, #5c5c5c 20px);\n",
       "    }\n",
       "    .progress-bar-interrupted, .progress-bar-interrupted::-webkit-progress-bar {\n",
       "        background: #F44336;\n",
       "    }\n",
       "</style>\n"
      ],
      "text/plain": [
       "<IPython.core.display.HTML object>"
      ]
     },
     "metadata": {},
     "output_type": "display_data"
    },
    {
     "data": {
      "text/html": [],
      "text/plain": [
       "<IPython.core.display.HTML object>"
      ]
     },
     "metadata": {},
     "output_type": "display_data"
    },
    {
     "name": "stderr",
     "output_type": "stream",
     "text": [
      "sentencepiece_trainer.cc(178) LOG(INFO) Running command: --input=tmp/texts.out --vocab_size=8128 --model_prefix=tmp/spm --character_coverage=0.99999 --model_type=unigram --unk_id=9 --pad_id=-1 --bos_id=-1 --eos_id=-1 --minloglevel=2 --user_defined_symbols=▁xxunk,▁xxpad,▁xxbos,▁xxeos,▁xxfld,▁xxrep,▁xxwrep,▁xxup,▁xxmaj --hard_vocab_limit=false\n"
     ]
    },
    {
     "data": {
      "text/html": [
       "\n",
       "<style>\n",
       "    /* Turns off some styling */\n",
       "    progress {\n",
       "        /* gets rid of default border in Firefox and Opera. */\n",
       "        border: none;\n",
       "        /* Needs to be in here for Safari polyfill so background images work as expected. */\n",
       "        background-size: auto;\n",
       "    }\n",
       "    progress:not([value]), progress:not([value])::-webkit-progress-bar {\n",
       "        background: repeating-linear-gradient(45deg, #7e7e7e, #7e7e7e 10px, #5c5c5c 10px, #5c5c5c 20px);\n",
       "    }\n",
       "    .progress-bar-interrupted, .progress-bar-interrupted::-webkit-progress-bar {\n",
       "        background: #F44336;\n",
       "    }\n",
       "</style>\n"
      ],
      "text/plain": [
       "<IPython.core.display.HTML object>"
      ]
     },
     "metadata": {},
     "output_type": "display_data"
    },
    {
     "data": {
      "text/html": [],
      "text/plain": [
       "<IPython.core.display.HTML object>"
      ]
     },
     "metadata": {},
     "output_type": "display_data"
    },
    {
     "data": {
      "text/html": [
       "<table border=\"1\" class=\"dataframe\">\n",
       "  <thead>\n",
       "    <tr style=\"text-align: right;\">\n",
       "      <th></th>\n",
       "      <th>text</th>\n",
       "      <th>text_</th>\n",
       "    </tr>\n",
       "  </thead>\n",
       "  <tbody>\n",
       "    <tr>\n",
       "      <th>0</th>\n",
       "      <td>▁v▁i▁m▁a▁p▁p▁/▁a▁s▁s▁e▁t▁s▁/▁j▁a▁v▁a▁s▁c▁r▁i▁p▁t▁s▁/▁m▁a▁p▁.▁j▁s▁c▁d▁w▁w▁w▁/▁v▁i▁~▁/▁1▁2▁3▁c▁o▁m▁p▁o▁s▁e▁r▁u▁p▁d▁a▁t▁e▁m▁a▁k▁e▁c▁l▁e▁a▁n▁.▁.▁.▁/</td>\n",
       "      <td>▁i▁m▁a▁p▁p▁/▁a▁s▁s▁e▁t▁s▁/▁j▁a▁v▁a▁s▁c▁r▁i▁p▁t▁s▁/▁m▁a▁p▁.▁j▁s▁c▁d▁w▁w▁w▁/▁v▁i▁~▁/▁1▁2▁3▁c▁o▁m▁p▁o▁s▁e▁r▁u▁p▁d▁a▁t▁e▁m▁a▁k▁e▁c▁l▁e▁a▁n▁.▁.▁.▁/▁.</td>\n",
       "    </tr>\n",
       "    <tr>\n",
       "      <th>1</th>\n",
       "      <td>▁o▁n▁f▁i▁g▁*▁'▁c▁p▁-▁r▁h▁h▁n▁e▁u▁a▁u▁f▁.▁d▁e▁h▁h▁n▁e▁u▁a▁u▁f▁.▁d▁e▁-▁b▁a▁k▁3▁-▁l▁i▁v▁e▁p▁y▁t▁h▁o▁n▁m▁a▁n▁a▁g▁e▁.▁p▁y▁r▁u▁n▁s▁e▁r▁v▁e▁r▁0▁.▁0▁.▁0</td>\n",
       "      <td>▁n▁f▁i▁g▁*▁'▁c▁p▁-▁r▁h▁h▁n▁e▁u▁a▁u▁f▁.▁d▁e▁h▁h▁n▁e▁u▁a▁u▁f▁.▁d▁e▁-▁b▁a▁k▁3▁-▁l▁i▁v▁e▁p▁y▁t▁h▁o▁n▁m▁a▁n▁a▁g▁e▁.▁p▁y▁r▁u▁n▁s▁e▁r▁v▁e▁r▁0▁.▁0▁.▁0▁.</td>\n",
       "    </tr>\n",
       "  </tbody>\n",
       "</table>"
      ],
      "text/plain": [
       "<IPython.core.display.HTML object>"
      ]
     },
     "metadata": {},
     "output_type": "display_data"
    },
    {
     "data": {
      "text/html": [
       "\n",
       "<style>\n",
       "    /* Turns off some styling */\n",
       "    progress {\n",
       "        /* gets rid of default border in Firefox and Opera. */\n",
       "        border: none;\n",
       "        /* Needs to be in here for Safari polyfill so background images work as expected. */\n",
       "        background-size: auto;\n",
       "    }\n",
       "    progress:not([value]), progress:not([value])::-webkit-progress-bar {\n",
       "        background: repeating-linear-gradient(45deg, #7e7e7e, #7e7e7e 10px, #5c5c5c 10px, #5c5c5c 20px);\n",
       "    }\n",
       "    .progress-bar-interrupted, .progress-bar-interrupted::-webkit-progress-bar {\n",
       "        background: #F44336;\n",
       "    }\n",
       "</style>\n"
      ],
      "text/plain": [
       "<IPython.core.display.HTML object>"
      ]
     },
     "metadata": {},
     "output_type": "display_data"
    },
    {
     "data": {
      "text/html": [
       "<table border=\"1\" class=\"dataframe\">\n",
       "  <thead>\n",
       "    <tr style=\"text-align: left;\">\n",
       "      <th>epoch</th>\n",
       "      <th>train_loss</th>\n",
       "      <th>valid_loss</th>\n",
       "      <th>accuracy</th>\n",
       "      <th>time</th>\n",
       "    </tr>\n",
       "  </thead>\n",
       "  <tbody>\n",
       "    <tr>\n",
       "      <td>0</td>\n",
       "      <td>1.645693</td>\n",
       "      <td>None</td>\n",
       "      <td>None</td>\n",
       "      <td>11:49</td>\n",
       "    </tr>\n",
       "  </tbody>\n",
       "</table>"
      ],
      "text/plain": [
       "<IPython.core.display.HTML object>"
      ]
     },
     "metadata": {},
     "output_type": "display_data"
    },
    {
     "name": "stderr",
     "output_type": "stream",
     "text": [
      "/home/paperspace/gnn_project/.venv/lib/python3.10/site-packages/fastprogress/fastprogress.py:73: UserWarning: Your generator is empty.\n",
      "  warn(\"Your generator is empty.\")\n"
     ]
    },
    {
     "data": {
      "text/plain": [
       "Path('/home/paperspace/SentencePieceTokenizer.pth')"
      ]
     },
     "execution_count": 13,
     "metadata": {},
     "output_type": "execute_result"
    }
   ],
   "source": [
    "class MyTokenizer(Transform):\n",
    "    def setups(self, items):\n",
    "        self.tok = SentencePieceTokenizer()#SubwordTokenizer(vocab_sz=300)\n",
    "        self.tok.setup(items)\n",
    "        \n",
    "    def encodes(self, txts):\n",
    "        toks = self.tok(txts)\n",
    "        tokenized_sentences = [[tok for tok in gen] for gen in toks]\n",
    "        flattened_list = [item for sublist in tokenized_sentences for item in sublist if item]\n",
    "        return flattened_list\n",
    "    \n",
    "    def decodes(self, encoded):\n",
    "        decoded_values = TitledStr(''.join(encoded))\n",
    "        return decoded_values\n",
    "            \n",
    "class MyNumerizer(Transform):\n",
    "    def setups(self, items):\n",
    "        self.num = Numericalize()\n",
    "        self.num.setup(items)\n",
    "        self.vocab = self.num.vocab\n",
    "        \n",
    "    def encodes(self, toks):\n",
    "        return self.num(toks)\n",
    "    \n",
    "    def decodes(self, encoded):\n",
    "        return self.num.decode(encoded)  \n",
    "    \n",
    "txt200 = txts[:]\n",
    "tokn = MyTokenizer()\n",
    "tokn.setup(txt200)\n",
    "\n",
    "toks = txt200.map(tokn)\n",
    "\n",
    "num = MyNumerizer()\n",
    "num.setup(toks)\n",
    "\n",
    "tfms = [[tokn, num]]\n",
    "cut = int(len(txts[:])*0.8)\n",
    "splits = [list(range(cut)), list(range(cut,len(txts[:])))]\n",
    "dsets = Datasets(txts[:], tfms)\n",
    "dls = dsets.dataloaders(dl_type=LMDataLoader)\n",
    "dls.show_batch(max_n=2)\n",
    "\n",
    "from transformers import AutoConfig\n",
    "config = AutoConfig.from_pretrained('bert-base-uncased')\n",
    "\n",
    "config.vocab_size = len(dls.vocab)\n",
    "config.num_labels = len(dls.vocab)\n",
    "config.hidden_size = 395\n",
    "config.num_hidden_layers = 12\n",
    "config.num_attention_heads = 5\n",
    "config.max_position_embeddings = 512\n",
    "config.intermediate_size = int((config.hidden_size * config.num_attention_heads) * 0.7)\n",
    "transformer = ShellTransformer(config)\n",
    "\n",
    "transformer.to(device)\n",
    "dls.to(device)\n",
    "\n",
    "learn = Learner(\n",
    "    dls, \n",
    "    transformer, \n",
    "    loss_func=CrossEntropyLossFlat(), \n",
    "    metrics=[accuracy]\n",
    ")\n",
    "\n",
    "learn.fit_one_cycle(1, 1e-3)\n",
    "\n",
    "learn.save('/home/paperspace/SentencePieceTokenizer')"
   ]
  }
 ],
 "metadata": {
  "kernelspec": {
   "display_name": ".venv",
   "language": "python",
   "name": "python3"
  },
  "language_info": {
   "codemirror_mode": {
    "name": "ipython",
    "version": 3
   },
   "file_extension": ".py",
   "mimetype": "text/x-python",
   "name": "python",
   "nbconvert_exporter": "python",
   "pygments_lexer": "ipython3",
   "version": "3.10.12"
  }
 },
 "nbformat": 4,
 "nbformat_minor": 2
}
